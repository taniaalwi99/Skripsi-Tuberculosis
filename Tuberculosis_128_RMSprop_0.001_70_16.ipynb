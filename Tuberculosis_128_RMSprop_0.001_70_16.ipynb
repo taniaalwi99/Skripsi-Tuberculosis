{
  "nbformat": 4,
  "nbformat_minor": 0,
  "metadata": {
    "colab": {
      "name": "Tuberculosis_VGG-16.ipynb",
      "provenance": [],
      "collapsed_sections": [],
      "include_colab_link": true
    },
    "kernelspec": {
      "name": "python3",
      "display_name": "Python 3"
    },
    "language_info": {
      "name": "python"
    },
    "accelerator": "GPU",
    "gpuClass": "standard"
  },
  "cells": [
    {
      "cell_type": "markdown",
      "metadata": {
        "id": "view-in-github",
        "colab_type": "text"
      },
      "source": [
        "<a href=\"https://colab.research.google.com/github/taniaalwi99/Skripsi-Tuberculosis/blob/main/Tuberculosis_128_RMSprop_0.001_70_16.ipynb\" target=\"_parent\"><img src=\"https://colab.research.google.com/assets/colab-badge.svg\" alt=\"Open In Colab\"/></a>"
      ]
    },
    {
      "cell_type": "code",
      "execution_count": 1,
      "metadata": {
        "colab": {
          "base_uri": "https://localhost:8080/"
        },
        "id": "2_RYo7hrXaC5",
        "outputId": "631ff9a7-d66d-45ab-e14a-ebe03205fc00"
      },
      "outputs": [
        {
          "output_type": "stream",
          "name": "stdout",
          "text": [
            "Mounted at /content/drive\n"
          ]
        }
      ],
      "source": [
        "from google.colab import drive\n",
        "drive.mount('/content/drive')"
      ]
    },
    {
      "cell_type": "code",
      "source": [
        "cd /content/drive/My Drive"
      ],
      "metadata": {
        "colab": {
          "base_uri": "https://localhost:8080/"
        },
        "id": "G4aisxOFX3KH",
        "outputId": "f5c5359e-4907-4632-a365-20759b9d748d"
      },
      "execution_count": 2,
      "outputs": [
        {
          "output_type": "stream",
          "name": "stdout",
          "text": [
            "/content/drive/My Drive\n"
          ]
        }
      ]
    },
    {
      "cell_type": "code",
      "source": [
        "ls"
      ],
      "metadata": {
        "colab": {
          "base_uri": "https://localhost:8080/"
        },
        "id": "e_oGUrADX8O_",
        "outputId": "23bbf619-6908-4ac9-fe4c-cd75594a65eb"
      },
      "execution_count": 3,
      "outputs": [
        {
          "output_type": "stream",
          "name": "stdout",
          "text": [
            "\u001b[0m\u001b[01;34m'Colab Notebooks'\u001b[0m/  \u001b[01;34m'Dataset Gray'\u001b[0m/  \u001b[01;34m'Tania Alwi'\u001b[0m/\n"
          ]
        }
      ]
    },
    {
      "cell_type": "code",
      "source": [
        "from keras.models import Model\n",
        "from keras.models import load_model\n",
        "from keras.models import Sequential\n",
        "from keras.layers.convolutional import Convolution2D\n",
        "from keras.layers.convolutional import MaxPooling2D\n",
        "from keras.layers.convolutional import ZeroPadding2D\n",
        "from keras.layers.core import Activation\n",
        "from keras.layers.core import Flatten\n",
        "from keras.layers.core import Dense\n",
        "from keras.layers.core import Dropout\n",
        "from keras.layers import BatchNormalization\n",
        "from keras import regularizers\n",
        "from keras.preprocessing.image import ImageDataGenerator\n",
        "from tensorflow.keras.optimizers import RMSprop, Adam, SGD\n",
        "from sklearn.preprocessing import LabelBinarizer\n",
        "from sklearn.model_selection import train_test_split\n",
        "from sklearn.metrics import classification_report\n",
        "from PIL import Image\n",
        "from matplotlib import pyplot as plt\n",
        "from imutils import paths\n",
        "import numpy as np\n",
        "import os"
      ],
      "metadata": {
        "id": "t95OxlI7X_OF"
      },
      "execution_count": 4,
      "outputs": []
    },
    {
      "cell_type": "code",
      "source": [
        "print(\"[INFO] loading images...\")\n",
        "imagePaths = paths.list_images(\"Dataset Gray\")\n",
        "data = []\n",
        "labels = []"
      ],
      "metadata": {
        "colab": {
          "base_uri": "https://localhost:8080/"
        },
        "id": "jvn693i-YDZ8",
        "outputId": "00954767-9909-4eff-fb43-618a449afd8e"
      },
      "execution_count": 5,
      "outputs": [
        {
          "output_type": "stream",
          "name": "stdout",
          "text": [
            "[INFO] loading images...\n"
          ]
        }
      ]
    },
    {
      "cell_type": "code",
      "source": [
        "for imagePaths in imagePaths:\n",
        "    a = Image.open(imagePaths)\n",
        "    image = np.array(a.resize((128,128))) / 255.0\n",
        "    data.append(image)\n",
        "    \n",
        "    label = imagePaths.split(os.path.sep) [-2]\n",
        "    labels.append(label)"
      ],
      "metadata": {
        "id": "3XLuWAZsYLfK"
      },
      "execution_count": 6,
      "outputs": []
    },
    {
      "cell_type": "code",
      "source": [
        "from sklearn.preprocessing import LabelBinarizer\n",
        "import numpy as np\n",
        "\n",
        "class MyLabelBinarizer(LabelBinarizer):\n",
        "    def transform(self, label):\n",
        "      nilaiy = super().transform(label)\n",
        "      if self.y_type_== 'binary':\n",
        "        return np.hstack((nilaiy, 1-nilaiy))\n",
        "      else:\n",
        "        return nilaiy\n",
        "    def inverse_transform(self, nilaiy, threshold=None):\n",
        "      if self.y_type_ == 'binary':\n",
        "          return super().inverse_transform(nilaiy[:, 0], threshold)\n",
        "      else:\n",
        "          return super().inverse_transform(nilaiy, threshold)\n",
        "\n",
        "      \n",
        "\n",
        "lb = MyLabelBinarizer()\n",
        "labels = lb.fit_transform(labels)\n",
        "print(labels)"
      ],
      "metadata": {
        "colab": {
          "base_uri": "https://localhost:8080/"
        },
        "id": "gnjyPDi_Yyrn",
        "outputId": "dc18949a-1c63-4273-e89a-0d374e2d9733"
      },
      "execution_count": 7,
      "outputs": [
        {
          "output_type": "stream",
          "name": "stdout",
          "text": [
            "[[0 1]\n",
            " [0 1]\n",
            " [0 1]\n",
            " ...\n",
            " [1 0]\n",
            " [1 0]\n",
            " [1 0]]\n"
          ]
        }
      ]
    },
    {
      "cell_type": "code",
      "source": [
        "(trainX,testX, trainY, testY) = train_test_split(np.array(data),np.array(labels), test_size=0.20)\n",
        "print(trainX.shape)\n",
        "print(testX.shape)"
      ],
      "metadata": {
        "colab": {
          "base_uri": "https://localhost:8080/"
        },
        "id": "0V3CnlQtY1g2",
        "outputId": "fc58a416-cb8d-46ff-8d91-1bd8f55c31cc"
      },
      "execution_count": 8,
      "outputs": [
        {
          "output_type": "stream",
          "name": "stdout",
          "text": [
            "(1120, 128, 128)\n",
            "(280, 128, 128)\n"
          ]
        }
      ]
    },
    {
      "cell_type": "code",
      "source": [
        "def vgg16(num_classes):\n",
        "\n",
        "    vgg16 = Sequential()\n",
        "\n",
        "    vgg16.add(Convolution2D(input_shape=(128,128,1),filters=64,kernel_size=(3,3),padding=\"same\"))\n",
        "    vgg16.add(Activation('relu'))\n",
        "    vgg16.add(BatchNormalization())\n",
        "    #layer1 32*32*64\n",
        "    vgg16.add(Convolution2D(filters=64,kernel_size=(3,3),padding=\"same\"))\n",
        "    vgg16.add(Activation('relu'))\n",
        "    vgg16.add(MaxPooling2D(pool_size=(2, 2),strides=(2,2)))\n",
        "    vgg16.add(BatchNormalization())\n",
        "    #layer2 16*16*64\n",
        "    vgg16.add(Convolution2D(filters=128, kernel_size=(3,3), padding=\"same\"))\n",
        "    vgg16.add(Activation('relu'))\n",
        "    vgg16.add(BatchNormalization())\n",
        "    #layer3 16*16*128\n",
        "    vgg16.add(Convolution2D(filters=128, kernel_size=(3,3), padding=\"same\",))\n",
        "    vgg16.add(Activation('relu'))\n",
        "    vgg16.add(MaxPooling2D(pool_size=(2,2),strides=(2,2)))\n",
        "    vgg16.add(BatchNormalization())\n",
        "    #layer4 8*8*128\n",
        "    vgg16.add(Convolution2D(filters=256, kernel_size=(3,3), padding=\"same\"))\n",
        "    vgg16.add(Activation('relu'))\n",
        "    vgg16.add(BatchNormalization())\n",
        "    #layer5 8*8*256\n",
        "    vgg16.add(Convolution2D(filters=256, kernel_size=(3,3), padding=\"same\"))\n",
        "    vgg16.add(Activation('relu'))\n",
        "    vgg16.add(BatchNormalization())\n",
        "    #layer6 8*8*256\n",
        "    vgg16.add(Convolution2D(filters=256, kernel_size=(3,3), padding=\"same\"))\n",
        "    vgg16.add(Activation('relu'))\n",
        "    vgg16.add(MaxPooling2D(pool_size=(2,2),strides=(2,2)))\n",
        "    vgg16.add(BatchNormalization())\n",
        "    #layer7 4*4*256\n",
        "    vgg16.add(Convolution2D(filters=512, kernel_size=(3,3), padding=\"same\"))\n",
        "    vgg16.add(Activation('relu'))\n",
        "    vgg16.add(BatchNormalization())\n",
        "    #layer8 4*4*512\n",
        "    vgg16.add(Convolution2D(filters=512, kernel_size=(3,3), padding=\"same\"))\n",
        "    vgg16.add(Activation('relu'))\n",
        "    vgg16.add(BatchNormalization())\n",
        "    #layer9 4*4*512\n",
        "    vgg16.add(Convolution2D(filters=512, kernel_size=(3,3), padding=\"same\"))\n",
        "    vgg16.add(Activation('relu'))\n",
        "    vgg16.add(MaxPooling2D(pool_size=(2,2),strides=(2,2)))\n",
        "    vgg16.add(BatchNormalization())\n",
        "    #layer10 2*2*512\n",
        "    vgg16.add(Convolution2D(filters=512, kernel_size=(3,3), padding=\"same\"))\n",
        "    vgg16.add(Activation('relu'))\n",
        "    vgg16.add(BatchNormalization())\n",
        "    #layer11 2*2*512\n",
        "    vgg16.add(Convolution2D(filters=512, kernel_size=(3,3), padding=\"same\"))  \n",
        "    vgg16.add(Activation('relu')) \n",
        "    vgg16.add(BatchNormalization())       \n",
        "    #layer12 2*2*512\n",
        "    vgg16.add(Convolution2D(filters=512, kernel_size=(3,3), padding=\"same\"))\n",
        "    vgg16.add(Activation('relu'))\n",
        "    vgg16.add(MaxPooling2D(pool_size=(2,2),strides=(2,2)))\n",
        "    vgg16.add(BatchNormalization())\n",
        "    #layer13 1*1*512\n",
        "    vgg16.add(Flatten())\n",
        "    vgg16.add(Dense(units=4096))\n",
        "    vgg16.add(Activation('relu')) \n",
        "    vgg16.add(BatchNormalization())\n",
        "    vgg16.add(Dropout(0.5))\n",
        "    #layer14 4096\n",
        "    vgg16.add(Dense(units=4096))\n",
        "    vgg16.add(Activation('relu')) \n",
        "    vgg16.add(BatchNormalization())\n",
        "    vgg16.add(Dropout(0.5))\n",
        "    #layer16 4096\n",
        "    vgg16.add(Dense(units=1000))\n",
        "    vgg16.add(Activation('relu'))\n",
        "    vgg16.add(BatchNormalization())\n",
        "    vgg16.add(Dropout(0.5)) \n",
        "    #layer16 1000\n",
        "    vgg16.add(Dense(2, activation=\"sigmoid\"))\n",
        "\n",
        "    return vgg16"
      ],
      "metadata": {
        "id": "WpeYjXzUZCZP"
      },
      "execution_count": 9,
      "outputs": []
    },
    {
      "cell_type": "code",
      "source": [
        "num_classes=2\n",
        "vgg16=vgg16(num_classes)\n",
        "vgg16.summary()"
      ],
      "metadata": {
        "colab": {
          "base_uri": "https://localhost:8080/"
        },
        "id": "rlT3OhVuZLUs",
        "outputId": "a48fe327-7280-4178-f0b2-f8da4566baf2"
      },
      "execution_count": 10,
      "outputs": [
        {
          "output_type": "stream",
          "name": "stdout",
          "text": [
            "Model: \"sequential\"\n",
            "_________________________________________________________________\n",
            " Layer (type)                Output Shape              Param #   \n",
            "=================================================================\n",
            " conv2d (Conv2D)             (None, 128, 128, 64)      640       \n",
            "                                                                 \n",
            " activation (Activation)     (None, 128, 128, 64)      0         \n",
            "                                                                 \n",
            " batch_normalization (BatchN  (None, 128, 128, 64)     256       \n",
            " ormalization)                                                   \n",
            "                                                                 \n",
            " conv2d_1 (Conv2D)           (None, 128, 128, 64)      36928     \n",
            "                                                                 \n",
            " activation_1 (Activation)   (None, 128, 128, 64)      0         \n",
            "                                                                 \n",
            " max_pooling2d (MaxPooling2D  (None, 64, 64, 64)       0         \n",
            " )                                                               \n",
            "                                                                 \n",
            " batch_normalization_1 (Batc  (None, 64, 64, 64)       256       \n",
            " hNormalization)                                                 \n",
            "                                                                 \n",
            " conv2d_2 (Conv2D)           (None, 64, 64, 128)       73856     \n",
            "                                                                 \n",
            " activation_2 (Activation)   (None, 64, 64, 128)       0         \n",
            "                                                                 \n",
            " batch_normalization_2 (Batc  (None, 64, 64, 128)      512       \n",
            " hNormalization)                                                 \n",
            "                                                                 \n",
            " conv2d_3 (Conv2D)           (None, 64, 64, 128)       147584    \n",
            "                                                                 \n",
            " activation_3 (Activation)   (None, 64, 64, 128)       0         \n",
            "                                                                 \n",
            " max_pooling2d_1 (MaxPooling  (None, 32, 32, 128)      0         \n",
            " 2D)                                                             \n",
            "                                                                 \n",
            " batch_normalization_3 (Batc  (None, 32, 32, 128)      512       \n",
            " hNormalization)                                                 \n",
            "                                                                 \n",
            " conv2d_4 (Conv2D)           (None, 32, 32, 256)       295168    \n",
            "                                                                 \n",
            " activation_4 (Activation)   (None, 32, 32, 256)       0         \n",
            "                                                                 \n",
            " batch_normalization_4 (Batc  (None, 32, 32, 256)      1024      \n",
            " hNormalization)                                                 \n",
            "                                                                 \n",
            " conv2d_5 (Conv2D)           (None, 32, 32, 256)       590080    \n",
            "                                                                 \n",
            " activation_5 (Activation)   (None, 32, 32, 256)       0         \n",
            "                                                                 \n",
            " batch_normalization_5 (Batc  (None, 32, 32, 256)      1024      \n",
            " hNormalization)                                                 \n",
            "                                                                 \n",
            " conv2d_6 (Conv2D)           (None, 32, 32, 256)       590080    \n",
            "                                                                 \n",
            " activation_6 (Activation)   (None, 32, 32, 256)       0         \n",
            "                                                                 \n",
            " max_pooling2d_2 (MaxPooling  (None, 16, 16, 256)      0         \n",
            " 2D)                                                             \n",
            "                                                                 \n",
            " batch_normalization_6 (Batc  (None, 16, 16, 256)      1024      \n",
            " hNormalization)                                                 \n",
            "                                                                 \n",
            " conv2d_7 (Conv2D)           (None, 16, 16, 512)       1180160   \n",
            "                                                                 \n",
            " activation_7 (Activation)   (None, 16, 16, 512)       0         \n",
            "                                                                 \n",
            " batch_normalization_7 (Batc  (None, 16, 16, 512)      2048      \n",
            " hNormalization)                                                 \n",
            "                                                                 \n",
            " conv2d_8 (Conv2D)           (None, 16, 16, 512)       2359808   \n",
            "                                                                 \n",
            " activation_8 (Activation)   (None, 16, 16, 512)       0         \n",
            "                                                                 \n",
            " batch_normalization_8 (Batc  (None, 16, 16, 512)      2048      \n",
            " hNormalization)                                                 \n",
            "                                                                 \n",
            " conv2d_9 (Conv2D)           (None, 16, 16, 512)       2359808   \n",
            "                                                                 \n",
            " activation_9 (Activation)   (None, 16, 16, 512)       0         \n",
            "                                                                 \n",
            " max_pooling2d_3 (MaxPooling  (None, 8, 8, 512)        0         \n",
            " 2D)                                                             \n",
            "                                                                 \n",
            " batch_normalization_9 (Batc  (None, 8, 8, 512)        2048      \n",
            " hNormalization)                                                 \n",
            "                                                                 \n",
            " conv2d_10 (Conv2D)          (None, 8, 8, 512)         2359808   \n",
            "                                                                 \n",
            " activation_10 (Activation)  (None, 8, 8, 512)         0         \n",
            "                                                                 \n",
            " batch_normalization_10 (Bat  (None, 8, 8, 512)        2048      \n",
            " chNormalization)                                                \n",
            "                                                                 \n",
            " conv2d_11 (Conv2D)          (None, 8, 8, 512)         2359808   \n",
            "                                                                 \n",
            " activation_11 (Activation)  (None, 8, 8, 512)         0         \n",
            "                                                                 \n",
            " batch_normalization_11 (Bat  (None, 8, 8, 512)        2048      \n",
            " chNormalization)                                                \n",
            "                                                                 \n",
            " conv2d_12 (Conv2D)          (None, 8, 8, 512)         2359808   \n",
            "                                                                 \n",
            " activation_12 (Activation)  (None, 8, 8, 512)         0         \n",
            "                                                                 \n",
            " max_pooling2d_4 (MaxPooling  (None, 4, 4, 512)        0         \n",
            " 2D)                                                             \n",
            "                                                                 \n",
            " batch_normalization_12 (Bat  (None, 4, 4, 512)        2048      \n",
            " chNormalization)                                                \n",
            "                                                                 \n",
            " flatten (Flatten)           (None, 8192)              0         \n",
            "                                                                 \n",
            " dense (Dense)               (None, 4096)              33558528  \n",
            "                                                                 \n",
            " activation_13 (Activation)  (None, 4096)              0         \n",
            "                                                                 \n",
            " batch_normalization_13 (Bat  (None, 4096)             16384     \n",
            " chNormalization)                                                \n",
            "                                                                 \n",
            " dropout (Dropout)           (None, 4096)              0         \n",
            "                                                                 \n",
            " dense_1 (Dense)             (None, 4096)              16781312  \n",
            "                                                                 \n",
            " activation_14 (Activation)  (None, 4096)              0         \n",
            "                                                                 \n",
            " batch_normalization_14 (Bat  (None, 4096)             16384     \n",
            " chNormalization)                                                \n",
            "                                                                 \n",
            " dropout_1 (Dropout)         (None, 4096)              0         \n",
            "                                                                 \n",
            " dense_2 (Dense)             (None, 1000)              4097000   \n",
            "                                                                 \n",
            " activation_15 (Activation)  (None, 1000)              0         \n",
            "                                                                 \n",
            " batch_normalization_15 (Bat  (None, 1000)             4000      \n",
            " chNormalization)                                                \n",
            "                                                                 \n",
            " dropout_2 (Dropout)         (None, 1000)              0         \n",
            "                                                                 \n",
            " dense_3 (Dense)             (None, 2)                 2002      \n",
            "                                                                 \n",
            "=================================================================\n",
            "Total params: 69,206,042\n",
            "Trainable params: 69,179,210\n",
            "Non-trainable params: 26,832\n",
            "_________________________________________________________________\n"
          ]
        }
      ]
    },
    {
      "cell_type": "code",
      "source": [
        "#setting hyperparameter, menggunakan Adam\n",
        "opt = RMSprop(lr=0.001)\n",
        "vgg16.compile(loss='binary_crossentropy', optimizer=opt, metrics=['accuracy'])\n",
        "vgg16.summary()"
      ],
      "metadata": {
        "colab": {
          "base_uri": "https://localhost:8080/"
        },
        "id": "eZ0TePWVZTx4",
        "outputId": "988f3cc0-ac46-4751-fdc6-e22cd1bc0bc3"
      },
      "execution_count": 11,
      "outputs": [
        {
          "output_type": "stream",
          "name": "stdout",
          "text": [
            "Model: \"sequential\"\n",
            "_________________________________________________________________\n",
            " Layer (type)                Output Shape              Param #   \n",
            "=================================================================\n",
            " conv2d (Conv2D)             (None, 128, 128, 64)      640       \n",
            "                                                                 \n",
            " activation (Activation)     (None, 128, 128, 64)      0         \n",
            "                                                                 \n",
            " batch_normalization (BatchN  (None, 128, 128, 64)     256       \n",
            " ormalization)                                                   \n",
            "                                                                 \n",
            " conv2d_1 (Conv2D)           (None, 128, 128, 64)      36928     \n",
            "                                                                 \n",
            " activation_1 (Activation)   (None, 128, 128, 64)      0         \n",
            "                                                                 \n",
            " max_pooling2d (MaxPooling2D  (None, 64, 64, 64)       0         \n",
            " )                                                               \n",
            "                                                                 \n",
            " batch_normalization_1 (Batc  (None, 64, 64, 64)       256       \n",
            " hNormalization)                                                 \n",
            "                                                                 \n",
            " conv2d_2 (Conv2D)           (None, 64, 64, 128)       73856     \n",
            "                                                                 \n",
            " activation_2 (Activation)   (None, 64, 64, 128)       0         \n",
            "                                                                 \n",
            " batch_normalization_2 (Batc  (None, 64, 64, 128)      512       \n",
            " hNormalization)                                                 \n",
            "                                                                 \n",
            " conv2d_3 (Conv2D)           (None, 64, 64, 128)       147584    \n",
            "                                                                 \n",
            " activation_3 (Activation)   (None, 64, 64, 128)       0         \n",
            "                                                                 \n",
            " max_pooling2d_1 (MaxPooling  (None, 32, 32, 128)      0         \n",
            " 2D)                                                             \n",
            "                                                                 \n",
            " batch_normalization_3 (Batc  (None, 32, 32, 128)      512       \n",
            " hNormalization)                                                 \n",
            "                                                                 \n",
            " conv2d_4 (Conv2D)           (None, 32, 32, 256)       295168    \n",
            "                                                                 \n",
            " activation_4 (Activation)   (None, 32, 32, 256)       0         \n",
            "                                                                 \n",
            " batch_normalization_4 (Batc  (None, 32, 32, 256)      1024      \n",
            " hNormalization)                                                 \n",
            "                                                                 \n",
            " conv2d_5 (Conv2D)           (None, 32, 32, 256)       590080    \n",
            "                                                                 \n",
            " activation_5 (Activation)   (None, 32, 32, 256)       0         \n",
            "                                                                 \n",
            " batch_normalization_5 (Batc  (None, 32, 32, 256)      1024      \n",
            " hNormalization)                                                 \n",
            "                                                                 \n",
            " conv2d_6 (Conv2D)           (None, 32, 32, 256)       590080    \n",
            "                                                                 \n",
            " activation_6 (Activation)   (None, 32, 32, 256)       0         \n",
            "                                                                 \n",
            " max_pooling2d_2 (MaxPooling  (None, 16, 16, 256)      0         \n"
          ]
        },
        {
          "output_type": "stream",
          "name": "stderr",
          "text": [
            "/usr/local/lib/python3.7/dist-packages/keras/optimizer_v2/rmsprop.py:130: UserWarning: The `lr` argument is deprecated, use `learning_rate` instead.\n",
            "  super(RMSprop, self).__init__(name, **kwargs)\n"
          ]
        },
        {
          "output_type": "stream",
          "name": "stdout",
          "text": [
            " 2D)                                                             \n",
            "                                                                 \n",
            " batch_normalization_6 (Batc  (None, 16, 16, 256)      1024      \n",
            " hNormalization)                                                 \n",
            "                                                                 \n",
            " conv2d_7 (Conv2D)           (None, 16, 16, 512)       1180160   \n",
            "                                                                 \n",
            " activation_7 (Activation)   (None, 16, 16, 512)       0         \n",
            "                                                                 \n",
            " batch_normalization_7 (Batc  (None, 16, 16, 512)      2048      \n",
            " hNormalization)                                                 \n",
            "                                                                 \n",
            " conv2d_8 (Conv2D)           (None, 16, 16, 512)       2359808   \n",
            "                                                                 \n",
            " activation_8 (Activation)   (None, 16, 16, 512)       0         \n",
            "                                                                 \n",
            " batch_normalization_8 (Batc  (None, 16, 16, 512)      2048      \n",
            " hNormalization)                                                 \n",
            "                                                                 \n",
            " conv2d_9 (Conv2D)           (None, 16, 16, 512)       2359808   \n",
            "                                                                 \n",
            " activation_9 (Activation)   (None, 16, 16, 512)       0         \n",
            "                                                                 \n",
            " max_pooling2d_3 (MaxPooling  (None, 8, 8, 512)        0         \n",
            " 2D)                                                             \n",
            "                                                                 \n",
            " batch_normalization_9 (Batc  (None, 8, 8, 512)        2048      \n",
            " hNormalization)                                                 \n",
            "                                                                 \n",
            " conv2d_10 (Conv2D)          (None, 8, 8, 512)         2359808   \n",
            "                                                                 \n",
            " activation_10 (Activation)  (None, 8, 8, 512)         0         \n",
            "                                                                 \n",
            " batch_normalization_10 (Bat  (None, 8, 8, 512)        2048      \n",
            " chNormalization)                                                \n",
            "                                                                 \n",
            " conv2d_11 (Conv2D)          (None, 8, 8, 512)         2359808   \n",
            "                                                                 \n",
            " activation_11 (Activation)  (None, 8, 8, 512)         0         \n",
            "                                                                 \n",
            " batch_normalization_11 (Bat  (None, 8, 8, 512)        2048      \n",
            " chNormalization)                                                \n",
            "                                                                 \n",
            " conv2d_12 (Conv2D)          (None, 8, 8, 512)         2359808   \n",
            "                                                                 \n",
            " activation_12 (Activation)  (None, 8, 8, 512)         0         \n",
            "                                                                 \n",
            " max_pooling2d_4 (MaxPooling  (None, 4, 4, 512)        0         \n",
            " 2D)                                                             \n",
            "                                                                 \n",
            " batch_normalization_12 (Bat  (None, 4, 4, 512)        2048      \n",
            " chNormalization)                                                \n",
            "                                                                 \n",
            " flatten (Flatten)           (None, 8192)              0         \n",
            "                                                                 \n",
            " dense (Dense)               (None, 4096)              33558528  \n",
            "                                                                 \n",
            " activation_13 (Activation)  (None, 4096)              0         \n",
            "                                                                 \n",
            " batch_normalization_13 (Bat  (None, 4096)             16384     \n",
            " chNormalization)                                                \n",
            "                                                                 \n",
            " dropout (Dropout)           (None, 4096)              0         \n",
            "                                                                 \n",
            " dense_1 (Dense)             (None, 4096)              16781312  \n",
            "                                                                 \n",
            " activation_14 (Activation)  (None, 4096)              0         \n",
            "                                                                 \n",
            " batch_normalization_14 (Bat  (None, 4096)             16384     \n",
            " chNormalization)                                                \n",
            "                                                                 \n",
            " dropout_1 (Dropout)         (None, 4096)              0         \n",
            "                                                                 \n",
            " dense_2 (Dense)             (None, 1000)              4097000   \n",
            "                                                                 \n",
            " activation_15 (Activation)  (None, 1000)              0         \n",
            "                                                                 \n",
            " batch_normalization_15 (Bat  (None, 1000)             4000      \n",
            " chNormalization)                                                \n",
            "                                                                 \n",
            " dropout_2 (Dropout)         (None, 1000)              0         \n",
            "                                                                 \n",
            " dense_3 (Dense)             (None, 2)                 2002      \n",
            "                                                                 \n",
            "=================================================================\n",
            "Total params: 69,206,042\n",
            "Trainable params: 69,179,210\n",
            "Non-trainable params: 26,832\n",
            "_________________________________________________________________\n"
          ]
        }
      ]
    },
    {
      "cell_type": "code",
      "source": [
        "#training data\n",
        "H = vgg16.fit(trainX, trainY, validation_data=(testX, testY), epochs=70, batch_size=16)"
      ],
      "metadata": {
        "colab": {
          "base_uri": "https://localhost:8080/"
        },
        "id": "JOp0TzHxZYLf",
        "outputId": "cea8c7f7-cb32-4c4a-ffd6-4e1c8d513d28"
      },
      "execution_count": 12,
      "outputs": [
        {
          "output_type": "stream",
          "name": "stdout",
          "text": [
            "Epoch 1/70\n",
            "70/70 [==============================] - 29s 163ms/step - loss: 0.9679 - accuracy: 0.7437 - val_loss: 34.0706 - val_accuracy: 0.5000\n",
            "Epoch 2/70\n",
            "70/70 [==============================] - 9s 122ms/step - loss: 0.7089 - accuracy: 0.7375 - val_loss: 33.0586 - val_accuracy: 0.5000\n",
            "Epoch 3/70\n",
            "70/70 [==============================] - 9s 124ms/step - loss: 0.7416 - accuracy: 0.6848 - val_loss: 11.7616 - val_accuracy: 0.5536\n",
            "Epoch 4/70\n",
            "70/70 [==============================] - 9s 127ms/step - loss: 0.5092 - accuracy: 0.7955 - val_loss: 8.0790 - val_accuracy: 0.6571\n",
            "Epoch 5/70\n",
            "70/70 [==============================] - 9s 125ms/step - loss: 0.3766 - accuracy: 0.8679 - val_loss: 1.3900 - val_accuracy: 0.6750\n",
            "Epoch 6/70\n",
            "70/70 [==============================] - 9s 128ms/step - loss: 0.4449 - accuracy: 0.8107 - val_loss: 6.1392 - val_accuracy: 0.4964\n",
            "Epoch 7/70\n",
            "70/70 [==============================] - 9s 126ms/step - loss: 0.3340 - accuracy: 0.8795 - val_loss: 1.5061 - val_accuracy: 0.7464\n",
            "Epoch 8/70\n",
            "70/70 [==============================] - 9s 125ms/step - loss: 0.2477 - accuracy: 0.8911 - val_loss: 0.9095 - val_accuracy: 0.7714\n",
            "Epoch 9/70\n",
            "70/70 [==============================] - 9s 125ms/step - loss: 0.2239 - accuracy: 0.9089 - val_loss: 1.2425 - val_accuracy: 0.8107\n",
            "Epoch 10/70\n",
            "70/70 [==============================] - 9s 124ms/step - loss: 0.2261 - accuracy: 0.9134 - val_loss: 0.2703 - val_accuracy: 0.9107\n",
            "Epoch 11/70\n",
            "70/70 [==============================] - 9s 124ms/step - loss: 0.1742 - accuracy: 0.9330 - val_loss: 1.7167 - val_accuracy: 0.8071\n",
            "Epoch 12/70\n",
            "70/70 [==============================] - 9s 125ms/step - loss: 0.1562 - accuracy: 0.9500 - val_loss: 0.8262 - val_accuracy: 0.8393\n",
            "Epoch 13/70\n",
            "70/70 [==============================] - 9s 124ms/step - loss: 0.1709 - accuracy: 0.9420 - val_loss: 0.4575 - val_accuracy: 0.8643\n",
            "Epoch 14/70\n",
            "70/70 [==============================] - 9s 126ms/step - loss: 0.1669 - accuracy: 0.9429 - val_loss: 1.2246 - val_accuracy: 0.6786\n",
            "Epoch 15/70\n",
            "70/70 [==============================] - 9s 125ms/step - loss: 0.1691 - accuracy: 0.9473 - val_loss: 0.2414 - val_accuracy: 0.9107\n",
            "Epoch 16/70\n",
            "70/70 [==============================] - 9s 127ms/step - loss: 0.1515 - accuracy: 0.9482 - val_loss: 0.1648 - val_accuracy: 0.9571\n",
            "Epoch 17/70\n",
            "70/70 [==============================] - 9s 125ms/step - loss: 0.1482 - accuracy: 0.9545 - val_loss: 0.2176 - val_accuracy: 0.9393\n",
            "Epoch 18/70\n",
            "70/70 [==============================] - 9s 126ms/step - loss: 0.1266 - accuracy: 0.9652 - val_loss: 0.3855 - val_accuracy: 0.8821\n",
            "Epoch 19/70\n",
            "70/70 [==============================] - 9s 125ms/step - loss: 0.1022 - accuracy: 0.9679 - val_loss: 0.2486 - val_accuracy: 0.9000\n",
            "Epoch 20/70\n",
            "70/70 [==============================] - 9s 125ms/step - loss: 0.1017 - accuracy: 0.9652 - val_loss: 0.6779 - val_accuracy: 0.8250\n",
            "Epoch 21/70\n",
            "70/70 [==============================] - 9s 125ms/step - loss: 0.1089 - accuracy: 0.9643 - val_loss: 0.4236 - val_accuracy: 0.9000\n",
            "Epoch 22/70\n",
            "70/70 [==============================] - 9s 126ms/step - loss: 0.0854 - accuracy: 0.9705 - val_loss: 0.7618 - val_accuracy: 0.8357\n",
            "Epoch 23/70\n",
            "70/70 [==============================] - 9s 125ms/step - loss: 0.0767 - accuracy: 0.9723 - val_loss: 3.6785 - val_accuracy: 0.4893\n",
            "Epoch 24/70\n",
            "70/70 [==============================] - 9s 125ms/step - loss: 0.1019 - accuracy: 0.9714 - val_loss: 0.0521 - val_accuracy: 0.9821\n",
            "Epoch 25/70\n",
            "70/70 [==============================] - 9s 127ms/step - loss: 0.1034 - accuracy: 0.9705 - val_loss: 0.2877 - val_accuracy: 0.9071\n",
            "Epoch 26/70\n",
            "70/70 [==============================] - 9s 124ms/step - loss: 0.0830 - accuracy: 0.9768 - val_loss: 1.8784 - val_accuracy: 0.6000\n",
            "Epoch 27/70\n",
            "70/70 [==============================] - 9s 127ms/step - loss: 0.0666 - accuracy: 0.9768 - val_loss: 0.8310 - val_accuracy: 0.8143\n",
            "Epoch 28/70\n",
            "70/70 [==============================] - 9s 125ms/step - loss: 0.0766 - accuracy: 0.9741 - val_loss: 0.3453 - val_accuracy: 0.8821\n",
            "Epoch 29/70\n",
            "70/70 [==============================] - 9s 127ms/step - loss: 0.0496 - accuracy: 0.9866 - val_loss: 0.3299 - val_accuracy: 0.9321\n",
            "Epoch 30/70\n",
            "70/70 [==============================] - 9s 125ms/step - loss: 0.0592 - accuracy: 0.9821 - val_loss: 0.1659 - val_accuracy: 0.9571\n",
            "Epoch 31/70\n",
            "70/70 [==============================] - 9s 125ms/step - loss: 0.0553 - accuracy: 0.9875 - val_loss: 0.0684 - val_accuracy: 0.9714\n",
            "Epoch 32/70\n",
            "70/70 [==============================] - 9s 125ms/step - loss: 0.0502 - accuracy: 0.9857 - val_loss: 0.4477 - val_accuracy: 0.9214\n",
            "Epoch 33/70\n",
            "70/70 [==============================] - 9s 125ms/step - loss: 0.0339 - accuracy: 0.9875 - val_loss: 1.1383 - val_accuracy: 0.8393\n",
            "Epoch 34/70\n",
            "70/70 [==============================] - 9s 125ms/step - loss: 0.0499 - accuracy: 0.9866 - val_loss: 0.3832 - val_accuracy: 0.9286\n",
            "Epoch 35/70\n",
            "70/70 [==============================] - 9s 125ms/step - loss: 0.0604 - accuracy: 0.9848 - val_loss: 0.5247 - val_accuracy: 0.9143\n",
            "Epoch 36/70\n",
            "70/70 [==============================] - 9s 127ms/step - loss: 0.0809 - accuracy: 0.9830 - val_loss: 0.1223 - val_accuracy: 0.9607\n",
            "Epoch 37/70\n",
            "70/70 [==============================] - 9s 125ms/step - loss: 0.0476 - accuracy: 0.9830 - val_loss: 0.2293 - val_accuracy: 0.9393\n",
            "Epoch 38/70\n",
            "70/70 [==============================] - 9s 125ms/step - loss: 0.0558 - accuracy: 0.9866 - val_loss: 0.4569 - val_accuracy: 0.8964\n",
            "Epoch 39/70\n",
            "70/70 [==============================] - 9s 125ms/step - loss: 0.0533 - accuracy: 0.9839 - val_loss: 0.1580 - val_accuracy: 0.9607\n",
            "Epoch 40/70\n",
            "70/70 [==============================] - 9s 125ms/step - loss: 0.0433 - accuracy: 0.9893 - val_loss: 0.5374 - val_accuracy: 0.8821\n",
            "Epoch 41/70\n",
            "70/70 [==============================] - 9s 125ms/step - loss: 0.0344 - accuracy: 0.9893 - val_loss: 0.3983 - val_accuracy: 0.8857\n",
            "Epoch 42/70\n",
            "70/70 [==============================] - 9s 125ms/step - loss: 0.0443 - accuracy: 0.9875 - val_loss: 0.2144 - val_accuracy: 0.9393\n",
            "Epoch 43/70\n",
            "70/70 [==============================] - 9s 125ms/step - loss: 0.0415 - accuracy: 0.9884 - val_loss: 1.7587 - val_accuracy: 0.6250\n",
            "Epoch 44/70\n",
            "70/70 [==============================] - 9s 127ms/step - loss: 0.0322 - accuracy: 0.9884 - val_loss: 0.2399 - val_accuracy: 0.9464\n",
            "Epoch 45/70\n",
            "70/70 [==============================] - 9s 125ms/step - loss: 0.0331 - accuracy: 0.9902 - val_loss: 0.1677 - val_accuracy: 0.9607\n",
            "Epoch 46/70\n",
            "70/70 [==============================] - 9s 126ms/step - loss: 0.0543 - accuracy: 0.9893 - val_loss: 0.1317 - val_accuracy: 0.9536\n",
            "Epoch 47/70\n",
            "70/70 [==============================] - 9s 125ms/step - loss: 0.0208 - accuracy: 0.9973 - val_loss: 0.3344 - val_accuracy: 0.9357\n",
            "Epoch 48/70\n",
            "70/70 [==============================] - 9s 125ms/step - loss: 0.0741 - accuracy: 0.9875 - val_loss: 0.0915 - val_accuracy: 0.9786\n",
            "Epoch 49/70\n",
            "70/70 [==============================] - 9s 127ms/step - loss: 0.0140 - accuracy: 0.9964 - val_loss: 0.9675 - val_accuracy: 0.7500\n",
            "Epoch 50/70\n",
            "70/70 [==============================] - 9s 125ms/step - loss: 0.0298 - accuracy: 0.9929 - val_loss: 0.1649 - val_accuracy: 0.9571\n",
            "Epoch 51/70\n",
            "70/70 [==============================] - 9s 125ms/step - loss: 0.0348 - accuracy: 0.9911 - val_loss: 0.2846 - val_accuracy: 0.9607\n",
            "Epoch 52/70\n",
            "70/70 [==============================] - 9s 125ms/step - loss: 0.0468 - accuracy: 0.9884 - val_loss: 0.1453 - val_accuracy: 0.9464\n",
            "Epoch 53/70\n",
            "70/70 [==============================] - 9s 125ms/step - loss: 0.0225 - accuracy: 0.9937 - val_loss: 3.8653 - val_accuracy: 0.5107\n",
            "Epoch 54/70\n",
            "70/70 [==============================] - 9s 125ms/step - loss: 0.0222 - accuracy: 0.9973 - val_loss: 0.3953 - val_accuracy: 0.9321\n",
            "Epoch 55/70\n",
            "70/70 [==============================] - 9s 125ms/step - loss: 0.0269 - accuracy: 0.9937 - val_loss: 0.4420 - val_accuracy: 0.8964\n",
            "Epoch 56/70\n",
            "70/70 [==============================] - 9s 125ms/step - loss: 0.0293 - accuracy: 0.9920 - val_loss: 0.1264 - val_accuracy: 0.9857\n",
            "Epoch 57/70\n",
            "70/70 [==============================] - 9s 127ms/step - loss: 0.0234 - accuracy: 0.9964 - val_loss: 0.1458 - val_accuracy: 0.9679\n",
            "Epoch 58/70\n",
            "70/70 [==============================] - 9s 125ms/step - loss: 0.0201 - accuracy: 0.9964 - val_loss: 0.3137 - val_accuracy: 0.9714\n",
            "Epoch 59/70\n",
            "70/70 [==============================] - 9s 125ms/step - loss: 0.0219 - accuracy: 0.9973 - val_loss: 0.5466 - val_accuracy: 0.9179\n",
            "Epoch 60/70\n",
            "70/70 [==============================] - 9s 125ms/step - loss: 0.0159 - accuracy: 0.9955 - val_loss: 2.2454 - val_accuracy: 0.6821\n",
            "Epoch 61/70\n",
            "70/70 [==============================] - 9s 127ms/step - loss: 0.0174 - accuracy: 0.9937 - val_loss: 0.1286 - val_accuracy: 0.9679\n",
            "Epoch 62/70\n",
            "70/70 [==============================] - 9s 128ms/step - loss: 0.0240 - accuracy: 0.9964 - val_loss: 3.7950 - val_accuracy: 0.5214\n",
            "Epoch 63/70\n",
            "70/70 [==============================] - 9s 125ms/step - loss: 0.0572 - accuracy: 0.9884 - val_loss: 0.0988 - val_accuracy: 0.9607\n",
            "Epoch 64/70\n",
            "70/70 [==============================] - 9s 125ms/step - loss: 0.0104 - accuracy: 0.9964 - val_loss: 0.1224 - val_accuracy: 0.9821\n",
            "Epoch 65/70\n",
            "70/70 [==============================] - 9s 125ms/step - loss: 0.0291 - accuracy: 0.9955 - val_loss: 0.3456 - val_accuracy: 0.9250\n",
            "Epoch 66/70\n",
            "70/70 [==============================] - 9s 126ms/step - loss: 0.0084 - accuracy: 0.9973 - val_loss: 0.1557 - val_accuracy: 0.9714\n",
            "Epoch 67/70\n",
            "70/70 [==============================] - 9s 125ms/step - loss: 0.0237 - accuracy: 0.9911 - val_loss: 0.1101 - val_accuracy: 0.9679\n",
            "Epoch 68/70\n",
            "70/70 [==============================] - 9s 125ms/step - loss: 0.0213 - accuracy: 0.9911 - val_loss: 0.1150 - val_accuracy: 0.9750\n",
            "Epoch 69/70\n",
            "70/70 [==============================] - 9s 125ms/step - loss: 0.0058 - accuracy: 0.9973 - val_loss: 0.3214 - val_accuracy: 0.9429\n",
            "Epoch 70/70\n",
            "70/70 [==============================] - 9s 126ms/step - loss: 0.0126 - accuracy: 0.9973 - val_loss: 0.8535 - val_accuracy: 0.8714\n"
          ]
        }
      ]
    },
    {
      "cell_type": "code",
      "source": [
        "print(\"[INFO] evaluating network...\")\n",
        "predictions = vgg16.predict(testX, batch_size=16)\n",
        "pred=predictions.argmax(axis=1)\n",
        "testY_argm=testY.argmax(axis=1)\n"
      ],
      "metadata": {
        "colab": {
          "base_uri": "https://localhost:8080/"
        },
        "id": "qjoEfHoWsr9H",
        "outputId": "bd23867e-2946-4b8a-cb5a-22023de20d1b"
      },
      "execution_count": 13,
      "outputs": [
        {
          "output_type": "stream",
          "name": "stdout",
          "text": [
            "[INFO] evaluating network...\n"
          ]
        }
      ]
    },
    {
      "cell_type": "code",
      "source": [
        "print(classification_report(testY_argm,pred,target_names=lb.classes_))"
      ],
      "metadata": {
        "colab": {
          "base_uri": "https://localhost:8080/"
        },
        "id": "Po9wqNIMts7s",
        "outputId": "d1e8af17-5b0f-418d-ae8b-333580fbcefa"
      },
      "execution_count": 14,
      "outputs": [
        {
          "output_type": "stream",
          "name": "stdout",
          "text": [
            "              precision    recall  f1-score   support\n",
            "\n",
            "      Normal       0.80      1.00      0.89       140\n",
            "Tuberculosis       1.00      0.74      0.85       140\n",
            "\n",
            "    accuracy                           0.87       280\n",
            "   macro avg       0.90      0.87      0.87       280\n",
            "weighted avg       0.90      0.87      0.87       280\n",
            "\n"
          ]
        }
      ]
    },
    {
      "cell_type": "code",
      "source": [
        "test_score = vgg16.evaluate(testX, testY) \n",
        "print(\"Test Loss {:.4f}, accuracy {:.2f}%\".format(test_score[0], test_score[1] * 100))"
      ],
      "metadata": {
        "colab": {
          "base_uri": "https://localhost:8080/"
        },
        "id": "5NSJXylrt1ND",
        "outputId": "f3a287e6-9418-4572-c598-9cce6c40274b"
      },
      "execution_count": 15,
      "outputs": [
        {
          "output_type": "stream",
          "name": "stdout",
          "text": [
            "9/9 [==============================] - 5s 296ms/step - loss: 0.8535 - accuracy: 0.8714\n",
            "Test Loss 0.8535, accuracy 87.14%\n"
          ]
        }
      ]
    },
    {
      "cell_type": "code",
      "source": [
        "from sklearn.metrics import confusion_matrix\n",
        "import itertools\n",
        "\n",
        "def plot_confusion_matrix(cm, classes, normalize=False, title='Confusion matrix', cmap='Blues'):\n",
        "  if normalize:\n",
        "     cm = cm.astype('float') / cm.sum(axis=1)[:, np.newaxis]\n",
        "     print(\"Normalized confusion matrix\")\n",
        "  else:\n",
        "     print('Confusion matrix, without normalization')\n",
        "  print(cm)\n",
        "  plt.imshow(cm, interpolation='nearest', cmap=cmap)\n",
        "  plt.title(title)\n",
        "  plt.colorbar()\n",
        "  tick_marks = np.arange(len(classes))\n",
        "  plt.xticks(tick_marks, classes, rotation=45)\n",
        "  plt.yticks(tick_marks, classes)\n",
        "  fmt = '.2f' if normalize else 'd'\n",
        "  thresh = cm.max() / 2.\n",
        "  for i, j in itertools.product(range(cm.shape[0]), range(cm.shape[1])):\n",
        "      plt.text(j, i, format(cm[i, j], fmt), horizontalalignment=\"center\", color=\"white\" if cm[i, j] > thresh else \"black\")\n",
        "  plt.ylabel('True label')\n",
        "  plt.xlabel('Predicted label')\n",
        "  plt.tight_layout()"
      ],
      "metadata": {
        "id": "ZS-FXHa6uI6H"
      },
      "execution_count": 16,
      "outputs": []
    },
    {
      "cell_type": "code",
      "source": [
        "cnf_matrix = confusion_matrix(testY_argm, pred)\n",
        "np.set_printoptions(precision=2)\n",
        "\n",
        "# Plot non/normalized confusion matrix\n",
        "plt.figure()\n",
        "plot_confusion_matrix(cnf_matrix,\n",
        "classes=lb.classes_, normalize=True)\n",
        "plt.show()\n",
        "\n",
        "plt.figure()\n",
        "plot_confusion_matrix(cnf_matrix,\n",
        "classes=lb.classes_, normalize=False)\n",
        "plt.show()\n",
        "\n",
        "f, ax = plt.subplots()\n",
        "ax.plot([None] + H.history['accuracy'], 'o-')\n",
        "ax.plot([None] + H.history['val_accuracy'], 'x-')\n",
        "\n",
        "ax.legend(['Train acc', 'Validation acc'], loc = 0)\n",
        "ax.set_title('Training/Validation acc per Epoch')\n",
        "ax.set_xlabel('Epoch')\n",
        "ax.set_ylabel('acc')\n",
        "plt.grid(True)\n",
        "\n",
        "f, ax = plt.subplots()\n",
        "ax.plot([None] + H.history['loss'], 'o-')\n",
        "ax.plot([None] + H.history['val_loss'], 'x-')\n",
        "ax.legend(['Train Loss', 'Validation Loss'], loc = 0)\n",
        "ax.set_title('Training/Validation Loss per Epoch')\n",
        "ax.set_xlabel('Epoch')\n",
        "ax.set_ylabel('loss')\n",
        "plt.grid(True)"
      ],
      "metadata": {
        "colab": {
          "base_uri": "https://localhost:8080/",
          "height": 1000
        },
        "id": "eiYstz9xuRLx",
        "outputId": "fffa96a1-6045-4391-9fbb-9bde7b20900e"
      },
      "execution_count": 17,
      "outputs": [
        {
          "output_type": "stream",
          "name": "stdout",
          "text": [
            "Normalized confusion matrix\n",
            "[[1.   0.  ]\n",
            " [0.26 0.74]]\n"
          ]
        },
        {
          "output_type": "display_data",
          "data": {
            "text/plain": [
              "<Figure size 432x288 with 2 Axes>"
            ],
            "image/png": "[encoded data removed]"
          },
          "metadata": {
            "needs_background": "light"
          }
        },
        {
          "output_type": "stream",
          "name": "stdout",
          "text": [
            "Confusion matrix, without normalization\n",
            "[[140   0]\n",
            " [ 36 104]]\n"
          ]
        },
        {
          "output_type": "display_data",
          "data": {
            "text/plain": [
              "<Figure size 432x288 with 2 Axes>"
            ],
            "image/png": "[encoded data removed]"
          },
          "metadata": {
            "needs_background": "light"
          }
        },
        {
          "output_type": "display_data",
          "data": {
            "text/plain": [
              "<Figure size 432x288 with 1 Axes>"
            ],
            "image/png": "[encoded data removed]"
          },
          "metadata": {
            "needs_background": "light"
          }
        },
        {
          "output_type": "display_data",
          "data": {
            "text/plain": [
              "<Figure size 432x288 with 1 Axes>"
            ],
            "image/png": "[encoded data removed]"
          },
          "metadata": {
            "needs_background": "light"
          }
        }
      ]
    }
  ]
}