{
  "nbformat": 4,
  "nbformat_minor": 0,
  "metadata": {
    "colab": {
      "name": "Tuberculosis_VGG-16.ipynb",
      "provenance": [],
      "collapsed_sections": [],
      "include_colab_link": true
    },
    "kernelspec": {
      "name": "python3",
      "display_name": "Python 3"
    },
    "language_info": {
      "name": "python"
    },
    "accelerator": "GPU",
    "gpuClass": "standard"
  },
  "cells": [
    {
      "cell_type": "markdown",
      "metadata": {
        "id": "view-in-github",
        "colab_type": "text"
      },
      "source": [
        "<a href=\"https://colab.research.google.com/github/taniaalwi99/Skripsi-Tuberculosis/blob/main/Tuberculosis_128_SGD_0.001_70_16.ipynb\" target=\"_parent\"><img src=\"https://colab.research.google.com/assets/colab-badge.svg\" alt=\"Open In Colab\"/></a>"
      ]
    },
    {
      "cell_type": "code",
      "execution_count": 1,
      "metadata": {
        "colab": {
          "base_uri": "https://localhost:8080/"
        },
        "id": "2_RYo7hrXaC5",
        "outputId": "038ba781-4cd0-40fc-bf94-9783f065b2b7"
      },
      "outputs": [
        {
          "output_type": "stream",
          "name": "stdout",
          "text": [
            "Mounted at /content/drive\n"
          ]
        }
      ],
      "source": [
        "from google.colab import drive\n",
        "drive.mount('/content/drive')"
      ]
    },
    {
      "cell_type": "code",
      "source": [
        "cd //content/drive/MyDrive"
      ],
      "metadata": {
        "colab": {
          "base_uri": "https://localhost:8080/"
        },
        "id": "G4aisxOFX3KH",
        "outputId": "88729391-6777-4b15-9252-034bfb93aa77"
      },
      "execution_count": 2,
      "outputs": [
        {
          "output_type": "stream",
          "name": "stdout",
          "text": [
            "/content/drive/MyDrive\n"
          ]
        }
      ]
    },
    {
      "cell_type": "code",
      "source": [
        "ls"
      ],
      "metadata": {
        "colab": {
          "base_uri": "https://localhost:8080/"
        },
        "id": "e_oGUrADX8O_",
        "outputId": "b56e1571-3331-4cc9-d542-d90220ad0448"
      },
      "execution_count": 3,
      "outputs": [
        {
          "output_type": "stream",
          "name": "stdout",
          "text": [
            "\u001b[0m\u001b[01;34m'Colab Notebooks'\u001b[0m/  \u001b[01;34m'Dataset Gray'\u001b[0m/  \u001b[01;34m'Tania Alwi'\u001b[0m/   Tuberculosis_VGG-16.ipynb\n"
          ]
        }
      ]
    },
    {
      "cell_type": "code",
      "source": [
        "from keras.models import Model\n",
        "from keras.models import load_model\n",
        "from keras.models import Sequential\n",
        "from keras.layers.convolutional import Convolution2D\n",
        "from keras.layers.convolutional import MaxPooling2D\n",
        "from keras.layers.convolutional import ZeroPadding2D\n",
        "from keras.layers.core import Activation\n",
        "from keras.layers.core import Flatten\n",
        "from keras.layers.core import Dense\n",
        "from keras.layers.core import Dropout\n",
        "from keras.layers import BatchNormalization\n",
        "from keras import regularizers\n",
        "from keras.preprocessing.image import ImageDataGenerator\n",
        "from tensorflow.keras.optimizers import RMSprop, Adam, SGD\n",
        "from sklearn.preprocessing import LabelBinarizer\n",
        "from sklearn.model_selection import train_test_split\n",
        "from sklearn.metrics import classification_report\n",
        "from PIL import Image\n",
        "from matplotlib import pyplot as plt\n",
        "from imutils import paths\n",
        "import numpy as np\n",
        "import os"
      ],
      "metadata": {
        "id": "t95OxlI7X_OF"
      },
      "execution_count": 4,
      "outputs": []
    },
    {
      "cell_type": "code",
      "source": [
        "print(\"[INFO] loading images...\")\n",
        "imagePaths = paths.list_images(\"Dataset Gray\")\n",
        "data = []\n",
        "labels = []"
      ],
      "metadata": {
        "colab": {
          "base_uri": "https://localhost:8080/"
        },
        "id": "jvn693i-YDZ8",
        "outputId": "eae8238e-fbc0-4e81-f09f-4f5ee037e439"
      },
      "execution_count": 5,
      "outputs": [
        {
          "output_type": "stream",
          "name": "stdout",
          "text": [
            "[INFO] loading images...\n"
          ]
        }
      ]
    },
    {
      "cell_type": "code",
      "source": [
        "for imagePaths in imagePaths:\n",
        "    a = Image.open(imagePaths)\n",
        "    image = np.array(a.resize((128,128))) / 255.0\n",
        "    data.append(image)\n",
        "    \n",
        "    label = imagePaths.split(os.path.sep) [-2]\n",
        "    labels.append(label)"
      ],
      "metadata": {
        "id": "3XLuWAZsYLfK"
      },
      "execution_count": 6,
      "outputs": []
    },
    {
      "cell_type": "code",
      "source": [
        "from sklearn.preprocessing import LabelBinarizer\n",
        "import numpy as np\n",
        "\n",
        "class MyLabelBinarizer(LabelBinarizer):\n",
        "    def transform(self, label):\n",
        "      nilaiy = super().transform(label)\n",
        "      if self.y_type_== 'binary':\n",
        "        return np.hstack((nilaiy, 1-nilaiy))\n",
        "      else:\n",
        "        return nilaiy\n",
        "    def inverse_transform(self, nilaiy, threshold=None):\n",
        "      if self.y_type_ == 'binary':\n",
        "          return super().inverse_transform(nilaiy[:, 0], threshold)\n",
        "      else:\n",
        "          return super().inverse_transform(nilaiy, threshold)\n",
        "\n",
        "      \n",
        "\n",
        "lb = MyLabelBinarizer()\n",
        "labels = lb.fit_transform(labels)\n",
        "print(labels)"
      ],
      "metadata": {
        "colab": {
          "base_uri": "https://localhost:8080/"
        },
        "id": "gnjyPDi_Yyrn",
        "outputId": "1aefdd5b-b7ee-4902-eba9-91d6318ddafa"
      },
      "execution_count": 7,
      "outputs": [
        {
          "output_type": "stream",
          "name": "stdout",
          "text": [
            "[[1 0]\n",
            " [1 0]\n",
            " [1 0]\n",
            " ...\n",
            " [0 1]\n",
            " [0 1]\n",
            " [0 1]]\n"
          ]
        }
      ]
    },
    {
      "cell_type": "code",
      "source": [
        "(trainX,testX, trainY, testY) = train_test_split(np.array(data),np.array(labels), test_size=0.20)\n",
        "print(trainX.shape)\n",
        "print(testX.shape)"
      ],
      "metadata": {
        "id": "0V3CnlQtY1g2",
        "colab": {
          "base_uri": "https://localhost:8080/"
        },
        "outputId": "0ee39874-a00e-4b27-f585-c24c46b3e7c6"
      },
      "execution_count": 8,
      "outputs": [
        {
          "output_type": "stream",
          "name": "stdout",
          "text": [
            "(1120, 128, 128)\n",
            "(280, 128, 128)\n"
          ]
        }
      ]
    },
    {
      "cell_type": "code",
      "source": [
        "def vgg16(num_classes):\n",
        "\n",
        "    vgg16 = Sequential()\n",
        "\n",
        "    vgg16.add(Convolution2D(input_shape=(128,128,1),filters=64,kernel_size=(3,3),padding=\"same\"))\n",
        "    vgg16.add(Activation('relu'))\n",
        "    vgg16.add(BatchNormalization())\n",
        "    #layer1 32*32*64\n",
        "    vgg16.add(Convolution2D(filters=64,kernel_size=(3,3),padding=\"same\"))\n",
        "    vgg16.add(Activation('relu'))\n",
        "    vgg16.add(MaxPooling2D(pool_size=(2, 2),strides=(2,2)))\n",
        "    vgg16.add(BatchNormalization())\n",
        "    #layer2 16*16*64\n",
        "    vgg16.add(Convolution2D(filters=128, kernel_size=(3,3), padding=\"same\"))\n",
        "    vgg16.add(Activation('relu'))\n",
        "    vgg16.add(BatchNormalization())\n",
        "    #layer3 16*16*128\n",
        "    vgg16.add(Convolution2D(filters=128, kernel_size=(3,3), padding=\"same\",))\n",
        "    vgg16.add(Activation('relu'))\n",
        "    vgg16.add(MaxPooling2D(pool_size=(2,2),strides=(2,2)))\n",
        "    vgg16.add(BatchNormalization())\n",
        "    #layer4 8*8*128\n",
        "    vgg16.add(Convolution2D(filters=256, kernel_size=(3,3), padding=\"same\"))\n",
        "    vgg16.add(Activation('relu'))\n",
        "    vgg16.add(BatchNormalization())\n",
        "    #layer5 8*8*256\n",
        "    vgg16.add(Convolution2D(filters=256, kernel_size=(3,3), padding=\"same\"))\n",
        "    vgg16.add(Activation('relu'))\n",
        "    vgg16.add(BatchNormalization())\n",
        "    #layer6 8*8*256\n",
        "    vgg16.add(Convolution2D(filters=256, kernel_size=(3,3), padding=\"same\"))\n",
        "    vgg16.add(Activation('relu'))\n",
        "    vgg16.add(MaxPooling2D(pool_size=(2,2),strides=(2,2)))\n",
        "    vgg16.add(BatchNormalization())\n",
        "    #layer7 4*4*256\n",
        "    vgg16.add(Convolution2D(filters=512, kernel_size=(3,3), padding=\"same\"))\n",
        "    vgg16.add(Activation('relu'))\n",
        "    vgg16.add(BatchNormalization())\n",
        "    #layer8 4*4*512\n",
        "    vgg16.add(Convolution2D(filters=512, kernel_size=(3,3), padding=\"same\"))\n",
        "    vgg16.add(Activation('relu'))\n",
        "    vgg16.add(BatchNormalization())\n",
        "    #layer9 4*4*512\n",
        "    vgg16.add(Convolution2D(filters=512, kernel_size=(3,3), padding=\"same\"))\n",
        "    vgg16.add(Activation('relu'))\n",
        "    vgg16.add(MaxPooling2D(pool_size=(2,2),strides=(2,2)))\n",
        "    vgg16.add(BatchNormalization())\n",
        "    #layer10 2*2*512\n",
        "    vgg16.add(Convolution2D(filters=512, kernel_size=(3,3), padding=\"same\"))\n",
        "    vgg16.add(Activation('relu'))\n",
        "    vgg16.add(BatchNormalization())\n",
        "    #layer11 2*2*512\n",
        "    vgg16.add(Convolution2D(filters=512, kernel_size=(3,3), padding=\"same\"))  \n",
        "    vgg16.add(Activation('relu')) \n",
        "    vgg16.add(BatchNormalization())       \n",
        "    #layer12 2*2*512\n",
        "    vgg16.add(Convolution2D(filters=512, kernel_size=(3,3), padding=\"same\"))\n",
        "    vgg16.add(Activation('relu'))\n",
        "    vgg16.add(MaxPooling2D(pool_size=(2,2),strides=(2,2)))\n",
        "    vgg16.add(BatchNormalization())\n",
        "    #layer13 1*1*512\n",
        "    vgg16.add(Flatten())\n",
        "    vgg16.add(Dense(units=4096))\n",
        "    vgg16.add(Activation('relu')) \n",
        "    vgg16.add(BatchNormalization())\n",
        "    vgg16.add(Dropout(0.5))\n",
        "    #layer14 4096\n",
        "    vgg16.add(Dense(units=4096))\n",
        "    vgg16.add(Activation('relu')) \n",
        "    vgg16.add(BatchNormalization())\n",
        "    vgg16.add(Dropout(0.5))\n",
        "    #layer16 4096\n",
        "    vgg16.add(Dense(units=1000))\n",
        "    vgg16.add(Activation('relu'))\n",
        "    vgg16.add(BatchNormalization())\n",
        "    vgg16.add(Dropout(0.5)) \n",
        "    #layer16 1000\n",
        "    vgg16.add(Dense(2, activation=\"softmax\"))\n",
        "\n",
        "    return vgg16"
      ],
      "metadata": {
        "id": "WpeYjXzUZCZP"
      },
      "execution_count": 9,
      "outputs": []
    },
    {
      "cell_type": "code",
      "source": [
        "num_classes=2\n",
        "vgg16=vgg16(num_classes)\n",
        "vgg16.summary()"
      ],
      "metadata": {
        "id": "rlT3OhVuZLUs",
        "colab": {
          "base_uri": "https://localhost:8080/"
        },
        "outputId": "ea9a0627-d8f7-4bd0-add7-4227c6b9d995"
      },
      "execution_count": 10,
      "outputs": [
        {
          "output_type": "stream",
          "name": "stdout",
          "text": [
            "Model: \"sequential\"\n",
            "_________________________________________________________________\n",
            " Layer (type)                Output Shape              Param #   \n",
            "=================================================================\n",
            " conv2d (Conv2D)             (None, 128, 128, 64)      640       \n",
            "                                                                 \n",
            " activation (Activation)     (None, 128, 128, 64)      0         \n",
            "                                                                 \n",
            " batch_normalization (BatchN  (None, 128, 128, 64)     256       \n",
            " ormalization)                                                   \n",
            "                                                                 \n",
            " conv2d_1 (Conv2D)           (None, 128, 128, 64)      36928     \n",
            "                                                                 \n",
            " activation_1 (Activation)   (None, 128, 128, 64)      0         \n",
            "                                                                 \n",
            " max_pooling2d (MaxPooling2D  (None, 64, 64, 64)       0         \n",
            " )                                                               \n",
            "                                                                 \n",
            " batch_normalization_1 (Batc  (None, 64, 64, 64)       256       \n",
            " hNormalization)                                                 \n",
            "                                                                 \n",
            " conv2d_2 (Conv2D)           (None, 64, 64, 128)       73856     \n",
            "                                                                 \n",
            " activation_2 (Activation)   (None, 64, 64, 128)       0         \n",
            "                                                                 \n",
            " batch_normalization_2 (Batc  (None, 64, 64, 128)      512       \n",
            " hNormalization)                                                 \n",
            "                                                                 \n",
            " conv2d_3 (Conv2D)           (None, 64, 64, 128)       147584    \n",
            "                                                                 \n",
            " activation_3 (Activation)   (None, 64, 64, 128)       0         \n",
            "                                                                 \n",
            " max_pooling2d_1 (MaxPooling  (None, 32, 32, 128)      0         \n",
            " 2D)                                                             \n",
            "                                                                 \n",
            " batch_normalization_3 (Batc  (None, 32, 32, 128)      512       \n",
            " hNormalization)                                                 \n",
            "                                                                 \n",
            " conv2d_4 (Conv2D)           (None, 32, 32, 256)       295168    \n",
            "                                                                 \n",
            " activation_4 (Activation)   (None, 32, 32, 256)       0         \n",
            "                                                                 \n",
            " batch_normalization_4 (Batc  (None, 32, 32, 256)      1024      \n",
            " hNormalization)                                                 \n",
            "                                                                 \n",
            " conv2d_5 (Conv2D)           (None, 32, 32, 256)       590080    \n",
            "                                                                 \n",
            " activation_5 (Activation)   (None, 32, 32, 256)       0         \n",
            "                                                                 \n",
            " batch_normalization_5 (Batc  (None, 32, 32, 256)      1024      \n",
            " hNormalization)                                                 \n",
            "                                                                 \n",
            " conv2d_6 (Conv2D)           (None, 32, 32, 256)       590080    \n",
            "                                                                 \n",
            " activation_6 (Activation)   (None, 32, 32, 256)       0         \n",
            "                                                                 \n",
            " max_pooling2d_2 (MaxPooling  (None, 16, 16, 256)      0         \n",
            " 2D)                                                             \n",
            "                                                                 \n",
            " batch_normalization_6 (Batc  (None, 16, 16, 256)      1024      \n",
            " hNormalization)                                                 \n",
            "                                                                 \n",
            " conv2d_7 (Conv2D)           (None, 16, 16, 512)       1180160   \n",
            "                                                                 \n",
            " activation_7 (Activation)   (None, 16, 16, 512)       0         \n",
            "                                                                 \n",
            " batch_normalization_7 (Batc  (None, 16, 16, 512)      2048      \n",
            " hNormalization)                                                 \n",
            "                                                                 \n",
            " conv2d_8 (Conv2D)           (None, 16, 16, 512)       2359808   \n",
            "                                                                 \n",
            " activation_8 (Activation)   (None, 16, 16, 512)       0         \n",
            "                                                                 \n",
            " batch_normalization_8 (Batc  (None, 16, 16, 512)      2048      \n",
            " hNormalization)                                                 \n",
            "                                                                 \n",
            " conv2d_9 (Conv2D)           (None, 16, 16, 512)       2359808   \n",
            "                                                                 \n",
            " activation_9 (Activation)   (None, 16, 16, 512)       0         \n",
            "                                                                 \n",
            " max_pooling2d_3 (MaxPooling  (None, 8, 8, 512)        0         \n",
            " 2D)                                                             \n",
            "                                                                 \n",
            " batch_normalization_9 (Batc  (None, 8, 8, 512)        2048      \n",
            " hNormalization)                                                 \n",
            "                                                                 \n",
            " conv2d_10 (Conv2D)          (None, 8, 8, 512)         2359808   \n",
            "                                                                 \n",
            " activation_10 (Activation)  (None, 8, 8, 512)         0         \n",
            "                                                                 \n",
            " batch_normalization_10 (Bat  (None, 8, 8, 512)        2048      \n",
            " chNormalization)                                                \n",
            "                                                                 \n",
            " conv2d_11 (Conv2D)          (None, 8, 8, 512)         2359808   \n",
            "                                                                 \n",
            " activation_11 (Activation)  (None, 8, 8, 512)         0         \n",
            "                                                                 \n",
            " batch_normalization_11 (Bat  (None, 8, 8, 512)        2048      \n",
            " chNormalization)                                                \n",
            "                                                                 \n",
            " conv2d_12 (Conv2D)          (None, 8, 8, 512)         2359808   \n",
            "                                                                 \n",
            " activation_12 (Activation)  (None, 8, 8, 512)         0         \n",
            "                                                                 \n",
            " max_pooling2d_4 (MaxPooling  (None, 4, 4, 512)        0         \n",
            " 2D)                                                             \n",
            "                                                                 \n",
            " batch_normalization_12 (Bat  (None, 4, 4, 512)        2048      \n",
            " chNormalization)                                                \n",
            "                                                                 \n",
            " flatten (Flatten)           (None, 8192)              0         \n",
            "                                                                 \n",
            " dense (Dense)               (None, 4096)              33558528  \n",
            "                                                                 \n",
            " activation_13 (Activation)  (None, 4096)              0         \n",
            "                                                                 \n",
            " batch_normalization_13 (Bat  (None, 4096)             16384     \n",
            " chNormalization)                                                \n",
            "                                                                 \n",
            " dropout (Dropout)           (None, 4096)              0         \n",
            "                                                                 \n",
            " dense_1 (Dense)             (None, 4096)              16781312  \n",
            "                                                                 \n",
            " activation_14 (Activation)  (None, 4096)              0         \n",
            "                                                                 \n",
            " batch_normalization_14 (Bat  (None, 4096)             16384     \n",
            " chNormalization)                                                \n",
            "                                                                 \n",
            " dropout_1 (Dropout)         (None, 4096)              0         \n",
            "                                                                 \n",
            " dense_2 (Dense)             (None, 1000)              4097000   \n",
            "                                                                 \n",
            " activation_15 (Activation)  (None, 1000)              0         \n",
            "                                                                 \n",
            " batch_normalization_15 (Bat  (None, 1000)             4000      \n",
            " chNormalization)                                                \n",
            "                                                                 \n",
            " dropout_2 (Dropout)         (None, 1000)              0         \n",
            "                                                                 \n",
            " dense_3 (Dense)             (None, 2)                 2002      \n",
            "                                                                 \n",
            "=================================================================\n",
            "Total params: 69,206,042\n",
            "Trainable params: 69,179,210\n",
            "Non-trainable params: 26,832\n",
            "_________________________________________________________________\n"
          ]
        }
      ]
    },
    {
      "cell_type": "code",
      "source": [
        "#setting hyperparameter, menggunakan Adam\n",
        "opt = SGD(lr=0.001)\n",
        "vgg16.compile(loss='categorical_crossentropy', optimizer=opt, metrics=['accuracy'])\n",
        "vgg16.summary()"
      ],
      "metadata": {
        "id": "eZ0TePWVZTx4",
        "colab": {
          "base_uri": "https://localhost:8080/"
        },
        "outputId": "af657e97-bc84-46c6-dc53-d227dda17f98"
      },
      "execution_count": 11,
      "outputs": [
        {
          "output_type": "stream",
          "name": "stdout",
          "text": [
            "Model: \"sequential\"\n",
            "_________________________________________________________________\n",
            " Layer (type)                Output Shape              Param #   \n",
            "=================================================================\n",
            " conv2d (Conv2D)             (None, 128, 128, 64)      640       \n",
            "                                                                 \n",
            " activation (Activation)     (None, 128, 128, 64)      0         \n",
            "                                                                 \n",
            " batch_normalization (BatchN  (None, 128, 128, 64)     256       \n",
            " ormalization)                                                   \n",
            "                                                                 \n",
            " conv2d_1 (Conv2D)           (None, 128, 128, 64)      36928     \n",
            "                                                                 \n",
            " activation_1 (Activation)   (None, 128, 128, 64)      0         \n",
            "                                                                 \n",
            " max_pooling2d (MaxPooling2D  (None, 64, 64, 64)       0         \n",
            " )                                                               \n",
            "                                                                 \n",
            " batch_normalization_1 (Batc  (None, 64, 64, 64)       256       \n",
            " hNormalization)                                                 \n",
            "                                                                 \n",
            " conv2d_2 (Conv2D)           (None, 64, 64, 128)       73856     \n",
            "                                                                 \n",
            " activation_2 (Activation)   (None, 64, 64, 128)       0         \n",
            "                                                                 \n",
            " batch_normalization_2 (Batc  (None, 64, 64, 128)      512       \n",
            " hNormalization)                                                 \n",
            "                                                                 \n",
            " conv2d_3 (Conv2D)           (None, 64, 64, 128)       147584    \n",
            "                                                                 \n",
            " activation_3 (Activation)   (None, 64, 64, 128)       0         \n",
            "                                                                 \n",
            " max_pooling2d_1 (MaxPooling  (None, 32, 32, 128)      0         \n",
            " 2D)                                                             \n",
            "                                                                 \n",
            " batch_normalization_3 (Batc  (None, 32, 32, 128)      512       \n",
            " hNormalization)                                                 \n",
            "                                                                 \n",
            " conv2d_4 (Conv2D)           (None, 32, 32, 256)       295168    \n",
            "                                                                 \n",
            " activation_4 (Activation)   (None, 32, 32, 256)       0         \n",
            "                                                                 \n",
            " batch_normalization_4 (Batc  (None, 32, 32, 256)      1024      \n",
            " hNormalization)                                                 \n",
            "                                                                 \n",
            " conv2d_5 (Conv2D)           (None, 32, 32, 256)       590080    \n",
            "                                                                 \n",
            " activation_5 (Activation)   (None, 32, 32, 256)       0         \n",
            "                                                                 \n",
            " batch_normalization_5 (Batc  (None, 32, 32, 256)      1024      \n",
            " hNormalization)                                                 \n",
            "                                                                 \n",
            " conv2d_6 (Conv2D)           (None, 32, 32, 256)       590080    \n",
            "                                                                 \n",
            " activation_6 (Activation)   (None, 32, 32, 256)       0         \n",
            "                                                                 \n",
            " max_pooling2d_2 (MaxPooling  (None, 16, 16, 256)      0         \n",
            " 2D)                                                             \n",
            "                                                                 \n",
            " batch_normalization_6 (Batc  (None, 16, 16, 256)      1024      \n",
            " hNormalization)                                                 \n",
            "                                                                 \n",
            " conv2d_7 (Conv2D)           (None, 16, 16, 512)       1180160   \n",
            "                                                                 \n",
            " activation_7 (Activation)   (None, 16, 16, 512)       0         \n",
            "                                                                 \n",
            " batch_normalization_7 (Batc  (None, 16, 16, 512)      2048      \n",
            " hNormalization)                                                 \n",
            "                                                                 \n",
            " conv2d_8 (Conv2D)           (None, 16, 16, 512)       2359808   \n",
            "                                                                 \n",
            " activation_8 (Activation)   (None, 16, 16, 512)       0         \n",
            "                                                                 \n",
            " batch_normalization_8 (Batc  (None, 16, 16, 512)      2048      \n",
            " hNormalization)                                                 \n",
            "                                                                 \n",
            " conv2d_9 (Conv2D)           (None, 16, 16, 512)       2359808   \n",
            "                                                                 \n",
            " activation_9 (Activation)   (None, 16, 16, 512)       0         \n",
            "                                                                 \n",
            " max_pooling2d_3 (MaxPooling  (None, 8, 8, 512)        0         \n",
            " 2D)                                                             \n",
            "                                                                 \n",
            " batch_normalization_9 (Batc  (None, 8, 8, 512)        2048      \n",
            " hNormalization)                                                 \n",
            "                                                                 \n",
            " conv2d_10 (Conv2D)          (None, 8, 8, 512)         2359808   \n",
            "                                                                 \n",
            " activation_10 (Activation)  (None, 8, 8, 512)         0         \n",
            "                                                                 \n",
            " batch_normalization_10 (Bat  (None, 8, 8, 512)        2048      \n",
            " chNormalization)                                                \n",
            "                                                                 \n",
            " conv2d_11 (Conv2D)          (None, 8, 8, 512)         2359808   \n",
            "                                                                 \n",
            " activation_11 (Activation)  (None, 8, 8, 512)         0         \n",
            "                                                                 \n",
            " batch_normalization_11 (Bat  (None, 8, 8, 512)        2048      \n",
            " chNormalization)                                                \n",
            "                                                                 \n",
            " conv2d_12 (Conv2D)          (None, 8, 8, 512)         2359808   \n",
            "                                                                 \n",
            " activation_12 (Activation)  (None, 8, 8, 512)         0         \n",
            "                                                                 \n",
            " max_pooling2d_4 (MaxPooling  (None, 4, 4, 512)        0         \n",
            " 2D)                                                             \n",
            "                                                                 \n",
            " batch_normalization_12 (Bat  (None, 4, 4, 512)        2048      \n",
            " chNormalization)                                                \n",
            "                                                                 \n",
            " flatten (Flatten)           (None, 8192)              0         \n",
            "                                                                 \n",
            " dense (Dense)               (None, 4096)              33558528  \n",
            "                                                                 \n",
            " activation_13 (Activation)  (None, 4096)              0         \n",
            "                                                                 \n",
            " batch_normalization_13 (Bat  (None, 4096)             16384     \n",
            " chNormalization)                                                \n",
            "                                                                 \n",
            " dropout (Dropout)           (None, 4096)              0         \n",
            "                                                                 \n",
            " dense_1 (Dense)             (None, 4096)              16781312  \n",
            "                                                                 \n",
            " activation_14 (Activation)  (None, 4096)              0         \n"
          ]
        },
        {
          "output_type": "stream",
          "name": "stderr",
          "text": [
            "/usr/local/lib/python3.7/dist-packages/keras/optimizer_v2/gradient_descent.py:102: UserWarning: The `lr` argument is deprecated, use `learning_rate` instead.\n",
            "  super(SGD, self).__init__(name, **kwargs)\n"
          ]
        },
        {
          "output_type": "stream",
          "name": "stdout",
          "text": [
            "                                                                 \n",
            " batch_normalization_14 (Bat  (None, 4096)             16384     \n",
            " chNormalization)                                                \n",
            "                                                                 \n",
            " dropout_1 (Dropout)         (None, 4096)              0         \n",
            "                                                                 \n",
            " dense_2 (Dense)             (None, 1000)              4097000   \n",
            "                                                                 \n",
            " activation_15 (Activation)  (None, 1000)              0         \n",
            "                                                                 \n",
            " batch_normalization_15 (Bat  (None, 1000)             4000      \n",
            " chNormalization)                                                \n",
            "                                                                 \n",
            " dropout_2 (Dropout)         (None, 1000)              0         \n",
            "                                                                 \n",
            " dense_3 (Dense)             (None, 2)                 2002      \n",
            "                                                                 \n",
            "=================================================================\n",
            "Total params: 69,206,042\n",
            "Trainable params: 69,179,210\n",
            "Non-trainable params: 26,832\n",
            "_________________________________________________________________\n"
          ]
        }
      ]
    },
    {
      "cell_type": "code",
      "source": [
        "#training data\n",
        "H = vgg16.fit(trainX, trainY, validation_data=(testX, testY), epochs=70, batch_size=16)"
      ],
      "metadata": {
        "id": "JOp0TzHxZYLf",
        "colab": {
          "base_uri": "https://localhost:8080/"
        },
        "outputId": "20b89837-5ee2-4f83-cd44-394058d8eb1b"
      },
      "execution_count": 12,
      "outputs": [
        {
          "output_type": "stream",
          "name": "stdout",
          "text": [
            "Epoch 1/70\n",
            "70/70 [==============================] - 24s 131ms/step - loss: 0.8253 - accuracy: 0.6661 - val_loss: 0.8667 - val_accuracy: 0.4964\n",
            "Epoch 2/70\n",
            "70/70 [==============================] - 7s 95ms/step - loss: 0.5366 - accuracy: 0.8018 - val_loss: 1.7461 - val_accuracy: 0.4964\n",
            "Epoch 3/70\n",
            "70/70 [==============================] - 7s 95ms/step - loss: 0.4168 - accuracy: 0.8446 - val_loss: 2.3674 - val_accuracy: 0.4964\n",
            "Epoch 4/70\n",
            "70/70 [==============================] - 7s 96ms/step - loss: 0.3334 - accuracy: 0.8813 - val_loss: 2.1342 - val_accuracy: 0.4964\n",
            "Epoch 5/70\n",
            "70/70 [==============================] - 7s 98ms/step - loss: 0.3310 - accuracy: 0.8804 - val_loss: 1.4025 - val_accuracy: 0.5536\n",
            "Epoch 6/70\n",
            "70/70 [==============================] - 7s 96ms/step - loss: 0.3087 - accuracy: 0.8804 - val_loss: 1.1967 - val_accuracy: 0.6321\n",
            "Epoch 7/70\n",
            "70/70 [==============================] - 7s 97ms/step - loss: 0.2142 - accuracy: 0.9196 - val_loss: 0.4891 - val_accuracy: 0.8071\n",
            "Epoch 8/70\n",
            "70/70 [==============================] - 7s 97ms/step - loss: 0.2309 - accuracy: 0.9134 - val_loss: 0.1461 - val_accuracy: 0.9286\n",
            "Epoch 9/70\n",
            "70/70 [==============================] - 7s 97ms/step - loss: 0.2550 - accuracy: 0.9134 - val_loss: 0.1138 - val_accuracy: 0.9500\n",
            "Epoch 10/70\n",
            "70/70 [==============================] - 7s 97ms/step - loss: 0.2609 - accuracy: 0.9062 - val_loss: 0.0729 - val_accuracy: 0.9643\n",
            "Epoch 11/70\n",
            "70/70 [==============================] - 7s 98ms/step - loss: 0.2134 - accuracy: 0.9259 - val_loss: 0.0859 - val_accuracy: 0.9643\n",
            "Epoch 12/70\n",
            "70/70 [==============================] - 7s 98ms/step - loss: 0.2473 - accuracy: 0.9143 - val_loss: 0.0764 - val_accuracy: 0.9714\n",
            "Epoch 13/70\n",
            "70/70 [==============================] - 7s 98ms/step - loss: 0.1847 - accuracy: 0.9366 - val_loss: 0.0898 - val_accuracy: 0.9750\n",
            "Epoch 14/70\n",
            "70/70 [==============================] - 7s 98ms/step - loss: 0.2070 - accuracy: 0.9250 - val_loss: 0.0689 - val_accuracy: 0.9679\n",
            "Epoch 15/70\n",
            "70/70 [==============================] - 7s 99ms/step - loss: 0.1932 - accuracy: 0.9268 - val_loss: 0.0652 - val_accuracy: 0.9679\n",
            "Epoch 16/70\n",
            "70/70 [==============================] - 7s 99ms/step - loss: 0.1655 - accuracy: 0.9393 - val_loss: 0.0489 - val_accuracy: 0.9857\n",
            "Epoch 17/70\n",
            "70/70 [==============================] - 7s 99ms/step - loss: 0.1442 - accuracy: 0.9491 - val_loss: 0.0369 - val_accuracy: 0.9857\n",
            "Epoch 18/70\n",
            "70/70 [==============================] - 7s 102ms/step - loss: 0.1560 - accuracy: 0.9482 - val_loss: 0.0446 - val_accuracy: 0.9857\n",
            "Epoch 19/70\n",
            "70/70 [==============================] - 7s 100ms/step - loss: 0.1410 - accuracy: 0.9500 - val_loss: 0.0472 - val_accuracy: 0.9786\n",
            "Epoch 20/70\n",
            "70/70 [==============================] - 7s 99ms/step - loss: 0.1701 - accuracy: 0.9366 - val_loss: 0.0467 - val_accuracy: 0.9857\n",
            "Epoch 21/70\n",
            "70/70 [==============================] - 7s 100ms/step - loss: 0.1214 - accuracy: 0.9536 - val_loss: 0.0601 - val_accuracy: 0.9750\n",
            "Epoch 22/70\n",
            "70/70 [==============================] - 7s 100ms/step - loss: 0.1416 - accuracy: 0.9500 - val_loss: 0.0691 - val_accuracy: 0.9786\n",
            "Epoch 23/70\n",
            "70/70 [==============================] - 7s 100ms/step - loss: 0.1187 - accuracy: 0.9598 - val_loss: 0.0814 - val_accuracy: 0.9679\n",
            "Epoch 24/70\n",
            "70/70 [==============================] - 7s 101ms/step - loss: 0.1745 - accuracy: 0.9357 - val_loss: 0.0496 - val_accuracy: 0.9821\n",
            "Epoch 25/70\n",
            "70/70 [==============================] - 7s 100ms/step - loss: 0.1246 - accuracy: 0.9598 - val_loss: 0.0478 - val_accuracy: 0.9750\n",
            "Epoch 26/70\n",
            "70/70 [==============================] - 7s 100ms/step - loss: 0.1287 - accuracy: 0.9554 - val_loss: 0.0454 - val_accuracy: 0.9821\n",
            "Epoch 27/70\n",
            "70/70 [==============================] - 7s 100ms/step - loss: 0.1213 - accuracy: 0.9625 - val_loss: 0.0608 - val_accuracy: 0.9786\n",
            "Epoch 28/70\n",
            "70/70 [==============================] - 7s 100ms/step - loss: 0.1114 - accuracy: 0.9571 - val_loss: 0.0530 - val_accuracy: 0.9857\n",
            "Epoch 29/70\n",
            "70/70 [==============================] - 7s 100ms/step - loss: 0.0992 - accuracy: 0.9679 - val_loss: 0.0571 - val_accuracy: 0.9857\n",
            "Epoch 30/70\n",
            "70/70 [==============================] - 7s 100ms/step - loss: 0.0816 - accuracy: 0.9723 - val_loss: 0.0618 - val_accuracy: 0.9750\n",
            "Epoch 31/70\n",
            "70/70 [==============================] - 7s 100ms/step - loss: 0.1200 - accuracy: 0.9625 - val_loss: 0.0689 - val_accuracy: 0.9750\n",
            "Epoch 32/70\n",
            "70/70 [==============================] - 7s 100ms/step - loss: 0.0835 - accuracy: 0.9688 - val_loss: 0.0533 - val_accuracy: 0.9821\n",
            "Epoch 33/70\n",
            "70/70 [==============================] - 7s 101ms/step - loss: 0.1265 - accuracy: 0.9536 - val_loss: 0.0667 - val_accuracy: 0.9679\n",
            "Epoch 34/70\n",
            "70/70 [==============================] - 7s 101ms/step - loss: 0.0905 - accuracy: 0.9705 - val_loss: 0.0651 - val_accuracy: 0.9786\n",
            "Epoch 35/70\n",
            "70/70 [==============================] - 7s 101ms/step - loss: 0.0849 - accuracy: 0.9634 - val_loss: 0.0566 - val_accuracy: 0.9857\n",
            "Epoch 36/70\n",
            "70/70 [==============================] - 7s 101ms/step - loss: 0.0707 - accuracy: 0.9741 - val_loss: 0.0455 - val_accuracy: 0.9893\n",
            "Epoch 37/70\n",
            "70/70 [==============================] - 7s 101ms/step - loss: 0.1000 - accuracy: 0.9661 - val_loss: 0.0401 - val_accuracy: 0.9893\n",
            "Epoch 38/70\n",
            "70/70 [==============================] - 7s 103ms/step - loss: 0.0688 - accuracy: 0.9750 - val_loss: 0.0453 - val_accuracy: 0.9821\n",
            "Epoch 39/70\n",
            "70/70 [==============================] - 7s 100ms/step - loss: 0.1035 - accuracy: 0.9625 - val_loss: 0.0450 - val_accuracy: 0.9893\n",
            "Epoch 40/70\n",
            "70/70 [==============================] - 7s 100ms/step - loss: 0.1045 - accuracy: 0.9679 - val_loss: 0.0460 - val_accuracy: 0.9786\n",
            "Epoch 41/70\n",
            "70/70 [==============================] - 7s 101ms/step - loss: 0.0621 - accuracy: 0.9795 - val_loss: 0.0396 - val_accuracy: 0.9929\n",
            "Epoch 42/70\n",
            "70/70 [==============================] - 7s 101ms/step - loss: 0.0632 - accuracy: 0.9786 - val_loss: 0.0597 - val_accuracy: 0.9821\n",
            "Epoch 43/70\n",
            "70/70 [==============================] - 7s 102ms/step - loss: 0.1100 - accuracy: 0.9670 - val_loss: 0.0366 - val_accuracy: 0.9893\n",
            "Epoch 44/70\n",
            "70/70 [==============================] - 7s 101ms/step - loss: 0.0630 - accuracy: 0.9777 - val_loss: 0.0444 - val_accuracy: 0.9857\n",
            "Epoch 45/70\n",
            "70/70 [==============================] - 7s 101ms/step - loss: 0.0537 - accuracy: 0.9839 - val_loss: 0.0389 - val_accuracy: 0.9929\n",
            "Epoch 46/70\n",
            "70/70 [==============================] - 7s 102ms/step - loss: 0.0736 - accuracy: 0.9759 - val_loss: 0.0480 - val_accuracy: 0.9857\n",
            "Epoch 47/70\n",
            "70/70 [==============================] - 7s 101ms/step - loss: 0.0825 - accuracy: 0.9714 - val_loss: 0.0348 - val_accuracy: 0.9929\n",
            "Epoch 48/70\n",
            "70/70 [==============================] - 7s 101ms/step - loss: 0.0580 - accuracy: 0.9795 - val_loss: 0.0503 - val_accuracy: 0.9821\n",
            "Epoch 49/70\n",
            "70/70 [==============================] - 7s 101ms/step - loss: 0.0836 - accuracy: 0.9679 - val_loss: 0.0496 - val_accuracy: 0.9821\n",
            "Epoch 50/70\n",
            "70/70 [==============================] - 7s 101ms/step - loss: 0.0559 - accuracy: 0.9821 - val_loss: 0.0458 - val_accuracy: 0.9857\n",
            "Epoch 51/70\n",
            "70/70 [==============================] - 7s 101ms/step - loss: 0.0640 - accuracy: 0.9759 - val_loss: 0.0363 - val_accuracy: 0.9893\n",
            "Epoch 52/70\n",
            "70/70 [==============================] - 7s 101ms/step - loss: 0.0566 - accuracy: 0.9812 - val_loss: 0.0427 - val_accuracy: 0.9893\n",
            "Epoch 53/70\n",
            "70/70 [==============================] - 7s 101ms/step - loss: 0.0441 - accuracy: 0.9857 - val_loss: 0.0384 - val_accuracy: 0.9929\n",
            "Epoch 54/70\n",
            "70/70 [==============================] - 7s 101ms/step - loss: 0.0517 - accuracy: 0.9812 - val_loss: 0.0411 - val_accuracy: 0.9893\n",
            "Epoch 55/70\n",
            "70/70 [==============================] - 7s 101ms/step - loss: 0.0786 - accuracy: 0.9714 - val_loss: 0.0400 - val_accuracy: 0.9929\n",
            "Epoch 56/70\n",
            "70/70 [==============================] - 7s 101ms/step - loss: 0.0393 - accuracy: 0.9857 - val_loss: 0.0327 - val_accuracy: 0.9929\n",
            "Epoch 57/70\n",
            "70/70 [==============================] - 7s 101ms/step - loss: 0.0673 - accuracy: 0.9777 - val_loss: 0.0333 - val_accuracy: 0.9893\n",
            "Epoch 58/70\n",
            "70/70 [==============================] - 7s 101ms/step - loss: 0.0733 - accuracy: 0.9723 - val_loss: 0.0287 - val_accuracy: 0.9929\n",
            "Epoch 59/70\n",
            "70/70 [==============================] - 7s 101ms/step - loss: 0.0493 - accuracy: 0.9830 - val_loss: 0.0404 - val_accuracy: 0.9929\n",
            "Epoch 60/70\n",
            "70/70 [==============================] - 7s 101ms/step - loss: 0.0388 - accuracy: 0.9866 - val_loss: 0.0697 - val_accuracy: 0.9857\n",
            "Epoch 61/70\n",
            "70/70 [==============================] - 7s 101ms/step - loss: 0.0455 - accuracy: 0.9830 - val_loss: 0.0353 - val_accuracy: 0.9929\n",
            "Epoch 62/70\n",
            "70/70 [==============================] - 7s 102ms/step - loss: 0.0509 - accuracy: 0.9839 - val_loss: 0.0463 - val_accuracy: 0.9929\n",
            "Epoch 63/70\n",
            "70/70 [==============================] - 7s 101ms/step - loss: 0.0564 - accuracy: 0.9795 - val_loss: 0.0331 - val_accuracy: 0.9964\n",
            "Epoch 64/70\n",
            "70/70 [==============================] - 7s 101ms/step - loss: 0.0411 - accuracy: 0.9866 - val_loss: 0.0315 - val_accuracy: 0.9964\n",
            "Epoch 65/70\n",
            "70/70 [==============================] - 7s 101ms/step - loss: 0.0542 - accuracy: 0.9812 - val_loss: 0.0305 - val_accuracy: 0.9964\n",
            "Epoch 66/70\n",
            "70/70 [==============================] - 7s 101ms/step - loss: 0.0357 - accuracy: 0.9893 - val_loss: 0.0278 - val_accuracy: 0.9929\n",
            "Epoch 67/70\n",
            "70/70 [==============================] - 7s 101ms/step - loss: 0.0536 - accuracy: 0.9786 - val_loss: 0.0437 - val_accuracy: 0.9893\n",
            "Epoch 68/70\n",
            "70/70 [==============================] - 7s 101ms/step - loss: 0.0488 - accuracy: 0.9804 - val_loss: 0.0549 - val_accuracy: 0.9857\n",
            "Epoch 69/70\n",
            "70/70 [==============================] - 7s 102ms/step - loss: 0.0312 - accuracy: 0.9893 - val_loss: 0.0331 - val_accuracy: 0.9964\n",
            "Epoch 70/70\n",
            "70/70 [==============================] - 7s 101ms/step - loss: 0.0408 - accuracy: 0.9893 - val_loss: 0.0416 - val_accuracy: 0.9893\n"
          ]
        }
      ]
    },
    {
      "cell_type": "code",
      "source": [
        "print(\"[INFO] evaluating network...\")\n",
        "predictions = vgg16.predict(testX, batch_size=16)\n",
        "pred=predictions.argmax(axis=1)\n",
        "testY_argm=testY.argmax(axis=1)\n"
      ],
      "metadata": {
        "id": "qjoEfHoWsr9H",
        "colab": {
          "base_uri": "https://localhost:8080/"
        },
        "outputId": "b10a2065-55ea-43cb-8d57-ca018e3faacd"
      },
      "execution_count": 13,
      "outputs": [
        {
          "output_type": "stream",
          "name": "stdout",
          "text": [
            "[INFO] evaluating network...\n"
          ]
        }
      ]
    },
    {
      "cell_type": "code",
      "source": [
        "print(classification_report(testY_argm,pred,target_names=lb.classes_))"
      ],
      "metadata": {
        "id": "Po9wqNIMts7s",
        "colab": {
          "base_uri": "https://localhost:8080/"
        },
        "outputId": "53a597aa-cd91-4111-98e9-c933dd158c38"
      },
      "execution_count": 14,
      "outputs": [
        {
          "output_type": "stream",
          "name": "stdout",
          "text": [
            "              precision    recall  f1-score   support\n",
            "\n",
            "      Normal       0.99      0.99      0.99       139\n",
            "Tuberculosis       0.99      0.99      0.99       141\n",
            "\n",
            "    accuracy                           0.99       280\n",
            "   macro avg       0.99      0.99      0.99       280\n",
            "weighted avg       0.99      0.99      0.99       280\n",
            "\n"
          ]
        }
      ]
    },
    {
      "cell_type": "code",
      "source": [
        "test_score = vgg16.evaluate(testX, testY) \n",
        "print(\"Test Loss {:.4f}, accuracy {:.2f}%\".format(test_score[0], test_score[1] * 100))"
      ],
      "metadata": {
        "id": "5NSJXylrt1ND",
        "colab": {
          "base_uri": "https://localhost:8080/"
        },
        "outputId": "b2415e57-4e23-4aad-d93c-94bf1a22d3c8"
      },
      "execution_count": 15,
      "outputs": [
        {
          "output_type": "stream",
          "name": "stdout",
          "text": [
            "9/9 [==============================] - 5s 266ms/step - loss: 0.0416 - accuracy: 0.9893\n",
            "Test Loss 0.0416, accuracy 98.93%\n"
          ]
        }
      ]
    },
    {
      "cell_type": "code",
      "source": [
        "from sklearn.metrics import confusion_matrix\n",
        "import itertools\n",
        "\n",
        "def plot_confusion_matrix(cm, classes, normalize=False, title='Confusion matrix', cmap='Blues'):\n",
        "  if normalize:\n",
        "     cm = cm.astype('float') / cm.sum(axis=1)[:, np.newaxis]\n",
        "     print(\"Normalized confusion matrix\")\n",
        "  else:\n",
        "     print('Confusion matrix, without normalization')\n",
        "  print(cm)\n",
        "  plt.imshow(cm, interpolation='nearest', cmap=cmap)\n",
        "  plt.title(title)\n",
        "  plt.colorbar()\n",
        "  tick_marks = np.arange(len(classes))\n",
        "  plt.xticks(tick_marks, classes, rotation=45)\n",
        "  plt.yticks(tick_marks, classes)\n",
        "  fmt = '.2f' if normalize else 'd'\n",
        "  thresh = cm.max() / 2.\n",
        "  for i, j in itertools.product(range(cm.shape[0]), range(cm.shape[1])):\n",
        "      plt.text(j, i, format(cm[i, j], fmt), horizontalalignment=\"center\", color=\"white\" if cm[i, j] > thresh else \"black\")\n",
        "  plt.ylabel('True label')\n",
        "  plt.xlabel('Predicted label')\n",
        "  plt.tight_layout()"
      ],
      "metadata": {
        "id": "ZS-FXHa6uI6H"
      },
      "execution_count": 16,
      "outputs": []
    },
    {
      "cell_type": "code",
      "source": [
        "cnf_matrix = confusion_matrix(testY_argm, pred)\n",
        "np.set_printoptions(precision=2)\n",
        "\n",
        "# Plot non/normalized confusion matrix\n",
        "plt.figure()\n",
        "plot_confusion_matrix(cnf_matrix,\n",
        "classes=lb.classes_, normalize=True)\n",
        "plt.show()\n",
        "\n",
        "plt.figure()\n",
        "plot_confusion_matrix(cnf_matrix,\n",
        "classes=lb.classes_, normalize=False)\n",
        "plt.show()\n",
        "\n",
        "f, ax = plt.subplots()\n",
        "ax.plot([None] + H.history['accuracy'], 'o-')\n",
        "ax.plot([None] + H.history['val_accuracy'], 'x-')\n",
        "\n",
        "ax.legend(['Train acc', 'Validation acc'], loc = 0)\n",
        "ax.set_title('Training/Validation acc per Epoch')\n",
        "ax.set_xlabel('Epoch')\n",
        "ax.set_ylabel('acc')\n",
        "plt.grid(True)\n",
        "\n",
        "f, ax = plt.subplots()\n",
        "ax.plot([None] + H.history['loss'], 'o-')\n",
        "ax.plot([None] + H.history['val_loss'], 'x-')\n",
        "ax.legend(['Train Loss', 'Validation Loss'], loc = 0)\n",
        "ax.set_title('Training/Validation Loss per Epoch')\n",
        "ax.set_xlabel('Epoch')\n",
        "ax.set_ylabel('loss')\n",
        "plt.grid(True)"
      ],
      "metadata": {
        "id": "eiYstz9xuRLx",
        "colab": {
          "base_uri": "https://localhost:8080/",
          "height": 1000
        },
        "outputId": "9b9e0425-2332-486c-f7ce-e38741777487"
      },
      "execution_count": 17,
      "outputs": [
        {
          "output_type": "stream",
          "name": "stdout",
          "text": [
            "Normalized confusion matrix\n",
            "[[0.99 0.01]\n",
            " [0.01 0.99]]\n"
          ]
        },
        {
          "output_type": "display_data",
          "data": {
            "text/plain": [
              "<Figure size 432x288 with 2 Axes>"
            ],
            "image/png": "[encoded data removed]"
          },
          "metadata": {
            "needs_background": "light"
          }
        },
        {
          "output_type": "stream",
          "name": "stdout",
          "text": [
            "Confusion matrix, without normalization\n",
            "[[138   1]\n",
            " [  2 139]]\n"
          ]
        },
        {
          "output_type": "display_data",
          "data": {
            "text/plain": [
              "<Figure size 432x288 with 2 Axes>"
            ],
            "image/png": "[encoded data removed]"
          },
          "metadata": {
            "needs_background": "light"
          }
        },
        {
          "output_type": "display_data",
          "data": {
            "text/plain": [
              "<Figure size 432x288 with 1 Axes>"
            ],
            "image/png": "[encoded data removed]"
          },
          "metadata": {
            "needs_background": "light"
          }
        },
        {
          "output_type": "display_data",
          "data": {
            "text/plain": [
              "<Figure size 432x288 with 1 Axes>"
            ],
            "image/png": "[encoded data removed]"
          },
          "metadata": {
            "needs_background": "light"
          }
        }
      ]
    }
  ]
}