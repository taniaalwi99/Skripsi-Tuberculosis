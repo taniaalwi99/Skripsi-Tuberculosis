{
  "nbformat": 4,
  "nbformat_minor": 0,
  "metadata": {
    "colab": {
      "name": "Tuberculosis_VGG-16.ipynb",
      "provenance": [],
      "collapsed_sections": [],
      "include_colab_link": true
    },
    "kernelspec": {
      "name": "python3",
      "display_name": "Python 3"
    },
    "language_info": {
      "name": "python"
    },
    "accelerator": "GPU",
    "gpuClass": "standard"
  },
  "cells": [
    {
      "cell_type": "markdown",
      "metadata": {
        "id": "view-in-github",
        "colab_type": "text"
      },
      "source": [
        "<a href=\"https://colab.research.google.com/github/taniaalwi99/Skripsi-Tuberculosis/blob/main/Tuberculosis_32_SGD_0.001_70_16.ipynb\" target=\"_parent\"><img src=\"https://colab.research.google.com/assets/colab-badge.svg\" alt=\"Open In Colab\"/></a>"
      ]
    },
    {
      "cell_type": "code",
      "execution_count": 1,
      "metadata": {
        "colab": {
          "base_uri": "https://localhost:8080/"
        },
        "id": "2_RYo7hrXaC5",
        "outputId": "e861c092-cb0b-4898-9294-424df64483fb"
      },
      "outputs": [
        {
          "output_type": "stream",
          "name": "stdout",
          "text": [
            "Mounted at /content/drive\n"
          ]
        }
      ],
      "source": [
        "from google.colab import drive\n",
        "drive.mount('/content/drive')"
      ]
    },
    {
      "cell_type": "code",
      "source": [
        "cd /content/drive/My Drive"
      ],
      "metadata": {
        "colab": {
          "base_uri": "https://localhost:8080/"
        },
        "id": "G4aisxOFX3KH",
        "outputId": "610c5c8a-a71c-480b-f5c5-23b7f7955ecc"
      },
      "execution_count": 2,
      "outputs": [
        {
          "output_type": "stream",
          "name": "stdout",
          "text": [
            "/content/drive/My Drive\n"
          ]
        }
      ]
    },
    {
      "cell_type": "code",
      "source": [
        "ls"
      ],
      "metadata": {
        "colab": {
          "base_uri": "https://localhost:8080/"
        },
        "id": "e_oGUrADX8O_",
        "outputId": "203b9414-a792-48bb-8765-b8ca548c8975"
      },
      "execution_count": 3,
      "outputs": [
        {
          "output_type": "stream",
          "name": "stdout",
          "text": [
            "\u001b[0m\u001b[01;34m'Colab Notebooks'\u001b[0m/  \u001b[01;34m'Dataset Gray'\u001b[0m/  \u001b[01;34m'Tania Alwi'\u001b[0m/\n"
          ]
        }
      ]
    },
    {
      "cell_type": "code",
      "source": [
        "from keras.models import Model\n",
        "from keras.models import load_model\n",
        "from keras.models import Sequential\n",
        "from keras.layers.convolutional import Convolution2D\n",
        "from keras.layers.convolutional import MaxPooling2D\n",
        "from keras.layers.convolutional import ZeroPadding2D\n",
        "from keras.layers.core import Activation\n",
        "from keras.layers.core import Flatten\n",
        "from keras.layers.core import Dense\n",
        "from keras.layers.core import Dropout\n",
        "from keras.layers import BatchNormalization\n",
        "from keras import regularizers\n",
        "from keras.preprocessing.image import ImageDataGenerator\n",
        "from tensorflow.keras.optimizers import RMSprop, Adam, SGD\n",
        "from sklearn.preprocessing import LabelBinarizer\n",
        "from sklearn.model_selection import train_test_split\n",
        "from sklearn.metrics import classification_report\n",
        "from PIL import Image\n",
        "from matplotlib import pyplot as plt\n",
        "from imutils import paths\n",
        "import numpy as np\n",
        "import os"
      ],
      "metadata": {
        "id": "t95OxlI7X_OF"
      },
      "execution_count": 4,
      "outputs": []
    },
    {
      "cell_type": "code",
      "source": [
        "print(\"[INFO] loading images...\")\n",
        "imagePaths = paths.list_images(\"Dataset Gray\")\n",
        "data = []\n",
        "labels = []"
      ],
      "metadata": {
        "colab": {
          "base_uri": "https://localhost:8080/"
        },
        "id": "jvn693i-YDZ8",
        "outputId": "b3476db8-8184-4b0c-a354-dabd28645e98"
      },
      "execution_count": 5,
      "outputs": [
        {
          "output_type": "stream",
          "name": "stdout",
          "text": [
            "[INFO] loading images...\n"
          ]
        }
      ]
    },
    {
      "cell_type": "code",
      "source": [
        "for imagePaths in imagePaths:\n",
        "    a = Image.open(imagePaths)\n",
        "    image = np.array(a.resize((32,32))) / 255.0\n",
        "    data.append(image)\n",
        "    \n",
        "    label = imagePaths.split(os.path.sep) [-2]\n",
        "    labels.append(label)"
      ],
      "metadata": {
        "id": "3XLuWAZsYLfK"
      },
      "execution_count": 6,
      "outputs": []
    },
    {
      "cell_type": "code",
      "source": [
        "from sklearn.preprocessing import LabelBinarizer\n",
        "import numpy as np\n",
        "\n",
        "class MyLabelBinarizer(LabelBinarizer):\n",
        "    def transform(self, label):\n",
        "      nilaiy = super().transform(label)\n",
        "      if self.y_type_== 'binary':\n",
        "        return np.hstack((nilaiy, 1-nilaiy))\n",
        "      else:\n",
        "        return nilaiy\n",
        "    def inverse_transform(self, nilaiy, threshold=None):\n",
        "      if self.y_type_ == 'binary':\n",
        "          return super().inverse_transform(nilaiy[:, 0], threshold)\n",
        "      else:\n",
        "          return super().inverse_transform(nilaiy, threshold)\n",
        "\n",
        "      \n",
        "\n",
        "lb = MyLabelBinarizer()\n",
        "labels = lb.fit_transform(labels)\n",
        "print(labels)"
      ],
      "metadata": {
        "colab": {
          "base_uri": "https://localhost:8080/"
        },
        "id": "gnjyPDi_Yyrn",
        "outputId": "ff9697a6-91bf-473d-f489-ba5eedc3b469"
      },
      "execution_count": 7,
      "outputs": [
        {
          "output_type": "stream",
          "name": "stdout",
          "text": [
            "[[0 1]\n",
            " [0 1]\n",
            " [0 1]\n",
            " ...\n",
            " [1 0]\n",
            " [1 0]\n",
            " [1 0]]\n"
          ]
        }
      ]
    },
    {
      "cell_type": "code",
      "source": [
        "(trainX,testX, trainY, testY) = train_test_split(np.array(data),np.array(labels), test_size=0.20)\n",
        "print(trainX.shape)\n",
        "print(testX.shape)"
      ],
      "metadata": {
        "colab": {
          "base_uri": "https://localhost:8080/"
        },
        "id": "0V3CnlQtY1g2",
        "outputId": "52f9bd48-ea32-4f64-b079-30aef6e7530b"
      },
      "execution_count": 8,
      "outputs": [
        {
          "output_type": "stream",
          "name": "stdout",
          "text": [
            "(1120, 32, 32)\n",
            "(280, 32, 32)\n"
          ]
        }
      ]
    },
    {
      "cell_type": "code",
      "source": [
        "def vgg16(num_classes):\n",
        "\n",
        "    vgg16 = Sequential()\n",
        "\n",
        "    vgg16.add(Convolution2D(input_shape=(32,32,1),filters=64,kernel_size=(3,3),padding=\"same\"))\n",
        "    vgg16.add(Activation('relu'))\n",
        "    vgg16.add(BatchNormalization())\n",
        "    #layer1 32*32*64\n",
        "    vgg16.add(Convolution2D(filters=64,kernel_size=(3,3),padding=\"same\"))\n",
        "    vgg16.add(Activation('relu'))\n",
        "    vgg16.add(MaxPooling2D(pool_size=(2, 2),strides=(2,2)))\n",
        "    vgg16.add(BatchNormalization())\n",
        "    #layer2 16*16*64\n",
        "    vgg16.add(Convolution2D(filters=128, kernel_size=(3,3), padding=\"same\"))\n",
        "    vgg16.add(Activation('relu'))\n",
        "    vgg16.add(BatchNormalization())\n",
        "    #layer3 16*16*128\n",
        "    vgg16.add(Convolution2D(filters=128, kernel_size=(3,3), padding=\"same\",))\n",
        "    vgg16.add(Activation('relu'))\n",
        "    vgg16.add(MaxPooling2D(pool_size=(2,2),strides=(2,2)))\n",
        "    vgg16.add(BatchNormalization())\n",
        "    #layer4 8*8*128\n",
        "    vgg16.add(Convolution2D(filters=256, kernel_size=(3,3), padding=\"same\"))\n",
        "    vgg16.add(Activation('relu'))\n",
        "    vgg16.add(BatchNormalization())\n",
        "    #layer5 8*8*256\n",
        "    vgg16.add(Convolution2D(filters=256, kernel_size=(3,3), padding=\"same\"))\n",
        "    vgg16.add(Activation('relu'))\n",
        "    vgg16.add(BatchNormalization())\n",
        "    #layer6 8*8*256\n",
        "    vgg16.add(Convolution2D(filters=256, kernel_size=(3,3), padding=\"same\"))\n",
        "    vgg16.add(Activation('relu'))\n",
        "    vgg16.add(MaxPooling2D(pool_size=(2,2),strides=(2,2)))\n",
        "    vgg16.add(BatchNormalization())\n",
        "    #layer7 4*4*256\n",
        "    vgg16.add(Convolution2D(filters=512, kernel_size=(3,3), padding=\"same\"))\n",
        "    vgg16.add(Activation('relu'))\n",
        "    vgg16.add(BatchNormalization())\n",
        "    #layer8 4*4*512\n",
        "    vgg16.add(Convolution2D(filters=512, kernel_size=(3,3), padding=\"same\"))\n",
        "    vgg16.add(Activation('relu'))\n",
        "    vgg16.add(BatchNormalization())\n",
        "    #layer9 4*4*512\n",
        "    vgg16.add(Convolution2D(filters=512, kernel_size=(3,3), padding=\"same\"))\n",
        "    vgg16.add(Activation('relu'))\n",
        "    vgg16.add(MaxPooling2D(pool_size=(2,2),strides=(2,2)))\n",
        "    vgg16.add(BatchNormalization())\n",
        "    #layer10 2*2*512\n",
        "    vgg16.add(Convolution2D(filters=512, kernel_size=(3,3), padding=\"same\"))\n",
        "    vgg16.add(Activation('relu'))\n",
        "    vgg16.add(BatchNormalization())\n",
        "    #layer11 2*2*512\n",
        "    vgg16.add(Convolution2D(filters=512, kernel_size=(3,3), padding=\"same\"))  \n",
        "    vgg16.add(Activation('relu')) \n",
        "    vgg16.add(BatchNormalization())       \n",
        "    #layer12 2*2*512\n",
        "    vgg16.add(Convolution2D(filters=512, kernel_size=(3,3), padding=\"same\"))\n",
        "    vgg16.add(Activation('relu'))\n",
        "    vgg16.add(MaxPooling2D(pool_size=(2,2),strides=(2,2)))\n",
        "    vgg16.add(BatchNormalization())\n",
        "    #layer13 1*1*512\n",
        "    vgg16.add(Flatten())\n",
        "    vgg16.add(Dense(units=4096))\n",
        "    vgg16.add(Activation('relu')) \n",
        "    vgg16.add(BatchNormalization())\n",
        "    vgg16.add(Dropout(0.5))\n",
        "    #layer14 4096\n",
        "    vgg16.add(Dense(units=4096))\n",
        "    vgg16.add(Activation('relu')) \n",
        "    vgg16.add(BatchNormalization())\n",
        "    vgg16.add(Dropout(0.5))\n",
        "    #layer16 4096\n",
        "    vgg16.add(Dense(units=1000))\n",
        "    vgg16.add(Activation('relu'))\n",
        "    vgg16.add(BatchNormalization())\n",
        "    vgg16.add(Dropout(0.5)) \n",
        "    #layer16 1000\n",
        "    vgg16.add(Dense(2, activation=\"sigmoid\"))\n",
        "\n",
        "    return vgg16"
      ],
      "metadata": {
        "id": "WpeYjXzUZCZP"
      },
      "execution_count": 9,
      "outputs": []
    },
    {
      "cell_type": "code",
      "source": [
        "num_classes=2\n",
        "vgg16=vgg16(num_classes)\n",
        "vgg16.summary()"
      ],
      "metadata": {
        "colab": {
          "base_uri": "https://localhost:8080/"
        },
        "id": "rlT3OhVuZLUs",
        "outputId": "bd8120ba-5729-4fa1-87a5-e19a12d3bf55"
      },
      "execution_count": 10,
      "outputs": [
        {
          "output_type": "stream",
          "name": "stdout",
          "text": [
            "Model: \"sequential\"\n",
            "_________________________________________________________________\n",
            " Layer (type)                Output Shape              Param #   \n",
            "=================================================================\n",
            " conv2d (Conv2D)             (None, 32, 32, 64)        640       \n",
            "                                                                 \n",
            " activation (Activation)     (None, 32, 32, 64)        0         \n",
            "                                                                 \n",
            " batch_normalization (BatchN  (None, 32, 32, 64)       256       \n",
            " ormalization)                                                   \n",
            "                                                                 \n",
            " conv2d_1 (Conv2D)           (None, 32, 32, 64)        36928     \n",
            "                                                                 \n",
            " activation_1 (Activation)   (None, 32, 32, 64)        0         \n",
            "                                                                 \n",
            " max_pooling2d (MaxPooling2D  (None, 16, 16, 64)       0         \n",
            " )                                                               \n",
            "                                                                 \n",
            " batch_normalization_1 (Batc  (None, 16, 16, 64)       256       \n",
            " hNormalization)                                                 \n",
            "                                                                 \n",
            " conv2d_2 (Conv2D)           (None, 16, 16, 128)       73856     \n",
            "                                                                 \n",
            " activation_2 (Activation)   (None, 16, 16, 128)       0         \n",
            "                                                                 \n",
            " batch_normalization_2 (Batc  (None, 16, 16, 128)      512       \n",
            " hNormalization)                                                 \n",
            "                                                                 \n",
            " conv2d_3 (Conv2D)           (None, 16, 16, 128)       147584    \n",
            "                                                                 \n",
            " activation_3 (Activation)   (None, 16, 16, 128)       0         \n",
            "                                                                 \n",
            " max_pooling2d_1 (MaxPooling  (None, 8, 8, 128)        0         \n",
            " 2D)                                                             \n",
            "                                                                 \n",
            " batch_normalization_3 (Batc  (None, 8, 8, 128)        512       \n",
            " hNormalization)                                                 \n",
            "                                                                 \n",
            " conv2d_4 (Conv2D)           (None, 8, 8, 256)         295168    \n",
            "                                                                 \n",
            " activation_4 (Activation)   (None, 8, 8, 256)         0         \n",
            "                                                                 \n",
            " batch_normalization_4 (Batc  (None, 8, 8, 256)        1024      \n",
            " hNormalization)                                                 \n",
            "                                                                 \n",
            " conv2d_5 (Conv2D)           (None, 8, 8, 256)         590080    \n",
            "                                                                 \n",
            " activation_5 (Activation)   (None, 8, 8, 256)         0         \n",
            "                                                                 \n",
            " batch_normalization_5 (Batc  (None, 8, 8, 256)        1024      \n",
            " hNormalization)                                                 \n",
            "                                                                 \n",
            " conv2d_6 (Conv2D)           (None, 8, 8, 256)         590080    \n",
            "                                                                 \n",
            " activation_6 (Activation)   (None, 8, 8, 256)         0         \n",
            "                                                                 \n",
            " max_pooling2d_2 (MaxPooling  (None, 4, 4, 256)        0         \n",
            " 2D)                                                             \n",
            "                                                                 \n",
            " batch_normalization_6 (Batc  (None, 4, 4, 256)        1024      \n",
            " hNormalization)                                                 \n",
            "                                                                 \n",
            " conv2d_7 (Conv2D)           (None, 4, 4, 512)         1180160   \n",
            "                                                                 \n",
            " activation_7 (Activation)   (None, 4, 4, 512)         0         \n",
            "                                                                 \n",
            " batch_normalization_7 (Batc  (None, 4, 4, 512)        2048      \n",
            " hNormalization)                                                 \n",
            "                                                                 \n",
            " conv2d_8 (Conv2D)           (None, 4, 4, 512)         2359808   \n",
            "                                                                 \n",
            " activation_8 (Activation)   (None, 4, 4, 512)         0         \n",
            "                                                                 \n",
            " batch_normalization_8 (Batc  (None, 4, 4, 512)        2048      \n",
            " hNormalization)                                                 \n",
            "                                                                 \n",
            " conv2d_9 (Conv2D)           (None, 4, 4, 512)         2359808   \n",
            "                                                                 \n",
            " activation_9 (Activation)   (None, 4, 4, 512)         0         \n",
            "                                                                 \n",
            " max_pooling2d_3 (MaxPooling  (None, 2, 2, 512)        0         \n",
            " 2D)                                                             \n",
            "                                                                 \n",
            " batch_normalization_9 (Batc  (None, 2, 2, 512)        2048      \n",
            " hNormalization)                                                 \n",
            "                                                                 \n",
            " conv2d_10 (Conv2D)          (None, 2, 2, 512)         2359808   \n",
            "                                                                 \n",
            " activation_10 (Activation)  (None, 2, 2, 512)         0         \n",
            "                                                                 \n",
            " batch_normalization_10 (Bat  (None, 2, 2, 512)        2048      \n",
            " chNormalization)                                                \n",
            "                                                                 \n",
            " conv2d_11 (Conv2D)          (None, 2, 2, 512)         2359808   \n",
            "                                                                 \n",
            " activation_11 (Activation)  (None, 2, 2, 512)         0         \n",
            "                                                                 \n",
            " batch_normalization_11 (Bat  (None, 2, 2, 512)        2048      \n",
            " chNormalization)                                                \n",
            "                                                                 \n",
            " conv2d_12 (Conv2D)          (None, 2, 2, 512)         2359808   \n",
            "                                                                 \n",
            " activation_12 (Activation)  (None, 2, 2, 512)         0         \n",
            "                                                                 \n",
            " max_pooling2d_4 (MaxPooling  (None, 1, 1, 512)        0         \n",
            " 2D)                                                             \n",
            "                                                                 \n",
            " batch_normalization_12 (Bat  (None, 1, 1, 512)        2048      \n",
            " chNormalization)                                                \n",
            "                                                                 \n",
            " flatten (Flatten)           (None, 512)               0         \n",
            "                                                                 \n",
            " dense (Dense)               (None, 4096)              2101248   \n",
            "                                                                 \n",
            " activation_13 (Activation)  (None, 4096)              0         \n",
            "                                                                 \n",
            " batch_normalization_13 (Bat  (None, 4096)             16384     \n",
            " chNormalization)                                                \n",
            "                                                                 \n",
            " dropout (Dropout)           (None, 4096)              0         \n",
            "                                                                 \n",
            " dense_1 (Dense)             (None, 4096)              16781312  \n",
            "                                                                 \n",
            " activation_14 (Activation)  (None, 4096)              0         \n",
            "                                                                 \n",
            " batch_normalization_14 (Bat  (None, 4096)             16384     \n",
            " chNormalization)                                                \n",
            "                                                                 \n",
            " dropout_1 (Dropout)         (None, 4096)              0         \n",
            "                                                                 \n",
            " dense_2 (Dense)             (None, 1000)              4097000   \n",
            "                                                                 \n",
            " activation_15 (Activation)  (None, 1000)              0         \n",
            "                                                                 \n",
            " batch_normalization_15 (Bat  (None, 1000)             4000      \n",
            " chNormalization)                                                \n",
            "                                                                 \n",
            " dropout_2 (Dropout)         (None, 1000)              0         \n",
            "                                                                 \n",
            " dense_3 (Dense)             (None, 2)                 2002      \n",
            "                                                                 \n",
            "=================================================================\n",
            "Total params: 37,748,762\n",
            "Trainable params: 37,721,930\n",
            "Non-trainable params: 26,832\n",
            "_________________________________________________________________\n"
          ]
        }
      ]
    },
    {
      "cell_type": "code",
      "source": [
        "#setting hyperparameter, menggunakan Adam\n",
        "opt = SGD(lr=0.001)\n",
        "vgg16.compile(loss='binary_crossentropy', optimizer=opt, metrics=['accuracy'])\n",
        "vgg16.summary()"
      ],
      "metadata": {
        "colab": {
          "base_uri": "https://localhost:8080/"
        },
        "id": "eZ0TePWVZTx4",
        "outputId": "9e8bbe90-3678-4298-f5ea-b724284e3317"
      },
      "execution_count": 11,
      "outputs": [
        {
          "output_type": "stream",
          "name": "stdout",
          "text": [
            "Model: \"sequential\"\n",
            "_________________________________________________________________\n",
            " Layer (type)                Output Shape              Param #   \n",
            "=================================================================\n",
            " conv2d (Conv2D)             (None, 32, 32, 64)        640       \n",
            "                                                                 \n",
            " activation (Activation)     (None, 32, 32, 64)        0         \n",
            "                                                                 \n",
            " batch_normalization (BatchN  (None, 32, 32, 64)       256       \n",
            " ormalization)                                                   \n",
            "                                                                 \n",
            " conv2d_1 (Conv2D)           (None, 32, 32, 64)        36928     \n",
            "                                                                 \n",
            " activation_1 (Activation)   (None, 32, 32, 64)        0         \n",
            "                                                                 \n",
            " max_pooling2d (MaxPooling2D  (None, 16, 16, 64)       0         \n",
            " )                                                               \n",
            "                                                                 \n",
            " batch_normalization_1 (Batc  (None, 16, 16, 64)       256       \n",
            " hNormalization)                                                 \n",
            "                                                                 \n",
            " conv2d_2 (Conv2D)           (None, 16, 16, 128)       73856     \n",
            "                                                                 \n",
            " activation_2 (Activation)   (None, 16, 16, 128)       0         \n",
            "                                                                 \n",
            " batch_normalization_2 (Batc  (None, 16, 16, 128)      512       \n",
            " hNormalization)                                                 \n",
            "                                                                 \n",
            " conv2d_3 (Conv2D)           (None, 16, 16, 128)       147584    \n",
            "                                                                 \n",
            " activation_3 (Activation)   (None, 16, 16, 128)       0         \n",
            "                                                                 \n",
            " max_pooling2d_1 (MaxPooling  (None, 8, 8, 128)        0         \n",
            " 2D)                                                             \n",
            "                                                                 \n",
            " batch_normalization_3 (Batc  (None, 8, 8, 128)        512       \n",
            " hNormalization)                                                 \n",
            "                                                                 \n",
            " conv2d_4 (Conv2D)           (None, 8, 8, 256)         295168    \n",
            "                                                                 \n",
            " activation_4 (Activation)   (None, 8, 8, 256)         0         \n",
            "                                                                 \n",
            " batch_normalization_4 (Batc  (None, 8, 8, 256)        1024      \n",
            " hNormalization)                                                 \n",
            "                                                                 \n",
            " conv2d_5 (Conv2D)           (None, 8, 8, 256)         590080    \n",
            "                                                                 \n",
            " activation_5 (Activation)   (None, 8, 8, 256)         0         \n",
            "                                                                 \n",
            " batch_normalization_5 (Batc  (None, 8, 8, 256)        1024      \n",
            " hNormalization)                                                 \n",
            "                                                                 \n",
            " conv2d_6 (Conv2D)           (None, 8, 8, 256)         590080    \n",
            "                                                                 \n",
            " activation_6 (Activation)   (None, 8, 8, 256)         0         \n",
            "                                                                 \n",
            " max_pooling2d_2 (MaxPooling  (None, 4, 4, 256)        0         \n",
            " 2D)                                                             \n",
            "                                                                 \n",
            " batch_normalization_6 (Batc  (None, 4, 4, 256)        1024      \n",
            " hNormalization)                                                 \n",
            "                                                                 \n",
            " conv2d_7 (Conv2D)           (None, 4, 4, 512)         1180160   \n",
            "                                                                 \n",
            " activation_7 (Activation)   (None, 4, 4, 512)         0         \n",
            "                                                                 \n",
            " batch_normalization_7 (Batc  (None, 4, 4, 512)        2048      \n",
            " hNormalization)                                                 \n",
            "                                                                 \n",
            " conv2d_8 (Conv2D)           (None, 4, 4, 512)         2359808   \n",
            "                                                                 \n",
            " activation_8 (Activation)   (None, 4, 4, 512)         0         \n",
            "                                                                 \n",
            " batch_normalization_8 (Batc  (None, 4, 4, 512)        2048      \n",
            " hNormalization)                                                 \n",
            "                                                                 \n",
            " conv2d_9 (Conv2D)           (None, 4, 4, 512)         2359808   \n",
            "                                                                 \n",
            " activation_9 (Activation)   (None, 4, 4, 512)         0         \n",
            "                                                                 \n",
            " max_pooling2d_3 (MaxPooling  (None, 2, 2, 512)        0         \n",
            " 2D)                                                             \n",
            "                                                                 \n",
            " batch_normalization_9 (Batc  (None, 2, 2, 512)        2048      \n",
            " hNormalization)                                                 \n",
            "                                                                 \n",
            " conv2d_10 (Conv2D)          (None, 2, 2, 512)         2359808   \n",
            "                                                                 \n",
            " activation_10 (Activation)  (None, 2, 2, 512)         0         \n",
            "                                                                 \n",
            " batch_normalization_10 (Bat  (None, 2, 2, 512)        2048      \n",
            " chNormalization)                                                \n",
            "                                                                 \n",
            " conv2d_11 (Conv2D)          (None, 2, 2, 512)         2359808   \n",
            "                                                                 \n",
            " activation_11 (Activation)  (None, 2, 2, 512)         0         \n",
            "                                                                 \n",
            " batch_normalization_11 (Bat  (None, 2, 2, 512)        2048      \n",
            " chNormalization)                                                \n"
          ]
        },
        {
          "output_type": "stream",
          "name": "stderr",
          "text": [
            "/usr/local/lib/python3.7/dist-packages/keras/optimizer_v2/gradient_descent.py:102: UserWarning: The `lr` argument is deprecated, use `learning_rate` instead.\n",
            "  super(SGD, self).__init__(name, **kwargs)\n"
          ]
        },
        {
          "output_type": "stream",
          "name": "stdout",
          "text": [
            "                                                                 \n",
            " conv2d_12 (Conv2D)          (None, 2, 2, 512)         2359808   \n",
            "                                                                 \n",
            " activation_12 (Activation)  (None, 2, 2, 512)         0         \n",
            "                                                                 \n",
            " max_pooling2d_4 (MaxPooling  (None, 1, 1, 512)        0         \n",
            " 2D)                                                             \n",
            "                                                                 \n",
            " batch_normalization_12 (Bat  (None, 1, 1, 512)        2048      \n",
            " chNormalization)                                                \n",
            "                                                                 \n",
            " flatten (Flatten)           (None, 512)               0         \n",
            "                                                                 \n",
            " dense (Dense)               (None, 4096)              2101248   \n",
            "                                                                 \n",
            " activation_13 (Activation)  (None, 4096)              0         \n",
            "                                                                 \n",
            " batch_normalization_13 (Bat  (None, 4096)             16384     \n",
            " chNormalization)                                                \n",
            "                                                                 \n",
            " dropout (Dropout)           (None, 4096)              0         \n",
            "                                                                 \n",
            " dense_1 (Dense)             (None, 4096)              16781312  \n",
            "                                                                 \n",
            " activation_14 (Activation)  (None, 4096)              0         \n",
            "                                                                 \n",
            " batch_normalization_14 (Bat  (None, 4096)             16384     \n",
            " chNormalization)                                                \n",
            "                                                                 \n",
            " dropout_1 (Dropout)         (None, 4096)              0         \n",
            "                                                                 \n",
            " dense_2 (Dense)             (None, 1000)              4097000   \n",
            "                                                                 \n",
            " activation_15 (Activation)  (None, 1000)              0         \n",
            "                                                                 \n",
            " batch_normalization_15 (Bat  (None, 1000)             4000      \n",
            " chNormalization)                                                \n",
            "                                                                 \n",
            " dropout_2 (Dropout)         (None, 1000)              0         \n",
            "                                                                 \n",
            " dense_3 (Dense)             (None, 2)                 2002      \n",
            "                                                                 \n",
            "=================================================================\n",
            "Total params: 37,748,762\n",
            "Trainable params: 37,721,930\n",
            "Non-trainable params: 26,832\n",
            "_________________________________________________________________\n"
          ]
        }
      ]
    },
    {
      "cell_type": "code",
      "source": [
        "#training data\n",
        "H = vgg16.fit(trainX, trainY, validation_data=(testX, testY), epochs=70, batch_size=16)"
      ],
      "metadata": {
        "colab": {
          "base_uri": "https://localhost:8080/"
        },
        "id": "JOp0TzHxZYLf",
        "outputId": "808955c2-4ed1-42f6-e417-2ebb44cfa73d"
      },
      "execution_count": 12,
      "outputs": [
        {
          "output_type": "stream",
          "name": "stdout",
          "text": [
            "Epoch 1/70\n",
            "70/70 [==============================] - 17s 41ms/step - loss: 0.8697 - accuracy: 0.6116 - val_loss: 0.7115 - val_accuracy: 0.5321\n",
            "Epoch 2/70\n",
            "70/70 [==============================] - 2s 27ms/step - loss: 0.5861 - accuracy: 0.7670 - val_loss: 0.7706 - val_accuracy: 0.4679\n",
            "Epoch 3/70\n",
            "70/70 [==============================] - 2s 27ms/step - loss: 0.4905 - accuracy: 0.8304 - val_loss: 0.9407 - val_accuracy: 0.4679\n",
            "Epoch 4/70\n",
            "70/70 [==============================] - 2s 27ms/step - loss: 0.3417 - accuracy: 0.8866 - val_loss: 1.2643 - val_accuracy: 0.4679\n",
            "Epoch 5/70\n",
            "70/70 [==============================] - 2s 27ms/step - loss: 0.3505 - accuracy: 0.8875 - val_loss: 1.1354 - val_accuracy: 0.4750\n",
            "Epoch 6/70\n",
            "70/70 [==============================] - 2s 27ms/step - loss: 0.2916 - accuracy: 0.9000 - val_loss: 1.1561 - val_accuracy: 0.5536\n",
            "Epoch 7/70\n",
            "70/70 [==============================] - 2s 27ms/step - loss: 0.2209 - accuracy: 0.9286 - val_loss: 0.9481 - val_accuracy: 0.6500\n",
            "Epoch 8/70\n",
            "70/70 [==============================] - 2s 27ms/step - loss: 0.2129 - accuracy: 0.9304 - val_loss: 0.2449 - val_accuracy: 0.9107\n",
            "Epoch 9/70\n",
            "70/70 [==============================] - 2s 27ms/step - loss: 0.2187 - accuracy: 0.9357 - val_loss: 0.2139 - val_accuracy: 0.9286\n",
            "Epoch 10/70\n",
            "70/70 [==============================] - 2s 27ms/step - loss: 0.2086 - accuracy: 0.9339 - val_loss: 0.1466 - val_accuracy: 0.9571\n",
            "Epoch 11/70\n",
            "70/70 [==============================] - 2s 27ms/step - loss: 0.1972 - accuracy: 0.9411 - val_loss: 0.1054 - val_accuracy: 0.9643\n",
            "Epoch 12/70\n",
            "70/70 [==============================] - 2s 27ms/step - loss: 0.1466 - accuracy: 0.9554 - val_loss: 0.1039 - val_accuracy: 0.9714\n",
            "Epoch 13/70\n",
            "70/70 [==============================] - 2s 27ms/step - loss: 0.1642 - accuracy: 0.9509 - val_loss: 0.1028 - val_accuracy: 0.9679\n",
            "Epoch 14/70\n",
            "70/70 [==============================] - 2s 27ms/step - loss: 0.1240 - accuracy: 0.9643 - val_loss: 0.1265 - val_accuracy: 0.9571\n",
            "Epoch 15/70\n",
            "70/70 [==============================] - 2s 27ms/step - loss: 0.1283 - accuracy: 0.9589 - val_loss: 0.0988 - val_accuracy: 0.9679\n",
            "Epoch 16/70\n",
            "70/70 [==============================] - 2s 27ms/step - loss: 0.1345 - accuracy: 0.9607 - val_loss: 0.0967 - val_accuracy: 0.9607\n",
            "Epoch 17/70\n",
            "70/70 [==============================] - 2s 27ms/step - loss: 0.1040 - accuracy: 0.9696 - val_loss: 0.0982 - val_accuracy: 0.9643\n",
            "Epoch 18/70\n",
            "70/70 [==============================] - 2s 27ms/step - loss: 0.1168 - accuracy: 0.9643 - val_loss: 0.1013 - val_accuracy: 0.9679\n",
            "Epoch 19/70\n",
            "70/70 [==============================] - 2s 27ms/step - loss: 0.1189 - accuracy: 0.9643 - val_loss: 0.0720 - val_accuracy: 0.9857\n",
            "Epoch 20/70\n",
            "70/70 [==============================] - 2s 27ms/step - loss: 0.1049 - accuracy: 0.9643 - val_loss: 0.0839 - val_accuracy: 0.9786\n",
            "Epoch 21/70\n",
            "70/70 [==============================] - 2s 27ms/step - loss: 0.0610 - accuracy: 0.9812 - val_loss: 0.0882 - val_accuracy: 0.9714\n",
            "Epoch 22/70\n",
            "70/70 [==============================] - 2s 27ms/step - loss: 0.0732 - accuracy: 0.9804 - val_loss: 0.0704 - val_accuracy: 0.9786\n",
            "Epoch 23/70\n",
            "70/70 [==============================] - 2s 28ms/step - loss: 0.0792 - accuracy: 0.9777 - val_loss: 0.0920 - val_accuracy: 0.9714\n",
            "Epoch 24/70\n",
            "70/70 [==============================] - 2s 27ms/step - loss: 0.0822 - accuracy: 0.9696 - val_loss: 0.0570 - val_accuracy: 0.9821\n",
            "Epoch 25/70\n",
            "70/70 [==============================] - 2s 28ms/step - loss: 0.0560 - accuracy: 0.9812 - val_loss: 0.0549 - val_accuracy: 0.9750\n",
            "Epoch 26/70\n",
            "70/70 [==============================] - 2s 27ms/step - loss: 0.1481 - accuracy: 0.9536 - val_loss: 0.1426 - val_accuracy: 0.9464\n",
            "Epoch 27/70\n",
            "70/70 [==============================] - 2s 34ms/step - loss: 0.0877 - accuracy: 0.9768 - val_loss: 0.0996 - val_accuracy: 0.9536\n",
            "Epoch 28/70\n",
            "70/70 [==============================] - 2s 28ms/step - loss: 0.0844 - accuracy: 0.9750 - val_loss: 0.0798 - val_accuracy: 0.9714\n",
            "Epoch 29/70\n",
            "70/70 [==============================] - 2s 28ms/step - loss: 0.0625 - accuracy: 0.9812 - val_loss: 0.0969 - val_accuracy: 0.9714\n",
            "Epoch 30/70\n",
            "70/70 [==============================] - 2s 28ms/step - loss: 0.0916 - accuracy: 0.9732 - val_loss: 0.0723 - val_accuracy: 0.9821\n",
            "Epoch 31/70\n",
            "70/70 [==============================] - 2s 28ms/step - loss: 0.0802 - accuracy: 0.9750 - val_loss: 0.0987 - val_accuracy: 0.9750\n",
            "Epoch 32/70\n",
            "70/70 [==============================] - 2s 28ms/step - loss: 0.0323 - accuracy: 0.9920 - val_loss: 0.0607 - val_accuracy: 0.9714\n",
            "Epoch 33/70\n",
            "70/70 [==============================] - 2s 28ms/step - loss: 0.0400 - accuracy: 0.9893 - val_loss: 0.0908 - val_accuracy: 0.9607\n",
            "Epoch 34/70\n",
            "70/70 [==============================] - 2s 28ms/step - loss: 0.0442 - accuracy: 0.9884 - val_loss: 0.0668 - val_accuracy: 0.9750\n",
            "Epoch 35/70\n",
            "70/70 [==============================] - 2s 28ms/step - loss: 0.0378 - accuracy: 0.9902 - val_loss: 0.0555 - val_accuracy: 0.9786\n",
            "Epoch 36/70\n",
            "70/70 [==============================] - 2s 28ms/step - loss: 0.0590 - accuracy: 0.9830 - val_loss: 0.0715 - val_accuracy: 0.9750\n",
            "Epoch 37/70\n",
            "70/70 [==============================] - 2s 28ms/step - loss: 0.0312 - accuracy: 0.9955 - val_loss: 0.0678 - val_accuracy: 0.9679\n",
            "Epoch 38/70\n",
            "70/70 [==============================] - 2s 28ms/step - loss: 0.0295 - accuracy: 0.9911 - val_loss: 0.0672 - val_accuracy: 0.9821\n",
            "Epoch 39/70\n",
            "70/70 [==============================] - 2s 28ms/step - loss: 0.0566 - accuracy: 0.9830 - val_loss: 0.0908 - val_accuracy: 0.9714\n",
            "Epoch 40/70\n",
            "70/70 [==============================] - 2s 28ms/step - loss: 0.0361 - accuracy: 0.9893 - val_loss: 0.0777 - val_accuracy: 0.9750\n",
            "Epoch 41/70\n",
            "70/70 [==============================] - 2s 31ms/step - loss: 0.0428 - accuracy: 0.9893 - val_loss: 0.0750 - val_accuracy: 0.9786\n",
            "Epoch 42/70\n",
            "70/70 [==============================] - 2s 28ms/step - loss: 0.0333 - accuracy: 0.9902 - val_loss: 0.0537 - val_accuracy: 0.9857\n",
            "Epoch 43/70\n",
            "70/70 [==============================] - 2s 28ms/step - loss: 0.0481 - accuracy: 0.9848 - val_loss: 0.0581 - val_accuracy: 0.9857\n",
            "Epoch 44/70\n",
            "70/70 [==============================] - 2s 28ms/step - loss: 0.0452 - accuracy: 0.9920 - val_loss: 0.0762 - val_accuracy: 0.9786\n",
            "Epoch 45/70\n",
            "70/70 [==============================] - 2s 28ms/step - loss: 0.0339 - accuracy: 0.9884 - val_loss: 0.0506 - val_accuracy: 0.9857\n",
            "Epoch 46/70\n",
            "70/70 [==============================] - 2s 28ms/step - loss: 0.0397 - accuracy: 0.9893 - val_loss: 0.0565 - val_accuracy: 0.9786\n",
            "Epoch 47/70\n",
            "70/70 [==============================] - 2s 31ms/step - loss: 0.0329 - accuracy: 0.9893 - val_loss: 0.0668 - val_accuracy: 0.9821\n",
            "Epoch 48/70\n",
            "70/70 [==============================] - 2s 29ms/step - loss: 0.0319 - accuracy: 0.9920 - val_loss: 0.0714 - val_accuracy: 0.9786\n",
            "Epoch 49/70\n",
            "70/70 [==============================] - 2s 28ms/step - loss: 0.0285 - accuracy: 0.9902 - val_loss: 0.0729 - val_accuracy: 0.9750\n",
            "Epoch 50/70\n",
            "70/70 [==============================] - 2s 31ms/step - loss: 0.0517 - accuracy: 0.9875 - val_loss: 0.0889 - val_accuracy: 0.9679\n",
            "Epoch 51/70\n",
            "70/70 [==============================] - 2s 28ms/step - loss: 0.0451 - accuracy: 0.9884 - val_loss: 0.0783 - val_accuracy: 0.9714\n",
            "Epoch 52/70\n",
            "70/70 [==============================] - 2s 31ms/step - loss: 0.0300 - accuracy: 0.9902 - val_loss: 0.0548 - val_accuracy: 0.9786\n",
            "Epoch 53/70\n",
            "70/70 [==============================] - 2s 31ms/step - loss: 0.0375 - accuracy: 0.9902 - val_loss: 0.0395 - val_accuracy: 0.9857\n",
            "Epoch 54/70\n",
            "70/70 [==============================] - 2s 28ms/step - loss: 0.0375 - accuracy: 0.9884 - val_loss: 0.0633 - val_accuracy: 0.9750\n",
            "Epoch 55/70\n",
            "70/70 [==============================] - 2s 29ms/step - loss: 0.0416 - accuracy: 0.9902 - val_loss: 0.0586 - val_accuracy: 0.9821\n",
            "Epoch 56/70\n",
            "70/70 [==============================] - 2s 28ms/step - loss: 0.0419 - accuracy: 0.9920 - val_loss: 0.0509 - val_accuracy: 0.9821\n",
            "Epoch 57/70\n",
            "70/70 [==============================] - 2s 29ms/step - loss: 0.0218 - accuracy: 0.9955 - val_loss: 0.0476 - val_accuracy: 0.9857\n",
            "Epoch 58/70\n",
            "70/70 [==============================] - 2s 29ms/step - loss: 0.0471 - accuracy: 0.9866 - val_loss: 0.1037 - val_accuracy: 0.9607\n",
            "Epoch 59/70\n",
            "70/70 [==============================] - 2s 29ms/step - loss: 0.0343 - accuracy: 0.9920 - val_loss: 0.0998 - val_accuracy: 0.9679\n",
            "Epoch 60/70\n",
            "70/70 [==============================] - 2s 29ms/step - loss: 0.0304 - accuracy: 0.9902 - val_loss: 0.0770 - val_accuracy: 0.9750\n",
            "Epoch 61/70\n",
            "70/70 [==============================] - 2s 28ms/step - loss: 0.0439 - accuracy: 0.9875 - val_loss: 0.0549 - val_accuracy: 0.9857\n",
            "Epoch 62/70\n",
            "70/70 [==============================] - 2s 28ms/step - loss: 0.0220 - accuracy: 0.9946 - val_loss: 0.0715 - val_accuracy: 0.9821\n",
            "Epoch 63/70\n",
            "70/70 [==============================] - 2s 28ms/step - loss: 0.0200 - accuracy: 0.9955 - val_loss: 0.0600 - val_accuracy: 0.9893\n",
            "Epoch 64/70\n",
            "70/70 [==============================] - 2s 29ms/step - loss: 0.0162 - accuracy: 0.9955 - val_loss: 0.0737 - val_accuracy: 0.9786\n",
            "Epoch 65/70\n",
            "70/70 [==============================] - 2s 28ms/step - loss: 0.0334 - accuracy: 0.9920 - val_loss: 0.0697 - val_accuracy: 0.9857\n",
            "Epoch 66/70\n",
            "70/70 [==============================] - 2s 28ms/step - loss: 0.0243 - accuracy: 0.9937 - val_loss: 0.0835 - val_accuracy: 0.9750\n",
            "Epoch 67/70\n",
            "70/70 [==============================] - 2s 28ms/step - loss: 0.0139 - accuracy: 0.9964 - val_loss: 0.0661 - val_accuracy: 0.9821\n",
            "Epoch 68/70\n",
            "70/70 [==============================] - 2s 28ms/step - loss: 0.0193 - accuracy: 0.9937 - val_loss: 0.0722 - val_accuracy: 0.9893\n",
            "Epoch 69/70\n",
            "70/70 [==============================] - 2s 28ms/step - loss: 0.0238 - accuracy: 0.9946 - val_loss: 0.0683 - val_accuracy: 0.9821\n",
            "Epoch 70/70\n",
            "70/70 [==============================] - 2s 28ms/step - loss: 0.0074 - accuracy: 1.0000 - val_loss: 0.0644 - val_accuracy: 0.9857\n"
          ]
        }
      ]
    },
    {
      "cell_type": "code",
      "source": [
        "print(\"[INFO] evaluating network...\")\n",
        "predictions = vgg16.predict(testX, batch_size=16)\n",
        "pred=predictions.argmax(axis=1)\n",
        "testY_argm=testY.argmax(axis=1)\n"
      ],
      "metadata": {
        "colab": {
          "base_uri": "https://localhost:8080/"
        },
        "id": "qjoEfHoWsr9H",
        "outputId": "4f746388-762f-4886-ea83-81eb0159050d"
      },
      "execution_count": 13,
      "outputs": [
        {
          "output_type": "stream",
          "name": "stdout",
          "text": [
            "[INFO] evaluating network...\n"
          ]
        }
      ]
    },
    {
      "cell_type": "code",
      "source": [
        "print(classification_report(testY_argm,pred,target_names=lb.classes_))"
      ],
      "metadata": {
        "colab": {
          "base_uri": "https://localhost:8080/"
        },
        "id": "Po9wqNIMts7s",
        "outputId": "4e23b435-9103-4754-b240-47663b8e97f4"
      },
      "execution_count": 14,
      "outputs": [
        {
          "output_type": "stream",
          "name": "stdout",
          "text": [
            "              precision    recall  f1-score   support\n",
            "\n",
            "      Normal       0.98      0.99      0.98       131\n",
            "Tuberculosis       0.99      0.98      0.99       149\n",
            "\n",
            "    accuracy                           0.99       280\n",
            "   macro avg       0.99      0.99      0.99       280\n",
            "weighted avg       0.99      0.99      0.99       280\n",
            "\n"
          ]
        }
      ]
    },
    {
      "cell_type": "code",
      "source": [
        "test_score = vgg16.evaluate(testX, testY) \n",
        "print(\"Test Loss {:.4f}, accuracy {:.2f}%\".format(test_score[0], test_score[1] * 100))"
      ],
      "metadata": {
        "colab": {
          "base_uri": "https://localhost:8080/"
        },
        "id": "5NSJXylrt1ND",
        "outputId": "21a63cee-4764-4d05-854d-47691601dc51"
      },
      "execution_count": 15,
      "outputs": [
        {
          "output_type": "stream",
          "name": "stdout",
          "text": [
            "9/9 [==============================] - 1s 50ms/step - loss: 0.0644 - accuracy: 0.9857\n",
            "Test Loss 0.0644, accuracy 98.57%\n"
          ]
        }
      ]
    },
    {
      "cell_type": "code",
      "source": [
        "from sklearn.metrics import confusion_matrix\n",
        "import itertools\n",
        "\n",
        "def plot_confusion_matrix(cm, classes, normalize=False, title='Confusion matrix', cmap='Blues'):\n",
        "  if normalize:\n",
        "     cm = cm.astype('float') / cm.sum(axis=1)[:, np.newaxis]\n",
        "     print(\"Normalized confusion matrix\")\n",
        "  else:\n",
        "     print('Confusion matrix, without normalization')\n",
        "  print(cm)\n",
        "  plt.imshow(cm, interpolation='nearest', cmap=cmap)\n",
        "  plt.title(title)\n",
        "  plt.colorbar()\n",
        "  tick_marks = np.arange(len(classes))\n",
        "  plt.xticks(tick_marks, classes, rotation=45)\n",
        "  plt.yticks(tick_marks, classes)\n",
        "  fmt = '.2f' if normalize else 'd'\n",
        "  thresh = cm.max() / 2.\n",
        "  for i, j in itertools.product(range(cm.shape[0]), range(cm.shape[1])):\n",
        "      plt.text(j, i, format(cm[i, j], fmt), horizontalalignment=\"center\", color=\"white\" if cm[i, j] > thresh else \"black\")\n",
        "  plt.ylabel('True label')\n",
        "  plt.xlabel('Predicted label')\n",
        "  plt.tight_layout()"
      ],
      "metadata": {
        "id": "ZS-FXHa6uI6H"
      },
      "execution_count": 16,
      "outputs": []
    },
    {
      "cell_type": "code",
      "source": [
        "cnf_matrix = confusion_matrix(testY_argm, pred)\n",
        "np.set_printoptions(precision=2)\n",
        "\n",
        "# Plot non/normalized confusion matrix\n",
        "plt.figure()\n",
        "plot_confusion_matrix(cnf_matrix,\n",
        "classes=lb.classes_, normalize=True)\n",
        "plt.show()\n",
        "\n",
        "plt.figure()\n",
        "plot_confusion_matrix(cnf_matrix,\n",
        "classes=lb.classes_, normalize=False)\n",
        "plt.show()\n",
        "\n",
        "f, ax = plt.subplots()\n",
        "ax.plot([None] + H.history['accuracy'], 'o-')\n",
        "ax.plot([None] + H.history['val_accuracy'], 'x-')\n",
        "\n",
        "ax.legend(['Train acc', 'Validation acc'], loc = 0)\n",
        "ax.set_title('Training/Validation acc per Epoch')\n",
        "ax.set_xlabel('Epoch')\n",
        "ax.set_ylabel('acc')\n",
        "plt.grid(True)\n",
        "\n",
        "f, ax = plt.subplots()\n",
        "ax.plot([None] + H.history['loss'], 'o-')\n",
        "ax.plot([None] + H.history['val_loss'], 'x-')\n",
        "ax.legend(['Train Loss', 'Validation Loss'], loc = 0)\n",
        "ax.set_title('Training/Validation Loss per Epoch')\n",
        "ax.set_xlabel('Epoch')\n",
        "ax.set_ylabel('loss')\n",
        "plt.grid(True)"
      ],
      "metadata": {
        "colab": {
          "base_uri": "https://localhost:8080/",
          "height": 1000
        },
        "id": "eiYstz9xuRLx",
        "outputId": "ea2013a0-5dd1-435d-d64d-59b0e2bbed41"
      },
      "execution_count": 17,
      "outputs": [
        {
          "output_type": "stream",
          "name": "stdout",
          "text": [
            "Normalized confusion matrix\n",
            "[[0.99 0.01]\n",
            " [0.02 0.98]]\n"
          ]
        },
        {
          "output_type": "display_data",
          "data": {
            "text/plain": [
              "<Figure size 432x288 with 2 Axes>"
            ],
            "image/png": "[encoded data removed]"
          },
          "metadata": {
            "needs_background": "light"
          }
        },
        {
          "output_type": "stream",
          "name": "stdout",
          "text": [
            "Confusion matrix, without normalization\n",
            "[[130   1]\n",
            " [  3 146]]\n"
          ]
        },
        {
          "output_type": "display_data",
          "data": {
            "text/plain": [
              "<Figure size 432x288 with 2 Axes>"
            ],
            "image/png": "[encoded data removed]"
          },
          "metadata": {
            "needs_background": "light"
          }
        },
        {
          "output_type": "display_data",
          "data": {
            "text/plain": [
              "<Figure size 432x288 with 1 Axes>"
            ],
            "image/png": "[encoded data removed]"
          },
          "metadata": {
            "needs_background": "light"
          }
        },
        {
          "output_type": "display_data",
          "data": {
            "text/plain": [
              "<Figure size 432x288 with 1 Axes>"
            ],
            "image/png": "[encoded data removed]"
          },
          "metadata": {
            "needs_background": "light"
          }
        }
      ]
    }
  ]
}