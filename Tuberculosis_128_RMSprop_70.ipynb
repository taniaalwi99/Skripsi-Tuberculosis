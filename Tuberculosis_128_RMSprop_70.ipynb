{
  "nbformat": 4,
  "nbformat_minor": 0,
  "metadata": {
    "colab": {
      "name": "Tuberculosis_VGG-16.ipynb",
      "provenance": [],
      "collapsed_sections": [],
      "include_colab_link": true
    },
    "kernelspec": {
      "name": "python3",
      "display_name": "Python 3"
    },
    "language_info": {
      "name": "python"
    },
    "accelerator": "GPU",
    "gpuClass": "standard"
  },
  "cells": [
    {
      "cell_type": "markdown",
      "metadata": {
        "id": "view-in-github",
        "colab_type": "text"
      },
      "source": [
        "<a href=\"https://colab.research.google.com/github/taniaalwi99/Skripsi-Tuberculosis/blob/main/Tuberculosis_128_RMSprop_70.ipynb\" target=\"_parent\"><img src=\"https://colab.research.google.com/assets/colab-badge.svg\" alt=\"Open In Colab\"/></a>"
      ]
    },
    {
      "cell_type": "code",
      "execution_count": 1,
      "metadata": {
        "colab": {
          "base_uri": "https://localhost:8080/"
        },
        "id": "2_RYo7hrXaC5",
        "outputId": "308e4373-5ae5-431f-c936-e0a42f46e192"
      },
      "outputs": [
        {
          "output_type": "stream",
          "name": "stdout",
          "text": [
            "Mounted at /content/drive\n"
          ]
        }
      ],
      "source": [
        "from google.colab import drive\n",
        "drive.mount('/content/drive')"
      ]
    },
    {
      "cell_type": "code",
      "source": [
        "cd //content/drive/MyDrive"
      ],
      "metadata": {
        "colab": {
          "base_uri": "https://localhost:8080/"
        },
        "id": "G4aisxOFX3KH",
        "outputId": "d113e192-6028-45b3-bada-ba691dbe1755"
      },
      "execution_count": 2,
      "outputs": [
        {
          "output_type": "stream",
          "name": "stdout",
          "text": [
            "/content/drive/MyDrive\n"
          ]
        }
      ]
    },
    {
      "cell_type": "code",
      "source": [
        "ls"
      ],
      "metadata": {
        "colab": {
          "base_uri": "https://localhost:8080/"
        },
        "id": "e_oGUrADX8O_",
        "outputId": "02849abb-c545-49e8-c492-5dbc91e41db5"
      },
      "execution_count": 3,
      "outputs": [
        {
          "output_type": "stream",
          "name": "stdout",
          "text": [
            "\u001b[0m\u001b[01;34m'Colab Notebooks'\u001b[0m/  \u001b[01;34m'Dataset Gray'\u001b[0m/  \u001b[01;34m'Tania Alwi'\u001b[0m/   Tuberculosis_VGG-16.ipynb\n"
          ]
        }
      ]
    },
    {
      "cell_type": "code",
      "source": [
        "from keras.models import Model\n",
        "from keras.models import load_model\n",
        "from keras.models import Sequential\n",
        "from keras.layers.convolutional import Convolution2D\n",
        "from keras.layers.convolutional import MaxPooling2D\n",
        "from keras.layers.convolutional import ZeroPadding2D\n",
        "from keras.layers.core import Activation\n",
        "from keras.layers.core import Flatten\n",
        "from keras.layers.core import Dense\n",
        "from keras.layers.core import Dropout\n",
        "from keras.layers import BatchNormalization\n",
        "from keras import regularizers\n",
        "from keras.preprocessing.image import ImageDataGenerator\n",
        "from tensorflow.keras.optimizers import RMSprop, Adam, SGD\n",
        "from sklearn.preprocessing import LabelBinarizer\n",
        "from sklearn.model_selection import train_test_split\n",
        "from sklearn.metrics import classification_report\n",
        "from PIL import Image\n",
        "from matplotlib import pyplot as plt\n",
        "from imutils import paths\n",
        "import numpy as np\n",
        "import os"
      ],
      "metadata": {
        "id": "t95OxlI7X_OF"
      },
      "execution_count": 4,
      "outputs": []
    },
    {
      "cell_type": "code",
      "source": [
        "print(\"[INFO] loading images...\")\n",
        "imagePaths = paths.list_images(\"Dataset Gray\")\n",
        "data = []\n",
        "labels = []"
      ],
      "metadata": {
        "colab": {
          "base_uri": "https://localhost:8080/"
        },
        "id": "jvn693i-YDZ8",
        "outputId": "65ccc803-761b-4cc8-be07-1dbfd402fd15"
      },
      "execution_count": 5,
      "outputs": [
        {
          "output_type": "stream",
          "name": "stdout",
          "text": [
            "[INFO] loading images...\n"
          ]
        }
      ]
    },
    {
      "cell_type": "code",
      "source": [
        "for imagePaths in imagePaths:\n",
        "    a = Image.open(imagePaths)\n",
        "    image = np.array(a.resize((128,128))) / 255.0\n",
        "    data.append(image)\n",
        "    \n",
        "    label = imagePaths.split(os.path.sep) [-2]\n",
        "    labels.append(label)"
      ],
      "metadata": {
        "id": "3XLuWAZsYLfK"
      },
      "execution_count": 6,
      "outputs": []
    },
    {
      "cell_type": "code",
      "source": [
        "from sklearn.preprocessing import LabelBinarizer\n",
        "import numpy as np\n",
        "\n",
        "class MyLabelBinarizer(LabelBinarizer):\n",
        "    def transform(self, label):\n",
        "      nilaiy = super().transform(label)\n",
        "      if self.y_type_== 'binary':\n",
        "        return np.hstack((nilaiy, 1-nilaiy))\n",
        "      else:\n",
        "        return nilaiy\n",
        "    def inverse_transform(self, nilaiy, threshold=None):\n",
        "      if self.y_type_ == 'binary':\n",
        "          return super().inverse_transform(nilaiy[:, 0], threshold)\n",
        "      else:\n",
        "          return super().inverse_transform(nilaiy, threshold)\n",
        "\n",
        "      \n",
        "\n",
        "lb = MyLabelBinarizer()\n",
        "labels = lb.fit_transform(labels)\n",
        "print(labels)"
      ],
      "metadata": {
        "colab": {
          "base_uri": "https://localhost:8080/"
        },
        "id": "gnjyPDi_Yyrn",
        "outputId": "faafd22e-122f-48ce-cbbd-c1cb66a69745"
      },
      "execution_count": 7,
      "outputs": [
        {
          "output_type": "stream",
          "name": "stdout",
          "text": [
            "[[1 0]\n",
            " [1 0]\n",
            " [1 0]\n",
            " ...\n",
            " [0 1]\n",
            " [0 1]\n",
            " [0 1]]\n"
          ]
        }
      ]
    },
    {
      "cell_type": "code",
      "source": [
        "(trainX,testX, trainY, testY) = train_test_split(np.array(data),np.array(labels), test_size=0.20)\n",
        "print(trainX.shape)\n",
        "print(testX.shape)"
      ],
      "metadata": {
        "id": "0V3CnlQtY1g2",
        "colab": {
          "base_uri": "https://localhost:8080/"
        },
        "outputId": "3214bbf8-cd31-4ba7-9808-810f1060fd55"
      },
      "execution_count": 8,
      "outputs": [
        {
          "output_type": "stream",
          "name": "stdout",
          "text": [
            "(1120, 128, 128)\n",
            "(280, 128, 128)\n"
          ]
        }
      ]
    },
    {
      "cell_type": "code",
      "source": [
        "def vgg16(num_classes):\n",
        "\n",
        "    vgg16 = Sequential()\n",
        "\n",
        "    vgg16.add(Convolution2D(input_shape=(128,128,1),filters=64,kernel_size=(3,3),padding=\"same\"))\n",
        "    vgg16.add(Activation('relu'))\n",
        "    vgg16.add(BatchNormalization())\n",
        "    #layer1 32*32*64\n",
        "    vgg16.add(Convolution2D(filters=64,kernel_size=(3,3),padding=\"same\"))\n",
        "    vgg16.add(Activation('relu'))\n",
        "    vgg16.add(MaxPooling2D(pool_size=(2, 2),strides=(2,2)))\n",
        "    vgg16.add(BatchNormalization())\n",
        "    #layer2 16*16*64\n",
        "    vgg16.add(Convolution2D(filters=128, kernel_size=(3,3), padding=\"same\"))\n",
        "    vgg16.add(Activation('relu'))\n",
        "    vgg16.add(BatchNormalization())\n",
        "    #layer3 16*16*128\n",
        "    vgg16.add(Convolution2D(filters=128, kernel_size=(3,3), padding=\"same\",))\n",
        "    vgg16.add(Activation('relu'))\n",
        "    vgg16.add(MaxPooling2D(pool_size=(2,2),strides=(2,2)))\n",
        "    vgg16.add(BatchNormalization())\n",
        "    #layer4 8*8*128\n",
        "    vgg16.add(Convolution2D(filters=256, kernel_size=(3,3), padding=\"same\"))\n",
        "    vgg16.add(Activation('relu'))\n",
        "    vgg16.add(BatchNormalization())\n",
        "    #layer5 8*8*256\n",
        "    vgg16.add(Convolution2D(filters=256, kernel_size=(3,3), padding=\"same\"))\n",
        "    vgg16.add(Activation('relu'))\n",
        "    vgg16.add(BatchNormalization())\n",
        "    #layer6 8*8*256\n",
        "    vgg16.add(Convolution2D(filters=256, kernel_size=(3,3), padding=\"same\"))\n",
        "    vgg16.add(Activation('relu'))\n",
        "    vgg16.add(MaxPooling2D(pool_size=(2,2),strides=(2,2)))\n",
        "    vgg16.add(BatchNormalization())\n",
        "    #layer7 4*4*256\n",
        "    vgg16.add(Convolution2D(filters=512, kernel_size=(3,3), padding=\"same\"))\n",
        "    vgg16.add(Activation('relu'))\n",
        "    vgg16.add(BatchNormalization())\n",
        "    #layer8 4*4*512\n",
        "    vgg16.add(Convolution2D(filters=512, kernel_size=(3,3), padding=\"same\"))\n",
        "    vgg16.add(Activation('relu'))\n",
        "    vgg16.add(BatchNormalization())\n",
        "    #layer9 4*4*512\n",
        "    vgg16.add(Convolution2D(filters=512, kernel_size=(3,3), padding=\"same\"))\n",
        "    vgg16.add(Activation('relu'))\n",
        "    vgg16.add(MaxPooling2D(pool_size=(2,2),strides=(2,2)))\n",
        "    vgg16.add(BatchNormalization())\n",
        "    #layer10 2*2*512\n",
        "    vgg16.add(Convolution2D(filters=512, kernel_size=(3,3), padding=\"same\"))\n",
        "    vgg16.add(Activation('relu'))\n",
        "    vgg16.add(BatchNormalization())\n",
        "    #layer11 2*2*512\n",
        "    vgg16.add(Convolution2D(filters=512, kernel_size=(3,3), padding=\"same\"))  \n",
        "    vgg16.add(Activation('relu')) \n",
        "    vgg16.add(BatchNormalization())       \n",
        "    #layer12 2*2*512\n",
        "    vgg16.add(Convolution2D(filters=512, kernel_size=(3,3), padding=\"same\"))\n",
        "    vgg16.add(Activation('relu'))\n",
        "    vgg16.add(MaxPooling2D(pool_size=(2,2),strides=(2,2)))\n",
        "    vgg16.add(BatchNormalization())\n",
        "    #layer13 1*1*512\n",
        "    vgg16.add(Flatten())\n",
        "    vgg16.add(Dense(units=4096))\n",
        "    vgg16.add(Activation('relu')) \n",
        "    vgg16.add(BatchNormalization())\n",
        "    vgg16.add(Dropout(0.5))\n",
        "    #layer14 4096\n",
        "    vgg16.add(Dense(units=4096))\n",
        "    vgg16.add(Activation('relu')) \n",
        "    vgg16.add(BatchNormalization())\n",
        "    vgg16.add(Dropout(0.5))\n",
        "    #layer16 4096\n",
        "    vgg16.add(Dense(units=1000))\n",
        "    vgg16.add(Activation('relu'))\n",
        "    vgg16.add(BatchNormalization())\n",
        "    vgg16.add(Dropout(0.5)) \n",
        "    #layer16 1000\n",
        "    vgg16.add(Dense(2, activation=\"softmax\"))\n",
        "\n",
        "    return vgg16"
      ],
      "metadata": {
        "id": "WpeYjXzUZCZP"
      },
      "execution_count": 9,
      "outputs": []
    },
    {
      "cell_type": "code",
      "source": [
        "num_classes=2\n",
        "vgg16=vgg16(num_classes)\n",
        "vgg16.summary()"
      ],
      "metadata": {
        "id": "rlT3OhVuZLUs",
        "colab": {
          "base_uri": "https://localhost:8080/"
        },
        "outputId": "9af7a49f-3b1f-477e-ddaf-723f30da0343"
      },
      "execution_count": 10,
      "outputs": [
        {
          "output_type": "stream",
          "name": "stdout",
          "text": [
            "Model: \"sequential\"\n",
            "_________________________________________________________________\n",
            " Layer (type)                Output Shape              Param #   \n",
            "=================================================================\n",
            " conv2d (Conv2D)             (None, 128, 128, 64)      640       \n",
            "                                                                 \n",
            " activation (Activation)     (None, 128, 128, 64)      0         \n",
            "                                                                 \n",
            " batch_normalization (BatchN  (None, 128, 128, 64)     256       \n",
            " ormalization)                                                   \n",
            "                                                                 \n",
            " conv2d_1 (Conv2D)           (None, 128, 128, 64)      36928     \n",
            "                                                                 \n",
            " activation_1 (Activation)   (None, 128, 128, 64)      0         \n",
            "                                                                 \n",
            " max_pooling2d (MaxPooling2D  (None, 64, 64, 64)       0         \n",
            " )                                                               \n",
            "                                                                 \n",
            " batch_normalization_1 (Batc  (None, 64, 64, 64)       256       \n",
            " hNormalization)                                                 \n",
            "                                                                 \n",
            " conv2d_2 (Conv2D)           (None, 64, 64, 128)       73856     \n",
            "                                                                 \n",
            " activation_2 (Activation)   (None, 64, 64, 128)       0         \n",
            "                                                                 \n",
            " batch_normalization_2 (Batc  (None, 64, 64, 128)      512       \n",
            " hNormalization)                                                 \n",
            "                                                                 \n",
            " conv2d_3 (Conv2D)           (None, 64, 64, 128)       147584    \n",
            "                                                                 \n",
            " activation_3 (Activation)   (None, 64, 64, 128)       0         \n",
            "                                                                 \n",
            " max_pooling2d_1 (MaxPooling  (None, 32, 32, 128)      0         \n",
            " 2D)                                                             \n",
            "                                                                 \n",
            " batch_normalization_3 (Batc  (None, 32, 32, 128)      512       \n",
            " hNormalization)                                                 \n",
            "                                                                 \n",
            " conv2d_4 (Conv2D)           (None, 32, 32, 256)       295168    \n",
            "                                                                 \n",
            " activation_4 (Activation)   (None, 32, 32, 256)       0         \n",
            "                                                                 \n",
            " batch_normalization_4 (Batc  (None, 32, 32, 256)      1024      \n",
            " hNormalization)                                                 \n",
            "                                                                 \n",
            " conv2d_5 (Conv2D)           (None, 32, 32, 256)       590080    \n",
            "                                                                 \n",
            " activation_5 (Activation)   (None, 32, 32, 256)       0         \n",
            "                                                                 \n",
            " batch_normalization_5 (Batc  (None, 32, 32, 256)      1024      \n",
            " hNormalization)                                                 \n",
            "                                                                 \n",
            " conv2d_6 (Conv2D)           (None, 32, 32, 256)       590080    \n",
            "                                                                 \n",
            " activation_6 (Activation)   (None, 32, 32, 256)       0         \n",
            "                                                                 \n",
            " max_pooling2d_2 (MaxPooling  (None, 16, 16, 256)      0         \n",
            " 2D)                                                             \n",
            "                                                                 \n",
            " batch_normalization_6 (Batc  (None, 16, 16, 256)      1024      \n",
            " hNormalization)                                                 \n",
            "                                                                 \n",
            " conv2d_7 (Conv2D)           (None, 16, 16, 512)       1180160   \n",
            "                                                                 \n",
            " activation_7 (Activation)   (None, 16, 16, 512)       0         \n",
            "                                                                 \n",
            " batch_normalization_7 (Batc  (None, 16, 16, 512)      2048      \n",
            " hNormalization)                                                 \n",
            "                                                                 \n",
            " conv2d_8 (Conv2D)           (None, 16, 16, 512)       2359808   \n",
            "                                                                 \n",
            " activation_8 (Activation)   (None, 16, 16, 512)       0         \n",
            "                                                                 \n",
            " batch_normalization_8 (Batc  (None, 16, 16, 512)      2048      \n",
            " hNormalization)                                                 \n",
            "                                                                 \n",
            " conv2d_9 (Conv2D)           (None, 16, 16, 512)       2359808   \n",
            "                                                                 \n",
            " activation_9 (Activation)   (None, 16, 16, 512)       0         \n",
            "                                                                 \n",
            " max_pooling2d_3 (MaxPooling  (None, 8, 8, 512)        0         \n",
            " 2D)                                                             \n",
            "                                                                 \n",
            " batch_normalization_9 (Batc  (None, 8, 8, 512)        2048      \n",
            " hNormalization)                                                 \n",
            "                                                                 \n",
            " conv2d_10 (Conv2D)          (None, 8, 8, 512)         2359808   \n",
            "                                                                 \n",
            " activation_10 (Activation)  (None, 8, 8, 512)         0         \n",
            "                                                                 \n",
            " batch_normalization_10 (Bat  (None, 8, 8, 512)        2048      \n",
            " chNormalization)                                                \n",
            "                                                                 \n",
            " conv2d_11 (Conv2D)          (None, 8, 8, 512)         2359808   \n",
            "                                                                 \n",
            " activation_11 (Activation)  (None, 8, 8, 512)         0         \n",
            "                                                                 \n",
            " batch_normalization_11 (Bat  (None, 8, 8, 512)        2048      \n",
            " chNormalization)                                                \n",
            "                                                                 \n",
            " conv2d_12 (Conv2D)          (None, 8, 8, 512)         2359808   \n",
            "                                                                 \n",
            " activation_12 (Activation)  (None, 8, 8, 512)         0         \n",
            "                                                                 \n",
            " max_pooling2d_4 (MaxPooling  (None, 4, 4, 512)        0         \n",
            " 2D)                                                             \n",
            "                                                                 \n",
            " batch_normalization_12 (Bat  (None, 4, 4, 512)        2048      \n",
            " chNormalization)                                                \n",
            "                                                                 \n",
            " flatten (Flatten)           (None, 8192)              0         \n",
            "                                                                 \n",
            " dense (Dense)               (None, 4096)              33558528  \n",
            "                                                                 \n",
            " activation_13 (Activation)  (None, 4096)              0         \n",
            "                                                                 \n",
            " batch_normalization_13 (Bat  (None, 4096)             16384     \n",
            " chNormalization)                                                \n",
            "                                                                 \n",
            " dropout (Dropout)           (None, 4096)              0         \n",
            "                                                                 \n",
            " dense_1 (Dense)             (None, 4096)              16781312  \n",
            "                                                                 \n",
            " activation_14 (Activation)  (None, 4096)              0         \n",
            "                                                                 \n",
            " batch_normalization_14 (Bat  (None, 4096)             16384     \n",
            " chNormalization)                                                \n",
            "                                                                 \n",
            " dropout_1 (Dropout)         (None, 4096)              0         \n",
            "                                                                 \n",
            " dense_2 (Dense)             (None, 1000)              4097000   \n",
            "                                                                 \n",
            " activation_15 (Activation)  (None, 1000)              0         \n",
            "                                                                 \n",
            " batch_normalization_15 (Bat  (None, 1000)             4000      \n",
            " chNormalization)                                                \n",
            "                                                                 \n",
            " dropout_2 (Dropout)         (None, 1000)              0         \n",
            "                                                                 \n",
            " dense_3 (Dense)             (None, 2)                 2002      \n",
            "                                                                 \n",
            "=================================================================\n",
            "Total params: 69,206,042\n",
            "Trainable params: 69,179,210\n",
            "Non-trainable params: 26,832\n",
            "_________________________________________________________________\n"
          ]
        }
      ]
    },
    {
      "cell_type": "code",
      "source": [
        "#setting hyperparameter, menggunakan Adam\n",
        "opt = RMSprop(lr=0.001)\n",
        "vgg16.compile(loss='categorical_crossentropy', optimizer=opt, metrics=['accuracy'])\n",
        "vgg16.summary()"
      ],
      "metadata": {
        "id": "eZ0TePWVZTx4",
        "colab": {
          "base_uri": "https://localhost:8080/"
        },
        "outputId": "4199d22b-1acd-4430-a9d0-ceebbfa38904"
      },
      "execution_count": 11,
      "outputs": [
        {
          "output_type": "stream",
          "name": "stdout",
          "text": [
            "Model: \"sequential\"\n",
            "_________________________________________________________________\n",
            " Layer (type)                Output Shape              Param #   \n",
            "=================================================================\n",
            " conv2d (Conv2D)             (None, 128, 128, 64)      640       \n",
            "                                                                 \n",
            " activation (Activation)     (None, 128, 128, 64)      0         \n",
            "                                                                 \n",
            " batch_normalization (BatchN  (None, 128, 128, 64)     256       \n",
            " ormalization)                                                   \n",
            "                                                                 \n",
            " conv2d_1 (Conv2D)           (None, 128, 128, 64)      36928     \n",
            "                                                                 \n",
            " activation_1 (Activation)   (None, 128, 128, 64)      0         \n",
            "                                                                 \n",
            " max_pooling2d (MaxPooling2D  (None, 64, 64, 64)       0         \n",
            " )                                                               \n",
            "                                                                 \n",
            " batch_normalization_1 (Batc  (None, 64, 64, 64)       256       \n",
            " hNormalization)                                                 \n",
            "                                                                 \n",
            " conv2d_2 (Conv2D)           (None, 64, 64, 128)       73856     \n",
            "                                                                 \n",
            " activation_2 (Activation)   (None, 64, 64, 128)       0         \n",
            "                                                                 \n",
            " batch_normalization_2 (Batc  (None, 64, 64, 128)      512       \n",
            " hNormalization)                                                 \n",
            "                                                                 \n",
            " conv2d_3 (Conv2D)           (None, 64, 64, 128)       147584    \n",
            "                                                                 \n",
            " activation_3 (Activation)   (None, 64, 64, 128)       0         \n",
            "                                                                 \n",
            " max_pooling2d_1 (MaxPooling  (None, 32, 32, 128)      0         \n",
            " 2D)                                                             \n",
            "                                                                 \n",
            " batch_normalization_3 (Batc  (None, 32, 32, 128)      512       \n",
            " hNormalization)                                                 \n",
            "                                                                 \n",
            " conv2d_4 (Conv2D)           (None, 32, 32, 256)       295168    \n",
            "                                                                 \n",
            " activation_4 (Activation)   (None, 32, 32, 256)       0         \n",
            "                                                                 \n",
            " batch_normalization_4 (Batc  (None, 32, 32, 256)      1024      \n",
            " hNormalization)                                                 \n",
            "                                                                 \n",
            " conv2d_5 (Conv2D)           (None, 32, 32, 256)       590080    \n",
            "                                                                 \n",
            " activation_5 (Activation)   (None, 32, 32, 256)       0         \n",
            "                                                                 \n",
            " batch_normalization_5 (Batc  (None, 32, 32, 256)      1024      \n",
            " hNormalization)                                                 \n",
            "                                                                 \n",
            " conv2d_6 (Conv2D)           (None, 32, 32, 256)       590080    \n",
            "                                                                 \n",
            " activation_6 (Activation)   (None, 32, 32, 256)       0         \n",
            "                                                                 \n",
            " max_pooling2d_2 (MaxPooling  (None, 16, 16, 256)      0         \n",
            " 2D)                                                             \n",
            "                                                                 \n",
            " batch_normalization_6 (Batc  (None, 16, 16, 256)      1024      \n",
            " hNormalization)                                                 \n",
            "                                                                 \n",
            " conv2d_7 (Conv2D)           (None, 16, 16, 512)       1180160   \n",
            "                                                                 \n",
            " activation_7 (Activation)   (None, 16, 16, 512)       0         \n",
            "                                                                 \n",
            " batch_normalization_7 (Batc  (None, 16, 16, 512)      2048      \n",
            " hNormalization)                                                 \n",
            "                                                                 \n",
            " conv2d_8 (Conv2D)           (None, 16, 16, 512)       2359808   \n",
            "                                                                 \n",
            " activation_8 (Activation)   (None, 16, 16, 512)       0         \n",
            "                                                                 \n",
            " batch_normalization_8 (Batc  (None, 16, 16, 512)      2048      \n",
            " hNormalization)                                                 \n",
            "                                                                 \n",
            " conv2d_9 (Conv2D)           (None, 16, 16, 512)       2359808   \n",
            "                                                                 \n",
            " activation_9 (Activation)   (None, 16, 16, 512)       0         \n",
            "                                                                 \n",
            " max_pooling2d_3 (MaxPooling  (None, 8, 8, 512)        0         \n",
            " 2D)                                                             \n",
            "                                                                 \n",
            " batch_normalization_9 (Batc  (None, 8, 8, 512)        2048      \n",
            " hNormalization)                                                 \n",
            "                                                                 \n",
            " conv2d_10 (Conv2D)          (None, 8, 8, 512)         2359808   \n",
            "                                                                 \n",
            " activation_10 (Activation)  (None, 8, 8, 512)         0         \n",
            "                                                                 \n",
            " batch_normalization_10 (Bat  (None, 8, 8, 512)        2048      \n",
            " chNormalization)                                                \n",
            "                                                                 \n",
            " conv2d_11 (Conv2D)          (None, 8, 8, 512)         2359808   \n",
            "                                                                 \n",
            " activation_11 (Activation)  (None, 8, 8, 512)         0         \n",
            "                                                                 \n",
            " batch_normalization_11 (Bat  (None, 8, 8, 512)        2048      \n",
            " chNormalization)                                                \n",
            "                                                                 \n",
            " conv2d_12 (Conv2D)          (None, 8, 8, 512)         2359808   \n",
            "                                                                 \n",
            " activation_12 (Activation)  (None, 8, 8, 512)         0         \n",
            "                                                                 \n",
            " max_pooling2d_4 (MaxPooling  (None, 4, 4, 512)        0         \n",
            " 2D)                                                             \n",
            "                                                                 \n",
            " batch_normalization_12 (Bat  (None, 4, 4, 512)        2048      \n",
            " chNormalization)                                                \n",
            "                                                                 \n",
            " flatten (Flatten)           (None, 8192)              0         \n",
            "                                                                 \n",
            " dense (Dense)               (None, 4096)              33558528  \n",
            "                                                                 \n",
            " activation_13 (Activation)  (None, 4096)              0         \n",
            "                                                                 \n",
            " batch_normalization_13 (Bat  (None, 4096)             16384     \n",
            " chNormalization)                                                \n",
            "                                                                 \n",
            " dropout (Dropout)           (None, 4096)              0         \n",
            "                                                                 \n",
            " dense_1 (Dense)             (None, 4096)              16781312  \n",
            "                                                                 \n",
            " activation_14 (Activation)  (None, 4096)              0         \n",
            "                                                                 \n",
            " batch_normalization_14 (Bat  (None, 4096)             16384     \n",
            " chNormalization)                                                \n"
          ]
        },
        {
          "output_type": "stream",
          "name": "stderr",
          "text": [
            "/usr/local/lib/python3.7/dist-packages/keras/optimizer_v2/rmsprop.py:130: UserWarning: The `lr` argument is deprecated, use `learning_rate` instead.\n",
            "  super(RMSprop, self).__init__(name, **kwargs)\n"
          ]
        },
        {
          "output_type": "stream",
          "name": "stdout",
          "text": [
            "                                                                 \n",
            " dropout_1 (Dropout)         (None, 4096)              0         \n",
            "                                                                 \n",
            " dense_2 (Dense)             (None, 1000)              4097000   \n",
            "                                                                 \n",
            " activation_15 (Activation)  (None, 1000)              0         \n",
            "                                                                 \n",
            " batch_normalization_15 (Bat  (None, 1000)             4000      \n",
            " chNormalization)                                                \n",
            "                                                                 \n",
            " dropout_2 (Dropout)         (None, 1000)              0         \n",
            "                                                                 \n",
            " dense_3 (Dense)             (None, 2)                 2002      \n",
            "                                                                 \n",
            "=================================================================\n",
            "Total params: 69,206,042\n",
            "Trainable params: 69,179,210\n",
            "Non-trainable params: 26,832\n",
            "_________________________________________________________________\n"
          ]
        }
      ]
    },
    {
      "cell_type": "code",
      "source": [
        "#training data\n",
        "H = vgg16.fit(trainX, trainY, validation_data=(testX, testY), epochs=70, batch_size=16)"
      ],
      "metadata": {
        "id": "JOp0TzHxZYLf",
        "colab": {
          "base_uri": "https://localhost:8080/"
        },
        "outputId": "57ca0a70-903e-4381-ac17-b221401189f6"
      },
      "execution_count": 12,
      "outputs": [
        {
          "output_type": "stream",
          "name": "stdout",
          "text": [
            "Epoch 1/70\n",
            "70/70 [==============================] - 28s 152ms/step - loss: 1.4798 - accuracy: 0.7188 - val_loss: 217.5502 - val_accuracy: 0.5143\n",
            "Epoch 2/70\n",
            "70/70 [==============================] - 8s 117ms/step - loss: 0.8646 - accuracy: 0.7027 - val_loss: 13.0037 - val_accuracy: 0.4607\n",
            "Epoch 3/70\n",
            "70/70 [==============================] - 8s 117ms/step - loss: 0.6664 - accuracy: 0.7446 - val_loss: 2.5016 - val_accuracy: 0.7107\n",
            "Epoch 4/70\n",
            "70/70 [==============================] - 8s 120ms/step - loss: 0.5367 - accuracy: 0.8071 - val_loss: 7.5472 - val_accuracy: 0.4964\n",
            "Epoch 5/70\n",
            "70/70 [==============================] - 8s 118ms/step - loss: 0.4317 - accuracy: 0.8161 - val_loss: 1.8090 - val_accuracy: 0.5179\n",
            "Epoch 6/70\n",
            "70/70 [==============================] - 8s 118ms/step - loss: 0.3159 - accuracy: 0.8795 - val_loss: 5.3874 - val_accuracy: 0.6000\n",
            "Epoch 7/70\n",
            "70/70 [==============================] - 8s 119ms/step - loss: 0.3497 - accuracy: 0.8705 - val_loss: 0.8507 - val_accuracy: 0.8250\n",
            "Epoch 8/70\n",
            "70/70 [==============================] - 8s 120ms/step - loss: 0.2607 - accuracy: 0.8964 - val_loss: 1.3884 - val_accuracy: 0.7393\n",
            "Epoch 9/70\n",
            "70/70 [==============================] - 8s 119ms/step - loss: 0.2877 - accuracy: 0.8982 - val_loss: 3.6039 - val_accuracy: 0.7571\n",
            "Epoch 10/70\n",
            "70/70 [==============================] - 8s 119ms/step - loss: 0.2764 - accuracy: 0.9036 - val_loss: 1.3869 - val_accuracy: 0.4893\n",
            "Epoch 11/70\n",
            "70/70 [==============================] - 8s 119ms/step - loss: 0.2352 - accuracy: 0.9134 - val_loss: 1.8964 - val_accuracy: 0.7321\n",
            "Epoch 12/70\n",
            "70/70 [==============================] - 8s 119ms/step - loss: 0.2303 - accuracy: 0.9187 - val_loss: 0.4942 - val_accuracy: 0.9214\n",
            "Epoch 13/70\n",
            "70/70 [==============================] - 8s 119ms/step - loss: 0.2093 - accuracy: 0.9223 - val_loss: 0.8703 - val_accuracy: 0.8821\n",
            "Epoch 14/70\n",
            "70/70 [==============================] - 8s 119ms/step - loss: 0.2018 - accuracy: 0.9187 - val_loss: 0.7775 - val_accuracy: 0.8286\n",
            "Epoch 15/70\n",
            "70/70 [==============================] - 8s 121ms/step - loss: 0.1627 - accuracy: 0.9402 - val_loss: 0.9982 - val_accuracy: 0.7214\n",
            "Epoch 16/70\n",
            "70/70 [==============================] - 8s 118ms/step - loss: 0.1954 - accuracy: 0.9357 - val_loss: 0.5948 - val_accuracy: 0.8536\n",
            "Epoch 17/70\n",
            "70/70 [==============================] - 8s 119ms/step - loss: 0.1435 - accuracy: 0.9509 - val_loss: 1.6473 - val_accuracy: 0.7893\n",
            "Epoch 18/70\n",
            "70/70 [==============================] - 8s 120ms/step - loss: 0.1707 - accuracy: 0.9438 - val_loss: 0.1665 - val_accuracy: 0.9500\n",
            "Epoch 19/70\n",
            "70/70 [==============================] - 8s 119ms/step - loss: 0.1460 - accuracy: 0.9411 - val_loss: 0.1307 - val_accuracy: 0.9607\n",
            "Epoch 20/70\n",
            "70/70 [==============================] - 8s 119ms/step - loss: 0.1256 - accuracy: 0.9589 - val_loss: 1.1119 - val_accuracy: 0.8393\n",
            "Epoch 21/70\n",
            "70/70 [==============================] - 8s 120ms/step - loss: 0.1255 - accuracy: 0.9589 - val_loss: 0.1706 - val_accuracy: 0.9571\n",
            "Epoch 22/70\n",
            "70/70 [==============================] - 8s 120ms/step - loss: 0.1328 - accuracy: 0.9607 - val_loss: 0.2333 - val_accuracy: 0.9393\n",
            "Epoch 23/70\n",
            "70/70 [==============================] - 8s 120ms/step - loss: 0.1425 - accuracy: 0.9598 - val_loss: 0.0795 - val_accuracy: 0.9714\n",
            "Epoch 24/70\n",
            "70/70 [==============================] - 8s 119ms/step - loss: 0.0937 - accuracy: 0.9723 - val_loss: 0.6033 - val_accuracy: 0.8107\n",
            "Epoch 25/70\n",
            "70/70 [==============================] - 9s 123ms/step - loss: 0.0987 - accuracy: 0.9643 - val_loss: 0.6440 - val_accuracy: 0.8786\n",
            "Epoch 26/70\n",
            "70/70 [==============================] - 9s 122ms/step - loss: 0.0931 - accuracy: 0.9714 - val_loss: 2.2162 - val_accuracy: 0.5750\n",
            "Epoch 27/70\n",
            "70/70 [==============================] - 8s 119ms/step - loss: 0.0808 - accuracy: 0.9759 - val_loss: 0.5186 - val_accuracy: 0.8893\n",
            "Epoch 28/70\n",
            "70/70 [==============================] - 8s 119ms/step - loss: 0.0823 - accuracy: 0.9786 - val_loss: 0.3408 - val_accuracy: 0.9250\n",
            "Epoch 29/70\n",
            "70/70 [==============================] - 8s 120ms/step - loss: 0.0932 - accuracy: 0.9696 - val_loss: 0.3794 - val_accuracy: 0.9036\n",
            "Epoch 30/70\n",
            "70/70 [==============================] - 8s 119ms/step - loss: 0.0981 - accuracy: 0.9714 - val_loss: 0.2693 - val_accuracy: 0.9500\n",
            "Epoch 31/70\n",
            "70/70 [==============================] - 8s 119ms/step - loss: 0.0816 - accuracy: 0.9759 - val_loss: 0.0676 - val_accuracy: 0.9821\n",
            "Epoch 32/70\n",
            "70/70 [==============================] - 8s 120ms/step - loss: 0.0767 - accuracy: 0.9732 - val_loss: 0.1940 - val_accuracy: 0.9571\n",
            "Epoch 33/70\n",
            "70/70 [==============================] - 8s 120ms/step - loss: 0.0750 - accuracy: 0.9795 - val_loss: 0.2745 - val_accuracy: 0.9071\n",
            "Epoch 34/70\n",
            "70/70 [==============================] - 8s 119ms/step - loss: 0.0914 - accuracy: 0.9741 - val_loss: 0.3552 - val_accuracy: 0.9393\n",
            "Epoch 35/70\n",
            "70/70 [==============================] - 8s 119ms/step - loss: 0.0649 - accuracy: 0.9759 - val_loss: 0.1599 - val_accuracy: 0.9679\n",
            "Epoch 36/70\n",
            "70/70 [==============================] - 8s 119ms/step - loss: 0.0960 - accuracy: 0.9714 - val_loss: 0.2231 - val_accuracy: 0.9321\n",
            "Epoch 37/70\n",
            "70/70 [==============================] - 8s 119ms/step - loss: 0.0622 - accuracy: 0.9857 - val_loss: 0.2462 - val_accuracy: 0.9643\n",
            "Epoch 38/70\n",
            "70/70 [==============================] - 8s 119ms/step - loss: 0.0598 - accuracy: 0.9821 - val_loss: 0.2680 - val_accuracy: 0.9286\n",
            "Epoch 39/70\n",
            "70/70 [==============================] - 8s 119ms/step - loss: 0.0643 - accuracy: 0.9848 - val_loss: 0.2360 - val_accuracy: 0.9357\n",
            "Epoch 40/70\n",
            "70/70 [==============================] - 8s 120ms/step - loss: 0.0481 - accuracy: 0.9884 - val_loss: 0.5516 - val_accuracy: 0.8786\n",
            "Epoch 41/70\n",
            "70/70 [==============================] - 8s 120ms/step - loss: 0.0749 - accuracy: 0.9821 - val_loss: 0.2904 - val_accuracy: 0.9500\n",
            "Epoch 42/70\n",
            "70/70 [==============================] - 8s 119ms/step - loss: 0.0565 - accuracy: 0.9812 - val_loss: 0.6176 - val_accuracy: 0.8929\n",
            "Epoch 43/70\n",
            "70/70 [==============================] - 8s 119ms/step - loss: 0.0317 - accuracy: 0.9893 - val_loss: 0.5530 - val_accuracy: 0.8821\n",
            "Epoch 44/70\n",
            "70/70 [==============================] - 8s 119ms/step - loss: 0.0744 - accuracy: 0.9812 - val_loss: 0.2593 - val_accuracy: 0.9536\n",
            "Epoch 45/70\n",
            "70/70 [==============================] - 8s 120ms/step - loss: 0.1014 - accuracy: 0.9750 - val_loss: 0.1244 - val_accuracy: 0.9643\n",
            "Epoch 46/70\n",
            "70/70 [==============================] - 8s 119ms/step - loss: 0.0591 - accuracy: 0.9875 - val_loss: 0.7005 - val_accuracy: 0.8429\n",
            "Epoch 47/70\n",
            "70/70 [==============================] - 8s 119ms/step - loss: 0.0758 - accuracy: 0.9839 - val_loss: 1.6022 - val_accuracy: 0.7357\n",
            "Epoch 48/70\n",
            "70/70 [==============================] - 8s 119ms/step - loss: 0.0431 - accuracy: 0.9875 - val_loss: 0.1166 - val_accuracy: 0.9607\n",
            "Epoch 49/70\n",
            "70/70 [==============================] - 8s 121ms/step - loss: 0.0585 - accuracy: 0.9884 - val_loss: 0.7416 - val_accuracy: 0.8607\n",
            "Epoch 50/70\n",
            "70/70 [==============================] - 8s 119ms/step - loss: 0.0579 - accuracy: 0.9839 - val_loss: 0.1493 - val_accuracy: 0.9500\n",
            "Epoch 51/70\n",
            "70/70 [==============================] - 8s 119ms/step - loss: 0.0434 - accuracy: 0.9875 - val_loss: 0.1687 - val_accuracy: 0.9643\n",
            "Epoch 52/70\n",
            "70/70 [==============================] - 8s 120ms/step - loss: 0.0664 - accuracy: 0.9857 - val_loss: 0.0417 - val_accuracy: 0.9750\n",
            "Epoch 53/70\n",
            "70/70 [==============================] - 8s 119ms/step - loss: 0.0393 - accuracy: 0.9902 - val_loss: 0.3506 - val_accuracy: 0.9250\n",
            "Epoch 54/70\n",
            "70/70 [==============================] - 8s 119ms/step - loss: 0.0384 - accuracy: 0.9866 - val_loss: 0.2740 - val_accuracy: 0.9429\n",
            "Epoch 55/70\n",
            "70/70 [==============================] - 8s 121ms/step - loss: 0.0637 - accuracy: 0.9795 - val_loss: 0.2773 - val_accuracy: 0.9607\n",
            "Epoch 56/70\n",
            "70/70 [==============================] - 8s 119ms/step - loss: 0.0428 - accuracy: 0.9920 - val_loss: 0.1263 - val_accuracy: 0.9643\n",
            "Epoch 57/70\n",
            "70/70 [==============================] - 8s 121ms/step - loss: 0.0318 - accuracy: 0.9902 - val_loss: 0.3677 - val_accuracy: 0.9214\n",
            "Epoch 58/70\n",
            "70/70 [==============================] - 8s 120ms/step - loss: 0.1655 - accuracy: 0.9732 - val_loss: 0.0428 - val_accuracy: 0.9857\n",
            "Epoch 59/70\n",
            "70/70 [==============================] - 8s 120ms/step - loss: 0.0353 - accuracy: 0.9902 - val_loss: 0.1282 - val_accuracy: 0.9607\n",
            "Epoch 60/70\n",
            "70/70 [==============================] - 9s 122ms/step - loss: 0.0323 - accuracy: 0.9929 - val_loss: 0.6364 - val_accuracy: 0.8786\n",
            "Epoch 61/70\n",
            "70/70 [==============================] - 8s 119ms/step - loss: 0.0263 - accuracy: 0.9920 - val_loss: 0.1713 - val_accuracy: 0.9571\n",
            "Epoch 62/70\n",
            "70/70 [==============================] - 9s 122ms/step - loss: 0.0349 - accuracy: 0.9929 - val_loss: 0.1928 - val_accuracy: 0.9464\n",
            "Epoch 63/70\n",
            "70/70 [==============================] - 8s 119ms/step - loss: 0.0502 - accuracy: 0.9902 - val_loss: 0.1938 - val_accuracy: 0.9679\n",
            "Epoch 64/70\n",
            "70/70 [==============================] - 8s 122ms/step - loss: 0.0353 - accuracy: 0.9902 - val_loss: 0.2234 - val_accuracy: 0.9679\n",
            "Epoch 65/70\n",
            "70/70 [==============================] - 8s 119ms/step - loss: 0.0404 - accuracy: 0.9875 - val_loss: 0.3596 - val_accuracy: 0.9429\n",
            "Epoch 66/70\n",
            "70/70 [==============================] - 8s 120ms/step - loss: 0.0125 - accuracy: 0.9982 - val_loss: 0.3335 - val_accuracy: 0.9607\n",
            "Epoch 67/70\n",
            "70/70 [==============================] - 9s 122ms/step - loss: 0.0419 - accuracy: 0.9937 - val_loss: 0.8120 - val_accuracy: 0.8857\n",
            "Epoch 68/70\n",
            "70/70 [==============================] - 9s 122ms/step - loss: 0.0407 - accuracy: 0.9902 - val_loss: 0.1968 - val_accuracy: 0.9679\n",
            "Epoch 69/70\n",
            "70/70 [==============================] - 8s 120ms/step - loss: 0.0338 - accuracy: 0.9884 - val_loss: 0.4559 - val_accuracy: 0.9393\n",
            "Epoch 70/70\n",
            "70/70 [==============================] - 8s 119ms/step - loss: 0.0482 - accuracy: 0.9884 - val_loss: 1.0284 - val_accuracy: 0.8714\n"
          ]
        }
      ]
    },
    {
      "cell_type": "code",
      "source": [
        "print(\"[INFO] evaluating network...\")\n",
        "predictions = vgg16.predict(testX, batch_size=16)\n",
        "pred=predictions.argmax(axis=1)\n",
        "testY_argm=testY.argmax(axis=1)\n"
      ],
      "metadata": {
        "id": "qjoEfHoWsr9H",
        "colab": {
          "base_uri": "https://localhost:8080/"
        },
        "outputId": "116fc734-ce09-48bf-809b-3d87ccf318b9"
      },
      "execution_count": 13,
      "outputs": [
        {
          "output_type": "stream",
          "name": "stdout",
          "text": [
            "[INFO] evaluating network...\n"
          ]
        }
      ]
    },
    {
      "cell_type": "code",
      "source": [
        "print(classification_report(testY_argm,pred,target_names=lb.classes_))"
      ],
      "metadata": {
        "id": "Po9wqNIMts7s",
        "colab": {
          "base_uri": "https://localhost:8080/"
        },
        "outputId": "4a2cbe5c-c2e0-4fe9-f8e3-5f6ea0bbbde6"
      },
      "execution_count": 14,
      "outputs": [
        {
          "output_type": "stream",
          "name": "stdout",
          "text": [
            "              precision    recall  f1-score   support\n",
            "\n",
            "      Normal       0.83      0.94      0.88       144\n",
            "Tuberculosis       0.92      0.80      0.86       136\n",
            "\n",
            "    accuracy                           0.87       280\n",
            "   macro avg       0.88      0.87      0.87       280\n",
            "weighted avg       0.88      0.87      0.87       280\n",
            "\n"
          ]
        }
      ]
    },
    {
      "cell_type": "code",
      "source": [
        "test_score = vgg16.evaluate(testX, testY) \n",
        "print(\"Test Loss {:.4f}, accuracy {:.2f}%\".format(test_score[0], test_score[1] * 100))"
      ],
      "metadata": {
        "id": "5NSJXylrt1ND",
        "colab": {
          "base_uri": "https://localhost:8080/"
        },
        "outputId": "4bd15e54-254b-41f2-9336-97a0cfd80f5f"
      },
      "execution_count": 15,
      "outputs": [
        {
          "output_type": "stream",
          "name": "stdout",
          "text": [
            "9/9 [==============================] - 5s 278ms/step - loss: 1.0284 - accuracy: 0.8714\n",
            "Test Loss 1.0284, accuracy 87.14%\n"
          ]
        }
      ]
    },
    {
      "cell_type": "code",
      "source": [
        "from sklearn.metrics import confusion_matrix\n",
        "import itertools\n",
        "\n",
        "def plot_confusion_matrix(cm, classes, normalize=False, title='Confusion matrix', cmap='Blues'):\n",
        "  if normalize:\n",
        "     cm = cm.astype('float') / cm.sum(axis=1)[:, np.newaxis]\n",
        "     print(\"Normalized confusion matrix\")\n",
        "  else:\n",
        "     print('Confusion matrix, without normalization')\n",
        "  print(cm)\n",
        "  plt.imshow(cm, interpolation='nearest', cmap=cmap)\n",
        "  plt.title(title)\n",
        "  plt.colorbar()\n",
        "  tick_marks = np.arange(len(classes))\n",
        "  plt.xticks(tick_marks, classes, rotation=45)\n",
        "  plt.yticks(tick_marks, classes)\n",
        "  fmt = '.2f' if normalize else 'd'\n",
        "  thresh = cm.max() / 2.\n",
        "  for i, j in itertools.product(range(cm.shape[0]), range(cm.shape[1])):\n",
        "      plt.text(j, i, format(cm[i, j], fmt), horizontalalignment=\"center\", color=\"white\" if cm[i, j] > thresh else \"black\")\n",
        "  plt.ylabel('True label')\n",
        "  plt.xlabel('Predicted label')\n",
        "  plt.tight_layout()"
      ],
      "metadata": {
        "id": "ZS-FXHa6uI6H"
      },
      "execution_count": 16,
      "outputs": []
    },
    {
      "cell_type": "code",
      "source": [
        "cnf_matrix = confusion_matrix(testY_argm, pred)\n",
        "np.set_printoptions(precision=2)\n",
        "\n",
        "# Plot non/normalized confusion matrix\n",
        "plt.figure()\n",
        "plot_confusion_matrix(cnf_matrix,\n",
        "classes=lb.classes_, normalize=True)\n",
        "plt.show()\n",
        "\n",
        "plt.figure()\n",
        "plot_confusion_matrix(cnf_matrix,\n",
        "classes=lb.classes_, normalize=False)\n",
        "plt.show()\n",
        "\n",
        "f, ax = plt.subplots()\n",
        "ax.plot([None] + H.history['accuracy'], 'o-')\n",
        "ax.plot([None] + H.history['val_accuracy'], 'x-')\n",
        "\n",
        "ax.legend(['Train acc', 'Validation acc'], loc = 0)\n",
        "ax.set_title('Training/Validation acc per Epoch')\n",
        "ax.set_xlabel('Epoch')\n",
        "ax.set_ylabel('acc')\n",
        "plt.grid(True)\n",
        "\n",
        "f, ax = plt.subplots()\n",
        "ax.plot([None] + H.history['loss'], 'o-')\n",
        "ax.plot([None] + H.history['val_loss'], 'x-')\n",
        "ax.legend(['Train Loss', 'Validation Loss'], loc = 0)\n",
        "ax.set_title('Training/Validation Loss per Epoch')\n",
        "ax.set_xlabel('Epoch')\n",
        "ax.set_ylabel('loss')\n",
        "plt.grid(True)"
      ],
      "metadata": {
        "id": "eiYstz9xuRLx",
        "colab": {
          "base_uri": "https://localhost:8080/",
          "height": 1000
        },
        "outputId": "67f6b909-ed1d-406d-cfc8-7ddc5c300f46"
      },
      "execution_count": 17,
      "outputs": [
        {
          "output_type": "stream",
          "name": "stdout",
          "text": [
            "Normalized confusion matrix\n",
            "[[0.94 0.06]\n",
            " [0.2  0.8 ]]\n"
          ]
        },
        {
          "output_type": "display_data",
          "data": {
            "text/plain": [
              "<Figure size 432x288 with 2 Axes>"
            ],
            "image/png": "[encoded data removed]"
          },
          "metadata": {
            "needs_background": "light"
          }
        },
        {
          "output_type": "stream",
          "name": "stdout",
          "text": [
            "Confusion matrix, without normalization\n",
            "[[135   9]\n",
            " [ 27 109]]\n"
          ]
        },
        {
          "output_type": "display_data",
          "data": {
            "text/plain": [
              "<Figure size 432x288 with 2 Axes>"
            ],
            "image/png": "[encoded data removed]"
          },
          "metadata": {
            "needs_background": "light"
          }
        },
        {
          "output_type": "display_data",
          "data": {
            "text/plain": [
              "<Figure size 432x288 with 1 Axes>"
            ],
            "image/png": "[encoded data removed]"
          },
          "metadata": {
            "needs_background": "light"
          }
        },
        {
          "output_type": "display_data",
          "data": {
            "text/plain": [
              "<Figure size 432x288 with 1 Axes>"
            ],
            "image/png": "[encoded data removed]"
          },
          "metadata": {
            "needs_background": "light"
          }
        }
      ]
    }
  ]
}