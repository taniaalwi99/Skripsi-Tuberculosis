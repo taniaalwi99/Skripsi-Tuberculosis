{
  "nbformat": 4,
  "nbformat_minor": 0,
  "metadata": {
    "colab": {
      "name": "Tuberculosis_VGG-16.ipynb",
      "provenance": [],
      "collapsed_sections": [],
      "include_colab_link": true
    },
    "kernelspec": {
      "name": "python3",
      "display_name": "Python 3"
    },
    "language_info": {
      "name": "python"
    },
    "accelerator": "GPU",
    "gpuClass": "standard"
  },
  "cells": [
    {
      "cell_type": "markdown",
      "metadata": {
        "id": "view-in-github",
        "colab_type": "text"
      },
      "source": [
        "<a href=\"https://colab.research.google.com/github/taniaalwi99/Skripsi-Tuberculosis/blob/main/Tuberculosis_Resize_64x64.ipynb\" target=\"_parent\"><img src=\"https://colab.research.google.com/assets/colab-badge.svg\" alt=\"Open In Colab\"/></a>"
      ]
    },
    {
      "cell_type": "code",
      "execution_count": 55,
      "metadata": {
        "colab": {
          "base_uri": "https://localhost:8080/"
        },
        "id": "2_RYo7hrXaC5",
        "outputId": "d0ef652a-d62f-4530-b072-6ca56ca04d5a"
      },
      "outputs": [
        {
          "output_type": "stream",
          "name": "stdout",
          "text": [
            "Drive already mounted at /content/drive; to attempt to forcibly remount, call drive.mount(\"/content/drive\", force_remount=True).\n"
          ]
        }
      ],
      "source": [
        "from google.colab import drive\n",
        "drive.mount('/content/drive')"
      ]
    },
    {
      "cell_type": "code",
      "source": [
        "cd //content/drive/MyDrive"
      ],
      "metadata": {
        "colab": {
          "base_uri": "https://localhost:8080/"
        },
        "id": "G4aisxOFX3KH",
        "outputId": "359f4a88-a764-4ed3-f298-4d344e4e81cb"
      },
      "execution_count": 56,
      "outputs": [
        {
          "output_type": "stream",
          "name": "stdout",
          "text": [
            "/content/drive/MyDrive\n"
          ]
        }
      ]
    },
    {
      "cell_type": "code",
      "source": [
        "ls"
      ],
      "metadata": {
        "colab": {
          "base_uri": "https://localhost:8080/"
        },
        "id": "e_oGUrADX8O_",
        "outputId": "a3423b77-d76d-442d-b5b8-82f60d30cd3a"
      },
      "execution_count": 57,
      "outputs": [
        {
          "output_type": "stream",
          "name": "stdout",
          "text": [
            "\u001b[0m\u001b[01;34m'Colab Notebooks'\u001b[0m/  \u001b[01;34m'Dataset Gray'\u001b[0m/  \u001b[01;34m'Tania Alwi'\u001b[0m/   Tuberculosis_VGG-16.ipynb\n"
          ]
        }
      ]
    },
    {
      "cell_type": "code",
      "source": [
        "from keras.models import Model\n",
        "from keras.models import load_model\n",
        "from keras.models import Sequential\n",
        "from keras.layers.convolutional import Convolution2D\n",
        "from keras.layers.convolutional import MaxPooling2D\n",
        "from keras.layers.convolutional import ZeroPadding2D\n",
        "from keras.layers.core import Activation\n",
        "from keras.layers.core import Flatten\n",
        "from keras.layers.core import Dense\n",
        "from keras.layers.core import Dropout\n",
        "from keras.layers import BatchNormalization\n",
        "from keras import regularizers\n",
        "from keras.preprocessing.image import ImageDataGenerator\n",
        "from tensorflow.keras.optimizers import RMSprop, Adam, SGD\n",
        "from sklearn.preprocessing import LabelBinarizer\n",
        "from sklearn.model_selection import train_test_split\n",
        "from sklearn.metrics import classification_report\n",
        "from PIL import Image\n",
        "from matplotlib import pyplot as plt\n",
        "from imutils import paths\n",
        "import numpy as np\n",
        "import os"
      ],
      "metadata": {
        "id": "t95OxlI7X_OF"
      },
      "execution_count": 58,
      "outputs": []
    },
    {
      "cell_type": "code",
      "source": [
        "print(\"[INFO] loading images...\")\n",
        "imagePaths = paths.list_images(\"Dataset Gray\")\n",
        "data = []\n",
        "labels = []"
      ],
      "metadata": {
        "colab": {
          "base_uri": "https://localhost:8080/"
        },
        "id": "jvn693i-YDZ8",
        "outputId": "675b2913-cb1e-425b-8254-078543a6ee89"
      },
      "execution_count": 59,
      "outputs": [
        {
          "output_type": "stream",
          "name": "stdout",
          "text": [
            "[INFO] loading images...\n"
          ]
        }
      ]
    },
    {
      "cell_type": "code",
      "source": [
        "for imagePaths in imagePaths:\n",
        "    a = Image.open(imagePaths)\n",
        "    image = np.array(a.resize((64,64))) / 255.0\n",
        "    data.append(image)\n",
        "    \n",
        "    label = imagePaths.split(os.path.sep) [-2]\n",
        "    labels.append(label)"
      ],
      "metadata": {
        "id": "3XLuWAZsYLfK"
      },
      "execution_count": 60,
      "outputs": []
    },
    {
      "cell_type": "code",
      "source": [
        "from sklearn.preprocessing import LabelBinarizer\n",
        "import numpy as np\n",
        "\n",
        "class MyLabelBinarizer(LabelBinarizer):\n",
        "    def transform(self, label):\n",
        "      nilaiy = super().transform(label)\n",
        "      if self.y_type_== 'binary':\n",
        "        return np.hstack((nilaiy, 1-nilaiy))\n",
        "      else:\n",
        "        return nilaiy\n",
        "    def inverse_transform(self, nilaiy, threshold=None):\n",
        "      if self.y_type_ == 'binary':\n",
        "          return super().inverse_transform(nilaiy[:, 0], threshold)\n",
        "      else:\n",
        "          return super().inverse_transform(nilaiy, threshold)\n",
        "\n",
        "      \n",
        "\n",
        "lb = MyLabelBinarizer()\n",
        "labels = lb.fit_transform(labels)\n",
        "print(labels)"
      ],
      "metadata": {
        "colab": {
          "base_uri": "https://localhost:8080/"
        },
        "id": "gnjyPDi_Yyrn",
        "outputId": "fa86d01c-8282-4b0d-b6f8-a60c36d2da30"
      },
      "execution_count": 61,
      "outputs": [
        {
          "output_type": "stream",
          "name": "stdout",
          "text": [
            "[[1 0]\n",
            " [1 0]\n",
            " [1 0]\n",
            " ...\n",
            " [0 1]\n",
            " [0 1]\n",
            " [0 1]]\n"
          ]
        }
      ]
    },
    {
      "cell_type": "code",
      "source": [
        "(trainX,testX, trainY, testY) = train_test_split(np.array(data),np.array(labels), test_size=0.20)\n",
        "print(trainX.shape)\n",
        "print(testX.shape)"
      ],
      "metadata": {
        "id": "0V3CnlQtY1g2",
        "colab": {
          "base_uri": "https://localhost:8080/"
        },
        "outputId": "5b0c5473-94ab-4dd0-9181-00d76d272c89"
      },
      "execution_count": 62,
      "outputs": [
        {
          "output_type": "stream",
          "name": "stdout",
          "text": [
            "(1120, 64, 64)\n",
            "(280, 64, 64)\n"
          ]
        }
      ]
    },
    {
      "cell_type": "code",
      "source": [
        "def vgg16(num_classes):\n",
        "\n",
        "    vgg16 = Sequential()\n",
        "\n",
        "    vgg16.add(Convolution2D(input_shape=(64,64,1),filters=64,kernel_size=(3,3),padding=\"same\"))\n",
        "    vgg16.add(Activation('relu'))\n",
        "    vgg16.add(BatchNormalization())\n",
        "    #layer1 32*32*64\n",
        "    vgg16.add(Convolution2D(filters=64,kernel_size=(3,3),padding=\"same\"))\n",
        "    vgg16.add(Activation('relu'))\n",
        "    vgg16.add(MaxPooling2D(pool_size=(2, 2),strides=(2,2)))\n",
        "    vgg16.add(BatchNormalization())\n",
        "    #layer2 16*16*64\n",
        "    vgg16.add(Convolution2D(filters=128, kernel_size=(3,3), padding=\"same\"))\n",
        "    vgg16.add(Activation('relu'))\n",
        "    vgg16.add(BatchNormalization())\n",
        "    #layer3 16*16*128\n",
        "    vgg16.add(Convolution2D(filters=128, kernel_size=(3,3), padding=\"same\",))\n",
        "    vgg16.add(Activation('relu'))\n",
        "    vgg16.add(MaxPooling2D(pool_size=(2,2),strides=(2,2)))\n",
        "    vgg16.add(BatchNormalization())\n",
        "    #layer4 8*8*128\n",
        "    vgg16.add(Convolution2D(filters=256, kernel_size=(3,3), padding=\"same\"))\n",
        "    vgg16.add(Activation('relu'))\n",
        "    vgg16.add(BatchNormalization())\n",
        "    #layer5 8*8*256\n",
        "    vgg16.add(Convolution2D(filters=256, kernel_size=(3,3), padding=\"same\"))\n",
        "    vgg16.add(Activation('relu'))\n",
        "    vgg16.add(BatchNormalization())\n",
        "    #layer6 8*8*256\n",
        "    vgg16.add(Convolution2D(filters=256, kernel_size=(3,3), padding=\"same\"))\n",
        "    vgg16.add(Activation('relu'))\n",
        "    vgg16.add(MaxPooling2D(pool_size=(2,2),strides=(2,2)))\n",
        "    vgg16.add(BatchNormalization())\n",
        "    #layer7 4*4*256\n",
        "    vgg16.add(Convolution2D(filters=512, kernel_size=(3,3), padding=\"same\"))\n",
        "    vgg16.add(Activation('relu'))\n",
        "    vgg16.add(BatchNormalization())\n",
        "    #layer8 4*4*512\n",
        "    vgg16.add(Convolution2D(filters=512, kernel_size=(3,3), padding=\"same\"))\n",
        "    vgg16.add(Activation('relu'))\n",
        "    vgg16.add(BatchNormalization())\n",
        "    #layer9 4*4*512\n",
        "    vgg16.add(Convolution2D(filters=512, kernel_size=(3,3), padding=\"same\"))\n",
        "    vgg16.add(Activation('relu'))\n",
        "    vgg16.add(MaxPooling2D(pool_size=(2,2),strides=(2,2)))\n",
        "    vgg16.add(BatchNormalization())\n",
        "    #layer10 2*2*512\n",
        "    vgg16.add(Convolution2D(filters=512, kernel_size=(3,3), padding=\"same\"))\n",
        "    vgg16.add(Activation('relu'))\n",
        "    vgg16.add(BatchNormalization())\n",
        "    #layer11 2*2*512\n",
        "    vgg16.add(Convolution2D(filters=512, kernel_size=(3,3), padding=\"same\"))  \n",
        "    vgg16.add(Activation('relu')) \n",
        "    vgg16.add(BatchNormalization())       \n",
        "    #layer12 2*2*512\n",
        "    vgg16.add(Convolution2D(filters=512, kernel_size=(3,3), padding=\"same\"))\n",
        "    vgg16.add(Activation('relu'))\n",
        "    vgg16.add(MaxPooling2D(pool_size=(2,2),strides=(2,2)))\n",
        "    vgg16.add(BatchNormalization())\n",
        "    #layer13 1*1*512\n",
        "    vgg16.add(Flatten())\n",
        "    vgg16.add(Dense(units=4096))\n",
        "    vgg16.add(Activation('relu')) \n",
        "    vgg16.add(BatchNormalization())\n",
        "    vgg16.add(Dropout(0.5))\n",
        "    #layer14 4096\n",
        "    vgg16.add(Dense(units=4096))\n",
        "    vgg16.add(Activation('relu')) \n",
        "    vgg16.add(BatchNormalization())\n",
        "    vgg16.add(Dropout(0.5))\n",
        "    #layer16 4096\n",
        "    vgg16.add(Dense(units=1000))\n",
        "    vgg16.add(Activation('relu'))\n",
        "    vgg16.add(BatchNormalization())\n",
        "    vgg16.add(Dropout(0.5)) \n",
        "    #layer16 1000\n",
        "    vgg16.add(Dense(2, activation=\"softmax\"))\n",
        "\n",
        "    return vgg16"
      ],
      "metadata": {
        "id": "WpeYjXzUZCZP"
      },
      "execution_count": 63,
      "outputs": []
    },
    {
      "cell_type": "code",
      "source": [
        "num_classes=2\n",
        "vgg16=vgg16(num_classes)\n",
        "vgg16.summary()"
      ],
      "metadata": {
        "id": "rlT3OhVuZLUs",
        "colab": {
          "base_uri": "https://localhost:8080/"
        },
        "outputId": "88fe890a-4e1b-4d87-db37-3e42f4fc5f83"
      },
      "execution_count": 64,
      "outputs": [
        {
          "output_type": "stream",
          "name": "stdout",
          "text": [
            "Model: \"sequential_2\"\n",
            "_________________________________________________________________\n",
            " Layer (type)                Output Shape              Param #   \n",
            "=================================================================\n",
            " conv2d_26 (Conv2D)          (None, 64, 64, 64)        640       \n",
            "                                                                 \n",
            " activation_32 (Activation)  (None, 64, 64, 64)        0         \n",
            "                                                                 \n",
            " batch_normalization_32 (Bat  (None, 64, 64, 64)       256       \n",
            " chNormalization)                                                \n",
            "                                                                 \n",
            " conv2d_27 (Conv2D)          (None, 64, 64, 64)        36928     \n",
            "                                                                 \n",
            " activation_33 (Activation)  (None, 64, 64, 64)        0         \n",
            "                                                                 \n",
            " max_pooling2d_10 (MaxPoolin  (None, 32, 32, 64)       0         \n",
            " g2D)                                                            \n",
            "                                                                 \n",
            " batch_normalization_33 (Bat  (None, 32, 32, 64)       256       \n",
            " chNormalization)                                                \n",
            "                                                                 \n",
            " conv2d_28 (Conv2D)          (None, 32, 32, 128)       73856     \n",
            "                                                                 \n",
            " activation_34 (Activation)  (None, 32, 32, 128)       0         \n",
            "                                                                 \n",
            " batch_normalization_34 (Bat  (None, 32, 32, 128)      512       \n",
            " chNormalization)                                                \n",
            "                                                                 \n",
            " conv2d_29 (Conv2D)          (None, 32, 32, 128)       147584    \n",
            "                                                                 \n",
            " activation_35 (Activation)  (None, 32, 32, 128)       0         \n",
            "                                                                 \n",
            " max_pooling2d_11 (MaxPoolin  (None, 16, 16, 128)      0         \n",
            " g2D)                                                            \n",
            "                                                                 \n",
            " batch_normalization_35 (Bat  (None, 16, 16, 128)      512       \n",
            " chNormalization)                                                \n",
            "                                                                 \n",
            " conv2d_30 (Conv2D)          (None, 16, 16, 256)       295168    \n",
            "                                                                 \n",
            " activation_36 (Activation)  (None, 16, 16, 256)       0         \n",
            "                                                                 \n",
            " batch_normalization_36 (Bat  (None, 16, 16, 256)      1024      \n",
            " chNormalization)                                                \n",
            "                                                                 \n",
            " conv2d_31 (Conv2D)          (None, 16, 16, 256)       590080    \n",
            "                                                                 \n",
            " activation_37 (Activation)  (None, 16, 16, 256)       0         \n",
            "                                                                 \n",
            " batch_normalization_37 (Bat  (None, 16, 16, 256)      1024      \n",
            " chNormalization)                                                \n",
            "                                                                 \n",
            " conv2d_32 (Conv2D)          (None, 16, 16, 256)       590080    \n",
            "                                                                 \n",
            " activation_38 (Activation)  (None, 16, 16, 256)       0         \n",
            "                                                                 \n",
            " max_pooling2d_12 (MaxPoolin  (None, 8, 8, 256)        0         \n",
            " g2D)                                                            \n",
            "                                                                 \n",
            " batch_normalization_38 (Bat  (None, 8, 8, 256)        1024      \n",
            " chNormalization)                                                \n",
            "                                                                 \n",
            " conv2d_33 (Conv2D)          (None, 8, 8, 512)         1180160   \n",
            "                                                                 \n",
            " activation_39 (Activation)  (None, 8, 8, 512)         0         \n",
            "                                                                 \n",
            " batch_normalization_39 (Bat  (None, 8, 8, 512)        2048      \n",
            " chNormalization)                                                \n",
            "                                                                 \n",
            " conv2d_34 (Conv2D)          (None, 8, 8, 512)         2359808   \n",
            "                                                                 \n",
            " activation_40 (Activation)  (None, 8, 8, 512)         0         \n",
            "                                                                 \n",
            " batch_normalization_40 (Bat  (None, 8, 8, 512)        2048      \n",
            " chNormalization)                                                \n",
            "                                                                 \n",
            " conv2d_35 (Conv2D)          (None, 8, 8, 512)         2359808   \n",
            "                                                                 \n",
            " activation_41 (Activation)  (None, 8, 8, 512)         0         \n",
            "                                                                 \n",
            " max_pooling2d_13 (MaxPoolin  (None, 4, 4, 512)        0         \n",
            " g2D)                                                            \n",
            "                                                                 \n",
            " batch_normalization_41 (Bat  (None, 4, 4, 512)        2048      \n",
            " chNormalization)                                                \n",
            "                                                                 \n",
            " conv2d_36 (Conv2D)          (None, 4, 4, 512)         2359808   \n",
            "                                                                 \n",
            " activation_42 (Activation)  (None, 4, 4, 512)         0         \n",
            "                                                                 \n",
            " batch_normalization_42 (Bat  (None, 4, 4, 512)        2048      \n",
            " chNormalization)                                                \n",
            "                                                                 \n",
            " conv2d_37 (Conv2D)          (None, 4, 4, 512)         2359808   \n",
            "                                                                 \n",
            " activation_43 (Activation)  (None, 4, 4, 512)         0         \n",
            "                                                                 \n",
            " batch_normalization_43 (Bat  (None, 4, 4, 512)        2048      \n",
            " chNormalization)                                                \n",
            "                                                                 \n",
            " conv2d_38 (Conv2D)          (None, 4, 4, 512)         2359808   \n",
            "                                                                 \n",
            " activation_44 (Activation)  (None, 4, 4, 512)         0         \n",
            "                                                                 \n",
            " max_pooling2d_14 (MaxPoolin  (None, 2, 2, 512)        0         \n",
            " g2D)                                                            \n",
            "                                                                 \n",
            " batch_normalization_44 (Bat  (None, 2, 2, 512)        2048      \n",
            " chNormalization)                                                \n",
            "                                                                 \n",
            " flatten_2 (Flatten)         (None, 2048)              0         \n",
            "                                                                 \n",
            " dense_8 (Dense)             (None, 4096)              8392704   \n",
            "                                                                 \n",
            " activation_45 (Activation)  (None, 4096)              0         \n",
            "                                                                 \n",
            " batch_normalization_45 (Bat  (None, 4096)             16384     \n",
            " chNormalization)                                                \n",
            "                                                                 \n",
            " dropout_6 (Dropout)         (None, 4096)              0         \n",
            "                                                                 \n",
            " dense_9 (Dense)             (None, 4096)              16781312  \n",
            "                                                                 \n",
            " activation_46 (Activation)  (None, 4096)              0         \n",
            "                                                                 \n",
            " batch_normalization_46 (Bat  (None, 4096)             16384     \n",
            " chNormalization)                                                \n",
            "                                                                 \n",
            " dropout_7 (Dropout)         (None, 4096)              0         \n",
            "                                                                 \n",
            " dense_10 (Dense)            (None, 1000)              4097000   \n",
            "                                                                 \n",
            " activation_47 (Activation)  (None, 1000)              0         \n",
            "                                                                 \n",
            " batch_normalization_47 (Bat  (None, 1000)             4000      \n",
            " chNormalization)                                                \n",
            "                                                                 \n",
            " dropout_8 (Dropout)         (None, 1000)              0         \n",
            "                                                                 \n",
            " dense_11 (Dense)            (None, 2)                 2002      \n",
            "                                                                 \n",
            "=================================================================\n",
            "Total params: 44,040,218\n",
            "Trainable params: 44,013,386\n",
            "Non-trainable params: 26,832\n",
            "_________________________________________________________________\n"
          ]
        }
      ]
    },
    {
      "cell_type": "code",
      "source": [
        "#setting hyperparameter, menggunakan Adam\n",
        "opt = Adam(lr=0.001)\n",
        "vgg16.compile(loss='categorical_crossentropy', optimizer=opt, metrics=['accuracy'])\n",
        "vgg16.summary()"
      ],
      "metadata": {
        "id": "eZ0TePWVZTx4",
        "colab": {
          "base_uri": "https://localhost:8080/"
        },
        "outputId": "4a0396c5-06fb-46e1-dd87-96e2d33d8c05"
      },
      "execution_count": 65,
      "outputs": [
        {
          "output_type": "stream",
          "name": "stdout",
          "text": [
            "Model: \"sequential_2\"\n",
            "_________________________________________________________________\n",
            " Layer (type)                Output Shape              Param #   \n",
            "=================================================================\n",
            " conv2d_26 (Conv2D)          (None, 64, 64, 64)        640       \n",
            "                                                                 \n",
            " activation_32 (Activation)  (None, 64, 64, 64)        0         \n",
            "                                                                 \n",
            " batch_normalization_32 (Bat  (None, 64, 64, 64)       256       \n",
            " chNormalization)                                                \n",
            "                                                                 \n",
            " conv2d_27 (Conv2D)          (None, 64, 64, 64)        36928     \n",
            "                                                                 \n",
            " activation_33 (Activation)  (None, 64, 64, 64)        0         \n",
            "                                                                 \n",
            " max_pooling2d_10 (MaxPoolin  (None, 32, 32, 64)       0         \n",
            " g2D)                                                            \n",
            "                                                                 \n",
            " batch_normalization_33 (Bat  (None, 32, 32, 64)       256       \n",
            " chNormalization)                                                \n",
            "                                                                 \n",
            " conv2d_28 (Conv2D)          (None, 32, 32, 128)       73856     \n",
            "                                                                 \n",
            " activation_34 (Activation)  (None, 32, 32, 128)       0         \n",
            "                                                                 \n",
            " batch_normalization_34 (Bat  (None, 32, 32, 128)      512       \n",
            " chNormalization)                                                \n",
            "                                                                 \n",
            " conv2d_29 (Conv2D)          (None, 32, 32, 128)       147584    \n",
            "                                                                 \n",
            " activation_35 (Activation)  (None, 32, 32, 128)       0         \n",
            "                                                                 \n",
            " max_pooling2d_11 (MaxPoolin  (None, 16, 16, 128)      0         \n",
            " g2D)                                                            \n",
            "                                                                 \n",
            " batch_normalization_35 (Bat  (None, 16, 16, 128)      512       \n",
            " chNormalization)                                                \n",
            "                                                                 \n",
            " conv2d_30 (Conv2D)          (None, 16, 16, 256)       295168    \n",
            "                                                                 \n",
            " activation_36 (Activation)  (None, 16, 16, 256)       0         \n",
            "                                                                 \n",
            " batch_normalization_36 (Bat  (None, 16, 16, 256)      1024      \n",
            " chNormalization)                                                \n",
            "                                                                 \n",
            " conv2d_31 (Conv2D)          (None, 16, 16, 256)       590080    \n",
            "                                                                 \n",
            " activation_37 (Activation)  (None, 16, 16, 256)       0         \n",
            "                                                                 \n",
            " batch_normalization_37 (Bat  (None, 16, 16, 256)      1024      \n",
            " chNormalization)                                                \n",
            "                                                                 \n",
            " conv2d_32 (Conv2D)          (None, 16, 16, 256)       590080    \n",
            "                                                                 \n",
            " activation_38 (Activation)  (None, 16, 16, 256)       0         \n",
            "                                                                 \n",
            " max_pooling2d_12 (MaxPoolin  (None, 8, 8, 256)        0         \n",
            " g2D)                                                            \n",
            "                                                                 \n",
            " batch_normalization_38 (Bat  (None, 8, 8, 256)        1024      \n",
            " chNormalization)                                                \n",
            "                                                                 \n",
            " conv2d_33 (Conv2D)          (None, 8, 8, 512)         1180160   \n",
            "                                                                 \n",
            " activation_39 (Activation)  (None, 8, 8, 512)         0         \n",
            "                                                                 \n",
            " batch_normalization_39 (Bat  (None, 8, 8, 512)        2048      \n",
            " chNormalization)                                                \n",
            "                                                                 \n",
            " conv2d_34 (Conv2D)          (None, 8, 8, 512)         2359808   \n",
            "                                                                 \n",
            " activation_40 (Activation)  (None, 8, 8, 512)         0         \n",
            "                                                                 \n",
            " batch_normalization_40 (Bat  (None, 8, 8, 512)        2048      \n",
            " chNormalization)                                                \n",
            "                                                                 \n",
            " conv2d_35 (Conv2D)          (None, 8, 8, 512)         2359808   \n",
            "                                                                 \n",
            " activation_41 (Activation)  (None, 8, 8, 512)         0         \n",
            "                                                                 \n",
            " max_pooling2d_13 (MaxPoolin  (None, 4, 4, 512)        0         \n",
            " g2D)                                                            \n",
            "                                                                 \n",
            " batch_normalization_41 (Bat  (None, 4, 4, 512)        2048      \n",
            " chNormalization)                                                \n",
            "                                                                 \n",
            " conv2d_36 (Conv2D)          (None, 4, 4, 512)         2359808   \n",
            "                                                                 \n",
            " activation_42 (Activation)  (None, 4, 4, 512)         0         \n",
            "                                                                 \n",
            " batch_normalization_42 (Bat  (None, 4, 4, 512)        2048      \n",
            " chNormalization)                                                \n",
            "                                                                 \n",
            " conv2d_37 (Conv2D)          (None, 4, 4, 512)         2359808   \n",
            "                                                                 \n",
            " activation_43 (Activation)  (None, 4, 4, 512)         0         \n",
            "                                                                 \n",
            " batch_normalization_43 (Bat  (None, 4, 4, 512)        2048      \n",
            " chNormalization)                                                \n",
            "                                                                 \n",
            " conv2d_38 (Conv2D)          (None, 4, 4, 512)         2359808   \n",
            "                                                                 \n",
            " activation_44 (Activation)  (None, 4, 4, 512)         0         \n",
            "                                                                 \n",
            " max_pooling2d_14 (MaxPoolin  (None, 2, 2, 512)        0         \n",
            " g2D)                                                            \n",
            "                                                                 \n",
            " batch_normalization_44 (Bat  (None, 2, 2, 512)        2048      \n",
            " chNormalization)                                                \n",
            "                                                                 \n",
            " flatten_2 (Flatten)         (None, 2048)              0         \n",
            "                                                                 \n"
          ]
        },
        {
          "output_type": "stream",
          "name": "stderr",
          "text": [
            "/usr/local/lib/python3.7/dist-packages/keras/optimizer_v2/adam.py:105: UserWarning: The `lr` argument is deprecated, use `learning_rate` instead.\n",
            "  super(Adam, self).__init__(name, **kwargs)\n"
          ]
        },
        {
          "output_type": "stream",
          "name": "stdout",
          "text": [
            " dense_8 (Dense)             (None, 4096)              8392704   \n",
            "                                                                 \n",
            " activation_45 (Activation)  (None, 4096)              0         \n",
            "                                                                 \n",
            " batch_normalization_45 (Bat  (None, 4096)             16384     \n",
            " chNormalization)                                                \n",
            "                                                                 \n",
            " dropout_6 (Dropout)         (None, 4096)              0         \n",
            "                                                                 \n",
            " dense_9 (Dense)             (None, 4096)              16781312  \n",
            "                                                                 \n",
            " activation_46 (Activation)  (None, 4096)              0         \n",
            "                                                                 \n",
            " batch_normalization_46 (Bat  (None, 4096)             16384     \n",
            " chNormalization)                                                \n",
            "                                                                 \n",
            " dropout_7 (Dropout)         (None, 4096)              0         \n",
            "                                                                 \n",
            " dense_10 (Dense)            (None, 1000)              4097000   \n",
            "                                                                 \n",
            " activation_47 (Activation)  (None, 1000)              0         \n",
            "                                                                 \n",
            " batch_normalization_47 (Bat  (None, 1000)             4000      \n",
            " chNormalization)                                                \n",
            "                                                                 \n",
            " dropout_8 (Dropout)         (None, 1000)              0         \n",
            "                                                                 \n",
            " dense_11 (Dense)            (None, 2)                 2002      \n",
            "                                                                 \n",
            "=================================================================\n",
            "Total params: 44,040,218\n",
            "Trainable params: 44,013,386\n",
            "Non-trainable params: 26,832\n",
            "_________________________________________________________________\n"
          ]
        }
      ]
    },
    {
      "cell_type": "code",
      "source": [
        "#training data\n",
        "H = vgg16.fit(trainX, trainY, validation_data=(testX, testY), epochs=50, batch_size=8)"
      ],
      "metadata": {
        "id": "JOp0TzHxZYLf",
        "colab": {
          "base_uri": "https://localhost:8080/"
        },
        "outputId": "16de092b-e381-44e0-ccf4-e7b3cd69a320"
      },
      "execution_count": 66,
      "outputs": [
        {
          "output_type": "stream",
          "name": "stdout",
          "text": [
            "Epoch 1/50\n",
            "140/140 [==============================] - 9s 43ms/step - loss: 1.0781 - accuracy: 0.7616 - val_loss: 4.9437 - val_accuracy: 0.4893\n",
            "Epoch 2/50\n",
            "140/140 [==============================] - 5s 38ms/step - loss: 0.4978 - accuracy: 0.8304 - val_loss: 2.6625 - val_accuracy: 0.5107\n",
            "Epoch 3/50\n",
            "140/140 [==============================] - 6s 40ms/step - loss: 0.4580 - accuracy: 0.8268 - val_loss: 0.6283 - val_accuracy: 0.7607\n",
            "Epoch 4/50\n",
            "140/140 [==============================] - 6s 41ms/step - loss: 0.3057 - accuracy: 0.8893 - val_loss: 0.7231 - val_accuracy: 0.7250\n",
            "Epoch 5/50\n",
            "140/140 [==============================] - 6s 41ms/step - loss: 0.3661 - accuracy: 0.8679 - val_loss: 0.3309 - val_accuracy: 0.8464\n",
            "Epoch 6/50\n",
            "140/140 [==============================] - 6s 41ms/step - loss: 0.3982 - accuracy: 0.8509 - val_loss: 0.2146 - val_accuracy: 0.9429\n",
            "Epoch 7/50\n",
            "140/140 [==============================] - 5s 39ms/step - loss: 0.3126 - accuracy: 0.8813 - val_loss: 0.1759 - val_accuracy: 0.9286\n",
            "Epoch 8/50\n",
            "140/140 [==============================] - 6s 41ms/step - loss: 0.2807 - accuracy: 0.9036 - val_loss: 0.2604 - val_accuracy: 0.8857\n",
            "Epoch 9/50\n",
            "140/140 [==============================] - 6s 41ms/step - loss: 0.2250 - accuracy: 0.9232 - val_loss: 0.4630 - val_accuracy: 0.9250\n",
            "Epoch 10/50\n",
            "140/140 [==============================] - 6s 41ms/step - loss: 0.2933 - accuracy: 0.9125 - val_loss: 0.1547 - val_accuracy: 0.9500\n",
            "Epoch 11/50\n",
            "140/140 [==============================] - 5s 39ms/step - loss: 0.2362 - accuracy: 0.9116 - val_loss: 0.1704 - val_accuracy: 0.9357\n",
            "Epoch 12/50\n",
            "140/140 [==============================] - 5s 38ms/step - loss: 0.2026 - accuracy: 0.9321 - val_loss: 0.1744 - val_accuracy: 0.9321\n",
            "Epoch 13/50\n",
            "140/140 [==============================] - 6s 40ms/step - loss: 0.1946 - accuracy: 0.9438 - val_loss: 0.1926 - val_accuracy: 0.9393\n",
            "Epoch 14/50\n",
            "140/140 [==============================] - 5s 39ms/step - loss: 0.1380 - accuracy: 0.9607 - val_loss: 0.0859 - val_accuracy: 0.9679\n",
            "Epoch 15/50\n",
            "140/140 [==============================] - 5s 38ms/step - loss: 0.2846 - accuracy: 0.9054 - val_loss: 0.1759 - val_accuracy: 0.9464\n",
            "Epoch 16/50\n",
            "140/140 [==============================] - 5s 38ms/step - loss: 0.1814 - accuracy: 0.9366 - val_loss: 0.2406 - val_accuracy: 0.8929\n",
            "Epoch 17/50\n",
            "140/140 [==============================] - 6s 41ms/step - loss: 0.1455 - accuracy: 0.9634 - val_loss: 0.1478 - val_accuracy: 0.9500\n",
            "Epoch 18/50\n",
            "140/140 [==============================] - 5s 38ms/step - loss: 0.1683 - accuracy: 0.9554 - val_loss: 0.1298 - val_accuracy: 0.9679\n",
            "Epoch 19/50\n",
            "140/140 [==============================] - 6s 41ms/step - loss: 0.1709 - accuracy: 0.9545 - val_loss: 0.1499 - val_accuracy: 0.9679\n",
            "Epoch 20/50\n",
            "140/140 [==============================] - 5s 39ms/step - loss: 0.2077 - accuracy: 0.9491 - val_loss: 0.3174 - val_accuracy: 0.9286\n",
            "Epoch 21/50\n",
            "140/140 [==============================] - 6s 41ms/step - loss: 0.1467 - accuracy: 0.9536 - val_loss: 0.1360 - val_accuracy: 0.9429\n",
            "Epoch 22/50\n",
            "140/140 [==============================] - 5s 39ms/step - loss: 0.1196 - accuracy: 0.9652 - val_loss: 0.1701 - val_accuracy: 0.9321\n",
            "Epoch 23/50\n",
            "140/140 [==============================] - 6s 41ms/step - loss: 0.1808 - accuracy: 0.9438 - val_loss: 0.1365 - val_accuracy: 0.9643\n",
            "Epoch 24/50\n",
            "140/140 [==============================] - 6s 41ms/step - loss: 0.1351 - accuracy: 0.9661 - val_loss: 0.2053 - val_accuracy: 0.9286\n",
            "Epoch 25/50\n",
            "140/140 [==============================] - 5s 39ms/step - loss: 0.1978 - accuracy: 0.9411 - val_loss: 1.3976 - val_accuracy: 0.8643\n",
            "Epoch 26/50\n",
            "140/140 [==============================] - 5s 39ms/step - loss: 0.1287 - accuracy: 0.9571 - val_loss: 0.1887 - val_accuracy: 0.9464\n",
            "Epoch 27/50\n",
            "140/140 [==============================] - 5s 39ms/step - loss: 0.1160 - accuracy: 0.9714 - val_loss: 0.1599 - val_accuracy: 0.9571\n",
            "Epoch 28/50\n",
            "140/140 [==============================] - 6s 41ms/step - loss: 0.1793 - accuracy: 0.9509 - val_loss: 1.8422 - val_accuracy: 0.5250\n",
            "Epoch 29/50\n",
            "140/140 [==============================] - 5s 39ms/step - loss: 0.2304 - accuracy: 0.9429 - val_loss: 0.4230 - val_accuracy: 0.8607\n",
            "Epoch 30/50\n",
            "140/140 [==============================] - 5s 39ms/step - loss: 0.1675 - accuracy: 0.9625 - val_loss: 0.1617 - val_accuracy: 0.9536\n",
            "Epoch 31/50\n",
            "140/140 [==============================] - 5s 39ms/step - loss: 0.1820 - accuracy: 0.9473 - val_loss: 0.1358 - val_accuracy: 0.9643\n",
            "Epoch 32/50\n",
            "140/140 [==============================] - 6s 41ms/step - loss: 0.1222 - accuracy: 0.9616 - val_loss: 0.4003 - val_accuracy: 0.8857\n",
            "Epoch 33/50\n",
            "140/140 [==============================] - 5s 39ms/step - loss: 0.2714 - accuracy: 0.9223 - val_loss: 0.1832 - val_accuracy: 0.9536\n",
            "Epoch 34/50\n",
            "140/140 [==============================] - 5s 38ms/step - loss: 0.1502 - accuracy: 0.9536 - val_loss: 0.5789 - val_accuracy: 0.8000\n",
            "Epoch 35/50\n",
            "140/140 [==============================] - 6s 41ms/step - loss: 0.1451 - accuracy: 0.9554 - val_loss: 0.3472 - val_accuracy: 0.8607\n",
            "Epoch 36/50\n",
            "140/140 [==============================] - 5s 39ms/step - loss: 0.1467 - accuracy: 0.9518 - val_loss: 0.1300 - val_accuracy: 0.9429\n",
            "Epoch 37/50\n",
            "140/140 [==============================] - 5s 38ms/step - loss: 0.1079 - accuracy: 0.9741 - val_loss: 0.5772 - val_accuracy: 0.8607\n",
            "Epoch 38/50\n",
            "140/140 [==============================] - 6s 41ms/step - loss: 0.2310 - accuracy: 0.9286 - val_loss: 0.3766 - val_accuracy: 0.9036\n",
            "Epoch 39/50\n",
            "140/140 [==============================] - 6s 41ms/step - loss: 0.1142 - accuracy: 0.9670 - val_loss: 0.1112 - val_accuracy: 0.9750\n",
            "Epoch 40/50\n",
            "140/140 [==============================] - 5s 38ms/step - loss: 0.1016 - accuracy: 0.9732 - val_loss: 2.8777 - val_accuracy: 0.4964\n",
            "Epoch 41/50\n",
            "140/140 [==============================] - 5s 38ms/step - loss: 0.1654 - accuracy: 0.9536 - val_loss: 0.3661 - val_accuracy: 0.9036\n",
            "Epoch 42/50\n",
            "140/140 [==============================] - 5s 38ms/step - loss: 0.1739 - accuracy: 0.9536 - val_loss: 0.0935 - val_accuracy: 0.9536\n",
            "Epoch 43/50\n",
            "140/140 [==============================] - 6s 41ms/step - loss: 0.2718 - accuracy: 0.9312 - val_loss: 0.7585 - val_accuracy: 0.7643\n",
            "Epoch 44/50\n",
            "140/140 [==============================] - 5s 39ms/step - loss: 0.2845 - accuracy: 0.9045 - val_loss: 0.1257 - val_accuracy: 0.9786\n",
            "Epoch 45/50\n",
            "140/140 [==============================] - 6s 41ms/step - loss: 0.1431 - accuracy: 0.9563 - val_loss: 0.2743 - val_accuracy: 0.9500\n",
            "Epoch 46/50\n",
            "140/140 [==============================] - 5s 38ms/step - loss: 0.0841 - accuracy: 0.9768 - val_loss: 0.0939 - val_accuracy: 0.9714\n",
            "Epoch 47/50\n",
            "140/140 [==============================] - 5s 39ms/step - loss: 0.0938 - accuracy: 0.9723 - val_loss: 0.5544 - val_accuracy: 0.7893\n",
            "Epoch 48/50\n",
            "140/140 [==============================] - 5s 39ms/step - loss: 0.1789 - accuracy: 0.9420 - val_loss: 0.3231 - val_accuracy: 0.9000\n",
            "Epoch 49/50\n",
            "140/140 [==============================] - 5s 39ms/step - loss: 0.1751 - accuracy: 0.9438 - val_loss: 0.3594 - val_accuracy: 0.8857\n",
            "Epoch 50/50\n",
            "140/140 [==============================] - 5s 38ms/step - loss: 0.1537 - accuracy: 0.9589 - val_loss: 0.1427 - val_accuracy: 0.9571\n"
          ]
        }
      ]
    },
    {
      "cell_type": "code",
      "source": [
        "print(\"[INFO] evaluating network...\")\n",
        "predictions = vgg16.predict(testX, batch_size=8)\n",
        "pred=predictions.argmax(axis=1)\n",
        "testY_argm=testY.argmax(axis=1)\n"
      ],
      "metadata": {
        "id": "qjoEfHoWsr9H",
        "colab": {
          "base_uri": "https://localhost:8080/"
        },
        "outputId": "1367033a-e9d1-4f8c-d33a-14d4b20ea648"
      },
      "execution_count": 67,
      "outputs": [
        {
          "output_type": "stream",
          "name": "stdout",
          "text": [
            "[INFO] evaluating network...\n"
          ]
        }
      ]
    },
    {
      "cell_type": "code",
      "source": [
        "print(classification_report(testY_argm,pred,target_names=lb.classes_))"
      ],
      "metadata": {
        "id": "Po9wqNIMts7s",
        "colab": {
          "base_uri": "https://localhost:8080/"
        },
        "outputId": "ccce0fa3-195f-4702-dcd8-5bb62ee43072"
      },
      "execution_count": 68,
      "outputs": [
        {
          "output_type": "stream",
          "name": "stdout",
          "text": [
            "              precision    recall  f1-score   support\n",
            "\n",
            "      Normal       0.96      0.96      0.96       145\n",
            "Tuberculosis       0.96      0.96      0.96       135\n",
            "\n",
            "    accuracy                           0.96       280\n",
            "   macro avg       0.96      0.96      0.96       280\n",
            "weighted avg       0.96      0.96      0.96       280\n",
            "\n"
          ]
        }
      ]
    },
    {
      "cell_type": "code",
      "source": [
        "test_score = vgg16.evaluate(testX, testY) \n",
        "print(\"Test Loss {:.4f}, accuracy {:.2f}%\".format(test_score[0], test_score[1] * 100))"
      ],
      "metadata": {
        "id": "5NSJXylrt1ND",
        "colab": {
          "base_uri": "https://localhost:8080/"
        },
        "outputId": "9c4f4aa5-6fbc-4376-d3cd-827353fbbb4a"
      },
      "execution_count": 69,
      "outputs": [
        {
          "output_type": "stream",
          "name": "stdout",
          "text": [
            "9/9 [==============================] - 2s 86ms/step - loss: 0.1427 - accuracy: 0.9571\n",
            "Test Loss 0.1427, accuracy 95.71%\n"
          ]
        }
      ]
    },
    {
      "cell_type": "code",
      "source": [
        "from sklearn.metrics import confusion_matrix\n",
        "import itertools\n",
        "\n",
        "def plot_confusion_matrix(cm, classes, normalize=False, title='Confusion matrix', cmap='Blues'):\n",
        "  if normalize:\n",
        "     cm = cm.astype('float') / cm.sum(axis=1)[:, np.newaxis]\n",
        "     print(\"Normalized confusion matrix\")\n",
        "  else:\n",
        "     print('Confusion matrix, without normalization')\n",
        "  print(cm)\n",
        "  plt.imshow(cm, interpolation='nearest', cmap=cmap)\n",
        "  plt.title(title)\n",
        "  plt.colorbar()\n",
        "  tick_marks = np.arange(len(classes))\n",
        "  plt.xticks(tick_marks, classes, rotation=45)\n",
        "  plt.yticks(tick_marks, classes)\n",
        "  fmt = '.2f' if normalize else 'd'\n",
        "  thresh = cm.max() / 2.\n",
        "  for i, j in itertools.product(range(cm.shape[0]), range(cm.shape[1])):\n",
        "      plt.text(j, i, format(cm[i, j], fmt), horizontalalignment=\"center\", color=\"white\" if cm[i, j] > thresh else \"black\")\n",
        "  plt.ylabel('True label')\n",
        "  plt.xlabel('Predicted label')\n",
        "  plt.tight_layout()"
      ],
      "metadata": {
        "id": "ZS-FXHa6uI6H"
      },
      "execution_count": 71,
      "outputs": []
    },
    {
      "cell_type": "code",
      "source": [
        "cnf_matrix = confusion_matrix(testY_argm, pred)\n",
        "np.set_printoptions(precision=2)\n",
        "\n",
        "# Plot non/normalized confusion matrix\n",
        "plt.figure()\n",
        "plot_confusion_matrix(cnf_matrix,\n",
        "classes=lb.classes_, normalize=True)\n",
        "plt.show()\n",
        "\n",
        "plt.figure()\n",
        "plot_confusion_matrix(cnf_matrix,\n",
        "classes=lb.classes_, normalize=False)\n",
        "plt.show()\n",
        "\n",
        "f, ax = plt.subplots()\n",
        "ax.plot([None] + H.history['accuracy'], 'o-')\n",
        "ax.plot([None] + H.history['val_accuracy'], 'x-')\n",
        "\n",
        "ax.legend(['Train acc', 'Validation acc'], loc = 0)\n",
        "ax.set_title('Training/Validation acc per Epoch')\n",
        "ax.set_xlabel('Epoch')\n",
        "ax.set_ylabel('acc')\n",
        "plt.grid(True)\n",
        "\n",
        "f, ax = plt.subplots()\n",
        "ax.plot([None] + H.history['loss'], 'o-')\n",
        "ax.plot([None] + H.history['val_loss'], 'x-')\n",
        "ax.legend(['Train Loss', 'Validation Loss'], loc = 0)\n",
        "ax.set_title('Training/Validation Loss per Epoch')\n",
        "ax.set_xlabel('Epoch')\n",
        "ax.set_ylabel('loss')\n",
        "plt.grid(True)"
      ],
      "metadata": {
        "id": "eiYstz9xuRLx",
        "colab": {
          "base_uri": "https://localhost:8080/",
          "height": 1000
        },
        "outputId": "a5ce07d0-c440-479c-eb75-b378bc43cdbb"
      },
      "execution_count": 72,
      "outputs": [
        {
          "output_type": "stream",
          "name": "stdout",
          "text": [
            "Normalized confusion matrix\n",
            "[[0.96 0.04]\n",
            " [0.04 0.96]]\n"
          ]
        },
        {
          "output_type": "display_data",
          "data": {
            "text/plain": [
              "<Figure size 432x288 with 2 Axes>"
            ],
            "image/png": "[encoded data removed]"
          },
          "metadata": {
            "needs_background": "light"
          }
        },
        {
          "output_type": "stream",
          "name": "stdout",
          "text": [
            "Confusion matrix, without normalization\n",
            "[[139   6]\n",
            " [  6 129]]\n"
          ]
        },
        {
          "output_type": "display_data",
          "data": {
            "text/plain": [
              "<Figure size 432x288 with 2 Axes>"
            ],
            "image/png": "[encoded data removed]"
          },
          "metadata": {
            "needs_background": "light"
          }
        },
        {
          "output_type": "display_data",
          "data": {
            "text/plain": [
              "<Figure size 432x288 with 1 Axes>"
            ],
            "image/png": "[encoded data removed]"
          },
          "metadata": {
            "needs_background": "light"
          }
        },
        {
          "output_type": "display_data",
          "data": {
            "text/plain": [
              "<Figure size 432x288 with 1 Axes>"
            ],
            "image/png": "[encoded data removed]"
          },
          "metadata": {
            "needs_background": "light"
          }
        }
      ]
    }
  ]
}