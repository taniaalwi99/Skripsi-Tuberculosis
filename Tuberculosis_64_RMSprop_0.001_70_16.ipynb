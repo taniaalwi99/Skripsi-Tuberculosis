{
  "nbformat": 4,
  "nbformat_minor": 0,
  "metadata": {
    "colab": {
      "name": "Tuberculosis_VGG-16.ipynb",
      "provenance": [],
      "collapsed_sections": [],
      "include_colab_link": true
    },
    "kernelspec": {
      "name": "python3",
      "display_name": "Python 3"
    },
    "language_info": {
      "name": "python"
    },
    "accelerator": "GPU",
    "gpuClass": "standard"
  },
  "cells": [
    {
      "cell_type": "markdown",
      "metadata": {
        "id": "view-in-github",
        "colab_type": "text"
      },
      "source": [
        "<a href=\"https://colab.research.google.com/github/taniaalwi99/Skripsi-Tuberculosis/blob/main/Tuberculosis_64_RMSprop_0.001_70_16.ipynb\" target=\"_parent\"><img src=\"https://colab.research.google.com/assets/colab-badge.svg\" alt=\"Open In Colab\"/></a>"
      ]
    },
    {
      "cell_type": "code",
      "execution_count": 1,
      "metadata": {
        "colab": {
          "base_uri": "https://localhost:8080/"
        },
        "id": "2_RYo7hrXaC5",
        "outputId": "26b9da07-5188-4e47-bc58-ec050fbb42df"
      },
      "outputs": [
        {
          "output_type": "stream",
          "name": "stdout",
          "text": [
            "Mounted at /content/drive\n"
          ]
        }
      ],
      "source": [
        "from google.colab import drive\n",
        "drive.mount('/content/drive')"
      ]
    },
    {
      "cell_type": "code",
      "source": [
        "cd /content/drive/My Drive"
      ],
      "metadata": {
        "colab": {
          "base_uri": "https://localhost:8080/"
        },
        "id": "G4aisxOFX3KH",
        "outputId": "fe66a944-6bc7-45ef-91f0-16a56752bfa1"
      },
      "execution_count": 2,
      "outputs": [
        {
          "output_type": "stream",
          "name": "stdout",
          "text": [
            "/content/drive/My Drive\n"
          ]
        }
      ]
    },
    {
      "cell_type": "code",
      "source": [
        "ls"
      ],
      "metadata": {
        "colab": {
          "base_uri": "https://localhost:8080/"
        },
        "id": "e_oGUrADX8O_",
        "outputId": "b4202a83-a2c7-40fc-e7c4-601384aea460"
      },
      "execution_count": 3,
      "outputs": [
        {
          "output_type": "stream",
          "name": "stdout",
          "text": [
            "\u001b[0m\u001b[01;34m'Colab Notebooks'\u001b[0m/  \u001b[01;34m'Dataset Gray'\u001b[0m/  \u001b[01;34m'Tania Alwi'\u001b[0m/\n"
          ]
        }
      ]
    },
    {
      "cell_type": "code",
      "source": [
        "from keras.models import Model\n",
        "from keras.models import load_model\n",
        "from keras.models import Sequential\n",
        "from keras.layers.convolutional import Convolution2D\n",
        "from keras.layers.convolutional import MaxPooling2D\n",
        "from keras.layers.convolutional import ZeroPadding2D\n",
        "from keras.layers.core import Activation\n",
        "from keras.layers.core import Flatten\n",
        "from keras.layers.core import Dense\n",
        "from keras.layers.core import Dropout\n",
        "from keras.layers import BatchNormalization\n",
        "from keras import regularizers\n",
        "from keras.preprocessing.image import ImageDataGenerator\n",
        "from tensorflow.keras.optimizers import RMSprop, Adam, SGD\n",
        "from sklearn.preprocessing import LabelBinarizer\n",
        "from sklearn.model_selection import train_test_split\n",
        "from sklearn.metrics import classification_report\n",
        "from PIL import Image\n",
        "from matplotlib import pyplot as plt\n",
        "from imutils import paths\n",
        "import numpy as np\n",
        "import os"
      ],
      "metadata": {
        "id": "t95OxlI7X_OF"
      },
      "execution_count": 4,
      "outputs": []
    },
    {
      "cell_type": "code",
      "source": [
        "print(\"[INFO] loading images...\")\n",
        "imagePaths = paths.list_images(\"Dataset Gray\")\n",
        "data = []\n",
        "labels = []"
      ],
      "metadata": {
        "colab": {
          "base_uri": "https://localhost:8080/"
        },
        "id": "jvn693i-YDZ8",
        "outputId": "8e65a097-7d26-4b6d-bf03-445284bedb03"
      },
      "execution_count": 5,
      "outputs": [
        {
          "output_type": "stream",
          "name": "stdout",
          "text": [
            "[INFO] loading images...\n"
          ]
        }
      ]
    },
    {
      "cell_type": "code",
      "source": [
        "for imagePaths in imagePaths:\n",
        "    a = Image.open(imagePaths)\n",
        "    image = np.array(a.resize((64,64))) / 255.0\n",
        "    data.append(image)\n",
        "    \n",
        "    label = imagePaths.split(os.path.sep) [-2]\n",
        "    labels.append(label)"
      ],
      "metadata": {
        "id": "3XLuWAZsYLfK"
      },
      "execution_count": 6,
      "outputs": []
    },
    {
      "cell_type": "code",
      "source": [
        "from sklearn.preprocessing import LabelBinarizer\n",
        "import numpy as np\n",
        "\n",
        "class MyLabelBinarizer(LabelBinarizer):\n",
        "    def transform(self, label):\n",
        "      nilaiy = super().transform(label)\n",
        "      if self.y_type_== 'binary':\n",
        "        return np.hstack((nilaiy, 1-nilaiy))\n",
        "      else:\n",
        "        return nilaiy\n",
        "    def inverse_transform(self, nilaiy, threshold=None):\n",
        "      if self.y_type_ == 'binary':\n",
        "          return super().inverse_transform(nilaiy[:, 0], threshold)\n",
        "      else:\n",
        "          return super().inverse_transform(nilaiy, threshold)\n",
        "\n",
        "      \n",
        "\n",
        "lb = MyLabelBinarizer()\n",
        "labels = lb.fit_transform(labels)\n",
        "print(labels)"
      ],
      "metadata": {
        "colab": {
          "base_uri": "https://localhost:8080/"
        },
        "id": "gnjyPDi_Yyrn",
        "outputId": "9fb7dee1-162c-4949-970c-acd551a26b16"
      },
      "execution_count": 7,
      "outputs": [
        {
          "output_type": "stream",
          "name": "stdout",
          "text": [
            "[[0 1]\n",
            " [0 1]\n",
            " [0 1]\n",
            " ...\n",
            " [1 0]\n",
            " [1 0]\n",
            " [1 0]]\n"
          ]
        }
      ]
    },
    {
      "cell_type": "code",
      "source": [
        "(trainX,testX, trainY, testY) = train_test_split(np.array(data),np.array(labels), test_size=0.20)\n",
        "print(trainX.shape)\n",
        "print(testX.shape)"
      ],
      "metadata": {
        "colab": {
          "base_uri": "https://localhost:8080/"
        },
        "id": "0V3CnlQtY1g2",
        "outputId": "9d3a5cd0-f93c-4fc4-eb74-c9cc0974e16b"
      },
      "execution_count": 8,
      "outputs": [
        {
          "output_type": "stream",
          "name": "stdout",
          "text": [
            "(1120, 64, 64)\n",
            "(280, 64, 64)\n"
          ]
        }
      ]
    },
    {
      "cell_type": "code",
      "source": [
        "def vgg16(num_classes):\n",
        "\n",
        "    vgg16 = Sequential()\n",
        "\n",
        "    vgg16.add(Convolution2D(input_shape=(64,64,1),filters=64,kernel_size=(3,3),padding=\"same\"))\n",
        "    vgg16.add(Activation('relu'))\n",
        "    vgg16.add(BatchNormalization())\n",
        "    #layer1 32*32*64\n",
        "    vgg16.add(Convolution2D(filters=64,kernel_size=(3,3),padding=\"same\"))\n",
        "    vgg16.add(Activation('relu'))\n",
        "    vgg16.add(MaxPooling2D(pool_size=(2, 2),strides=(2,2)))\n",
        "    vgg16.add(BatchNormalization())\n",
        "    #layer2 16*16*64\n",
        "    vgg16.add(Convolution2D(filters=128, kernel_size=(3,3), padding=\"same\"))\n",
        "    vgg16.add(Activation('relu'))\n",
        "    vgg16.add(BatchNormalization())\n",
        "    #layer3 16*16*128\n",
        "    vgg16.add(Convolution2D(filters=128, kernel_size=(3,3), padding=\"same\",))\n",
        "    vgg16.add(Activation('relu'))\n",
        "    vgg16.add(MaxPooling2D(pool_size=(2,2),strides=(2,2)))\n",
        "    vgg16.add(BatchNormalization())\n",
        "    #layer4 8*8*128\n",
        "    vgg16.add(Convolution2D(filters=256, kernel_size=(3,3), padding=\"same\"))\n",
        "    vgg16.add(Activation('relu'))\n",
        "    vgg16.add(BatchNormalization())\n",
        "    #layer5 8*8*256\n",
        "    vgg16.add(Convolution2D(filters=256, kernel_size=(3,3), padding=\"same\"))\n",
        "    vgg16.add(Activation('relu'))\n",
        "    vgg16.add(BatchNormalization())\n",
        "    #layer6 8*8*256\n",
        "    vgg16.add(Convolution2D(filters=256, kernel_size=(3,3), padding=\"same\"))\n",
        "    vgg16.add(Activation('relu'))\n",
        "    vgg16.add(MaxPooling2D(pool_size=(2,2),strides=(2,2)))\n",
        "    vgg16.add(BatchNormalization())\n",
        "    #layer7 4*4*256\n",
        "    vgg16.add(Convolution2D(filters=512, kernel_size=(3,3), padding=\"same\"))\n",
        "    vgg16.add(Activation('relu'))\n",
        "    vgg16.add(BatchNormalization())\n",
        "    #layer8 4*4*512\n",
        "    vgg16.add(Convolution2D(filters=512, kernel_size=(3,3), padding=\"same\"))\n",
        "    vgg16.add(Activation('relu'))\n",
        "    vgg16.add(BatchNormalization())\n",
        "    #layer9 4*4*512\n",
        "    vgg16.add(Convolution2D(filters=512, kernel_size=(3,3), padding=\"same\"))\n",
        "    vgg16.add(Activation('relu'))\n",
        "    vgg16.add(MaxPooling2D(pool_size=(2,2),strides=(2,2)))\n",
        "    vgg16.add(BatchNormalization())\n",
        "    #layer10 2*2*512\n",
        "    vgg16.add(Convolution2D(filters=512, kernel_size=(3,3), padding=\"same\"))\n",
        "    vgg16.add(Activation('relu'))\n",
        "    vgg16.add(BatchNormalization())\n",
        "    #layer11 2*2*512\n",
        "    vgg16.add(Convolution2D(filters=512, kernel_size=(3,3), padding=\"same\"))  \n",
        "    vgg16.add(Activation('relu')) \n",
        "    vgg16.add(BatchNormalization())       \n",
        "    #layer12 2*2*512\n",
        "    vgg16.add(Convolution2D(filters=512, kernel_size=(3,3), padding=\"same\"))\n",
        "    vgg16.add(Activation('relu'))\n",
        "    vgg16.add(MaxPooling2D(pool_size=(2,2),strides=(2,2)))\n",
        "    vgg16.add(BatchNormalization())\n",
        "    #layer13 1*1*512\n",
        "    vgg16.add(Flatten())\n",
        "    vgg16.add(Dense(units=4096))\n",
        "    vgg16.add(Activation('relu')) \n",
        "    vgg16.add(BatchNormalization())\n",
        "    vgg16.add(Dropout(0.5))\n",
        "    #layer14 4096\n",
        "    vgg16.add(Dense(units=4096))\n",
        "    vgg16.add(Activation('relu')) \n",
        "    vgg16.add(BatchNormalization())\n",
        "    vgg16.add(Dropout(0.5))\n",
        "    #layer16 4096\n",
        "    vgg16.add(Dense(units=1000))\n",
        "    vgg16.add(Activation('relu'))\n",
        "    vgg16.add(BatchNormalization())\n",
        "    vgg16.add(Dropout(0.5)) \n",
        "    #layer16 1000\n",
        "    vgg16.add(Dense(2, activation=\"sigmoid\"))\n",
        "\n",
        "    return vgg16"
      ],
      "metadata": {
        "id": "WpeYjXzUZCZP"
      },
      "execution_count": 9,
      "outputs": []
    },
    {
      "cell_type": "code",
      "source": [
        "num_classes=2\n",
        "vgg16=vgg16(num_classes)\n",
        "vgg16.summary()"
      ],
      "metadata": {
        "colab": {
          "base_uri": "https://localhost:8080/"
        },
        "id": "rlT3OhVuZLUs",
        "outputId": "9852d8fa-51bc-4e7d-ead3-40942a7c731f"
      },
      "execution_count": 10,
      "outputs": [
        {
          "output_type": "stream",
          "name": "stdout",
          "text": [
            "Model: \"sequential\"\n",
            "_________________________________________________________________\n",
            " Layer (type)                Output Shape              Param #   \n",
            "=================================================================\n",
            " conv2d (Conv2D)             (None, 64, 64, 64)        640       \n",
            "                                                                 \n",
            " activation (Activation)     (None, 64, 64, 64)        0         \n",
            "                                                                 \n",
            " batch_normalization (BatchN  (None, 64, 64, 64)       256       \n",
            " ormalization)                                                   \n",
            "                                                                 \n",
            " conv2d_1 (Conv2D)           (None, 64, 64, 64)        36928     \n",
            "                                                                 \n",
            " activation_1 (Activation)   (None, 64, 64, 64)        0         \n",
            "                                                                 \n",
            " max_pooling2d (MaxPooling2D  (None, 32, 32, 64)       0         \n",
            " )                                                               \n",
            "                                                                 \n",
            " batch_normalization_1 (Batc  (None, 32, 32, 64)       256       \n",
            " hNormalization)                                                 \n",
            "                                                                 \n",
            " conv2d_2 (Conv2D)           (None, 32, 32, 128)       73856     \n",
            "                                                                 \n",
            " activation_2 (Activation)   (None, 32, 32, 128)       0         \n",
            "                                                                 \n",
            " batch_normalization_2 (Batc  (None, 32, 32, 128)      512       \n",
            " hNormalization)                                                 \n",
            "                                                                 \n",
            " conv2d_3 (Conv2D)           (None, 32, 32, 128)       147584    \n",
            "                                                                 \n",
            " activation_3 (Activation)   (None, 32, 32, 128)       0         \n",
            "                                                                 \n",
            " max_pooling2d_1 (MaxPooling  (None, 16, 16, 128)      0         \n",
            " 2D)                                                             \n",
            "                                                                 \n",
            " batch_normalization_3 (Batc  (None, 16, 16, 128)      512       \n",
            " hNormalization)                                                 \n",
            "                                                                 \n",
            " conv2d_4 (Conv2D)           (None, 16, 16, 256)       295168    \n",
            "                                                                 \n",
            " activation_4 (Activation)   (None, 16, 16, 256)       0         \n",
            "                                                                 \n",
            " batch_normalization_4 (Batc  (None, 16, 16, 256)      1024      \n",
            " hNormalization)                                                 \n",
            "                                                                 \n",
            " conv2d_5 (Conv2D)           (None, 16, 16, 256)       590080    \n",
            "                                                                 \n",
            " activation_5 (Activation)   (None, 16, 16, 256)       0         \n",
            "                                                                 \n",
            " batch_normalization_5 (Batc  (None, 16, 16, 256)      1024      \n",
            " hNormalization)                                                 \n",
            "                                                                 \n",
            " conv2d_6 (Conv2D)           (None, 16, 16, 256)       590080    \n",
            "                                                                 \n",
            " activation_6 (Activation)   (None, 16, 16, 256)       0         \n",
            "                                                                 \n",
            " max_pooling2d_2 (MaxPooling  (None, 8, 8, 256)        0         \n",
            " 2D)                                                             \n",
            "                                                                 \n",
            " batch_normalization_6 (Batc  (None, 8, 8, 256)        1024      \n",
            " hNormalization)                                                 \n",
            "                                                                 \n",
            " conv2d_7 (Conv2D)           (None, 8, 8, 512)         1180160   \n",
            "                                                                 \n",
            " activation_7 (Activation)   (None, 8, 8, 512)         0         \n",
            "                                                                 \n",
            " batch_normalization_7 (Batc  (None, 8, 8, 512)        2048      \n",
            " hNormalization)                                                 \n",
            "                                                                 \n",
            " conv2d_8 (Conv2D)           (None, 8, 8, 512)         2359808   \n",
            "                                                                 \n",
            " activation_8 (Activation)   (None, 8, 8, 512)         0         \n",
            "                                                                 \n",
            " batch_normalization_8 (Batc  (None, 8, 8, 512)        2048      \n",
            " hNormalization)                                                 \n",
            "                                                                 \n",
            " conv2d_9 (Conv2D)           (None, 8, 8, 512)         2359808   \n",
            "                                                                 \n",
            " activation_9 (Activation)   (None, 8, 8, 512)         0         \n",
            "                                                                 \n",
            " max_pooling2d_3 (MaxPooling  (None, 4, 4, 512)        0         \n",
            " 2D)                                                             \n",
            "                                                                 \n",
            " batch_normalization_9 (Batc  (None, 4, 4, 512)        2048      \n",
            " hNormalization)                                                 \n",
            "                                                                 \n",
            " conv2d_10 (Conv2D)          (None, 4, 4, 512)         2359808   \n",
            "                                                                 \n",
            " activation_10 (Activation)  (None, 4, 4, 512)         0         \n",
            "                                                                 \n",
            " batch_normalization_10 (Bat  (None, 4, 4, 512)        2048      \n",
            " chNormalization)                                                \n",
            "                                                                 \n",
            " conv2d_11 (Conv2D)          (None, 4, 4, 512)         2359808   \n",
            "                                                                 \n",
            " activation_11 (Activation)  (None, 4, 4, 512)         0         \n",
            "                                                                 \n",
            " batch_normalization_11 (Bat  (None, 4, 4, 512)        2048      \n",
            " chNormalization)                                                \n",
            "                                                                 \n",
            " conv2d_12 (Conv2D)          (None, 4, 4, 512)         2359808   \n",
            "                                                                 \n",
            " activation_12 (Activation)  (None, 4, 4, 512)         0         \n",
            "                                                                 \n",
            " max_pooling2d_4 (MaxPooling  (None, 2, 2, 512)        0         \n",
            " 2D)                                                             \n",
            "                                                                 \n",
            " batch_normalization_12 (Bat  (None, 2, 2, 512)        2048      \n",
            " chNormalization)                                                \n",
            "                                                                 \n",
            " flatten (Flatten)           (None, 2048)              0         \n",
            "                                                                 \n",
            " dense (Dense)               (None, 4096)              8392704   \n",
            "                                                                 \n",
            " activation_13 (Activation)  (None, 4096)              0         \n",
            "                                                                 \n",
            " batch_normalization_13 (Bat  (None, 4096)             16384     \n",
            " chNormalization)                                                \n",
            "                                                                 \n",
            " dropout (Dropout)           (None, 4096)              0         \n",
            "                                                                 \n",
            " dense_1 (Dense)             (None, 4096)              16781312  \n",
            "                                                                 \n",
            " activation_14 (Activation)  (None, 4096)              0         \n",
            "                                                                 \n",
            " batch_normalization_14 (Bat  (None, 4096)             16384     \n",
            " chNormalization)                                                \n",
            "                                                                 \n",
            " dropout_1 (Dropout)         (None, 4096)              0         \n",
            "                                                                 \n",
            " dense_2 (Dense)             (None, 1000)              4097000   \n",
            "                                                                 \n",
            " activation_15 (Activation)  (None, 1000)              0         \n",
            "                                                                 \n",
            " batch_normalization_15 (Bat  (None, 1000)             4000      \n",
            " chNormalization)                                                \n",
            "                                                                 \n",
            " dropout_2 (Dropout)         (None, 1000)              0         \n",
            "                                                                 \n",
            " dense_3 (Dense)             (None, 2)                 2002      \n",
            "                                                                 \n",
            "=================================================================\n",
            "Total params: 44,040,218\n",
            "Trainable params: 44,013,386\n",
            "Non-trainable params: 26,832\n",
            "_________________________________________________________________\n"
          ]
        }
      ]
    },
    {
      "cell_type": "code",
      "source": [
        "#setting hyperparameter, menggunakan Adam\n",
        "opt = RMSprop(lr=0.001)\n",
        "vgg16.compile(loss='binary_crossentropy', optimizer=opt, metrics=['accuracy'])\n",
        "vgg16.summary()"
      ],
      "metadata": {
        "colab": {
          "base_uri": "https://localhost:8080/"
        },
        "id": "eZ0TePWVZTx4",
        "outputId": "850b4120-ff2b-4c55-e662-a49301808669"
      },
      "execution_count": 11,
      "outputs": [
        {
          "output_type": "stream",
          "name": "stdout",
          "text": [
            "Model: \"sequential\"\n",
            "_________________________________________________________________\n",
            " Layer (type)                Output Shape              Param #   \n",
            "=================================================================\n",
            " conv2d (Conv2D)             (None, 64, 64, 64)        640       \n",
            "                                                                 \n",
            " activation (Activation)     (None, 64, 64, 64)        0         \n",
            "                                                                 \n",
            " batch_normalization (BatchN  (None, 64, 64, 64)       256       \n",
            " ormalization)                                                   \n",
            "                                                                 \n",
            " conv2d_1 (Conv2D)           (None, 64, 64, 64)        36928     \n",
            "                                                                 \n",
            " activation_1 (Activation)   (None, 64, 64, 64)        0         \n",
            "                                                                 \n",
            " max_pooling2d (MaxPooling2D  (None, 32, 32, 64)       0         \n",
            " )                                                               \n",
            "                                                                 \n",
            " batch_normalization_1 (Batc  (None, 32, 32, 64)       256       \n",
            " hNormalization)                                                 \n",
            "                                                                 \n",
            " conv2d_2 (Conv2D)           (None, 32, 32, 128)       73856     \n",
            "                                                                 \n",
            " activation_2 (Activation)   (None, 32, 32, 128)       0         \n",
            "                                                                 \n",
            " batch_normalization_2 (Batc  (None, 32, 32, 128)      512       \n",
            " hNormalization)                                                 \n",
            "                                                                 \n",
            " conv2d_3 (Conv2D)           (None, 32, 32, 128)       147584    \n",
            "                                                                 \n",
            " activation_3 (Activation)   (None, 32, 32, 128)       0         \n",
            "                                                                 \n",
            " max_pooling2d_1 (MaxPooling  (None, 16, 16, 128)      0         \n",
            " 2D)                                                             \n",
            "                                                                 \n",
            " batch_normalization_3 (Batc  (None, 16, 16, 128)      512       \n",
            " hNormalization)                                                 \n",
            "                                                                 \n",
            " conv2d_4 (Conv2D)           (None, 16, 16, 256)       295168    \n",
            "                                                                 \n",
            " activation_4 (Activation)   (None, 16, 16, 256)       0         \n",
            "                                                                 \n",
            " batch_normalization_4 (Batc  (None, 16, 16, 256)      1024      \n",
            " hNormalization)                                                 \n",
            "                                                                 \n",
            " conv2d_5 (Conv2D)           (None, 16, 16, 256)       590080    \n",
            "                                                                 \n",
            " activation_5 (Activation)   (None, 16, 16, 256)       0         \n",
            "                                                                 \n",
            " batch_normalization_5 (Batc  (None, 16, 16, 256)      1024      \n",
            " hNormalization)                                                 \n",
            "                                                                 \n",
            " conv2d_6 (Conv2D)           (None, 16, 16, 256)       590080    \n",
            "                                                                 \n",
            " activation_6 (Activation)   (None, 16, 16, 256)       0         \n",
            "                                                                 \n",
            " max_pooling2d_2 (MaxPooling  (None, 8, 8, 256)        0         \n",
            " 2D)                                                             \n",
            "                                                                 \n",
            " batch_normalization_6 (Batc  (None, 8, 8, 256)        1024      \n",
            " hNormalization)                                                 \n",
            "                                                                 \n",
            " conv2d_7 (Conv2D)           (None, 8, 8, 512)         1180160   \n",
            "                                                                 \n",
            " activation_7 (Activation)   (None, 8, 8, 512)         0         \n",
            "                                                                 \n",
            " batch_normalization_7 (Batc  (None, 8, 8, 512)        2048      \n",
            " hNormalization)                                                 \n",
            "                                                                 \n"
          ]
        },
        {
          "output_type": "stream",
          "name": "stderr",
          "text": [
            "/usr/local/lib/python3.7/dist-packages/keras/optimizer_v2/rmsprop.py:130: UserWarning: The `lr` argument is deprecated, use `learning_rate` instead.\n",
            "  super(RMSprop, self).__init__(name, **kwargs)\n"
          ]
        },
        {
          "output_type": "stream",
          "name": "stdout",
          "text": [
            " conv2d_8 (Conv2D)           (None, 8, 8, 512)         2359808   \n",
            "                                                                 \n",
            " activation_8 (Activation)   (None, 8, 8, 512)         0         \n",
            "                                                                 \n",
            " batch_normalization_8 (Batc  (None, 8, 8, 512)        2048      \n",
            " hNormalization)                                                 \n",
            "                                                                 \n",
            " conv2d_9 (Conv2D)           (None, 8, 8, 512)         2359808   \n",
            "                                                                 \n",
            " activation_9 (Activation)   (None, 8, 8, 512)         0         \n",
            "                                                                 \n",
            " max_pooling2d_3 (MaxPooling  (None, 4, 4, 512)        0         \n",
            " 2D)                                                             \n",
            "                                                                 \n",
            " batch_normalization_9 (Batc  (None, 4, 4, 512)        2048      \n",
            " hNormalization)                                                 \n",
            "                                                                 \n",
            " conv2d_10 (Conv2D)          (None, 4, 4, 512)         2359808   \n",
            "                                                                 \n",
            " activation_10 (Activation)  (None, 4, 4, 512)         0         \n",
            "                                                                 \n",
            " batch_normalization_10 (Bat  (None, 4, 4, 512)        2048      \n",
            " chNormalization)                                                \n",
            "                                                                 \n",
            " conv2d_11 (Conv2D)          (None, 4, 4, 512)         2359808   \n",
            "                                                                 \n",
            " activation_11 (Activation)  (None, 4, 4, 512)         0         \n",
            "                                                                 \n",
            " batch_normalization_11 (Bat  (None, 4, 4, 512)        2048      \n",
            " chNormalization)                                                \n",
            "                                                                 \n",
            " conv2d_12 (Conv2D)          (None, 4, 4, 512)         2359808   \n",
            "                                                                 \n",
            " activation_12 (Activation)  (None, 4, 4, 512)         0         \n",
            "                                                                 \n",
            " max_pooling2d_4 (MaxPooling  (None, 2, 2, 512)        0         \n",
            " 2D)                                                             \n",
            "                                                                 \n",
            " batch_normalization_12 (Bat  (None, 2, 2, 512)        2048      \n",
            " chNormalization)                                                \n",
            "                                                                 \n",
            " flatten (Flatten)           (None, 2048)              0         \n",
            "                                                                 \n",
            " dense (Dense)               (None, 4096)              8392704   \n",
            "                                                                 \n",
            " activation_13 (Activation)  (None, 4096)              0         \n",
            "                                                                 \n",
            " batch_normalization_13 (Bat  (None, 4096)             16384     \n",
            " chNormalization)                                                \n",
            "                                                                 \n",
            " dropout (Dropout)           (None, 4096)              0         \n",
            "                                                                 \n",
            " dense_1 (Dense)             (None, 4096)              16781312  \n",
            "                                                                 \n",
            " activation_14 (Activation)  (None, 4096)              0         \n",
            "                                                                 \n",
            " batch_normalization_14 (Bat  (None, 4096)             16384     \n",
            " chNormalization)                                                \n",
            "                                                                 \n",
            " dropout_1 (Dropout)         (None, 4096)              0         \n",
            "                                                                 \n",
            " dense_2 (Dense)             (None, 1000)              4097000   \n",
            "                                                                 \n",
            " activation_15 (Activation)  (None, 1000)              0         \n",
            "                                                                 \n",
            " batch_normalization_15 (Bat  (None, 1000)             4000      \n",
            " chNormalization)                                                \n",
            "                                                                 \n",
            " dropout_2 (Dropout)         (None, 1000)              0         \n",
            "                                                                 \n",
            " dense_3 (Dense)             (None, 2)                 2002      \n",
            "                                                                 \n",
            "=================================================================\n",
            "Total params: 44,040,218\n",
            "Trainable params: 44,013,386\n",
            "Non-trainable params: 26,832\n",
            "_________________________________________________________________\n"
          ]
        }
      ]
    },
    {
      "cell_type": "code",
      "source": [
        "#training data\n",
        "H = vgg16.fit(trainX, trainY, validation_data=(testX, testY), epochs=70, batch_size=16)"
      ],
      "metadata": {
        "colab": {
          "base_uri": "https://localhost:8080/"
        },
        "id": "JOp0TzHxZYLf",
        "outputId": "f9f8e1de-02f3-4811-f67d-b4575c67679f"
      },
      "execution_count": 12,
      "outputs": [
        {
          "output_type": "stream",
          "name": "stdout",
          "text": [
            "Epoch 1/70\n",
            "70/70 [==============================] - 22s 76ms/step - loss: 0.9793 - accuracy: 0.7357 - val_loss: 202.8174 - val_accuracy: 0.5000\n",
            "Epoch 2/70\n",
            "70/70 [==============================] - 4s 57ms/step - loss: 0.6584 - accuracy: 0.7634 - val_loss: 10.8159 - val_accuracy: 0.6000\n",
            "Epoch 3/70\n",
            "70/70 [==============================] - 4s 57ms/step - loss: 0.4828 - accuracy: 0.8295 - val_loss: 3.3135 - val_accuracy: 0.6964\n",
            "Epoch 4/70\n",
            "70/70 [==============================] - 4s 57ms/step - loss: 0.3484 - accuracy: 0.8571 - val_loss: 6.8853 - val_accuracy: 0.5714\n",
            "Epoch 5/70\n",
            "70/70 [==============================] - 4s 57ms/step - loss: 0.3070 - accuracy: 0.8920 - val_loss: 1.1225 - val_accuracy: 0.7500\n",
            "Epoch 6/70\n",
            "70/70 [==============================] - 4s 57ms/step - loss: 0.3588 - accuracy: 0.8768 - val_loss: 1.8042 - val_accuracy: 0.7429\n",
            "Epoch 7/70\n",
            "70/70 [==============================] - 4s 58ms/step - loss: 0.2854 - accuracy: 0.9062 - val_loss: 1.1867 - val_accuracy: 0.8679\n",
            "Epoch 8/70\n",
            "70/70 [==============================] - 4s 57ms/step - loss: 0.2220 - accuracy: 0.9080 - val_loss: 1.2106 - val_accuracy: 0.8000\n",
            "Epoch 9/70\n",
            "70/70 [==============================] - 4s 57ms/step - loss: 0.1989 - accuracy: 0.9339 - val_loss: 0.7539 - val_accuracy: 0.8750\n",
            "Epoch 10/70\n",
            "70/70 [==============================] - 4s 57ms/step - loss: 0.1810 - accuracy: 0.9429 - val_loss: 0.7208 - val_accuracy: 0.8964\n",
            "Epoch 11/70\n",
            "70/70 [==============================] - 4s 58ms/step - loss: 0.1926 - accuracy: 0.9384 - val_loss: 0.3888 - val_accuracy: 0.8607\n",
            "Epoch 12/70\n",
            "70/70 [==============================] - 4s 57ms/step - loss: 0.1595 - accuracy: 0.9420 - val_loss: 5.8764 - val_accuracy: 0.3857\n",
            "Epoch 13/70\n",
            "70/70 [==============================] - 4s 57ms/step - loss: 0.1572 - accuracy: 0.9527 - val_loss: 0.1052 - val_accuracy: 0.9536\n",
            "Epoch 14/70\n",
            "70/70 [==============================] - 4s 57ms/step - loss: 0.1458 - accuracy: 0.9527 - val_loss: 0.5172 - val_accuracy: 0.8464\n",
            "Epoch 15/70\n",
            "70/70 [==============================] - 4s 57ms/step - loss: 0.1333 - accuracy: 0.9536 - val_loss: 0.1537 - val_accuracy: 0.9643\n",
            "Epoch 16/70\n",
            "70/70 [==============================] - 4s 57ms/step - loss: 0.1377 - accuracy: 0.9527 - val_loss: 0.2696 - val_accuracy: 0.9214\n",
            "Epoch 17/70\n",
            "70/70 [==============================] - 4s 57ms/step - loss: 0.1226 - accuracy: 0.9670 - val_loss: 0.8589 - val_accuracy: 0.7071\n",
            "Epoch 18/70\n",
            "70/70 [==============================] - 4s 57ms/step - loss: 0.1338 - accuracy: 0.9580 - val_loss: 0.3164 - val_accuracy: 0.9250\n",
            "Epoch 19/70\n",
            "70/70 [==============================] - 4s 57ms/step - loss: 0.1038 - accuracy: 0.9741 - val_loss: 0.3865 - val_accuracy: 0.9250\n",
            "Epoch 20/70\n",
            "70/70 [==============================] - 4s 57ms/step - loss: 0.0899 - accuracy: 0.9714 - val_loss: 0.1613 - val_accuracy: 0.9571\n",
            "Epoch 21/70\n",
            "70/70 [==============================] - 4s 57ms/step - loss: 0.1023 - accuracy: 0.9723 - val_loss: 0.1782 - val_accuracy: 0.9536\n",
            "Epoch 22/70\n",
            "70/70 [==============================] - 4s 59ms/step - loss: 0.0860 - accuracy: 0.9795 - val_loss: 0.0576 - val_accuracy: 0.9857\n",
            "Epoch 23/70\n",
            "70/70 [==============================] - 4s 59ms/step - loss: 0.1003 - accuracy: 0.9688 - val_loss: 0.1409 - val_accuracy: 0.9643\n",
            "Epoch 24/70\n",
            "70/70 [==============================] - 4s 58ms/step - loss: 0.0859 - accuracy: 0.9705 - val_loss: 0.3224 - val_accuracy: 0.9250\n",
            "Epoch 25/70\n",
            "70/70 [==============================] - 4s 58ms/step - loss: 0.0904 - accuracy: 0.9759 - val_loss: 0.0595 - val_accuracy: 0.9786\n",
            "Epoch 26/70\n",
            "70/70 [==============================] - 4s 58ms/step - loss: 0.0697 - accuracy: 0.9866 - val_loss: 0.1899 - val_accuracy: 0.9464\n",
            "Epoch 27/70\n",
            "70/70 [==============================] - 4s 58ms/step - loss: 0.0802 - accuracy: 0.9786 - val_loss: 1.5409 - val_accuracy: 0.6857\n",
            "Epoch 28/70\n",
            "70/70 [==============================] - 4s 58ms/step - loss: 0.0781 - accuracy: 0.9777 - val_loss: 0.0789 - val_accuracy: 0.9893\n",
            "Epoch 29/70\n",
            "70/70 [==============================] - 4s 58ms/step - loss: 0.0752 - accuracy: 0.9830 - val_loss: 0.1501 - val_accuracy: 0.9607\n",
            "Epoch 30/70\n",
            "70/70 [==============================] - 4s 58ms/step - loss: 0.0790 - accuracy: 0.9777 - val_loss: 0.6820 - val_accuracy: 0.8857\n",
            "Epoch 31/70\n",
            "70/70 [==============================] - 4s 58ms/step - loss: 0.0610 - accuracy: 0.9884 - val_loss: 0.3304 - val_accuracy: 0.9250\n",
            "Epoch 32/70\n",
            "70/70 [==============================] - 4s 58ms/step - loss: 0.0603 - accuracy: 0.9830 - val_loss: 0.4795 - val_accuracy: 0.9036\n",
            "Epoch 33/70\n",
            "70/70 [==============================] - 4s 58ms/step - loss: 0.0707 - accuracy: 0.9812 - val_loss: 0.1005 - val_accuracy: 0.9714\n",
            "Epoch 34/70\n",
            "70/70 [==============================] - 4s 58ms/step - loss: 0.0671 - accuracy: 0.9857 - val_loss: 0.2702 - val_accuracy: 0.9071\n",
            "Epoch 35/70\n",
            "70/70 [==============================] - 4s 63ms/step - loss: 0.0321 - accuracy: 0.9937 - val_loss: 0.8570 - val_accuracy: 0.8821\n",
            "Epoch 36/70\n",
            "70/70 [==============================] - 4s 58ms/step - loss: 0.0591 - accuracy: 0.9893 - val_loss: 0.3589 - val_accuracy: 0.9321\n",
            "Epoch 37/70\n",
            "70/70 [==============================] - 4s 58ms/step - loss: 0.0765 - accuracy: 0.9812 - val_loss: 0.8039 - val_accuracy: 0.8107\n",
            "Epoch 38/70\n",
            "70/70 [==============================] - 4s 58ms/step - loss: 0.0546 - accuracy: 0.9848 - val_loss: 0.5158 - val_accuracy: 0.9071\n",
            "Epoch 39/70\n",
            "70/70 [==============================] - 4s 58ms/step - loss: 0.0557 - accuracy: 0.9875 - val_loss: 0.1441 - val_accuracy: 0.9821\n",
            "Epoch 40/70\n",
            "70/70 [==============================] - 4s 58ms/step - loss: 0.0350 - accuracy: 0.9929 - val_loss: 0.1113 - val_accuracy: 0.9679\n",
            "Epoch 41/70\n",
            "70/70 [==============================] - 4s 58ms/step - loss: 0.0419 - accuracy: 0.9911 - val_loss: 0.1924 - val_accuracy: 0.9571\n",
            "Epoch 42/70\n",
            "70/70 [==============================] - 4s 58ms/step - loss: 0.0349 - accuracy: 0.9937 - val_loss: 0.2395 - val_accuracy: 0.9643\n",
            "Epoch 43/70\n",
            "70/70 [==============================] - 4s 58ms/step - loss: 0.0393 - accuracy: 0.9893 - val_loss: 2.2051 - val_accuracy: 0.6179\n",
            "Epoch 44/70\n",
            "70/70 [==============================] - 4s 58ms/step - loss: 0.0085 - accuracy: 0.9991 - val_loss: 0.3030 - val_accuracy: 0.9607\n",
            "Epoch 45/70\n",
            "70/70 [==============================] - 4s 58ms/step - loss: 0.0323 - accuracy: 0.9964 - val_loss: 1.1747 - val_accuracy: 0.8714\n",
            "Epoch 46/70\n",
            "70/70 [==============================] - 4s 58ms/step - loss: 0.0466 - accuracy: 0.9911 - val_loss: 3.2778 - val_accuracy: 0.6500\n",
            "Epoch 47/70\n",
            "70/70 [==============================] - 4s 58ms/step - loss: 0.0479 - accuracy: 0.9920 - val_loss: 0.2724 - val_accuracy: 0.9536\n",
            "Epoch 48/70\n",
            "70/70 [==============================] - 4s 58ms/step - loss: 0.0276 - accuracy: 0.9929 - val_loss: 0.1856 - val_accuracy: 0.9643\n",
            "Epoch 49/70\n",
            "70/70 [==============================] - 4s 58ms/step - loss: 0.0342 - accuracy: 0.9937 - val_loss: 0.3482 - val_accuracy: 0.9500\n",
            "Epoch 50/70\n",
            "70/70 [==============================] - 4s 60ms/step - loss: 0.0209 - accuracy: 0.9964 - val_loss: 0.3614 - val_accuracy: 0.9250\n",
            "Epoch 51/70\n",
            "70/70 [==============================] - 4s 58ms/step - loss: 0.0223 - accuracy: 0.9964 - val_loss: 0.2614 - val_accuracy: 0.9679\n",
            "Epoch 52/70\n",
            "70/70 [==============================] - 4s 58ms/step - loss: 0.0545 - accuracy: 0.9911 - val_loss: 0.3464 - val_accuracy: 0.9286\n",
            "Epoch 53/70\n",
            "70/70 [==============================] - 4s 58ms/step - loss: 0.0427 - accuracy: 0.9911 - val_loss: 0.0869 - val_accuracy: 0.9821\n",
            "Epoch 54/70\n",
            "70/70 [==============================] - 4s 58ms/step - loss: 0.0016 - accuracy: 0.9991 - val_loss: 0.5990 - val_accuracy: 0.9250\n",
            "Epoch 55/70\n",
            "70/70 [==============================] - 4s 60ms/step - loss: 0.0381 - accuracy: 0.9955 - val_loss: 0.1213 - val_accuracy: 0.9714\n",
            "Epoch 56/70\n",
            "70/70 [==============================] - 4s 58ms/step - loss: 0.0173 - accuracy: 0.9964 - val_loss: 0.1964 - val_accuracy: 0.9643\n",
            "Epoch 57/70\n",
            "70/70 [==============================] - 4s 58ms/step - loss: 0.0163 - accuracy: 0.9955 - val_loss: 0.1155 - val_accuracy: 0.9643\n",
            "Epoch 58/70\n",
            "70/70 [==============================] - 4s 58ms/step - loss: 0.0160 - accuracy: 0.9973 - val_loss: 0.1443 - val_accuracy: 0.9821\n",
            "Epoch 59/70\n",
            "70/70 [==============================] - 4s 58ms/step - loss: 0.0552 - accuracy: 0.9920 - val_loss: 0.4010 - val_accuracy: 0.9179\n",
            "Epoch 60/70\n",
            "70/70 [==============================] - 4s 59ms/step - loss: 0.0086 - accuracy: 0.9973 - val_loss: 0.8058 - val_accuracy: 0.9143\n",
            "Epoch 61/70\n",
            "70/70 [==============================] - 4s 58ms/step - loss: 0.0271 - accuracy: 0.9964 - val_loss: 0.5547 - val_accuracy: 0.8893\n",
            "Epoch 62/70\n",
            "70/70 [==============================] - 4s 58ms/step - loss: 0.0378 - accuracy: 0.9946 - val_loss: 0.1944 - val_accuracy: 0.9571\n",
            "Epoch 63/70\n",
            "70/70 [==============================] - 4s 59ms/step - loss: 0.0248 - accuracy: 0.9964 - val_loss: 0.1741 - val_accuracy: 0.9679\n",
            "Epoch 64/70\n",
            "70/70 [==============================] - 4s 58ms/step - loss: 0.0363 - accuracy: 0.9946 - val_loss: 0.1521 - val_accuracy: 0.9643\n",
            "Epoch 65/70\n",
            "70/70 [==============================] - 4s 59ms/step - loss: 0.0205 - accuracy: 0.9955 - val_loss: 0.2647 - val_accuracy: 0.9536\n",
            "Epoch 66/70\n",
            "70/70 [==============================] - 4s 59ms/step - loss: 0.0144 - accuracy: 0.9973 - val_loss: 0.2729 - val_accuracy: 0.9607\n",
            "Epoch 67/70\n",
            "70/70 [==============================] - 4s 59ms/step - loss: 0.0261 - accuracy: 0.9955 - val_loss: 0.1016 - val_accuracy: 0.9821\n",
            "Epoch 68/70\n",
            "70/70 [==============================] - 4s 58ms/step - loss: 4.2588e-04 - accuracy: 1.0000 - val_loss: 0.1302 - val_accuracy: 0.9786\n",
            "Epoch 69/70\n",
            "70/70 [==============================] - 4s 59ms/step - loss: 0.0280 - accuracy: 0.9946 - val_loss: 0.1103 - val_accuracy: 0.9786\n",
            "Epoch 70/70\n",
            "70/70 [==============================] - 4s 63ms/step - loss: 0.0594 - accuracy: 0.9911 - val_loss: 0.1376 - val_accuracy: 0.9750\n"
          ]
        }
      ]
    },
    {
      "cell_type": "code",
      "source": [
        "print(\"[INFO] evaluating network...\")\n",
        "predictions = vgg16.predict(testX, batch_size=16)\n",
        "pred=predictions.argmax(axis=1)\n",
        "testY_argm=testY.argmax(axis=1)\n"
      ],
      "metadata": {
        "colab": {
          "base_uri": "https://localhost:8080/"
        },
        "id": "qjoEfHoWsr9H",
        "outputId": "76a3b7e1-b3f3-4697-ccd6-a2ddd0b84fb9"
      },
      "execution_count": 13,
      "outputs": [
        {
          "output_type": "stream",
          "name": "stdout",
          "text": [
            "[INFO] evaluating network...\n"
          ]
        }
      ]
    },
    {
      "cell_type": "code",
      "source": [
        "print(classification_report(testY_argm,pred,target_names=lb.classes_))"
      ],
      "metadata": {
        "colab": {
          "base_uri": "https://localhost:8080/"
        },
        "id": "Po9wqNIMts7s",
        "outputId": "9eed6c08-ce03-4d3d-c180-225107491cdb"
      },
      "execution_count": 14,
      "outputs": [
        {
          "output_type": "stream",
          "name": "stdout",
          "text": [
            "              precision    recall  f1-score   support\n",
            "\n",
            "      Normal       0.96      0.99      0.98       140\n",
            "Tuberculosis       0.99      0.96      0.97       140\n",
            "\n",
            "    accuracy                           0.97       280\n",
            "   macro avg       0.98      0.98      0.97       280\n",
            "weighted avg       0.98      0.97      0.97       280\n",
            "\n"
          ]
        }
      ]
    },
    {
      "cell_type": "code",
      "source": [
        "test_score = vgg16.evaluate(testX, testY) \n",
        "print(\"Test Loss {:.4f}, accuracy {:.2f}%\".format(test_score[0], test_score[1] * 100))"
      ],
      "metadata": {
        "colab": {
          "base_uri": "https://localhost:8080/"
        },
        "id": "5NSJXylrt1ND",
        "outputId": "03d836c6-fed1-4d1f-d6c1-08d610a63c1c"
      },
      "execution_count": 15,
      "outputs": [
        {
          "output_type": "stream",
          "name": "stdout",
          "text": [
            "9/9 [==============================] - 2s 94ms/step - loss: 0.1376 - accuracy: 0.9750\n",
            "Test Loss 0.1376, accuracy 97.50%\n"
          ]
        }
      ]
    },
    {
      "cell_type": "code",
      "source": [
        "from sklearn.metrics import confusion_matrix\n",
        "import itertools\n",
        "\n",
        "def plot_confusion_matrix(cm, classes, normalize=False, title='Confusion matrix', cmap='Blues'):\n",
        "  if normalize:\n",
        "     cm = cm.astype('float') / cm.sum(axis=1)[:, np.newaxis]\n",
        "     print(\"Normalized confusion matrix\")\n",
        "  else:\n",
        "     print('Confusion matrix, without normalization')\n",
        "  print(cm)\n",
        "  plt.imshow(cm, interpolation='nearest', cmap=cmap)\n",
        "  plt.title(title)\n",
        "  plt.colorbar()\n",
        "  tick_marks = np.arange(len(classes))\n",
        "  plt.xticks(tick_marks, classes, rotation=45)\n",
        "  plt.yticks(tick_marks, classes)\n",
        "  fmt = '.2f' if normalize else 'd'\n",
        "  thresh = cm.max() / 2.\n",
        "  for i, j in itertools.product(range(cm.shape[0]), range(cm.shape[1])):\n",
        "      plt.text(j, i, format(cm[i, j], fmt), horizontalalignment=\"center\", color=\"white\" if cm[i, j] > thresh else \"black\")\n",
        "  plt.ylabel('True label')\n",
        "  plt.xlabel('Predicted label')\n",
        "  plt.tight_layout()"
      ],
      "metadata": {
        "id": "ZS-FXHa6uI6H"
      },
      "execution_count": 16,
      "outputs": []
    },
    {
      "cell_type": "code",
      "source": [
        "cnf_matrix = confusion_matrix(testY_argm, pred)\n",
        "np.set_printoptions(precision=2)\n",
        "\n",
        "# Plot non/normalized confusion matrix\n",
        "plt.figure()\n",
        "plot_confusion_matrix(cnf_matrix,\n",
        "classes=lb.classes_, normalize=True)\n",
        "plt.show()\n",
        "\n",
        "plt.figure()\n",
        "plot_confusion_matrix(cnf_matrix,\n",
        "classes=lb.classes_, normalize=False)\n",
        "plt.show()\n",
        "\n",
        "f, ax = plt.subplots()\n",
        "ax.plot([None] + H.history['accuracy'], 'o-')\n",
        "ax.plot([None] + H.history['val_accuracy'], 'x-')\n",
        "\n",
        "ax.legend(['Train acc', 'Validation acc'], loc = 0)\n",
        "ax.set_title('Training/Validation acc per Epoch')\n",
        "ax.set_xlabel('Epoch')\n",
        "ax.set_ylabel('acc')\n",
        "plt.grid(True)\n",
        "\n",
        "f, ax = plt.subplots()\n",
        "ax.plot([None] + H.history['loss'], 'o-')\n",
        "ax.plot([None] + H.history['val_loss'], 'x-')\n",
        "ax.legend(['Train Loss', 'Validation Loss'], loc = 0)\n",
        "ax.set_title('Training/Validation Loss per Epoch')\n",
        "ax.set_xlabel('Epoch')\n",
        "ax.set_ylabel('loss')\n",
        "plt.grid(True)"
      ],
      "metadata": {
        "colab": {
          "base_uri": "https://localhost:8080/",
          "height": 1000
        },
        "id": "eiYstz9xuRLx",
        "outputId": "9e9d42de-353c-4b42-8e8a-0914597ea70d"
      },
      "execution_count": 17,
      "outputs": [
        {
          "output_type": "stream",
          "name": "stdout",
          "text": [
            "Normalized confusion matrix\n",
            "[[0.99 0.01]\n",
            " [0.04 0.96]]\n"
          ]
        },
        {
          "output_type": "display_data",
          "data": {
            "text/plain": [
              "<Figure size 432x288 with 2 Axes>"
            ],
            "image/png": "[encoded data removed]"
          },
          "metadata": {
            "needs_background": "light"
          }
        },
        {
          "output_type": "stream",
          "name": "stdout",
          "text": [
            "Confusion matrix, without normalization\n",
            "[[139   1]\n",
            " [  6 134]]\n"
          ]
        },
        {
          "output_type": "display_data",
          "data": {
            "text/plain": [
              "<Figure size 432x288 with 2 Axes>"
            ],
            "image/png": "[encoded data removed]"
          },
          "metadata": {
            "needs_background": "light"
          }
        },
        {
          "output_type": "display_data",
          "data": {
            "text/plain": [
              "<Figure size 432x288 with 1 Axes>"
            ],
            "image/png": "[encoded data removed]"
          },
          "metadata": {
            "needs_background": "light"
          }
        },
        {
          "output_type": "display_data",
          "data": {
            "text/plain": [
              "<Figure size 432x288 with 1 Axes>"
            ],
            "image/png": "[encoded data removed]"
          },
          "metadata": {
            "needs_background": "light"
          }
        }
      ]
    }
  ]
}