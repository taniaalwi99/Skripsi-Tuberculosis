{
  "nbformat": 4,
  "nbformat_minor": 0,
  "metadata": {
    "colab": {
      "name": "Tuberculosis_VGG-16.ipynb",
      "provenance": [],
      "collapsed_sections": [],
      "include_colab_link": true
    },
    "kernelspec": {
      "name": "python3",
      "display_name": "Python 3"
    },
    "language_info": {
      "name": "python"
    },
    "accelerator": "GPU",
    "gpuClass": "standard"
  },
  "cells": [
    {
      "cell_type": "markdown",
      "metadata": {
        "id": "view-in-github",
        "colab_type": "text"
      },
      "source": [
        "<a href=\"https://colab.research.google.com/github/taniaalwi99/Skripsi-Tuberculosis/blob/main/Tuberculosis_32_Adam_0.001_70_16.ipynb\" target=\"_parent\"><img src=\"https://colab.research.google.com/assets/colab-badge.svg\" alt=\"Open In Colab\"/></a>"
      ]
    },
    {
      "cell_type": "code",
      "execution_count": 1,
      "metadata": {
        "colab": {
          "base_uri": "https://localhost:8080/"
        },
        "id": "2_RYo7hrXaC5",
        "outputId": "f8a66433-24f3-4fdc-bdb4-916c0e2fd5d5"
      },
      "outputs": [
        {
          "output_type": "stream",
          "name": "stdout",
          "text": [
            "Mounted at /content/drive\n"
          ]
        }
      ],
      "source": [
        "from google.colab import drive\n",
        "drive.mount('/content/drive')"
      ]
    },
    {
      "cell_type": "code",
      "source": [
        "cd /content/drive/My Drive"
      ],
      "metadata": {
        "colab": {
          "base_uri": "https://localhost:8080/"
        },
        "id": "G4aisxOFX3KH",
        "outputId": "6bc1e863-4013-4aba-9d68-ba620139dd57"
      },
      "execution_count": 2,
      "outputs": [
        {
          "output_type": "stream",
          "name": "stdout",
          "text": [
            "/content/drive/My Drive\n"
          ]
        }
      ]
    },
    {
      "cell_type": "code",
      "source": [
        "ls"
      ],
      "metadata": {
        "colab": {
          "base_uri": "https://localhost:8080/"
        },
        "id": "e_oGUrADX8O_",
        "outputId": "68b7e28c-24fd-4e58-d0af-5d25c62c946f"
      },
      "execution_count": 3,
      "outputs": [
        {
          "output_type": "stream",
          "name": "stdout",
          "text": [
            "\u001b[0m\u001b[01;34m'Colab Notebooks'\u001b[0m/  \u001b[01;34m'Dataset Gray'\u001b[0m/  \u001b[01;34m'Tania Alwi'\u001b[0m/\n"
          ]
        }
      ]
    },
    {
      "cell_type": "code",
      "source": [
        "from keras.models import Model\n",
        "from keras.models import load_model\n",
        "from keras.models import Sequential\n",
        "from keras.layers.convolutional import Convolution2D\n",
        "from keras.layers.convolutional import MaxPooling2D\n",
        "from keras.layers.convolutional import ZeroPadding2D\n",
        "from keras.layers.core import Activation\n",
        "from keras.layers.core import Flatten\n",
        "from keras.layers.core import Dense\n",
        "from keras.layers.core import Dropout\n",
        "from keras.layers import BatchNormalization\n",
        "from keras import regularizers\n",
        "from keras.preprocessing.image import ImageDataGenerator\n",
        "from tensorflow.keras.optimizers import RMSprop, Adam, SGD\n",
        "from sklearn.preprocessing import LabelBinarizer\n",
        "from sklearn.model_selection import train_test_split\n",
        "from sklearn.metrics import classification_report\n",
        "from PIL import Image\n",
        "from matplotlib import pyplot as plt\n",
        "from imutils import paths\n",
        "import numpy as np\n",
        "import os"
      ],
      "metadata": {
        "id": "t95OxlI7X_OF"
      },
      "execution_count": 4,
      "outputs": []
    },
    {
      "cell_type": "code",
      "source": [
        "print(\"[INFO] loading images...\")\n",
        "imagePaths = paths.list_images(\"Dataset Gray\")\n",
        "data = []\n",
        "labels = []"
      ],
      "metadata": {
        "colab": {
          "base_uri": "https://localhost:8080/"
        },
        "id": "jvn693i-YDZ8",
        "outputId": "00006af9-3555-44a6-c26a-168abb687f09"
      },
      "execution_count": 5,
      "outputs": [
        {
          "output_type": "stream",
          "name": "stdout",
          "text": [
            "[INFO] loading images...\n"
          ]
        }
      ]
    },
    {
      "cell_type": "code",
      "source": [
        "for imagePaths in imagePaths:\n",
        "    a = Image.open(imagePaths)\n",
        "    image = np.array(a.resize((32,32))) / 255.0\n",
        "    data.append(image)\n",
        "    \n",
        "    label = imagePaths.split(os.path.sep) [-2]\n",
        "    labels.append(label)"
      ],
      "metadata": {
        "id": "3XLuWAZsYLfK"
      },
      "execution_count": 6,
      "outputs": []
    },
    {
      "cell_type": "code",
      "source": [
        "from sklearn.preprocessing import LabelBinarizer\n",
        "import numpy as np\n",
        "\n",
        "class MyLabelBinarizer(LabelBinarizer):\n",
        "    def transform(self, label):\n",
        "      nilaiy = super().transform(label)\n",
        "      if self.y_type_== 'binary':\n",
        "        return np.hstack((nilaiy, 1-nilaiy))\n",
        "      else:\n",
        "        return nilaiy\n",
        "    def inverse_transform(self, nilaiy, threshold=None):\n",
        "      if self.y_type_ == 'binary':\n",
        "          return super().inverse_transform(nilaiy[:, 0], threshold)\n",
        "      else:\n",
        "          return super().inverse_transform(nilaiy, threshold)\n",
        "\n",
        "      \n",
        "\n",
        "lb = MyLabelBinarizer()\n",
        "labels = lb.fit_transform(labels)\n",
        "print(labels)"
      ],
      "metadata": {
        "colab": {
          "base_uri": "https://localhost:8080/"
        },
        "id": "gnjyPDi_Yyrn",
        "outputId": "c6cb19a5-2f70-483c-a341-c75a5ce9f866"
      },
      "execution_count": 7,
      "outputs": [
        {
          "output_type": "stream",
          "name": "stdout",
          "text": [
            "[[0 1]\n",
            " [0 1]\n",
            " [0 1]\n",
            " ...\n",
            " [1 0]\n",
            " [1 0]\n",
            " [1 0]]\n"
          ]
        }
      ]
    },
    {
      "cell_type": "code",
      "source": [
        "(trainX,testX, trainY, testY) = train_test_split(np.array(data),np.array(labels), test_size=0.20)\n",
        "print(trainX.shape)\n",
        "print(testX.shape)"
      ],
      "metadata": {
        "colab": {
          "base_uri": "https://localhost:8080/"
        },
        "id": "0V3CnlQtY1g2",
        "outputId": "7e8fc893-b733-416d-f808-fb3cdfc3a738"
      },
      "execution_count": 8,
      "outputs": [
        {
          "output_type": "stream",
          "name": "stdout",
          "text": [
            "(1120, 32, 32)\n",
            "(280, 32, 32)\n"
          ]
        }
      ]
    },
    {
      "cell_type": "code",
      "source": [
        "def vgg16(num_classes):\n",
        "\n",
        "    vgg16 = Sequential()\n",
        "\n",
        "    vgg16.add(Convolution2D(input_shape=(32,32,1),filters=64,kernel_size=(3,3),padding=\"same\"))\n",
        "    vgg16.add(Activation('relu'))\n",
        "    vgg16.add(BatchNormalization())\n",
        "    #layer1 32*32*64\n",
        "    vgg16.add(Convolution2D(filters=64,kernel_size=(3,3),padding=\"same\"))\n",
        "    vgg16.add(Activation('relu'))\n",
        "    vgg16.add(MaxPooling2D(pool_size=(2, 2),strides=(2,2)))\n",
        "    vgg16.add(BatchNormalization())\n",
        "    #layer2 16*16*64\n",
        "    vgg16.add(Convolution2D(filters=128, kernel_size=(3,3), padding=\"same\"))\n",
        "    vgg16.add(Activation('relu'))\n",
        "    vgg16.add(BatchNormalization())\n",
        "    #layer3 16*16*128\n",
        "    vgg16.add(Convolution2D(filters=128, kernel_size=(3,3), padding=\"same\",))\n",
        "    vgg16.add(Activation('relu'))\n",
        "    vgg16.add(MaxPooling2D(pool_size=(2,2),strides=(2,2)))\n",
        "    vgg16.add(BatchNormalization())\n",
        "    #layer4 8*8*128\n",
        "    vgg16.add(Convolution2D(filters=256, kernel_size=(3,3), padding=\"same\"))\n",
        "    vgg16.add(Activation('relu'))\n",
        "    vgg16.add(BatchNormalization())\n",
        "    #layer5 8*8*256\n",
        "    vgg16.add(Convolution2D(filters=256, kernel_size=(3,3), padding=\"same\"))\n",
        "    vgg16.add(Activation('relu'))\n",
        "    vgg16.add(BatchNormalization())\n",
        "    #layer6 8*8*256\n",
        "    vgg16.add(Convolution2D(filters=256, kernel_size=(3,3), padding=\"same\"))\n",
        "    vgg16.add(Activation('relu'))\n",
        "    vgg16.add(MaxPooling2D(pool_size=(2,2),strides=(2,2)))\n",
        "    vgg16.add(BatchNormalization())\n",
        "    #layer7 4*4*256\n",
        "    vgg16.add(Convolution2D(filters=512, kernel_size=(3,3), padding=\"same\"))\n",
        "    vgg16.add(Activation('relu'))\n",
        "    vgg16.add(BatchNormalization())\n",
        "    #layer8 4*4*512\n",
        "    vgg16.add(Convolution2D(filters=512, kernel_size=(3,3), padding=\"same\"))\n",
        "    vgg16.add(Activation('relu'))\n",
        "    vgg16.add(BatchNormalization())\n",
        "    #layer9 4*4*512\n",
        "    vgg16.add(Convolution2D(filters=512, kernel_size=(3,3), padding=\"same\"))\n",
        "    vgg16.add(Activation('relu'))\n",
        "    vgg16.add(MaxPooling2D(pool_size=(2,2),strides=(2,2)))\n",
        "    vgg16.add(BatchNormalization())\n",
        "    #layer10 2*2*512\n",
        "    vgg16.add(Convolution2D(filters=512, kernel_size=(3,3), padding=\"same\"))\n",
        "    vgg16.add(Activation('relu'))\n",
        "    vgg16.add(BatchNormalization())\n",
        "    #layer11 2*2*512\n",
        "    vgg16.add(Convolution2D(filters=512, kernel_size=(3,3), padding=\"same\"))  \n",
        "    vgg16.add(Activation('relu')) \n",
        "    vgg16.add(BatchNormalization())       \n",
        "    #layer12 2*2*512\n",
        "    vgg16.add(Convolution2D(filters=512, kernel_size=(3,3), padding=\"same\"))\n",
        "    vgg16.add(Activation('relu'))\n",
        "    vgg16.add(MaxPooling2D(pool_size=(2,2),strides=(2,2)))\n",
        "    vgg16.add(BatchNormalization())\n",
        "    #layer13 1*1*512\n",
        "    vgg16.add(Flatten())\n",
        "    vgg16.add(Dense(units=4096))\n",
        "    vgg16.add(Activation('relu')) \n",
        "    vgg16.add(BatchNormalization())\n",
        "    vgg16.add(Dropout(0.5))\n",
        "    #layer14 4096\n",
        "    vgg16.add(Dense(units=4096))\n",
        "    vgg16.add(Activation('relu')) \n",
        "    vgg16.add(BatchNormalization())\n",
        "    vgg16.add(Dropout(0.5))\n",
        "    #layer16 4096\n",
        "    vgg16.add(Dense(units=1000))\n",
        "    vgg16.add(Activation('relu'))\n",
        "    vgg16.add(BatchNormalization())\n",
        "    vgg16.add(Dropout(0.5)) \n",
        "    #layer16 1000\n",
        "    vgg16.add(Dense(2, activation=\"sigmoid\"))\n",
        "\n",
        "    return vgg16"
      ],
      "metadata": {
        "id": "WpeYjXzUZCZP"
      },
      "execution_count": 9,
      "outputs": []
    },
    {
      "cell_type": "code",
      "source": [
        "num_classes=2\n",
        "vgg16=vgg16(num_classes)\n",
        "vgg16.summary()"
      ],
      "metadata": {
        "colab": {
          "base_uri": "https://localhost:8080/"
        },
        "id": "rlT3OhVuZLUs",
        "outputId": "0cbd5240-b5d7-48c0-b769-3bc8400f2d3b"
      },
      "execution_count": 10,
      "outputs": [
        {
          "output_type": "stream",
          "name": "stdout",
          "text": [
            "Model: \"sequential\"\n",
            "_________________________________________________________________\n",
            " Layer (type)                Output Shape              Param #   \n",
            "=================================================================\n",
            " conv2d (Conv2D)             (None, 32, 32, 64)        640       \n",
            "                                                                 \n",
            " activation (Activation)     (None, 32, 32, 64)        0         \n",
            "                                                                 \n",
            " batch_normalization (BatchN  (None, 32, 32, 64)       256       \n",
            " ormalization)                                                   \n",
            "                                                                 \n",
            " conv2d_1 (Conv2D)           (None, 32, 32, 64)        36928     \n",
            "                                                                 \n",
            " activation_1 (Activation)   (None, 32, 32, 64)        0         \n",
            "                                                                 \n",
            " max_pooling2d (MaxPooling2D  (None, 16, 16, 64)       0         \n",
            " )                                                               \n",
            "                                                                 \n",
            " batch_normalization_1 (Batc  (None, 16, 16, 64)       256       \n",
            " hNormalization)                                                 \n",
            "                                                                 \n",
            " conv2d_2 (Conv2D)           (None, 16, 16, 128)       73856     \n",
            "                                                                 \n",
            " activation_2 (Activation)   (None, 16, 16, 128)       0         \n",
            "                                                                 \n",
            " batch_normalization_2 (Batc  (None, 16, 16, 128)      512       \n",
            " hNormalization)                                                 \n",
            "                                                                 \n",
            " conv2d_3 (Conv2D)           (None, 16, 16, 128)       147584    \n",
            "                                                                 \n",
            " activation_3 (Activation)   (None, 16, 16, 128)       0         \n",
            "                                                                 \n",
            " max_pooling2d_1 (MaxPooling  (None, 8, 8, 128)        0         \n",
            " 2D)                                                             \n",
            "                                                                 \n",
            " batch_normalization_3 (Batc  (None, 8, 8, 128)        512       \n",
            " hNormalization)                                                 \n",
            "                                                                 \n",
            " conv2d_4 (Conv2D)           (None, 8, 8, 256)         295168    \n",
            "                                                                 \n",
            " activation_4 (Activation)   (None, 8, 8, 256)         0         \n",
            "                                                                 \n",
            " batch_normalization_4 (Batc  (None, 8, 8, 256)        1024      \n",
            " hNormalization)                                                 \n",
            "                                                                 \n",
            " conv2d_5 (Conv2D)           (None, 8, 8, 256)         590080    \n",
            "                                                                 \n",
            " activation_5 (Activation)   (None, 8, 8, 256)         0         \n",
            "                                                                 \n",
            " batch_normalization_5 (Batc  (None, 8, 8, 256)        1024      \n",
            " hNormalization)                                                 \n",
            "                                                                 \n",
            " conv2d_6 (Conv2D)           (None, 8, 8, 256)         590080    \n",
            "                                                                 \n",
            " activation_6 (Activation)   (None, 8, 8, 256)         0         \n",
            "                                                                 \n",
            " max_pooling2d_2 (MaxPooling  (None, 4, 4, 256)        0         \n",
            " 2D)                                                             \n",
            "                                                                 \n",
            " batch_normalization_6 (Batc  (None, 4, 4, 256)        1024      \n",
            " hNormalization)                                                 \n",
            "                                                                 \n",
            " conv2d_7 (Conv2D)           (None, 4, 4, 512)         1180160   \n",
            "                                                                 \n",
            " activation_7 (Activation)   (None, 4, 4, 512)         0         \n",
            "                                                                 \n",
            " batch_normalization_7 (Batc  (None, 4, 4, 512)        2048      \n",
            " hNormalization)                                                 \n",
            "                                                                 \n",
            " conv2d_8 (Conv2D)           (None, 4, 4, 512)         2359808   \n",
            "                                                                 \n",
            " activation_8 (Activation)   (None, 4, 4, 512)         0         \n",
            "                                                                 \n",
            " batch_normalization_8 (Batc  (None, 4, 4, 512)        2048      \n",
            " hNormalization)                                                 \n",
            "                                                                 \n",
            " conv2d_9 (Conv2D)           (None, 4, 4, 512)         2359808   \n",
            "                                                                 \n",
            " activation_9 (Activation)   (None, 4, 4, 512)         0         \n",
            "                                                                 \n",
            " max_pooling2d_3 (MaxPooling  (None, 2, 2, 512)        0         \n",
            " 2D)                                                             \n",
            "                                                                 \n",
            " batch_normalization_9 (Batc  (None, 2, 2, 512)        2048      \n",
            " hNormalization)                                                 \n",
            "                                                                 \n",
            " conv2d_10 (Conv2D)          (None, 2, 2, 512)         2359808   \n",
            "                                                                 \n",
            " activation_10 (Activation)  (None, 2, 2, 512)         0         \n",
            "                                                                 \n",
            " batch_normalization_10 (Bat  (None, 2, 2, 512)        2048      \n",
            " chNormalization)                                                \n",
            "                                                                 \n",
            " conv2d_11 (Conv2D)          (None, 2, 2, 512)         2359808   \n",
            "                                                                 \n",
            " activation_11 (Activation)  (None, 2, 2, 512)         0         \n",
            "                                                                 \n",
            " batch_normalization_11 (Bat  (None, 2, 2, 512)        2048      \n",
            " chNormalization)                                                \n",
            "                                                                 \n",
            " conv2d_12 (Conv2D)          (None, 2, 2, 512)         2359808   \n",
            "                                                                 \n",
            " activation_12 (Activation)  (None, 2, 2, 512)         0         \n",
            "                                                                 \n",
            " max_pooling2d_4 (MaxPooling  (None, 1, 1, 512)        0         \n",
            " 2D)                                                             \n",
            "                                                                 \n",
            " batch_normalization_12 (Bat  (None, 1, 1, 512)        2048      \n",
            " chNormalization)                                                \n",
            "                                                                 \n",
            " flatten (Flatten)           (None, 512)               0         \n",
            "                                                                 \n",
            " dense (Dense)               (None, 4096)              2101248   \n",
            "                                                                 \n",
            " activation_13 (Activation)  (None, 4096)              0         \n",
            "                                                                 \n",
            " batch_normalization_13 (Bat  (None, 4096)             16384     \n",
            " chNormalization)                                                \n",
            "                                                                 \n",
            " dropout (Dropout)           (None, 4096)              0         \n",
            "                                                                 \n",
            " dense_1 (Dense)             (None, 4096)              16781312  \n",
            "                                                                 \n",
            " activation_14 (Activation)  (None, 4096)              0         \n",
            "                                                                 \n",
            " batch_normalization_14 (Bat  (None, 4096)             16384     \n",
            " chNormalization)                                                \n",
            "                                                                 \n",
            " dropout_1 (Dropout)         (None, 4096)              0         \n",
            "                                                                 \n",
            " dense_2 (Dense)             (None, 1000)              4097000   \n",
            "                                                                 \n",
            " activation_15 (Activation)  (None, 1000)              0         \n",
            "                                                                 \n",
            " batch_normalization_15 (Bat  (None, 1000)             4000      \n",
            " chNormalization)                                                \n",
            "                                                                 \n",
            " dropout_2 (Dropout)         (None, 1000)              0         \n",
            "                                                                 \n",
            " dense_3 (Dense)             (None, 2)                 2002      \n",
            "                                                                 \n",
            "=================================================================\n",
            "Total params: 37,748,762\n",
            "Trainable params: 37,721,930\n",
            "Non-trainable params: 26,832\n",
            "_________________________________________________________________\n"
          ]
        }
      ]
    },
    {
      "cell_type": "code",
      "source": [
        "#setting hyperparameter, menggunakan Adam\n",
        "opt = Adam(lr=0.001)\n",
        "vgg16.compile(loss='binary_crossentropy', optimizer=opt, metrics=['accuracy'])\n",
        "vgg16.summary()"
      ],
      "metadata": {
        "colab": {
          "base_uri": "https://localhost:8080/"
        },
        "id": "eZ0TePWVZTx4",
        "outputId": "1bd88402-8e9c-43d8-f1b4-5a54018f07ce"
      },
      "execution_count": 11,
      "outputs": [
        {
          "output_type": "stream",
          "name": "stdout",
          "text": [
            "Model: \"sequential\"\n",
            "_________________________________________________________________\n",
            " Layer (type)                Output Shape              Param #   \n",
            "=================================================================\n",
            " conv2d (Conv2D)             (None, 32, 32, 64)        640       \n",
            "                                                                 \n",
            " activation (Activation)     (None, 32, 32, 64)        0         \n",
            "                                                                 \n",
            " batch_normalization (BatchN  (None, 32, 32, 64)       256       \n",
            " ormalization)                                                   \n",
            "                                                                 \n",
            " conv2d_1 (Conv2D)           (None, 32, 32, 64)        36928     \n",
            "                                                                 \n",
            " activation_1 (Activation)   (None, 32, 32, 64)        0         \n",
            "                                                                 \n",
            " max_pooling2d (MaxPooling2D  (None, 16, 16, 64)       0         \n",
            " )                                                               \n",
            "                                                                 \n",
            " batch_normalization_1 (Batc  (None, 16, 16, 64)       256       \n",
            " hNormalization)                                                 \n",
            "                                                                 \n",
            " conv2d_2 (Conv2D)           (None, 16, 16, 128)       73856     \n",
            "                                                                 \n",
            " activation_2 (Activation)   (None, 16, 16, 128)       0         \n",
            "                                                                 \n",
            " batch_normalization_2 (Batc  (None, 16, 16, 128)      512       \n",
            " hNormalization)                                                 \n",
            "                                                                 \n",
            " conv2d_3 (Conv2D)           (None, 16, 16, 128)       147584    \n",
            "                                                                 \n",
            " activation_3 (Activation)   (None, 16, 16, 128)       0         \n",
            "                                                                 \n",
            " max_pooling2d_1 (MaxPooling  (None, 8, 8, 128)        0         \n",
            " 2D)                                                             \n",
            "                                                                 \n",
            " batch_normalization_3 (Batc  (None, 8, 8, 128)        512       \n",
            " hNormalization)                                                 \n",
            "                                                                 \n",
            " conv2d_4 (Conv2D)           (None, 8, 8, 256)         295168    \n",
            "                                                                 \n",
            " activation_4 (Activation)   (None, 8, 8, 256)         0         \n",
            "                                                                 \n",
            " batch_normalization_4 (Batc  (None, 8, 8, 256)        1024      \n",
            " hNormalization)                                                 \n",
            "                                                                 \n",
            " conv2d_5 (Conv2D)           (None, 8, 8, 256)         590080    \n",
            "                                                                 \n",
            " activation_5 (Activation)   (None, 8, 8, 256)         0         \n",
            "                                                                 \n",
            " batch_normalization_5 (Batc  (None, 8, 8, 256)        1024      \n",
            " hNormalization)                                                 \n",
            "                                                                 \n",
            " conv2d_6 (Conv2D)           (None, 8, 8, 256)         590080    \n",
            "                                                                 \n",
            " activation_6 (Activation)   (None, 8, 8, 256)         0         \n",
            "                                                                 \n",
            " max_pooling2d_2 (MaxPooling  (None, 4, 4, 256)        0         \n",
            " 2D)                                                             \n",
            "                                                                 \n",
            " batch_normalization_6 (Batc  (None, 4, 4, 256)        1024      \n",
            " hNormalization)                                                 \n",
            "                                                                 \n",
            " conv2d_7 (Conv2D)           (None, 4, 4, 512)         1180160   \n",
            "                                                                 \n",
            " activation_7 (Activation)   (None, 4, 4, 512)         0         \n",
            "                                                                 \n",
            " batch_normalization_7 (Batc  (None, 4, 4, 512)        2048      \n",
            " hNormalization)                                                 \n",
            "                                                                 \n",
            " conv2d_8 (Conv2D)           (None, 4, 4, 512)         2359808   \n",
            "                                                                 \n",
            " activation_8 (Activation)   (None, 4, 4, 512)         0         \n",
            "                                                                 \n",
            " batch_normalization_8 (Batc  (None, 4, 4, 512)        2048      \n",
            " hNormalization)                                                 \n",
            "                                                                 \n",
            " conv2d_9 (Conv2D)           (None, 4, 4, 512)         2359808   \n",
            "                                                                 \n",
            " activation_9 (Activation)   (None, 4, 4, 512)         0         \n",
            "                                                                 \n",
            " max_pooling2d_3 (MaxPooling  (None, 2, 2, 512)        0         \n",
            " 2D)                                                             \n",
            "                                                                 \n",
            " batch_normalization_9 (Batc  (None, 2, 2, 512)        2048      \n",
            " hNormalization)                                                 \n",
            "                                                                 \n",
            " conv2d_10 (Conv2D)          (None, 2, 2, 512)         2359808   \n",
            "                                                                 \n",
            " activation_10 (Activation)  (None, 2, 2, 512)         0         \n",
            "                                                                 \n",
            " batch_normalization_10 (Bat  (None, 2, 2, 512)        2048      \n",
            " chNormalization)                                                \n",
            "                                                                 \n",
            " conv2d_11 (Conv2D)          (None, 2, 2, 512)         2359808   \n",
            "                                                                 \n",
            " activation_11 (Activation)  (None, 2, 2, 512)         0         \n"
          ]
        },
        {
          "output_type": "stream",
          "name": "stderr",
          "text": [
            "/usr/local/lib/python3.7/dist-packages/keras/optimizer_v2/adam.py:105: UserWarning: The `lr` argument is deprecated, use `learning_rate` instead.\n",
            "  super(Adam, self).__init__(name, **kwargs)\n"
          ]
        },
        {
          "output_type": "stream",
          "name": "stdout",
          "text": [
            "                                                                 \n",
            " batch_normalization_11 (Bat  (None, 2, 2, 512)        2048      \n",
            " chNormalization)                                                \n",
            "                                                                 \n",
            " conv2d_12 (Conv2D)          (None, 2, 2, 512)         2359808   \n",
            "                                                                 \n",
            " activation_12 (Activation)  (None, 2, 2, 512)         0         \n",
            "                                                                 \n",
            " max_pooling2d_4 (MaxPooling  (None, 1, 1, 512)        0         \n",
            " 2D)                                                             \n",
            "                                                                 \n",
            " batch_normalization_12 (Bat  (None, 1, 1, 512)        2048      \n",
            " chNormalization)                                                \n",
            "                                                                 \n",
            " flatten (Flatten)           (None, 512)               0         \n",
            "                                                                 \n",
            " dense (Dense)               (None, 4096)              2101248   \n",
            "                                                                 \n",
            " activation_13 (Activation)  (None, 4096)              0         \n",
            "                                                                 \n",
            " batch_normalization_13 (Bat  (None, 4096)             16384     \n",
            " chNormalization)                                                \n",
            "                                                                 \n",
            " dropout (Dropout)           (None, 4096)              0         \n",
            "                                                                 \n",
            " dense_1 (Dense)             (None, 4096)              16781312  \n",
            "                                                                 \n",
            " activation_14 (Activation)  (None, 4096)              0         \n",
            "                                                                 \n",
            " batch_normalization_14 (Bat  (None, 4096)             16384     \n",
            " chNormalization)                                                \n",
            "                                                                 \n",
            " dropout_1 (Dropout)         (None, 4096)              0         \n",
            "                                                                 \n",
            " dense_2 (Dense)             (None, 1000)              4097000   \n",
            "                                                                 \n",
            " activation_15 (Activation)  (None, 1000)              0         \n",
            "                                                                 \n",
            " batch_normalization_15 (Bat  (None, 1000)             4000      \n",
            " chNormalization)                                                \n",
            "                                                                 \n",
            " dropout_2 (Dropout)         (None, 1000)              0         \n",
            "                                                                 \n",
            " dense_3 (Dense)             (None, 2)                 2002      \n",
            "                                                                 \n",
            "=================================================================\n",
            "Total params: 37,748,762\n",
            "Trainable params: 37,721,930\n",
            "Non-trainable params: 26,832\n",
            "_________________________________________________________________\n"
          ]
        }
      ]
    },
    {
      "cell_type": "code",
      "source": [
        "#training data\n",
        "H = vgg16.fit(trainX, trainY, validation_data=(testX, testY), epochs=70, batch_size=16)"
      ],
      "metadata": {
        "colab": {
          "base_uri": "https://localhost:8080/"
        },
        "id": "JOp0TzHxZYLf",
        "outputId": "a010e6c2-7814-4eec-d648-92890953744a"
      },
      "execution_count": 12,
      "outputs": [
        {
          "output_type": "stream",
          "name": "stdout",
          "text": [
            "Epoch 1/70\n",
            "70/70 [==============================] - 18s 48ms/step - loss: 0.7570 - accuracy: 0.7893 - val_loss: 33.2272 - val_accuracy: 0.5107\n",
            "Epoch 2/70\n",
            "70/70 [==============================] - 2s 32ms/step - loss: 0.2699 - accuracy: 0.9170 - val_loss: 1.8858 - val_accuracy: 0.5107\n",
            "Epoch 3/70\n",
            "70/70 [==============================] - 2s 32ms/step - loss: 0.2410 - accuracy: 0.9170 - val_loss: 6.1070 - val_accuracy: 0.5107\n",
            "Epoch 4/70\n",
            "70/70 [==============================] - 2s 32ms/step - loss: 0.2130 - accuracy: 0.9241 - val_loss: 1.2542 - val_accuracy: 0.5964\n",
            "Epoch 5/70\n",
            "70/70 [==============================] - 2s 32ms/step - loss: 0.1843 - accuracy: 0.9464 - val_loss: 8.7251 - val_accuracy: 0.5107\n",
            "Epoch 6/70\n",
            "70/70 [==============================] - 2s 34ms/step - loss: 0.1719 - accuracy: 0.9473 - val_loss: 0.8874 - val_accuracy: 0.6464\n",
            "Epoch 7/70\n",
            "70/70 [==============================] - 2s 32ms/step - loss: 0.1538 - accuracy: 0.9518 - val_loss: 0.5179 - val_accuracy: 0.8500\n",
            "Epoch 8/70\n",
            "70/70 [==============================] - 2s 32ms/step - loss: 0.1670 - accuracy: 0.9491 - val_loss: 0.5122 - val_accuracy: 0.8643\n",
            "Epoch 9/70\n",
            "70/70 [==============================] - 2s 32ms/step - loss: 0.1287 - accuracy: 0.9661 - val_loss: 0.2704 - val_accuracy: 0.9036\n",
            "Epoch 10/70\n",
            "70/70 [==============================] - 2s 32ms/step - loss: 0.1286 - accuracy: 0.9625 - val_loss: 0.5468 - val_accuracy: 0.8964\n",
            "Epoch 11/70\n",
            "70/70 [==============================] - 2s 32ms/step - loss: 0.1642 - accuracy: 0.9536 - val_loss: 0.1908 - val_accuracy: 0.9179\n",
            "Epoch 12/70\n",
            "70/70 [==============================] - 2s 31ms/step - loss: 0.1066 - accuracy: 0.9661 - val_loss: 0.2852 - val_accuracy: 0.9179\n",
            "Epoch 13/70\n",
            "70/70 [==============================] - 2s 31ms/step - loss: 0.2063 - accuracy: 0.9259 - val_loss: 0.3178 - val_accuracy: 0.8536\n",
            "Epoch 14/70\n",
            "70/70 [==============================] - 2s 31ms/step - loss: 0.0882 - accuracy: 0.9741 - val_loss: 0.2601 - val_accuracy: 0.8929\n",
            "Epoch 15/70\n",
            "70/70 [==============================] - 2s 34ms/step - loss: 0.0741 - accuracy: 0.9759 - val_loss: 0.1299 - val_accuracy: 0.9536\n",
            "Epoch 16/70\n",
            "70/70 [==============================] - 2s 32ms/step - loss: 0.1066 - accuracy: 0.9607 - val_loss: 0.0917 - val_accuracy: 0.9536\n",
            "Epoch 17/70\n",
            "70/70 [==============================] - 2s 32ms/step - loss: 0.0764 - accuracy: 0.9795 - val_loss: 0.3664 - val_accuracy: 0.8714\n",
            "Epoch 18/70\n",
            "70/70 [==============================] - 2s 32ms/step - loss: 0.0764 - accuracy: 0.9714 - val_loss: 0.0914 - val_accuracy: 0.9607\n",
            "Epoch 19/70\n",
            "70/70 [==============================] - 2s 34ms/step - loss: 0.0909 - accuracy: 0.9705 - val_loss: 0.0742 - val_accuracy: 0.9643\n",
            "Epoch 20/70\n",
            "70/70 [==============================] - 2s 32ms/step - loss: 0.0478 - accuracy: 0.9857 - val_loss: 0.1629 - val_accuracy: 0.9571\n",
            "Epoch 21/70\n",
            "70/70 [==============================] - 2s 32ms/step - loss: 0.0637 - accuracy: 0.9839 - val_loss: 0.1450 - val_accuracy: 0.9607\n",
            "Epoch 22/70\n",
            "70/70 [==============================] - 2s 32ms/step - loss: 0.0361 - accuracy: 0.9937 - val_loss: 0.2663 - val_accuracy: 0.9321\n",
            "Epoch 23/70\n",
            "70/70 [==============================] - 2s 32ms/step - loss: 0.0495 - accuracy: 0.9857 - val_loss: 0.1056 - val_accuracy: 0.9643\n",
            "Epoch 24/70\n",
            "70/70 [==============================] - 2s 32ms/step - loss: 0.0449 - accuracy: 0.9875 - val_loss: 0.1506 - val_accuracy: 0.9500\n",
            "Epoch 25/70\n",
            "70/70 [==============================] - 2s 32ms/step - loss: 0.0399 - accuracy: 0.9875 - val_loss: 0.2283 - val_accuracy: 0.9321\n",
            "Epoch 26/70\n",
            "70/70 [==============================] - 2s 32ms/step - loss: 0.0589 - accuracy: 0.9848 - val_loss: 0.0937 - val_accuracy: 0.9714\n",
            "Epoch 27/70\n",
            "70/70 [==============================] - 2s 32ms/step - loss: 0.0539 - accuracy: 0.9839 - val_loss: 0.0792 - val_accuracy: 0.9786\n",
            "Epoch 28/70\n",
            "70/70 [==============================] - 2s 32ms/step - loss: 0.0834 - accuracy: 0.9812 - val_loss: 0.3951 - val_accuracy: 0.9214\n",
            "Epoch 29/70\n",
            "70/70 [==============================] - 2s 32ms/step - loss: 0.0740 - accuracy: 0.9786 - val_loss: 0.3874 - val_accuracy: 0.9143\n",
            "Epoch 30/70\n",
            "70/70 [==============================] - 2s 32ms/step - loss: 0.0556 - accuracy: 0.9768 - val_loss: 0.1129 - val_accuracy: 0.9643\n",
            "Epoch 31/70\n",
            "70/70 [==============================] - 2s 32ms/step - loss: 0.0820 - accuracy: 0.9759 - val_loss: 0.1810 - val_accuracy: 0.9500\n",
            "Epoch 32/70\n",
            "70/70 [==============================] - 2s 32ms/step - loss: 0.0578 - accuracy: 0.9839 - val_loss: 0.2885 - val_accuracy: 0.9107\n",
            "Epoch 33/70\n",
            "70/70 [==============================] - 2s 32ms/step - loss: 0.0563 - accuracy: 0.9812 - val_loss: 0.5114 - val_accuracy: 0.8607\n",
            "Epoch 34/70\n",
            "70/70 [==============================] - 2s 32ms/step - loss: 0.0055 - accuracy: 0.9991 - val_loss: 0.0980 - val_accuracy: 0.9786\n",
            "Epoch 35/70\n",
            "70/70 [==============================] - 2s 33ms/step - loss: 0.0047 - accuracy: 0.9982 - val_loss: 0.0344 - val_accuracy: 0.9857\n",
            "Epoch 36/70\n",
            "70/70 [==============================] - 2s 32ms/step - loss: 0.1479 - accuracy: 0.9545 - val_loss: 0.2347 - val_accuracy: 0.9464\n",
            "Epoch 37/70\n",
            "70/70 [==============================] - 2s 32ms/step - loss: 0.1083 - accuracy: 0.9616 - val_loss: 0.1485 - val_accuracy: 0.9536\n",
            "Epoch 38/70\n",
            "70/70 [==============================] - 2s 32ms/step - loss: 0.0887 - accuracy: 0.9714 - val_loss: 0.1621 - val_accuracy: 0.9464\n",
            "Epoch 39/70\n",
            "70/70 [==============================] - 2s 32ms/step - loss: 0.0508 - accuracy: 0.9902 - val_loss: 4.0035 - val_accuracy: 0.5143\n",
            "Epoch 40/70\n",
            "70/70 [==============================] - 2s 32ms/step - loss: 0.0835 - accuracy: 0.9741 - val_loss: 0.3065 - val_accuracy: 0.9214\n",
            "Epoch 41/70\n",
            "70/70 [==============================] - 2s 35ms/step - loss: 0.0981 - accuracy: 0.9679 - val_loss: 0.7418 - val_accuracy: 0.8464\n",
            "Epoch 42/70\n",
            "70/70 [==============================] - 2s 32ms/step - loss: 0.0915 - accuracy: 0.9688 - val_loss: 0.1745 - val_accuracy: 0.9286\n",
            "Epoch 43/70\n",
            "70/70 [==============================] - 2s 32ms/step - loss: 0.0855 - accuracy: 0.9714 - val_loss: 0.1174 - val_accuracy: 0.9429\n",
            "Epoch 44/70\n",
            "70/70 [==============================] - 2s 32ms/step - loss: 0.0976 - accuracy: 0.9777 - val_loss: 0.1782 - val_accuracy: 0.9321\n",
            "Epoch 45/70\n",
            "70/70 [==============================] - 2s 34ms/step - loss: 0.0477 - accuracy: 0.9866 - val_loss: 0.0245 - val_accuracy: 0.9929\n",
            "Epoch 46/70\n",
            "70/70 [==============================] - 2s 32ms/step - loss: 0.0050 - accuracy: 1.0000 - val_loss: 0.0974 - val_accuracy: 0.9679\n",
            "Epoch 47/70\n",
            "70/70 [==============================] - 2s 32ms/step - loss: 0.0744 - accuracy: 0.9777 - val_loss: 0.1415 - val_accuracy: 0.9393\n",
            "Epoch 48/70\n",
            "70/70 [==============================] - 2s 32ms/step - loss: 0.0990 - accuracy: 0.9688 - val_loss: 0.1462 - val_accuracy: 0.9607\n",
            "Epoch 49/70\n",
            "70/70 [==============================] - 2s 33ms/step - loss: 0.0697 - accuracy: 0.9786 - val_loss: 0.1661 - val_accuracy: 0.9321\n",
            "Epoch 50/70\n",
            "70/70 [==============================] - 2s 32ms/step - loss: 0.0192 - accuracy: 0.9937 - val_loss: 0.0779 - val_accuracy: 0.9857\n",
            "Epoch 51/70\n",
            "70/70 [==============================] - 2s 32ms/step - loss: 0.0365 - accuracy: 0.9911 - val_loss: 0.5097 - val_accuracy: 0.9036\n",
            "Epoch 52/70\n",
            "70/70 [==============================] - 2s 32ms/step - loss: 0.0399 - accuracy: 0.9875 - val_loss: 0.0817 - val_accuracy: 0.9786\n",
            "Epoch 53/70\n",
            "70/70 [==============================] - 2s 34ms/step - loss: 0.0110 - accuracy: 0.9982 - val_loss: 0.0802 - val_accuracy: 0.9786\n",
            "Epoch 54/70\n",
            "70/70 [==============================] - 2s 32ms/step - loss: 0.0227 - accuracy: 0.9955 - val_loss: 0.1885 - val_accuracy: 0.9571\n",
            "Epoch 55/70\n",
            "70/70 [==============================] - 2s 32ms/step - loss: 0.0777 - accuracy: 0.9750 - val_loss: 0.2059 - val_accuracy: 0.9607\n",
            "Epoch 56/70\n",
            "70/70 [==============================] - 2s 34ms/step - loss: 0.0932 - accuracy: 0.9705 - val_loss: 0.1172 - val_accuracy: 0.9679\n",
            "Epoch 57/70\n",
            "70/70 [==============================] - 2s 32ms/step - loss: 0.0169 - accuracy: 0.9955 - val_loss: 0.4606 - val_accuracy: 0.8893\n",
            "Epoch 58/70\n",
            "70/70 [==============================] - 2s 32ms/step - loss: 0.0345 - accuracy: 0.9902 - val_loss: 0.0803 - val_accuracy: 0.9750\n",
            "Epoch 59/70\n",
            "70/70 [==============================] - 2s 32ms/step - loss: 0.0257 - accuracy: 0.9946 - val_loss: 0.1056 - val_accuracy: 0.9643\n",
            "Epoch 60/70\n",
            "70/70 [==============================] - 2s 34ms/step - loss: 0.0315 - accuracy: 0.9911 - val_loss: 0.0883 - val_accuracy: 0.9750\n",
            "Epoch 61/70\n",
            "70/70 [==============================] - 2s 34ms/step - loss: 0.0245 - accuracy: 0.9946 - val_loss: 0.1413 - val_accuracy: 0.9607\n",
            "Epoch 62/70\n",
            "70/70 [==============================] - 2s 32ms/step - loss: 0.0884 - accuracy: 0.9714 - val_loss: 0.1897 - val_accuracy: 0.9286\n",
            "Epoch 63/70\n",
            "70/70 [==============================] - 2s 34ms/step - loss: 0.0149 - accuracy: 0.9929 - val_loss: 1.2916 - val_accuracy: 0.7250\n",
            "Epoch 64/70\n",
            "70/70 [==============================] - 2s 32ms/step - loss: 0.0035 - accuracy: 0.9991 - val_loss: 0.1605 - val_accuracy: 0.9750\n",
            "Epoch 65/70\n",
            "70/70 [==============================] - 2s 32ms/step - loss: 0.0157 - accuracy: 0.9973 - val_loss: 1.5594 - val_accuracy: 0.7357\n",
            "Epoch 66/70\n",
            "70/70 [==============================] - 2s 32ms/step - loss: 0.0974 - accuracy: 0.9705 - val_loss: 0.4031 - val_accuracy: 0.9179\n",
            "Epoch 67/70\n",
            "70/70 [==============================] - 2s 32ms/step - loss: 0.0755 - accuracy: 0.9786 - val_loss: 0.1732 - val_accuracy: 0.9536\n",
            "Epoch 68/70\n",
            "70/70 [==============================] - 2s 32ms/step - loss: 0.0309 - accuracy: 0.9902 - val_loss: 0.6644 - val_accuracy: 0.8750\n",
            "Epoch 69/70\n",
            "70/70 [==============================] - 2s 32ms/step - loss: 0.0124 - accuracy: 0.9982 - val_loss: 0.6736 - val_accuracy: 0.8821\n",
            "Epoch 70/70\n",
            "70/70 [==============================] - 2s 32ms/step - loss: 0.0015 - accuracy: 1.0000 - val_loss: 0.1606 - val_accuracy: 0.9679\n"
          ]
        }
      ]
    },
    {
      "cell_type": "code",
      "source": [
        "print(\"[INFO] evaluating network...\")\n",
        "predictions = vgg16.predict(testX, batch_size=16)\n",
        "pred=predictions.argmax(axis=1)\n",
        "testY_argm=testY.argmax(axis=1)\n"
      ],
      "metadata": {
        "colab": {
          "base_uri": "https://localhost:8080/"
        },
        "id": "qjoEfHoWsr9H",
        "outputId": "dca61435-57e3-4244-fcfd-25575e5a6397"
      },
      "execution_count": 13,
      "outputs": [
        {
          "output_type": "stream",
          "name": "stdout",
          "text": [
            "[INFO] evaluating network...\n"
          ]
        }
      ]
    },
    {
      "cell_type": "code",
      "source": [
        "print(classification_report(testY_argm,pred,target_names=lb.classes_))"
      ],
      "metadata": {
        "colab": {
          "base_uri": "https://localhost:8080/"
        },
        "id": "Po9wqNIMts7s",
        "outputId": "bb1001ca-8214-458e-a721-23cfae29c327"
      },
      "execution_count": 14,
      "outputs": [
        {
          "output_type": "stream",
          "name": "stdout",
          "text": [
            "              precision    recall  f1-score   support\n",
            "\n",
            "      Normal       0.97      0.97      0.97       143\n",
            "Tuberculosis       0.97      0.96      0.97       137\n",
            "\n",
            "    accuracy                           0.97       280\n",
            "   macro avg       0.97      0.97      0.97       280\n",
            "weighted avg       0.97      0.97      0.97       280\n",
            "\n"
          ]
        }
      ]
    },
    {
      "cell_type": "code",
      "source": [
        "test_score = vgg16.evaluate(testX, testY) \n",
        "print(\"Test Loss {:.4f}, accuracy {:.2f}%\".format(test_score[0], test_score[1] * 100))"
      ],
      "metadata": {
        "colab": {
          "base_uri": "https://localhost:8080/"
        },
        "id": "5NSJXylrt1ND",
        "outputId": "72556538-a699-4ee4-c208-ac5bd0b50f3f"
      },
      "execution_count": 15,
      "outputs": [
        {
          "output_type": "stream",
          "name": "stdout",
          "text": [
            "9/9 [==============================] - 1s 51ms/step - loss: 0.1606 - accuracy: 0.9679\n",
            "Test Loss 0.1606, accuracy 96.79%\n"
          ]
        }
      ]
    },
    {
      "cell_type": "code",
      "source": [
        "from sklearn.metrics import confusion_matrix\n",
        "import itertools\n",
        "\n",
        "def plot_confusion_matrix(cm, classes, normalize=False, title='Confusion matrix', cmap='Blues'):\n",
        "  if normalize:\n",
        "     cm = cm.astype('float') / cm.sum(axis=1)[:, np.newaxis]\n",
        "     print(\"Normalized confusion matrix\")\n",
        "  else:\n",
        "     print('Confusion matrix, without normalization')\n",
        "  print(cm)\n",
        "  plt.imshow(cm, interpolation='nearest', cmap=cmap)\n",
        "  plt.title(title)\n",
        "  plt.colorbar()\n",
        "  tick_marks = np.arange(len(classes))\n",
        "  plt.xticks(tick_marks, classes, rotation=45)\n",
        "  plt.yticks(tick_marks, classes)\n",
        "  fmt = '.2f' if normalize else 'd'\n",
        "  thresh = cm.max() / 2.\n",
        "  for i, j in itertools.product(range(cm.shape[0]), range(cm.shape[1])):\n",
        "      plt.text(j, i, format(cm[i, j], fmt), horizontalalignment=\"center\", color=\"white\" if cm[i, j] > thresh else \"black\")\n",
        "  plt.ylabel('True label')\n",
        "  plt.xlabel('Predicted label')\n",
        "  plt.tight_layout()"
      ],
      "metadata": {
        "id": "ZS-FXHa6uI6H"
      },
      "execution_count": 16,
      "outputs": []
    },
    {
      "cell_type": "code",
      "source": [
        "cnf_matrix = confusion_matrix(testY_argm, pred)\n",
        "np.set_printoptions(precision=2)\n",
        "\n",
        "# Plot non/normalized confusion matrix\n",
        "plt.figure()\n",
        "plot_confusion_matrix(cnf_matrix,\n",
        "classes=lb.classes_, normalize=True)\n",
        "plt.show()\n",
        "\n",
        "plt.figure()\n",
        "plot_confusion_matrix(cnf_matrix,\n",
        "classes=lb.classes_, normalize=False)\n",
        "plt.show()\n",
        "\n",
        "f, ax = plt.subplots()\n",
        "ax.plot([None] + H.history['accuracy'], 'o-')\n",
        "ax.plot([None] + H.history['val_accuracy'], 'x-')\n",
        "\n",
        "ax.legend(['Train acc', 'Validation acc'], loc = 0)\n",
        "ax.set_title('Training/Validation acc per Epoch')\n",
        "ax.set_xlabel('Epoch')\n",
        "ax.set_ylabel('acc')\n",
        "plt.grid(True)\n",
        "\n",
        "f, ax = plt.subplots()\n",
        "ax.plot([None] + H.history['loss'], 'o-')\n",
        "ax.plot([None] + H.history['val_loss'], 'x-')\n",
        "ax.legend(['Train Loss', 'Validation Loss'], loc = 0)\n",
        "ax.set_title('Training/Validation Loss per Epoch')\n",
        "ax.set_xlabel('Epoch')\n",
        "ax.set_ylabel('loss')\n",
        "plt.grid(True)"
      ],
      "metadata": {
        "colab": {
          "base_uri": "https://localhost:8080/",
          "height": 1000
        },
        "id": "eiYstz9xuRLx",
        "outputId": "1c4a9066-5f2a-4179-c892-14e4e07e2c7b"
      },
      "execution_count": 17,
      "outputs": [
        {
          "output_type": "stream",
          "name": "stdout",
          "text": [
            "Normalized confusion matrix\n",
            "[[0.97 0.03]\n",
            " [0.04 0.96]]\n"
          ]
        },
        {
          "output_type": "display_data",
          "data": {
            "text/plain": [
              "<Figure size 432x288 with 2 Axes>"
            ],
            "image/png": "[encoded data removed]"
          },
          "metadata": {
            "needs_background": "light"
          }
        },
        {
          "output_type": "stream",
          "name": "stdout",
          "text": [
            "Confusion matrix, without normalization\n",
            "[[139   4]\n",
            " [  5 132]]\n"
          ]
        },
        {
          "output_type": "display_data",
          "data": {
            "text/plain": [
              "<Figure size 432x288 with 2 Axes>"
            ],
            "image/png": "[encoded data removed]"
          },
          "metadata": {
            "needs_background": "light"
          }
        },
        {
          "output_type": "display_data",
          "data": {
            "text/plain": [
              "<Figure size 432x288 with 1 Axes>"
            ],
            "image/png": "[encoded data removed]"
          },
          "metadata": {
            "needs_background": "light"
          }
        },
        {
          "output_type": "display_data",
          "data": {
            "text/plain": [
              "<Figure size 432x288 with 1 Axes>"
            ],
            "image/png": "[encoded data removed]"
          },
          "metadata": {
            "needs_background": "light"
          }
        }
      ]
    }
  ]
}