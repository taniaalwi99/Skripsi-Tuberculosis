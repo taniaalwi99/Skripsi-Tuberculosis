{
  "nbformat": 4,
  "nbformat_minor": 0,
  "metadata": {
    "colab": {
      "name": "Tuberculosis_VGG-16.ipynb",
      "provenance": [],
      "collapsed_sections": [],
      "include_colab_link": true
    },
    "kernelspec": {
      "name": "python3",
      "display_name": "Python 3"
    },
    "language_info": {
      "name": "python"
    },
    "accelerator": "GPU",
    "gpuClass": "standard"
  },
  "cells": [
    {
      "cell_type": "markdown",
      "metadata": {
        "id": "view-in-github",
        "colab_type": "text"
      },
      "source": [
        "<a href=\"https://colab.research.google.com/github/taniaalwi99/Skripsi-Tuberculosis/blob/main/Tuberculosis_Epoch_70.ipynb\" target=\"_parent\"><img src=\"https://colab.research.google.com/assets/colab-badge.svg\" alt=\"Open In Colab\"/></a>"
      ]
    },
    {
      "cell_type": "code",
      "execution_count": 1,
      "metadata": {
        "colab": {
          "base_uri": "https://localhost:8080/"
        },
        "id": "2_RYo7hrXaC5",
        "outputId": "0bb8e908-5c9f-45a5-b5af-9d0244806c85"
      },
      "outputs": [
        {
          "output_type": "stream",
          "name": "stdout",
          "text": [
            "Mounted at /content/drive\n"
          ]
        }
      ],
      "source": [
        "from google.colab import drive\n",
        "drive.mount('/content/drive')"
      ]
    },
    {
      "cell_type": "code",
      "source": [
        "cd //content/drive/MyDrive"
      ],
      "metadata": {
        "colab": {
          "base_uri": "https://localhost:8080/"
        },
        "id": "G4aisxOFX3KH",
        "outputId": "fabe47aa-d30f-4bca-db7c-a5533900d424"
      },
      "execution_count": 2,
      "outputs": [
        {
          "output_type": "stream",
          "name": "stdout",
          "text": [
            "/content/drive/MyDrive\n"
          ]
        }
      ]
    },
    {
      "cell_type": "code",
      "source": [
        "ls"
      ],
      "metadata": {
        "colab": {
          "base_uri": "https://localhost:8080/"
        },
        "id": "e_oGUrADX8O_",
        "outputId": "02970781-d600-41f3-962b-b1d38c455d95"
      },
      "execution_count": 3,
      "outputs": [
        {
          "output_type": "stream",
          "name": "stdout",
          "text": [
            "\u001b[0m\u001b[01;34m'Colab Notebooks'\u001b[0m/  \u001b[01;34m'Dataset Gray'\u001b[0m/  \u001b[01;34m'Tania Alwi'\u001b[0m/   Tuberculosis_VGG-16.ipynb\n"
          ]
        }
      ]
    },
    {
      "cell_type": "code",
      "source": [
        "from keras.models import Model\n",
        "from keras.models import load_model\n",
        "from keras.models import Sequential\n",
        "from keras.layers.convolutional import Convolution2D\n",
        "from keras.layers.convolutional import MaxPooling2D\n",
        "from keras.layers.convolutional import ZeroPadding2D\n",
        "from keras.layers.core import Activation\n",
        "from keras.layers.core import Flatten\n",
        "from keras.layers.core import Dense\n",
        "from keras.layers.core import Dropout\n",
        "from keras.layers import BatchNormalization\n",
        "from keras import regularizers\n",
        "from keras.preprocessing.image import ImageDataGenerator\n",
        "from tensorflow.keras.optimizers import RMSprop, Adam, SGD\n",
        "from sklearn.preprocessing import LabelBinarizer\n",
        "from sklearn.model_selection import train_test_split\n",
        "from sklearn.metrics import classification_report\n",
        "from PIL import Image\n",
        "from matplotlib import pyplot as plt\n",
        "from imutils import paths\n",
        "import numpy as np\n",
        "import os"
      ],
      "metadata": {
        "id": "t95OxlI7X_OF"
      },
      "execution_count": 4,
      "outputs": []
    },
    {
      "cell_type": "code",
      "source": [
        "print(\"[INFO] loading images...\")\n",
        "imagePaths = paths.list_images(\"Dataset Gray\")\n",
        "data = []\n",
        "labels = []"
      ],
      "metadata": {
        "colab": {
          "base_uri": "https://localhost:8080/"
        },
        "id": "jvn693i-YDZ8",
        "outputId": "c8d4e68a-c1c4-4479-b4cc-fabaa132f96a"
      },
      "execution_count": 5,
      "outputs": [
        {
          "output_type": "stream",
          "name": "stdout",
          "text": [
            "[INFO] loading images...\n"
          ]
        }
      ]
    },
    {
      "cell_type": "code",
      "source": [
        "for imagePaths in imagePaths:\n",
        "    a = Image.open(imagePaths)\n",
        "    image = np.array(a.resize((128,128))) / 255.0\n",
        "    data.append(image)\n",
        "    \n",
        "    label = imagePaths.split(os.path.sep) [-2]\n",
        "    labels.append(label)"
      ],
      "metadata": {
        "id": "3XLuWAZsYLfK"
      },
      "execution_count": 6,
      "outputs": []
    },
    {
      "cell_type": "code",
      "source": [
        "from sklearn.preprocessing import LabelBinarizer\n",
        "import numpy as np\n",
        "\n",
        "class MyLabelBinarizer(LabelBinarizer):\n",
        "    def transform(self, label):\n",
        "      nilaiy = super().transform(label)\n",
        "      if self.y_type_== 'binary':\n",
        "        return np.hstack((nilaiy, 1-nilaiy))\n",
        "      else:\n",
        "        return nilaiy\n",
        "    def inverse_transform(self, nilaiy, threshold=None):\n",
        "      if self.y_type_ == 'binary':\n",
        "          return super().inverse_transform(nilaiy[:, 0], threshold)\n",
        "      else:\n",
        "          return super().inverse_transform(nilaiy, threshold)\n",
        "\n",
        "      \n",
        "\n",
        "lb = MyLabelBinarizer()\n",
        "labels = lb.fit_transform(labels)\n",
        "print(labels)"
      ],
      "metadata": {
        "colab": {
          "base_uri": "https://localhost:8080/"
        },
        "id": "gnjyPDi_Yyrn",
        "outputId": "6e90ebfe-db73-4c02-966d-b1ae1462ecab"
      },
      "execution_count": 7,
      "outputs": [
        {
          "output_type": "stream",
          "name": "stdout",
          "text": [
            "[[1 0]\n",
            " [1 0]\n",
            " [1 0]\n",
            " ...\n",
            " [0 1]\n",
            " [0 1]\n",
            " [0 1]]\n"
          ]
        }
      ]
    },
    {
      "cell_type": "code",
      "source": [
        "(trainX,testX, trainY, testY) = train_test_split(np.array(data),np.array(labels), test_size=0.20)\n",
        "print(trainX.shape)\n",
        "print(testX.shape)"
      ],
      "metadata": {
        "id": "0V3CnlQtY1g2",
        "colab": {
          "base_uri": "https://localhost:8080/"
        },
        "outputId": "06c89235-3d00-4a56-c8a4-8568a1c6f410"
      },
      "execution_count": 8,
      "outputs": [
        {
          "output_type": "stream",
          "name": "stdout",
          "text": [
            "(1120, 128, 128)\n",
            "(280, 128, 128)\n"
          ]
        }
      ]
    },
    {
      "cell_type": "code",
      "source": [
        "def vgg16(num_classes):\n",
        "\n",
        "    vgg16 = Sequential()\n",
        "\n",
        "    vgg16.add(Convolution2D(input_shape=(128,128,1),filters=64,kernel_size=(3,3),padding=\"same\"))\n",
        "    vgg16.add(Activation('relu'))\n",
        "    vgg16.add(BatchNormalization())\n",
        "    #layer1 32*32*64\n",
        "    vgg16.add(Convolution2D(filters=64,kernel_size=(3,3),padding=\"same\"))\n",
        "    vgg16.add(Activation('relu'))\n",
        "    vgg16.add(MaxPooling2D(pool_size=(2, 2),strides=(2,2)))\n",
        "    vgg16.add(BatchNormalization())\n",
        "    #layer2 16*16*64\n",
        "    vgg16.add(Convolution2D(filters=128, kernel_size=(3,3), padding=\"same\"))\n",
        "    vgg16.add(Activation('relu'))\n",
        "    vgg16.add(BatchNormalization())\n",
        "    #layer3 16*16*128\n",
        "    vgg16.add(Convolution2D(filters=128, kernel_size=(3,3), padding=\"same\",))\n",
        "    vgg16.add(Activation('relu'))\n",
        "    vgg16.add(MaxPooling2D(pool_size=(2,2),strides=(2,2)))\n",
        "    vgg16.add(BatchNormalization())\n",
        "    #layer4 8*8*128\n",
        "    vgg16.add(Convolution2D(filters=256, kernel_size=(3,3), padding=\"same\"))\n",
        "    vgg16.add(Activation('relu'))\n",
        "    vgg16.add(BatchNormalization())\n",
        "    #layer5 8*8*256\n",
        "    vgg16.add(Convolution2D(filters=256, kernel_size=(3,3), padding=\"same\"))\n",
        "    vgg16.add(Activation('relu'))\n",
        "    vgg16.add(BatchNormalization())\n",
        "    #layer6 8*8*256\n",
        "    vgg16.add(Convolution2D(filters=256, kernel_size=(3,3), padding=\"same\"))\n",
        "    vgg16.add(Activation('relu'))\n",
        "    vgg16.add(MaxPooling2D(pool_size=(2,2),strides=(2,2)))\n",
        "    vgg16.add(BatchNormalization())\n",
        "    #layer7 4*4*256\n",
        "    vgg16.add(Convolution2D(filters=512, kernel_size=(3,3), padding=\"same\"))\n",
        "    vgg16.add(Activation('relu'))\n",
        "    vgg16.add(BatchNormalization())\n",
        "    #layer8 4*4*512\n",
        "    vgg16.add(Convolution2D(filters=512, kernel_size=(3,3), padding=\"same\"))\n",
        "    vgg16.add(Activation('relu'))\n",
        "    vgg16.add(BatchNormalization())\n",
        "    #layer9 4*4*512\n",
        "    vgg16.add(Convolution2D(filters=512, kernel_size=(3,3), padding=\"same\"))\n",
        "    vgg16.add(Activation('relu'))\n",
        "    vgg16.add(MaxPooling2D(pool_size=(2,2),strides=(2,2)))\n",
        "    vgg16.add(BatchNormalization())\n",
        "    #layer10 2*2*512\n",
        "    vgg16.add(Convolution2D(filters=512, kernel_size=(3,3), padding=\"same\"))\n",
        "    vgg16.add(Activation('relu'))\n",
        "    vgg16.add(BatchNormalization())\n",
        "    #layer11 2*2*512\n",
        "    vgg16.add(Convolution2D(filters=512, kernel_size=(3,3), padding=\"same\"))  \n",
        "    vgg16.add(Activation('relu')) \n",
        "    vgg16.add(BatchNormalization())       \n",
        "    #layer12 2*2*512\n",
        "    vgg16.add(Convolution2D(filters=512, kernel_size=(3,3), padding=\"same\"))\n",
        "    vgg16.add(Activation('relu'))\n",
        "    vgg16.add(MaxPooling2D(pool_size=(2,2),strides=(2,2)))\n",
        "    vgg16.add(BatchNormalization())\n",
        "    #layer13 1*1*512\n",
        "    vgg16.add(Flatten())\n",
        "    vgg16.add(Dense(units=4096))\n",
        "    vgg16.add(Activation('relu')) \n",
        "    vgg16.add(BatchNormalization())\n",
        "    vgg16.add(Dropout(0.5))\n",
        "    #layer14 4096\n",
        "    vgg16.add(Dense(units=4096))\n",
        "    vgg16.add(Activation('relu')) \n",
        "    vgg16.add(BatchNormalization())\n",
        "    vgg16.add(Dropout(0.5))\n",
        "    #layer16 4096\n",
        "    vgg16.add(Dense(units=1000))\n",
        "    vgg16.add(Activation('relu'))\n",
        "    vgg16.add(BatchNormalization())\n",
        "    vgg16.add(Dropout(0.5)) \n",
        "    #layer16 1000\n",
        "    vgg16.add(Dense(2, activation=\"softmax\"))\n",
        "\n",
        "    return vgg16"
      ],
      "metadata": {
        "id": "WpeYjXzUZCZP"
      },
      "execution_count": 9,
      "outputs": []
    },
    {
      "cell_type": "code",
      "source": [
        "num_classes=2\n",
        "vgg16=vgg16(num_classes)\n",
        "vgg16.summary()"
      ],
      "metadata": {
        "id": "rlT3OhVuZLUs",
        "colab": {
          "base_uri": "https://localhost:8080/"
        },
        "outputId": "4f280f36-122a-434e-e0ab-d0e0c84b30db"
      },
      "execution_count": 10,
      "outputs": [
        {
          "output_type": "stream",
          "name": "stdout",
          "text": [
            "Model: \"sequential\"\n",
            "_________________________________________________________________\n",
            " Layer (type)                Output Shape              Param #   \n",
            "=================================================================\n",
            " conv2d (Conv2D)             (None, 128, 128, 64)      640       \n",
            "                                                                 \n",
            " activation (Activation)     (None, 128, 128, 64)      0         \n",
            "                                                                 \n",
            " batch_normalization (BatchN  (None, 128, 128, 64)     256       \n",
            " ormalization)                                                   \n",
            "                                                                 \n",
            " conv2d_1 (Conv2D)           (None, 128, 128, 64)      36928     \n",
            "                                                                 \n",
            " activation_1 (Activation)   (None, 128, 128, 64)      0         \n",
            "                                                                 \n",
            " max_pooling2d (MaxPooling2D  (None, 64, 64, 64)       0         \n",
            " )                                                               \n",
            "                                                                 \n",
            " batch_normalization_1 (Batc  (None, 64, 64, 64)       256       \n",
            " hNormalization)                                                 \n",
            "                                                                 \n",
            " conv2d_2 (Conv2D)           (None, 64, 64, 128)       73856     \n",
            "                                                                 \n",
            " activation_2 (Activation)   (None, 64, 64, 128)       0         \n",
            "                                                                 \n",
            " batch_normalization_2 (Batc  (None, 64, 64, 128)      512       \n",
            " hNormalization)                                                 \n",
            "                                                                 \n",
            " conv2d_3 (Conv2D)           (None, 64, 64, 128)       147584    \n",
            "                                                                 \n",
            " activation_3 (Activation)   (None, 64, 64, 128)       0         \n",
            "                                                                 \n",
            " max_pooling2d_1 (MaxPooling  (None, 32, 32, 128)      0         \n",
            " 2D)                                                             \n",
            "                                                                 \n",
            " batch_normalization_3 (Batc  (None, 32, 32, 128)      512       \n",
            " hNormalization)                                                 \n",
            "                                                                 \n",
            " conv2d_4 (Conv2D)           (None, 32, 32, 256)       295168    \n",
            "                                                                 \n",
            " activation_4 (Activation)   (None, 32, 32, 256)       0         \n",
            "                                                                 \n",
            " batch_normalization_4 (Batc  (None, 32, 32, 256)      1024      \n",
            " hNormalization)                                                 \n",
            "                                                                 \n",
            " conv2d_5 (Conv2D)           (None, 32, 32, 256)       590080    \n",
            "                                                                 \n",
            " activation_5 (Activation)   (None, 32, 32, 256)       0         \n",
            "                                                                 \n",
            " batch_normalization_5 (Batc  (None, 32, 32, 256)      1024      \n",
            " hNormalization)                                                 \n",
            "                                                                 \n",
            " conv2d_6 (Conv2D)           (None, 32, 32, 256)       590080    \n",
            "                                                                 \n",
            " activation_6 (Activation)   (None, 32, 32, 256)       0         \n",
            "                                                                 \n",
            " max_pooling2d_2 (MaxPooling  (None, 16, 16, 256)      0         \n",
            " 2D)                                                             \n",
            "                                                                 \n",
            " batch_normalization_6 (Batc  (None, 16, 16, 256)      1024      \n",
            " hNormalization)                                                 \n",
            "                                                                 \n",
            " conv2d_7 (Conv2D)           (None, 16, 16, 512)       1180160   \n",
            "                                                                 \n",
            " activation_7 (Activation)   (None, 16, 16, 512)       0         \n",
            "                                                                 \n",
            " batch_normalization_7 (Batc  (None, 16, 16, 512)      2048      \n",
            " hNormalization)                                                 \n",
            "                                                                 \n",
            " conv2d_8 (Conv2D)           (None, 16, 16, 512)       2359808   \n",
            "                                                                 \n",
            " activation_8 (Activation)   (None, 16, 16, 512)       0         \n",
            "                                                                 \n",
            " batch_normalization_8 (Batc  (None, 16, 16, 512)      2048      \n",
            " hNormalization)                                                 \n",
            "                                                                 \n",
            " conv2d_9 (Conv2D)           (None, 16, 16, 512)       2359808   \n",
            "                                                                 \n",
            " activation_9 (Activation)   (None, 16, 16, 512)       0         \n",
            "                                                                 \n",
            " max_pooling2d_3 (MaxPooling  (None, 8, 8, 512)        0         \n",
            " 2D)                                                             \n",
            "                                                                 \n",
            " batch_normalization_9 (Batc  (None, 8, 8, 512)        2048      \n",
            " hNormalization)                                                 \n",
            "                                                                 \n",
            " conv2d_10 (Conv2D)          (None, 8, 8, 512)         2359808   \n",
            "                                                                 \n",
            " activation_10 (Activation)  (None, 8, 8, 512)         0         \n",
            "                                                                 \n",
            " batch_normalization_10 (Bat  (None, 8, 8, 512)        2048      \n",
            " chNormalization)                                                \n",
            "                                                                 \n",
            " conv2d_11 (Conv2D)          (None, 8, 8, 512)         2359808   \n",
            "                                                                 \n",
            " activation_11 (Activation)  (None, 8, 8, 512)         0         \n",
            "                                                                 \n",
            " batch_normalization_11 (Bat  (None, 8, 8, 512)        2048      \n",
            " chNormalization)                                                \n",
            "                                                                 \n",
            " conv2d_12 (Conv2D)          (None, 8, 8, 512)         2359808   \n",
            "                                                                 \n",
            " activation_12 (Activation)  (None, 8, 8, 512)         0         \n",
            "                                                                 \n",
            " max_pooling2d_4 (MaxPooling  (None, 4, 4, 512)        0         \n",
            " 2D)                                                             \n",
            "                                                                 \n",
            " batch_normalization_12 (Bat  (None, 4, 4, 512)        2048      \n",
            " chNormalization)                                                \n",
            "                                                                 \n",
            " flatten (Flatten)           (None, 8192)              0         \n",
            "                                                                 \n",
            " dense (Dense)               (None, 4096)              33558528  \n",
            "                                                                 \n",
            " activation_13 (Activation)  (None, 4096)              0         \n",
            "                                                                 \n",
            " batch_normalization_13 (Bat  (None, 4096)             16384     \n",
            " chNormalization)                                                \n",
            "                                                                 \n",
            " dropout (Dropout)           (None, 4096)              0         \n",
            "                                                                 \n",
            " dense_1 (Dense)             (None, 4096)              16781312  \n",
            "                                                                 \n",
            " activation_14 (Activation)  (None, 4096)              0         \n",
            "                                                                 \n",
            " batch_normalization_14 (Bat  (None, 4096)             16384     \n",
            " chNormalization)                                                \n",
            "                                                                 \n",
            " dropout_1 (Dropout)         (None, 4096)              0         \n",
            "                                                                 \n",
            " dense_2 (Dense)             (None, 1000)              4097000   \n",
            "                                                                 \n",
            " activation_15 (Activation)  (None, 1000)              0         \n",
            "                                                                 \n",
            " batch_normalization_15 (Bat  (None, 1000)             4000      \n",
            " chNormalization)                                                \n",
            "                                                                 \n",
            " dropout_2 (Dropout)         (None, 1000)              0         \n",
            "                                                                 \n",
            " dense_3 (Dense)             (None, 2)                 2002      \n",
            "                                                                 \n",
            "=================================================================\n",
            "Total params: 69,206,042\n",
            "Trainable params: 69,179,210\n",
            "Non-trainable params: 26,832\n",
            "_________________________________________________________________\n"
          ]
        }
      ]
    },
    {
      "cell_type": "code",
      "source": [
        "#setting hyperparameter, menggunakan Adam\n",
        "opt = Adam(lr=0.001)\n",
        "vgg16.compile(loss='categorical_crossentropy', optimizer=opt, metrics=['accuracy'])\n",
        "vgg16.summary()"
      ],
      "metadata": {
        "id": "eZ0TePWVZTx4",
        "colab": {
          "base_uri": "https://localhost:8080/"
        },
        "outputId": "fe9c43d3-0486-43fe-93c2-f546a1f4afc7"
      },
      "execution_count": 11,
      "outputs": [
        {
          "output_type": "stream",
          "name": "stdout",
          "text": [
            "Model: \"sequential\"\n",
            "_________________________________________________________________\n",
            " Layer (type)                Output Shape              Param #   \n",
            "=================================================================\n",
            " conv2d (Conv2D)             (None, 128, 128, 64)      640       \n",
            "                                                                 \n",
            " activation (Activation)     (None, 128, 128, 64)      0         \n",
            "                                                                 \n",
            " batch_normalization (BatchN  (None, 128, 128, 64)     256       \n",
            " ormalization)                                                   \n",
            "                                                                 \n",
            " conv2d_1 (Conv2D)           (None, 128, 128, 64)      36928     \n",
            "                                                                 \n",
            " activation_1 (Activation)   (None, 128, 128, 64)      0         \n",
            "                                                                 \n",
            " max_pooling2d (MaxPooling2D  (None, 64, 64, 64)       0         \n",
            " )                                                               \n",
            "                                                                 \n",
            " batch_normalization_1 (Batc  (None, 64, 64, 64)       256       \n",
            " hNormalization)                                                 \n",
            "                                                                 \n",
            " conv2d_2 (Conv2D)           (None, 64, 64, 128)       73856     \n",
            "                                                                 \n",
            " activation_2 (Activation)   (None, 64, 64, 128)       0         \n",
            "                                                                 \n",
            " batch_normalization_2 (Batc  (None, 64, 64, 128)      512       \n",
            " hNormalization)                                                 \n",
            "                                                                 \n",
            " conv2d_3 (Conv2D)           (None, 64, 64, 128)       147584    \n",
            "                                                                 \n",
            " activation_3 (Activation)   (None, 64, 64, 128)       0         \n",
            "                                                                 \n",
            " max_pooling2d_1 (MaxPooling  (None, 32, 32, 128)      0         \n",
            " 2D)                                                             \n",
            "                                                                 \n",
            " batch_normalization_3 (Batc  (None, 32, 32, 128)      512       \n",
            " hNormalization)                                                 \n",
            "                                                                 \n",
            " conv2d_4 (Conv2D)           (None, 32, 32, 256)       295168    \n",
            "                                                                 \n",
            " activation_4 (Activation)   (None, 32, 32, 256)       0         \n",
            "                                                                 \n",
            " batch_normalization_4 (Batc  (None, 32, 32, 256)      1024      \n",
            " hNormalization)                                                 \n",
            "                                                                 \n",
            " conv2d_5 (Conv2D)           (None, 32, 32, 256)       590080    \n",
            "                                                                 \n",
            " activation_5 (Activation)   (None, 32, 32, 256)       0         \n",
            "                                                                 \n",
            " batch_normalization_5 (Batc  (None, 32, 32, 256)      1024      \n",
            " hNormalization)                                                 \n",
            "                                                                 \n",
            " conv2d_6 (Conv2D)           (None, 32, 32, 256)       590080    \n",
            "                                                                 \n",
            " activation_6 (Activation)   (None, 32, 32, 256)       0         \n",
            "                                                                 \n",
            " max_pooling2d_2 (MaxPooling  (None, 16, 16, 256)      0         \n",
            " 2D)                                                             \n",
            "                                                                 \n",
            " batch_normalization_6 (Batc  (None, 16, 16, 256)      1024      \n",
            " hNormalization)                                                 \n",
            "                                                                 \n",
            " conv2d_7 (Conv2D)           (None, 16, 16, 512)       1180160   \n",
            "                                                                 \n",
            " activation_7 (Activation)   (None, 16, 16, 512)       0         \n",
            "                                                                 \n",
            " batch_normalization_7 (Batc  (None, 16, 16, 512)      2048      \n",
            " hNormalization)                                                 \n",
            "                                                                 \n",
            " conv2d_8 (Conv2D)           (None, 16, 16, 512)       2359808   \n",
            "                                                                 \n",
            " activation_8 (Activation)   (None, 16, 16, 512)       0         \n",
            "                                                                 \n",
            " batch_normalization_8 (Batc  (None, 16, 16, 512)      2048      \n",
            " hNormalization)                                                 \n",
            "                                                                 \n",
            " conv2d_9 (Conv2D)           (None, 16, 16, 512)       2359808   \n",
            "                                                                 \n",
            " activation_9 (Activation)   (None, 16, 16, 512)       0         \n",
            "                                                                 \n",
            " max_pooling2d_3 (MaxPooling  (None, 8, 8, 512)        0         \n",
            " 2D)                                                             \n",
            "                                                                 \n",
            " batch_normalization_9 (Batc  (None, 8, 8, 512)        2048      \n",
            " hNormalization)                                                 \n",
            "                                                                 \n",
            " conv2d_10 (Conv2D)          (None, 8, 8, 512)         2359808   \n",
            "                                                                 \n",
            " activation_10 (Activation)  (None, 8, 8, 512)         0         \n",
            "                                                                 \n",
            " batch_normalization_10 (Bat  (None, 8, 8, 512)        2048      \n",
            " chNormalization)                                                \n",
            "                                                                 \n",
            " conv2d_11 (Conv2D)          (None, 8, 8, 512)         2359808   \n",
            "                                                                 \n",
            " activation_11 (Activation)  (None, 8, 8, 512)         0         \n",
            "                                                                 \n",
            " batch_normalization_11 (Bat  (None, 8, 8, 512)        2048      \n",
            " chNormalization)                                                \n",
            "                                                                 \n",
            " conv2d_12 (Conv2D)          (None, 8, 8, 512)         2359808   \n",
            "                                                                 \n",
            " activation_12 (Activation)  (None, 8, 8, 512)         0         \n",
            "                                                                 \n",
            " max_pooling2d_4 (MaxPooling  (None, 4, 4, 512)        0         \n",
            " 2D)                                                             \n",
            "                                                                 \n",
            " batch_normalization_12 (Bat  (None, 4, 4, 512)        2048      \n"
          ]
        },
        {
          "output_type": "stream",
          "name": "stderr",
          "text": [
            "/usr/local/lib/python3.7/dist-packages/keras/optimizer_v2/adam.py:105: UserWarning: The `lr` argument is deprecated, use `learning_rate` instead.\n",
            "  super(Adam, self).__init__(name, **kwargs)\n"
          ]
        },
        {
          "output_type": "stream",
          "name": "stdout",
          "text": [
            " chNormalization)                                                \n",
            "                                                                 \n",
            " flatten (Flatten)           (None, 8192)              0         \n",
            "                                                                 \n",
            " dense (Dense)               (None, 4096)              33558528  \n",
            "                                                                 \n",
            " activation_13 (Activation)  (None, 4096)              0         \n",
            "                                                                 \n",
            " batch_normalization_13 (Bat  (None, 4096)             16384     \n",
            " chNormalization)                                                \n",
            "                                                                 \n",
            " dropout (Dropout)           (None, 4096)              0         \n",
            "                                                                 \n",
            " dense_1 (Dense)             (None, 4096)              16781312  \n",
            "                                                                 \n",
            " activation_14 (Activation)  (None, 4096)              0         \n",
            "                                                                 \n",
            " batch_normalization_14 (Bat  (None, 4096)             16384     \n",
            " chNormalization)                                                \n",
            "                                                                 \n",
            " dropout_1 (Dropout)         (None, 4096)              0         \n",
            "                                                                 \n",
            " dense_2 (Dense)             (None, 1000)              4097000   \n",
            "                                                                 \n",
            " activation_15 (Activation)  (None, 1000)              0         \n",
            "                                                                 \n",
            " batch_normalization_15 (Bat  (None, 1000)             4000      \n",
            " chNormalization)                                                \n",
            "                                                                 \n",
            " dropout_2 (Dropout)         (None, 1000)              0         \n",
            "                                                                 \n",
            " dense_3 (Dense)             (None, 2)                 2002      \n",
            "                                                                 \n",
            "=================================================================\n",
            "Total params: 69,206,042\n",
            "Trainable params: 69,179,210\n",
            "Non-trainable params: 26,832\n",
            "_________________________________________________________________\n"
          ]
        }
      ]
    },
    {
      "cell_type": "code",
      "source": [
        "#training data\n",
        "H = vgg16.fit(trainX, trainY, validation_data=(testX, testY), epochs=70, batch_size=8)"
      ],
      "metadata": {
        "id": "JOp0TzHxZYLf",
        "colab": {
          "base_uri": "https://localhost:8080/"
        },
        "outputId": "f4aa0522-01d3-420d-fd9f-e2029cd531d4"
      },
      "execution_count": 12,
      "outputs": [
        {
          "output_type": "stream",
          "name": "stdout",
          "text": [
            "Epoch 1/70\n",
            "140/140 [==============================] - 28s 91ms/step - loss: 1.1004 - accuracy: 0.7116 - val_loss: 22.8498 - val_accuracy: 0.4857\n",
            "Epoch 2/70\n",
            "140/140 [==============================] - 11s 75ms/step - loss: 0.7069 - accuracy: 0.7536 - val_loss: 2.9388 - val_accuracy: 0.4857\n",
            "Epoch 3/70\n",
            "140/140 [==============================] - 11s 79ms/step - loss: 0.4937 - accuracy: 0.8313 - val_loss: 0.5878 - val_accuracy: 0.8036\n",
            "Epoch 4/70\n",
            "140/140 [==============================] - 11s 80ms/step - loss: 0.4135 - accuracy: 0.8607 - val_loss: 0.2449 - val_accuracy: 0.8964\n",
            "Epoch 5/70\n",
            "140/140 [==============================] - 11s 80ms/step - loss: 0.4297 - accuracy: 0.8518 - val_loss: 0.5253 - val_accuracy: 0.8357\n",
            "Epoch 6/70\n",
            "140/140 [==============================] - 11s 76ms/step - loss: 0.4016 - accuracy: 0.8518 - val_loss: 0.1332 - val_accuracy: 0.9536\n",
            "Epoch 7/70\n",
            "140/140 [==============================] - 11s 76ms/step - loss: 0.2885 - accuracy: 0.8938 - val_loss: 0.1117 - val_accuracy: 0.9607\n",
            "Epoch 8/70\n",
            "140/140 [==============================] - 11s 76ms/step - loss: 0.3112 - accuracy: 0.9000 - val_loss: 0.2667 - val_accuracy: 0.9036\n",
            "Epoch 9/70\n",
            "140/140 [==============================] - 11s 81ms/step - loss: 0.2536 - accuracy: 0.9170 - val_loss: 0.0995 - val_accuracy: 0.9643\n",
            "Epoch 10/70\n",
            "140/140 [==============================] - 11s 77ms/step - loss: 0.2540 - accuracy: 0.9170 - val_loss: 0.2139 - val_accuracy: 0.9464\n",
            "Epoch 11/70\n",
            "140/140 [==============================] - 11s 77ms/step - loss: 0.2644 - accuracy: 0.9018 - val_loss: 0.4991 - val_accuracy: 0.8179\n",
            "Epoch 12/70\n",
            "140/140 [==============================] - 11s 82ms/step - loss: 0.2491 - accuracy: 0.9036 - val_loss: 4.8758 - val_accuracy: 0.5036\n",
            "Epoch 13/70\n",
            "140/140 [==============================] - 11s 82ms/step - loss: 0.2156 - accuracy: 0.9286 - val_loss: 0.3607 - val_accuracy: 0.8500\n",
            "Epoch 14/70\n",
            "140/140 [==============================] - 11s 78ms/step - loss: 0.2151 - accuracy: 0.9321 - val_loss: 0.4414 - val_accuracy: 0.8464\n",
            "Epoch 15/70\n",
            "140/140 [==============================] - 11s 78ms/step - loss: 0.2430 - accuracy: 0.9196 - val_loss: 6.5633 - val_accuracy: 0.4857\n",
            "Epoch 16/70\n",
            "140/140 [==============================] - 11s 78ms/step - loss: 0.2294 - accuracy: 0.9214 - val_loss: 0.1776 - val_accuracy: 0.9393\n",
            "Epoch 17/70\n",
            "140/140 [==============================] - 11s 78ms/step - loss: 0.2255 - accuracy: 0.9286 - val_loss: 0.1051 - val_accuracy: 0.9607\n",
            "Epoch 18/70\n",
            "140/140 [==============================] - 11s 78ms/step - loss: 0.1835 - accuracy: 0.9464 - val_loss: 0.4209 - val_accuracy: 0.9036\n",
            "Epoch 19/70\n",
            "140/140 [==============================] - 11s 79ms/step - loss: 0.2096 - accuracy: 0.9330 - val_loss: 0.2276 - val_accuracy: 0.9286\n",
            "Epoch 20/70\n",
            "140/140 [==============================] - 12s 83ms/step - loss: 0.1834 - accuracy: 0.9518 - val_loss: 1.2337 - val_accuracy: 0.6500\n",
            "Epoch 21/70\n",
            "140/140 [==============================] - 11s 79ms/step - loss: 0.2470 - accuracy: 0.9179 - val_loss: 0.3478 - val_accuracy: 0.9286\n",
            "Epoch 22/70\n",
            "140/140 [==============================] - 11s 79ms/step - loss: 0.2202 - accuracy: 0.9438 - val_loss: 0.0903 - val_accuracy: 0.9679\n",
            "Epoch 23/70\n",
            "140/140 [==============================] - 11s 79ms/step - loss: 0.1642 - accuracy: 0.9554 - val_loss: 0.1871 - val_accuracy: 0.9357\n",
            "Epoch 24/70\n",
            "140/140 [==============================] - 12s 83ms/step - loss: 0.2128 - accuracy: 0.9259 - val_loss: 0.6436 - val_accuracy: 0.9214\n",
            "Epoch 25/70\n",
            "140/140 [==============================] - 11s 79ms/step - loss: 0.2394 - accuracy: 0.9312 - val_loss: 0.1674 - val_accuracy: 0.9357\n",
            "Epoch 26/70\n",
            "140/140 [==============================] - 12s 83ms/step - loss: 0.1740 - accuracy: 0.9429 - val_loss: 0.0892 - val_accuracy: 0.9679\n",
            "Epoch 27/70\n",
            "140/140 [==============================] - 11s 79ms/step - loss: 0.2113 - accuracy: 0.9339 - val_loss: 1.1676 - val_accuracy: 0.5500\n",
            "Epoch 28/70\n",
            "140/140 [==============================] - 11s 79ms/step - loss: 0.1614 - accuracy: 0.9580 - val_loss: 0.2925 - val_accuracy: 0.9071\n",
            "Epoch 29/70\n",
            "140/140 [==============================] - 11s 79ms/step - loss: 0.1201 - accuracy: 0.9607 - val_loss: 0.3500 - val_accuracy: 0.8893\n",
            "Epoch 30/70\n",
            "140/140 [==============================] - 11s 79ms/step - loss: 0.1540 - accuracy: 0.9607 - val_loss: 0.0642 - val_accuracy: 0.9857\n",
            "Epoch 31/70\n",
            "140/140 [==============================] - 12s 84ms/step - loss: 0.1530 - accuracy: 0.9589 - val_loss: 0.0669 - val_accuracy: 0.9821\n",
            "Epoch 32/70\n",
            "140/140 [==============================] - 11s 79ms/step - loss: 0.1184 - accuracy: 0.9688 - val_loss: 0.8803 - val_accuracy: 0.7607\n",
            "Epoch 33/70\n",
            "140/140 [==============================] - 11s 79ms/step - loss: 0.1546 - accuracy: 0.9509 - val_loss: 0.2103 - val_accuracy: 0.9107\n",
            "Epoch 34/70\n",
            "140/140 [==============================] - 11s 79ms/step - loss: 0.2109 - accuracy: 0.9429 - val_loss: 0.3589 - val_accuracy: 0.9143\n",
            "Epoch 35/70\n",
            "140/140 [==============================] - 11s 79ms/step - loss: 0.1967 - accuracy: 0.9446 - val_loss: 0.2332 - val_accuracy: 0.9286\n",
            "Epoch 36/70\n",
            "140/140 [==============================] - 12s 83ms/step - loss: 0.2558 - accuracy: 0.9277 - val_loss: 0.4677 - val_accuracy: 0.8857\n",
            "Epoch 37/70\n",
            "140/140 [==============================] - 11s 79ms/step - loss: 0.1687 - accuracy: 0.9509 - val_loss: 0.2380 - val_accuracy: 0.9357\n",
            "Epoch 38/70\n",
            "140/140 [==============================] - 12s 83ms/step - loss: 0.1591 - accuracy: 0.9607 - val_loss: 0.0756 - val_accuracy: 0.9714\n",
            "Epoch 39/70\n",
            "140/140 [==============================] - 12s 83ms/step - loss: 0.1121 - accuracy: 0.9679 - val_loss: 0.0849 - val_accuracy: 0.9714\n",
            "Epoch 40/70\n",
            "140/140 [==============================] - 11s 79ms/step - loss: 0.1265 - accuracy: 0.9563 - val_loss: 0.0866 - val_accuracy: 0.9714\n",
            "Epoch 41/70\n",
            "140/140 [==============================] - 11s 79ms/step - loss: 0.1866 - accuracy: 0.9393 - val_loss: 0.1314 - val_accuracy: 0.9607\n",
            "Epoch 42/70\n",
            "140/140 [==============================] - 12s 83ms/step - loss: 0.1605 - accuracy: 0.9536 - val_loss: 0.1781 - val_accuracy: 0.9393\n",
            "Epoch 43/70\n",
            "140/140 [==============================] - 12s 83ms/step - loss: 0.1126 - accuracy: 0.9598 - val_loss: 0.0819 - val_accuracy: 0.9643\n",
            "Epoch 44/70\n",
            "140/140 [==============================] - 11s 79ms/step - loss: 0.1180 - accuracy: 0.9696 - val_loss: 0.1032 - val_accuracy: 0.9571\n",
            "Epoch 45/70\n",
            "140/140 [==============================] - 12s 83ms/step - loss: 0.1439 - accuracy: 0.9554 - val_loss: 0.6365 - val_accuracy: 0.8107\n",
            "Epoch 46/70\n",
            "140/140 [==============================] - 11s 79ms/step - loss: 0.1978 - accuracy: 0.9393 - val_loss: 0.8798 - val_accuracy: 0.8286\n",
            "Epoch 47/70\n",
            "140/140 [==============================] - 12s 83ms/step - loss: 0.1367 - accuracy: 0.9563 - val_loss: 0.2279 - val_accuracy: 0.9393\n",
            "Epoch 48/70\n",
            "140/140 [==============================] - 12s 83ms/step - loss: 0.1700 - accuracy: 0.9545 - val_loss: 0.4820 - val_accuracy: 0.8786\n",
            "Epoch 49/70\n",
            "140/140 [==============================] - 11s 79ms/step - loss: 0.1933 - accuracy: 0.9429 - val_loss: 0.7583 - val_accuracy: 0.7929\n",
            "Epoch 50/70\n",
            "140/140 [==============================] - 12s 84ms/step - loss: 0.1491 - accuracy: 0.9509 - val_loss: 0.6738 - val_accuracy: 0.8464\n",
            "Epoch 51/70\n",
            "140/140 [==============================] - 11s 79ms/step - loss: 0.1276 - accuracy: 0.9625 - val_loss: 0.3355 - val_accuracy: 0.9536\n",
            "Epoch 52/70\n",
            "140/140 [==============================] - 12s 83ms/step - loss: 0.1731 - accuracy: 0.9464 - val_loss: 0.0916 - val_accuracy: 0.9643\n",
            "Epoch 53/70\n",
            "140/140 [==============================] - 12s 83ms/step - loss: 0.1143 - accuracy: 0.9634 - val_loss: 0.6271 - val_accuracy: 0.8107\n",
            "Epoch 54/70\n",
            "140/140 [==============================] - 11s 79ms/step - loss: 0.1934 - accuracy: 0.9438 - val_loss: 0.1275 - val_accuracy: 0.9571\n",
            "Epoch 55/70\n",
            "140/140 [==============================] - 12s 83ms/step - loss: 0.0785 - accuracy: 0.9741 - val_loss: 0.1273 - val_accuracy: 0.9643\n",
            "Epoch 56/70\n",
            "140/140 [==============================] - 11s 79ms/step - loss: 0.0766 - accuracy: 0.9804 - val_loss: 0.0579 - val_accuracy: 0.9750\n",
            "Epoch 57/70\n",
            "140/140 [==============================] - 11s 79ms/step - loss: 0.1062 - accuracy: 0.9741 - val_loss: 0.9583 - val_accuracy: 0.8500\n",
            "Epoch 58/70\n",
            "140/140 [==============================] - 12s 83ms/step - loss: 0.1849 - accuracy: 0.9536 - val_loss: 0.1320 - val_accuracy: 0.9286\n",
            "Epoch 59/70\n",
            "140/140 [==============================] - 12s 83ms/step - loss: 0.1244 - accuracy: 0.9571 - val_loss: 0.1058 - val_accuracy: 0.9750\n",
            "Epoch 60/70\n",
            "140/140 [==============================] - 11s 79ms/step - loss: 0.1262 - accuracy: 0.9563 - val_loss: 0.0999 - val_accuracy: 0.9679\n",
            "Epoch 61/70\n",
            "140/140 [==============================] - 12s 83ms/step - loss: 0.0922 - accuracy: 0.9750 - val_loss: 0.1278 - val_accuracy: 0.9571\n",
            "Epoch 62/70\n",
            "140/140 [==============================] - 11s 79ms/step - loss: 0.0644 - accuracy: 0.9804 - val_loss: 0.0539 - val_accuracy: 0.9857\n",
            "Epoch 63/70\n",
            "140/140 [==============================] - 12s 83ms/step - loss: 0.1898 - accuracy: 0.9500 - val_loss: 0.1755 - val_accuracy: 0.9536\n",
            "Epoch 64/70\n",
            "140/140 [==============================] - 11s 79ms/step - loss: 0.1578 - accuracy: 0.9482 - val_loss: 0.1489 - val_accuracy: 0.9500\n",
            "Epoch 65/70\n",
            "140/140 [==============================] - 11s 79ms/step - loss: 0.2764 - accuracy: 0.9330 - val_loss: 0.5158 - val_accuracy: 0.8929\n",
            "Epoch 66/70\n",
            "140/140 [==============================] - 11s 79ms/step - loss: 0.1754 - accuracy: 0.9420 - val_loss: 0.1569 - val_accuracy: 0.9679\n",
            "Epoch 67/70\n",
            "140/140 [==============================] - 11s 79ms/step - loss: 0.0912 - accuracy: 0.9714 - val_loss: 0.1355 - val_accuracy: 0.9607\n",
            "Epoch 68/70\n",
            "140/140 [==============================] - 11s 79ms/step - loss: 0.1824 - accuracy: 0.9491 - val_loss: 0.1684 - val_accuracy: 0.9393\n",
            "Epoch 69/70\n",
            "140/140 [==============================] - 12s 84ms/step - loss: 0.1872 - accuracy: 0.9455 - val_loss: 0.1165 - val_accuracy: 0.9571\n",
            "Epoch 70/70\n",
            "140/140 [==============================] - 12s 83ms/step - loss: 0.1724 - accuracy: 0.9554 - val_loss: 0.8856 - val_accuracy: 0.7929\n"
          ]
        }
      ]
    },
    {
      "cell_type": "code",
      "source": [
        "print(\"[INFO] evaluating network...\")\n",
        "predictions = vgg16.predict(testX, batch_size=8)\n",
        "pred=predictions.argmax(axis=1)\n",
        "testY_argm=testY.argmax(axis=1)\n"
      ],
      "metadata": {
        "id": "qjoEfHoWsr9H",
        "colab": {
          "base_uri": "https://localhost:8080/"
        },
        "outputId": "53eec977-eccc-4c7a-b637-ee55ac1a1ea4"
      },
      "execution_count": 13,
      "outputs": [
        {
          "output_type": "stream",
          "name": "stdout",
          "text": [
            "[INFO] evaluating network...\n"
          ]
        }
      ]
    },
    {
      "cell_type": "code",
      "source": [
        "print(classification_report(testY_argm,pred,target_names=lb.classes_))"
      ],
      "metadata": {
        "id": "Po9wqNIMts7s",
        "colab": {
          "base_uri": "https://localhost:8080/"
        },
        "outputId": "fb7202f5-ac8e-4db0-d18c-56776e44f42a"
      },
      "execution_count": 14,
      "outputs": [
        {
          "output_type": "stream",
          "name": "stdout",
          "text": [
            "              precision    recall  f1-score   support\n",
            "\n",
            "      Normal       0.75      0.87      0.80       136\n",
            "Tuberculosis       0.85      0.72      0.78       144\n",
            "\n",
            "    accuracy                           0.79       280\n",
            "   macro avg       0.80      0.79      0.79       280\n",
            "weighted avg       0.80      0.79      0.79       280\n",
            "\n"
          ]
        }
      ]
    },
    {
      "cell_type": "code",
      "source": [
        "test_score = vgg16.evaluate(testX, testY) \n",
        "print(\"Test Loss {:.4f}, accuracy {:.2f}%\".format(test_score[0], test_score[1] * 100))"
      ],
      "metadata": {
        "id": "5NSJXylrt1ND",
        "colab": {
          "base_uri": "https://localhost:8080/"
        },
        "outputId": "24cfa6ad-59ad-44d5-d39b-2f424dcaf5e1"
      },
      "execution_count": 15,
      "outputs": [
        {
          "output_type": "stream",
          "name": "stdout",
          "text": [
            "9/9 [==============================] - 5s 287ms/step - loss: 0.8856 - accuracy: 0.7929\n",
            "Test Loss 0.8856, accuracy 79.29%\n"
          ]
        }
      ]
    },
    {
      "cell_type": "code",
      "source": [
        "from sklearn.metrics import confusion_matrix\n",
        "import itertools\n",
        "\n",
        "def plot_confusion_matrix(cm, classes, normalize=False, title='Confusion matrix', cmap='Blues'):\n",
        "  if normalize:\n",
        "     cm = cm.astype('float') / cm.sum(axis=1)[:, np.newaxis]\n",
        "     print(\"Normalized confusion matrix\")\n",
        "  else:\n",
        "     print('Confusion matrix, without normalization')\n",
        "  print(cm)\n",
        "  plt.imshow(cm, interpolation='nearest', cmap=cmap)\n",
        "  plt.title(title)\n",
        "  plt.colorbar()\n",
        "  tick_marks = np.arange(len(classes))\n",
        "  plt.xticks(tick_marks, classes, rotation=45)\n",
        "  plt.yticks(tick_marks, classes)\n",
        "  fmt = '.2f' if normalize else 'd'\n",
        "  thresh = cm.max() / 2.\n",
        "  for i, j in itertools.product(range(cm.shape[0]), range(cm.shape[1])):\n",
        "      plt.text(j, i, format(cm[i, j], fmt), horizontalalignment=\"center\", color=\"white\" if cm[i, j] > thresh else \"black\")\n",
        "  plt.ylabel('True label')\n",
        "  plt.xlabel('Predicted label')\n",
        "  plt.tight_layout()"
      ],
      "metadata": {
        "id": "ZS-FXHa6uI6H"
      },
      "execution_count": 16,
      "outputs": []
    },
    {
      "cell_type": "code",
      "source": [
        "cnf_matrix = confusion_matrix(testY_argm, pred)\n",
        "np.set_printoptions(precision=2)\n",
        "\n",
        "# Plot non/normalized confusion matrix\n",
        "plt.figure()\n",
        "plot_confusion_matrix(cnf_matrix,\n",
        "classes=lb.classes_, normalize=True)\n",
        "plt.show()\n",
        "\n",
        "plt.figure()\n",
        "plot_confusion_matrix(cnf_matrix,\n",
        "classes=lb.classes_, normalize=False)\n",
        "plt.show()\n",
        "\n",
        "f, ax = plt.subplots()\n",
        "ax.plot([None] + H.history['accuracy'], 'o-')\n",
        "ax.plot([None] + H.history['val_accuracy'], 'x-')\n",
        "\n",
        "ax.legend(['Train acc', 'Validation acc'], loc = 0)\n",
        "ax.set_title('Training/Validation acc per Epoch')\n",
        "ax.set_xlabel('Epoch')\n",
        "ax.set_ylabel('acc')\n",
        "plt.grid(True)\n",
        "\n",
        "f, ax = plt.subplots()\n",
        "ax.plot([None] + H.history['loss'], 'o-')\n",
        "ax.plot([None] + H.history['val_loss'], 'x-')\n",
        "ax.legend(['Train Loss', 'Validation Loss'], loc = 0)\n",
        "ax.set_title('Training/Validation Loss per Epoch')\n",
        "ax.set_xlabel('Epoch')\n",
        "ax.set_ylabel('loss')\n",
        "plt.grid(True)"
      ],
      "metadata": {
        "id": "eiYstz9xuRLx",
        "colab": {
          "base_uri": "https://localhost:8080/",
          "height": 1000
        },
        "outputId": "e73d1fe9-bc9f-46fa-81b7-f69f617fada0"
      },
      "execution_count": 17,
      "outputs": [
        {
          "output_type": "stream",
          "name": "stdout",
          "text": [
            "Normalized confusion matrix\n",
            "[[0.87 0.13]\n",
            " [0.28 0.72]]\n"
          ]
        },
        {
          "output_type": "display_data",
          "data": {
            "text/plain": [
              "<Figure size 432x288 with 2 Axes>"
            ],
            "image/png": "[encoded data removed]"
          },
          "metadata": {
            "needs_background": "light"
          }
        },
        {
          "output_type": "stream",
          "name": "stdout",
          "text": [
            "Confusion matrix, without normalization\n",
            "[[118  18]\n",
            " [ 40 104]]\n"
          ]
        },
        {
          "output_type": "display_data",
          "data": {
            "text/plain": [
              "<Figure size 432x288 with 2 Axes>"
            ],
            "image/png": "[encoded data removed]"
          },
          "metadata": {
            "needs_background": "light"
          }
        },
        {
          "output_type": "display_data",
          "data": {
            "text/plain": [
              "<Figure size 432x288 with 1 Axes>"
            ],
            "image/png": "[encoded data removed]"
          },
          "metadata": {
            "needs_background": "light"
          }
        },
        {
          "output_type": "display_data",
          "data": {
            "text/plain": [
              "<Figure size 432x288 with 1 Axes>"
            ],
            "image/png": "[encoded data removed]"
          },
          "metadata": {
            "needs_background": "light"
          }
        }
      ]
    }
  ]
}