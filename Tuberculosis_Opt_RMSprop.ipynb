{
  "nbformat": 4,
  "nbformat_minor": 0,
  "metadata": {
    "colab": {
      "name": "Tuberculosis_VGG-16.ipynb",
      "provenance": [],
      "collapsed_sections": [],
      "include_colab_link": true
    },
    "kernelspec": {
      "name": "python3",
      "display_name": "Python 3"
    },
    "language_info": {
      "name": "python"
    },
    "accelerator": "GPU",
    "gpuClass": "standard"
  },
  "cells": [
    {
      "cell_type": "markdown",
      "metadata": {
        "id": "view-in-github",
        "colab_type": "text"
      },
      "source": [
        "<a href=\"https://colab.research.google.com/github/taniaalwi99/Skripsi-Tuberculosis/blob/main/Tuberculosis_Opt_RMSprop.ipynb\" target=\"_parent\"><img src=\"https://colab.research.google.com/assets/colab-badge.svg\" alt=\"Open In Colab\"/></a>"
      ]
    },
    {
      "cell_type": "code",
      "execution_count": 18,
      "metadata": {
        "colab": {
          "base_uri": "https://localhost:8080/"
        },
        "id": "2_RYo7hrXaC5",
        "outputId": "666651fa-ed05-42dd-83d0-01c6f7739167"
      },
      "outputs": [
        {
          "output_type": "stream",
          "name": "stdout",
          "text": [
            "Drive already mounted at /content/drive; to attempt to forcibly remount, call drive.mount(\"/content/drive\", force_remount=True).\n"
          ]
        }
      ],
      "source": [
        "from google.colab import drive\n",
        "drive.mount('/content/drive')"
      ]
    },
    {
      "cell_type": "code",
      "source": [
        "cd //content/drive/MyDrive"
      ],
      "metadata": {
        "colab": {
          "base_uri": "https://localhost:8080/"
        },
        "id": "G4aisxOFX3KH",
        "outputId": "9670ab29-ac04-492a-d795-74af4d7ade04"
      },
      "execution_count": 19,
      "outputs": [
        {
          "output_type": "stream",
          "name": "stdout",
          "text": [
            "/content/drive/MyDrive\n"
          ]
        }
      ]
    },
    {
      "cell_type": "code",
      "source": [
        "ls"
      ],
      "metadata": {
        "colab": {
          "base_uri": "https://localhost:8080/"
        },
        "id": "e_oGUrADX8O_",
        "outputId": "46212a80-df3a-4409-89d6-35b1261ca38c"
      },
      "execution_count": 20,
      "outputs": [
        {
          "output_type": "stream",
          "name": "stdout",
          "text": [
            "\u001b[0m\u001b[01;34m'Colab Notebooks'\u001b[0m/  \u001b[01;34m'Dataset Gray'\u001b[0m/  \u001b[01;34m'Tania Alwi'\u001b[0m/   Tuberculosis_VGG-16.ipynb\n"
          ]
        }
      ]
    },
    {
      "cell_type": "code",
      "source": [
        "from keras.models import Model\n",
        "from keras.models import load_model\n",
        "from keras.models import Sequential\n",
        "from keras.layers.convolutional import Convolution2D\n",
        "from keras.layers.convolutional import MaxPooling2D\n",
        "from keras.layers.convolutional import ZeroPadding2D\n",
        "from keras.layers.core import Activation\n",
        "from keras.layers.core import Flatten\n",
        "from keras.layers.core import Dense\n",
        "from keras.layers.core import Dropout\n",
        "from keras.layers import BatchNormalization\n",
        "from keras import regularizers\n",
        "from keras.preprocessing.image import ImageDataGenerator\n",
        "from tensorflow.keras.optimizers import RMSprop, Adam, SGD\n",
        "from sklearn.preprocessing import LabelBinarizer\n",
        "from sklearn.model_selection import train_test_split\n",
        "from sklearn.metrics import classification_report\n",
        "from PIL import Image\n",
        "from matplotlib import pyplot as plt\n",
        "from imutils import paths\n",
        "import numpy as np\n",
        "import os"
      ],
      "metadata": {
        "id": "t95OxlI7X_OF"
      },
      "execution_count": 21,
      "outputs": []
    },
    {
      "cell_type": "code",
      "source": [
        "print(\"[INFO] loading images...\")\n",
        "imagePaths = paths.list_images(\"Dataset Gray\")\n",
        "data = []\n",
        "labels = []"
      ],
      "metadata": {
        "colab": {
          "base_uri": "https://localhost:8080/"
        },
        "id": "jvn693i-YDZ8",
        "outputId": "94659cb7-8f26-443d-839f-a80bc7ab2a72"
      },
      "execution_count": 22,
      "outputs": [
        {
          "output_type": "stream",
          "name": "stdout",
          "text": [
            "[INFO] loading images...\n"
          ]
        }
      ]
    },
    {
      "cell_type": "code",
      "source": [
        "for imagePaths in imagePaths:\n",
        "    a = Image.open(imagePaths)\n",
        "    image = np.array(a.resize((128,128))) / 255.0\n",
        "    data.append(image)\n",
        "    \n",
        "    label = imagePaths.split(os.path.sep) [-2]\n",
        "    labels.append(label)"
      ],
      "metadata": {
        "id": "3XLuWAZsYLfK"
      },
      "execution_count": 23,
      "outputs": []
    },
    {
      "cell_type": "code",
      "source": [
        "from sklearn.preprocessing import LabelBinarizer\n",
        "import numpy as np\n",
        "\n",
        "class MyLabelBinarizer(LabelBinarizer):\n",
        "    def transform(self, label):\n",
        "      nilaiy = super().transform(label)\n",
        "      if self.y_type_== 'binary':\n",
        "        return np.hstack((nilaiy, 1-nilaiy))\n",
        "      else:\n",
        "        return nilaiy\n",
        "    def inverse_transform(self, nilaiy, threshold=None):\n",
        "      if self.y_type_ == 'binary':\n",
        "          return super().inverse_transform(nilaiy[:, 0], threshold)\n",
        "      else:\n",
        "          return super().inverse_transform(nilaiy, threshold)\n",
        "\n",
        "      \n",
        "\n",
        "lb = MyLabelBinarizer()\n",
        "labels = lb.fit_transform(labels)\n",
        "print(labels)"
      ],
      "metadata": {
        "colab": {
          "base_uri": "https://localhost:8080/"
        },
        "id": "gnjyPDi_Yyrn",
        "outputId": "c7422b1f-eaed-4035-fad3-d331e0384e77"
      },
      "execution_count": 24,
      "outputs": [
        {
          "output_type": "stream",
          "name": "stdout",
          "text": [
            "[[1 0]\n",
            " [1 0]\n",
            " [1 0]\n",
            " ...\n",
            " [0 1]\n",
            " [0 1]\n",
            " [0 1]]\n"
          ]
        }
      ]
    },
    {
      "cell_type": "code",
      "source": [
        "(trainX,testX, trainY, testY) = train_test_split(np.array(data),np.array(labels), test_size=0.20)\n",
        "print(trainX.shape)\n",
        "print(testX.shape)"
      ],
      "metadata": {
        "id": "0V3CnlQtY1g2",
        "colab": {
          "base_uri": "https://localhost:8080/"
        },
        "outputId": "201c3d57-4f9e-4fac-fba1-ca7a050bfa7a"
      },
      "execution_count": 25,
      "outputs": [
        {
          "output_type": "stream",
          "name": "stdout",
          "text": [
            "(1120, 128, 128)\n",
            "(280, 128, 128)\n"
          ]
        }
      ]
    },
    {
      "cell_type": "code",
      "source": [
        "def vgg16(num_classes):\n",
        "\n",
        "    vgg16 = Sequential()\n",
        "\n",
        "    vgg16.add(Convolution2D(input_shape=(128,128,1),filters=64,kernel_size=(3,3),padding=\"same\"))\n",
        "    vgg16.add(Activation('relu'))\n",
        "    vgg16.add(BatchNormalization())\n",
        "    #layer1 32*32*64\n",
        "    vgg16.add(Convolution2D(filters=64,kernel_size=(3,3),padding=\"same\"))\n",
        "    vgg16.add(Activation('relu'))\n",
        "    vgg16.add(MaxPooling2D(pool_size=(2, 2),strides=(2,2)))\n",
        "    vgg16.add(BatchNormalization())\n",
        "    #layer2 16*16*64\n",
        "    vgg16.add(Convolution2D(filters=128, kernel_size=(3,3), padding=\"same\"))\n",
        "    vgg16.add(Activation('relu'))\n",
        "    vgg16.add(BatchNormalization())\n",
        "    #layer3 16*16*128\n",
        "    vgg16.add(Convolution2D(filters=128, kernel_size=(3,3), padding=\"same\",))\n",
        "    vgg16.add(Activation('relu'))\n",
        "    vgg16.add(MaxPooling2D(pool_size=(2,2),strides=(2,2)))\n",
        "    vgg16.add(BatchNormalization())\n",
        "    #layer4 8*8*128\n",
        "    vgg16.add(Convolution2D(filters=256, kernel_size=(3,3), padding=\"same\"))\n",
        "    vgg16.add(Activation('relu'))\n",
        "    vgg16.add(BatchNormalization())\n",
        "    #layer5 8*8*256\n",
        "    vgg16.add(Convolution2D(filters=256, kernel_size=(3,3), padding=\"same\"))\n",
        "    vgg16.add(Activation('relu'))\n",
        "    vgg16.add(BatchNormalization())\n",
        "    #layer6 8*8*256\n",
        "    vgg16.add(Convolution2D(filters=256, kernel_size=(3,3), padding=\"same\"))\n",
        "    vgg16.add(Activation('relu'))\n",
        "    vgg16.add(MaxPooling2D(pool_size=(2,2),strides=(2,2)))\n",
        "    vgg16.add(BatchNormalization())\n",
        "    #layer7 4*4*256\n",
        "    vgg16.add(Convolution2D(filters=512, kernel_size=(3,3), padding=\"same\"))\n",
        "    vgg16.add(Activation('relu'))\n",
        "    vgg16.add(BatchNormalization())\n",
        "    #layer8 4*4*512\n",
        "    vgg16.add(Convolution2D(filters=512, kernel_size=(3,3), padding=\"same\"))\n",
        "    vgg16.add(Activation('relu'))\n",
        "    vgg16.add(BatchNormalization())\n",
        "    #layer9 4*4*512\n",
        "    vgg16.add(Convolution2D(filters=512, kernel_size=(3,3), padding=\"same\"))\n",
        "    vgg16.add(Activation('relu'))\n",
        "    vgg16.add(MaxPooling2D(pool_size=(2,2),strides=(2,2)))\n",
        "    vgg16.add(BatchNormalization())\n",
        "    #layer10 2*2*512\n",
        "    vgg16.add(Convolution2D(filters=512, kernel_size=(3,3), padding=\"same\"))\n",
        "    vgg16.add(Activation('relu'))\n",
        "    vgg16.add(BatchNormalization())\n",
        "    #layer11 2*2*512\n",
        "    vgg16.add(Convolution2D(filters=512, kernel_size=(3,3), padding=\"same\"))  \n",
        "    vgg16.add(Activation('relu')) \n",
        "    vgg16.add(BatchNormalization())       \n",
        "    #layer12 2*2*512\n",
        "    vgg16.add(Convolution2D(filters=512, kernel_size=(3,3), padding=\"same\"))\n",
        "    vgg16.add(Activation('relu'))\n",
        "    vgg16.add(MaxPooling2D(pool_size=(2,2),strides=(2,2)))\n",
        "    vgg16.add(BatchNormalization())\n",
        "    #layer13 1*1*512\n",
        "    vgg16.add(Flatten())\n",
        "    vgg16.add(Dense(units=4096))\n",
        "    vgg16.add(Activation('relu')) \n",
        "    vgg16.add(BatchNormalization())\n",
        "    vgg16.add(Dropout(0.5))\n",
        "    #layer14 4096\n",
        "    vgg16.add(Dense(units=4096))\n",
        "    vgg16.add(Activation('relu')) \n",
        "    vgg16.add(BatchNormalization())\n",
        "    vgg16.add(Dropout(0.5))\n",
        "    #layer16 4096\n",
        "    vgg16.add(Dense(units=1000))\n",
        "    vgg16.add(Activation('relu'))\n",
        "    vgg16.add(BatchNormalization())\n",
        "    vgg16.add(Dropout(0.5)) \n",
        "    #layer16 1000\n",
        "    vgg16.add(Dense(2, activation=\"softmax\"))\n",
        "\n",
        "    return vgg16"
      ],
      "metadata": {
        "id": "WpeYjXzUZCZP"
      },
      "execution_count": 26,
      "outputs": []
    },
    {
      "cell_type": "code",
      "source": [
        "num_classes=2\n",
        "vgg16=vgg16(num_classes)\n",
        "vgg16.summary()"
      ],
      "metadata": {
        "id": "rlT3OhVuZLUs",
        "colab": {
          "base_uri": "https://localhost:8080/"
        },
        "outputId": "fcb7909a-60a8-4eab-8b26-ceb27731dda8"
      },
      "execution_count": 27,
      "outputs": [
        {
          "output_type": "stream",
          "name": "stdout",
          "text": [
            "Model: \"sequential_1\"\n",
            "_________________________________________________________________\n",
            " Layer (type)                Output Shape              Param #   \n",
            "=================================================================\n",
            " conv2d_13 (Conv2D)          (None, 128, 128, 64)      640       \n",
            "                                                                 \n",
            " activation_16 (Activation)  (None, 128, 128, 64)      0         \n",
            "                                                                 \n",
            " batch_normalization_16 (Bat  (None, 128, 128, 64)     256       \n",
            " chNormalization)                                                \n",
            "                                                                 \n",
            " conv2d_14 (Conv2D)          (None, 128, 128, 64)      36928     \n",
            "                                                                 \n",
            " activation_17 (Activation)  (None, 128, 128, 64)      0         \n",
            "                                                                 \n",
            " max_pooling2d_5 (MaxPooling  (None, 64, 64, 64)       0         \n",
            " 2D)                                                             \n",
            "                                                                 \n",
            " batch_normalization_17 (Bat  (None, 64, 64, 64)       256       \n",
            " chNormalization)                                                \n",
            "                                                                 \n",
            " conv2d_15 (Conv2D)          (None, 64, 64, 128)       73856     \n",
            "                                                                 \n",
            " activation_18 (Activation)  (None, 64, 64, 128)       0         \n",
            "                                                                 \n",
            " batch_normalization_18 (Bat  (None, 64, 64, 128)      512       \n",
            " chNormalization)                                                \n",
            "                                                                 \n",
            " conv2d_16 (Conv2D)          (None, 64, 64, 128)       147584    \n",
            "                                                                 \n",
            " activation_19 (Activation)  (None, 64, 64, 128)       0         \n",
            "                                                                 \n",
            " max_pooling2d_6 (MaxPooling  (None, 32, 32, 128)      0         \n",
            " 2D)                                                             \n",
            "                                                                 \n",
            " batch_normalization_19 (Bat  (None, 32, 32, 128)      512       \n",
            " chNormalization)                                                \n",
            "                                                                 \n",
            " conv2d_17 (Conv2D)          (None, 32, 32, 256)       295168    \n",
            "                                                                 \n",
            " activation_20 (Activation)  (None, 32, 32, 256)       0         \n",
            "                                                                 \n",
            " batch_normalization_20 (Bat  (None, 32, 32, 256)      1024      \n",
            " chNormalization)                                                \n",
            "                                                                 \n",
            " conv2d_18 (Conv2D)          (None, 32, 32, 256)       590080    \n",
            "                                                                 \n",
            " activation_21 (Activation)  (None, 32, 32, 256)       0         \n",
            "                                                                 \n",
            " batch_normalization_21 (Bat  (None, 32, 32, 256)      1024      \n",
            " chNormalization)                                                \n",
            "                                                                 \n",
            " conv2d_19 (Conv2D)          (None, 32, 32, 256)       590080    \n",
            "                                                                 \n",
            " activation_22 (Activation)  (None, 32, 32, 256)       0         \n",
            "                                                                 \n",
            " max_pooling2d_7 (MaxPooling  (None, 16, 16, 256)      0         \n",
            " 2D)                                                             \n",
            "                                                                 \n",
            " batch_normalization_22 (Bat  (None, 16, 16, 256)      1024      \n",
            " chNormalization)                                                \n",
            "                                                                 \n",
            " conv2d_20 (Conv2D)          (None, 16, 16, 512)       1180160   \n",
            "                                                                 \n",
            " activation_23 (Activation)  (None, 16, 16, 512)       0         \n",
            "                                                                 \n",
            " batch_normalization_23 (Bat  (None, 16, 16, 512)      2048      \n",
            " chNormalization)                                                \n",
            "                                                                 \n",
            " conv2d_21 (Conv2D)          (None, 16, 16, 512)       2359808   \n",
            "                                                                 \n",
            " activation_24 (Activation)  (None, 16, 16, 512)       0         \n",
            "                                                                 \n",
            " batch_normalization_24 (Bat  (None, 16, 16, 512)      2048      \n",
            " chNormalization)                                                \n",
            "                                                                 \n",
            " conv2d_22 (Conv2D)          (None, 16, 16, 512)       2359808   \n",
            "                                                                 \n",
            " activation_25 (Activation)  (None, 16, 16, 512)       0         \n",
            "                                                                 \n",
            " max_pooling2d_8 (MaxPooling  (None, 8, 8, 512)        0         \n",
            " 2D)                                                             \n",
            "                                                                 \n",
            " batch_normalization_25 (Bat  (None, 8, 8, 512)        2048      \n",
            " chNormalization)                                                \n",
            "                                                                 \n",
            " conv2d_23 (Conv2D)          (None, 8, 8, 512)         2359808   \n",
            "                                                                 \n",
            " activation_26 (Activation)  (None, 8, 8, 512)         0         \n",
            "                                                                 \n",
            " batch_normalization_26 (Bat  (None, 8, 8, 512)        2048      \n",
            " chNormalization)                                                \n",
            "                                                                 \n",
            " conv2d_24 (Conv2D)          (None, 8, 8, 512)         2359808   \n",
            "                                                                 \n",
            " activation_27 (Activation)  (None, 8, 8, 512)         0         \n",
            "                                                                 \n",
            " batch_normalization_27 (Bat  (None, 8, 8, 512)        2048      \n",
            " chNormalization)                                                \n",
            "                                                                 \n",
            " conv2d_25 (Conv2D)          (None, 8, 8, 512)         2359808   \n",
            "                                                                 \n",
            " activation_28 (Activation)  (None, 8, 8, 512)         0         \n",
            "                                                                 \n",
            " max_pooling2d_9 (MaxPooling  (None, 4, 4, 512)        0         \n",
            " 2D)                                                             \n",
            "                                                                 \n",
            " batch_normalization_28 (Bat  (None, 4, 4, 512)        2048      \n",
            " chNormalization)                                                \n",
            "                                                                 \n",
            " flatten_1 (Flatten)         (None, 8192)              0         \n",
            "                                                                 \n",
            " dense_4 (Dense)             (None, 4096)              33558528  \n",
            "                                                                 \n",
            " activation_29 (Activation)  (None, 4096)              0         \n",
            "                                                                 \n",
            " batch_normalization_29 (Bat  (None, 4096)             16384     \n",
            " chNormalization)                                                \n",
            "                                                                 \n",
            " dropout_3 (Dropout)         (None, 4096)              0         \n",
            "                                                                 \n",
            " dense_5 (Dense)             (None, 4096)              16781312  \n",
            "                                                                 \n",
            " activation_30 (Activation)  (None, 4096)              0         \n",
            "                                                                 \n",
            " batch_normalization_30 (Bat  (None, 4096)             16384     \n",
            " chNormalization)                                                \n",
            "                                                                 \n",
            " dropout_4 (Dropout)         (None, 4096)              0         \n",
            "                                                                 \n",
            " dense_6 (Dense)             (None, 1000)              4097000   \n",
            "                                                                 \n",
            " activation_31 (Activation)  (None, 1000)              0         \n",
            "                                                                 \n",
            " batch_normalization_31 (Bat  (None, 1000)             4000      \n",
            " chNormalization)                                                \n",
            "                                                                 \n",
            " dropout_5 (Dropout)         (None, 1000)              0         \n",
            "                                                                 \n",
            " dense_7 (Dense)             (None, 2)                 2002      \n",
            "                                                                 \n",
            "=================================================================\n",
            "Total params: 69,206,042\n",
            "Trainable params: 69,179,210\n",
            "Non-trainable params: 26,832\n",
            "_________________________________________________________________\n"
          ]
        }
      ]
    },
    {
      "cell_type": "code",
      "source": [
        "#setting hyperparameter, menggunakan Adam\n",
        "opt = RMSprop(lr=0.001)\n",
        "vgg16.compile(loss='categorical_crossentropy', optimizer=opt, metrics=['accuracy'])\n",
        "vgg16.summary()"
      ],
      "metadata": {
        "id": "eZ0TePWVZTx4",
        "colab": {
          "base_uri": "https://localhost:8080/"
        },
        "outputId": "d809ae1c-648c-4c7a-9ce6-dee7dcbfe5b0"
      },
      "execution_count": 28,
      "outputs": [
        {
          "output_type": "stream",
          "name": "stdout",
          "text": [
            "Model: \"sequential_1\"\n",
            "_________________________________________________________________\n",
            " Layer (type)                Output Shape              Param #   \n",
            "=================================================================\n",
            " conv2d_13 (Conv2D)          (None, 128, 128, 64)      640       \n",
            "                                                                 \n",
            " activation_16 (Activation)  (None, 128, 128, 64)      0         \n",
            "                                                                 \n",
            " batch_normalization_16 (Bat  (None, 128, 128, 64)     256       \n",
            " chNormalization)                                                \n",
            "                                                                 \n",
            " conv2d_14 (Conv2D)          (None, 128, 128, 64)      36928     \n",
            "                                                                 \n",
            " activation_17 (Activation)  (None, 128, 128, 64)      0         \n",
            "                                                                 \n",
            " max_pooling2d_5 (MaxPooling  (None, 64, 64, 64)       0         \n",
            " 2D)                                                             \n",
            "                                                                 \n",
            " batch_normalization_17 (Bat  (None, 64, 64, 64)       256       \n",
            " chNormalization)                                                \n",
            "                                                                 \n",
            " conv2d_15 (Conv2D)          (None, 64, 64, 128)       73856     \n",
            "                                                                 \n",
            " activation_18 (Activation)  (None, 64, 64, 128)       0         \n",
            "                                                                 \n",
            " batch_normalization_18 (Bat  (None, 64, 64, 128)      512       \n",
            " chNormalization)                                                \n",
            "                                                                 \n",
            " conv2d_16 (Conv2D)          (None, 64, 64, 128)       147584    \n",
            "                                                                 \n",
            " activation_19 (Activation)  (None, 64, 64, 128)       0         \n",
            "                                                                 \n",
            " max_pooling2d_6 (MaxPooling  (None, 32, 32, 128)      0         \n",
            " 2D)                                                             \n",
            "                                                                 \n",
            " batch_normalization_19 (Bat  (None, 32, 32, 128)      512       \n",
            " chNormalization)                                                \n",
            "                                                                 \n",
            " conv2d_17 (Conv2D)          (None, 32, 32, 256)       295168    \n",
            "                                                                 \n",
            " activation_20 (Activation)  (None, 32, 32, 256)       0         \n",
            "                                                                 \n",
            " batch_normalization_20 (Bat  (None, 32, 32, 256)      1024      \n",
            " chNormalization)                                                \n",
            "                                                                 \n",
            " conv2d_18 (Conv2D)          (None, 32, 32, 256)       590080    \n",
            "                                                                 \n",
            " activation_21 (Activation)  (None, 32, 32, 256)       0         \n",
            "                                                                 \n",
            " batch_normalization_21 (Bat  (None, 32, 32, 256)      1024      \n",
            " chNormalization)                                                \n",
            "                                                                 \n",
            " conv2d_19 (Conv2D)          (None, 32, 32, 256)       590080    \n",
            "                                                                 \n",
            " activation_22 (Activation)  (None, 32, 32, 256)       0         \n",
            "                                                                 \n",
            " max_pooling2d_7 (MaxPooling  (None, 16, 16, 256)      0         \n",
            " 2D)                                                             \n",
            "                                                                 \n",
            " batch_normalization_22 (Bat  (None, 16, 16, 256)      1024      \n",
            " chNormalization)                                                \n",
            "                                                                 \n",
            " conv2d_20 (Conv2D)          (None, 16, 16, 512)       1180160   \n",
            "                                                                 \n",
            " activation_23 (Activation)  (None, 16, 16, 512)       0         \n",
            "                                                                 \n",
            " batch_normalization_23 (Bat  (None, 16, 16, 512)      2048      \n",
            " chNormalization)                                                \n",
            "                                                                 \n",
            " conv2d_21 (Conv2D)          (None, 16, 16, 512)       2359808   \n",
            "                                                                 \n",
            " activation_24 (Activation)  (None, 16, 16, 512)       0         \n",
            "                                                                 \n",
            " batch_normalization_24 (Bat  (None, 16, 16, 512)      2048      \n",
            " chNormalization)                                                \n",
            "                                                                 \n",
            " conv2d_22 (Conv2D)          (None, 16, 16, 512)       2359808   \n",
            "                                                                 \n",
            " activation_25 (Activation)  (None, 16, 16, 512)       0         \n",
            "                                                                 \n",
            " max_pooling2d_8 (MaxPooling  (None, 8, 8, 512)        0         \n",
            " 2D)                                                             \n",
            "                                                                 \n",
            " batch_normalization_25 (Bat  (None, 8, 8, 512)        2048      \n",
            " chNormalization)                                                \n",
            "                                                                 \n",
            " conv2d_23 (Conv2D)          (None, 8, 8, 512)         2359808   \n",
            "                                                                 \n",
            " activation_26 (Activation)  (None, 8, 8, 512)         0         \n",
            "                                                                 \n",
            " batch_normalization_26 (Bat  (None, 8, 8, 512)        2048      \n",
            " chNormalization)                                                \n",
            "                                                                 \n",
            " conv2d_24 (Conv2D)          (None, 8, 8, 512)         2359808   \n",
            "                                                                 \n",
            " activation_27 (Activation)  (None, 8, 8, 512)         0         \n",
            "                                                                 \n",
            " batch_normalization_27 (Bat  (None, 8, 8, 512)        2048      \n",
            " chNormalization)                                                \n",
            "                                                                 \n",
            " conv2d_25 (Conv2D)          (None, 8, 8, 512)         2359808   \n",
            "                                                                 \n",
            " activation_28 (Activation)  (None, 8, 8, 512)         0         \n",
            "                                                                 \n",
            " max_pooling2d_9 (MaxPooling  (None, 4, 4, 512)        0         \n",
            " 2D)                                                             \n",
            "                                                                 \n",
            " batch_normalization_28 (Bat  (None, 4, 4, 512)        2048      \n",
            " chNormalization)                                                \n",
            "                                                                 \n",
            " flatten_1 (Flatten)         (None, 8192)              0         \n",
            "                                                                 \n",
            " dense_4 (Dense)             (None, 4096)              33558528  \n"
          ]
        },
        {
          "output_type": "stream",
          "name": "stderr",
          "text": [
            "/usr/local/lib/python3.7/dist-packages/keras/optimizer_v2/rmsprop.py:130: UserWarning: The `lr` argument is deprecated, use `learning_rate` instead.\n",
            "  super(RMSprop, self).__init__(name, **kwargs)\n"
          ]
        },
        {
          "output_type": "stream",
          "name": "stdout",
          "text": [
            "                                                                 \n",
            " activation_29 (Activation)  (None, 4096)              0         \n",
            "                                                                 \n",
            " batch_normalization_29 (Bat  (None, 4096)             16384     \n",
            " chNormalization)                                                \n",
            "                                                                 \n",
            " dropout_3 (Dropout)         (None, 4096)              0         \n",
            "                                                                 \n",
            " dense_5 (Dense)             (None, 4096)              16781312  \n",
            "                                                                 \n",
            " activation_30 (Activation)  (None, 4096)              0         \n",
            "                                                                 \n",
            " batch_normalization_30 (Bat  (None, 4096)             16384     \n",
            " chNormalization)                                                \n",
            "                                                                 \n",
            " dropout_4 (Dropout)         (None, 4096)              0         \n",
            "                                                                 \n",
            " dense_6 (Dense)             (None, 1000)              4097000   \n",
            "                                                                 \n",
            " activation_31 (Activation)  (None, 1000)              0         \n",
            "                                                                 \n",
            " batch_normalization_31 (Bat  (None, 1000)             4000      \n",
            " chNormalization)                                                \n",
            "                                                                 \n",
            " dropout_5 (Dropout)         (None, 1000)              0         \n",
            "                                                                 \n",
            " dense_7 (Dense)             (None, 2)                 2002      \n",
            "                                                                 \n",
            "=================================================================\n",
            "Total params: 69,206,042\n",
            "Trainable params: 69,179,210\n",
            "Non-trainable params: 26,832\n",
            "_________________________________________________________________\n"
          ]
        }
      ]
    },
    {
      "cell_type": "code",
      "source": [
        "#training data\n",
        "H = vgg16.fit(trainX, trainY, validation_data=(testX, testY), epochs=50, batch_size=8)"
      ],
      "metadata": {
        "id": "JOp0TzHxZYLf",
        "colab": {
          "base_uri": "https://localhost:8080/"
        },
        "outputId": "1b8ec129-93a3-4817-d516-00c277720193"
      },
      "execution_count": 29,
      "outputs": [
        {
          "output_type": "stream",
          "name": "stdout",
          "text": [
            "Epoch 1/50\n",
            "140/140 [==============================] - 16s 92ms/step - loss: 1.5753 - accuracy: 0.6187 - val_loss: 395.2142 - val_accuracy: 0.5250\n",
            "Epoch 2/50\n",
            "140/140 [==============================] - 13s 94ms/step - loss: 0.8680 - accuracy: 0.6857 - val_loss: 0.7070 - val_accuracy: 0.2964\n",
            "Epoch 3/50\n",
            "140/140 [==============================] - 13s 95ms/step - loss: 0.7657 - accuracy: 0.6875 - val_loss: 1.2584 - val_accuracy: 0.5071\n",
            "Epoch 4/50\n",
            "140/140 [==============================] - 13s 95ms/step - loss: 0.7524 - accuracy: 0.6804 - val_loss: 15.0150 - val_accuracy: 0.5500\n",
            "Epoch 5/50\n",
            "140/140 [==============================] - 13s 95ms/step - loss: 0.5511 - accuracy: 0.7964 - val_loss: 2.1094 - val_accuracy: 0.7214\n",
            "Epoch 6/50\n",
            "140/140 [==============================] - 13s 91ms/step - loss: 0.6544 - accuracy: 0.7196 - val_loss: 1.7107 - val_accuracy: 0.5143\n",
            "Epoch 7/50\n",
            "140/140 [==============================] - 13s 90ms/step - loss: 0.6267 - accuracy: 0.7036 - val_loss: 2.4619 - val_accuracy: 0.5179\n",
            "Epoch 8/50\n",
            "140/140 [==============================] - 13s 95ms/step - loss: 0.3976 - accuracy: 0.8384 - val_loss: 1.7639 - val_accuracy: 0.7107\n",
            "Epoch 9/50\n",
            "140/140 [==============================] - 13s 95ms/step - loss: 0.3765 - accuracy: 0.8589 - val_loss: 0.4227 - val_accuracy: 0.8429\n",
            "Epoch 10/50\n",
            "140/140 [==============================] - 13s 90ms/step - loss: 0.3581 - accuracy: 0.8625 - val_loss: 0.3276 - val_accuracy: 0.8964\n",
            "Epoch 11/50\n",
            "140/140 [==============================] - 13s 95ms/step - loss: 0.3464 - accuracy: 0.8804 - val_loss: 0.4646 - val_accuracy: 0.8929\n",
            "Epoch 12/50\n",
            "140/140 [==============================] - 13s 95ms/step - loss: 0.3369 - accuracy: 0.8786 - val_loss: 0.3326 - val_accuracy: 0.8679\n",
            "Epoch 13/50\n",
            "140/140 [==============================] - 13s 95ms/step - loss: 0.3408 - accuracy: 0.8643 - val_loss: 0.5204 - val_accuracy: 0.8964\n",
            "Epoch 14/50\n",
            "140/140 [==============================] - 13s 90ms/step - loss: 0.3103 - accuracy: 0.8893 - val_loss: 0.5303 - val_accuracy: 0.8893\n",
            "Epoch 15/50\n",
            "140/140 [==============================] - 13s 95ms/step - loss: 0.3027 - accuracy: 0.8920 - val_loss: 0.6864 - val_accuracy: 0.8929\n",
            "Epoch 16/50\n",
            "140/140 [==============================] - 13s 95ms/step - loss: 0.3212 - accuracy: 0.8955 - val_loss: 0.2562 - val_accuracy: 0.9143\n",
            "Epoch 17/50\n",
            "140/140 [==============================] - 13s 95ms/step - loss: 0.2343 - accuracy: 0.9295 - val_loss: 0.3320 - val_accuracy: 0.9143\n",
            "Epoch 18/50\n",
            "140/140 [==============================] - 13s 90ms/step - loss: 0.2255 - accuracy: 0.9232 - val_loss: 0.3788 - val_accuracy: 0.9179\n",
            "Epoch 19/50\n",
            "140/140 [==============================] - 13s 91ms/step - loss: 0.2451 - accuracy: 0.9295 - val_loss: 0.1966 - val_accuracy: 0.9107\n",
            "Epoch 20/50\n",
            "140/140 [==============================] - 13s 91ms/step - loss: 0.2663 - accuracy: 0.9232 - val_loss: 0.8543 - val_accuracy: 0.7643\n",
            "Epoch 21/50\n",
            "140/140 [==============================] - 13s 95ms/step - loss: 0.2835 - accuracy: 0.9143 - val_loss: 0.3980 - val_accuracy: 0.9250\n",
            "Epoch 22/50\n",
            "140/140 [==============================] - 13s 95ms/step - loss: 0.2566 - accuracy: 0.9170 - val_loss: 1.2668 - val_accuracy: 0.6464\n",
            "Epoch 23/50\n",
            "140/140 [==============================] - 13s 92ms/step - loss: 0.2286 - accuracy: 0.9250 - val_loss: 0.2210 - val_accuracy: 0.9143\n",
            "Epoch 24/50\n",
            "140/140 [==============================] - 13s 92ms/step - loss: 0.2361 - accuracy: 0.9330 - val_loss: 0.2603 - val_accuracy: 0.9250\n",
            "Epoch 25/50\n",
            "140/140 [==============================] - 13s 96ms/step - loss: 0.2383 - accuracy: 0.9286 - val_loss: 0.6702 - val_accuracy: 0.7964\n",
            "Epoch 26/50\n",
            "140/140 [==============================] - 13s 96ms/step - loss: 0.2089 - accuracy: 0.9366 - val_loss: 0.2826 - val_accuracy: 0.9071\n",
            "Epoch 27/50\n",
            "140/140 [==============================] - 13s 91ms/step - loss: 0.2016 - accuracy: 0.9402 - val_loss: 0.2148 - val_accuracy: 0.9357\n",
            "Epoch 28/50\n",
            "140/140 [==============================] - 13s 91ms/step - loss: 0.1725 - accuracy: 0.9464 - val_loss: 0.7059 - val_accuracy: 0.8679\n",
            "Epoch 29/50\n",
            "140/140 [==============================] - 13s 91ms/step - loss: 0.2197 - accuracy: 0.9402 - val_loss: 0.2764 - val_accuracy: 0.9214\n",
            "Epoch 30/50\n",
            "140/140 [==============================] - 13s 92ms/step - loss: 0.1735 - accuracy: 0.9491 - val_loss: 0.1147 - val_accuracy: 0.9607\n",
            "Epoch 31/50\n",
            "140/140 [==============================] - 13s 91ms/step - loss: 0.1969 - accuracy: 0.9491 - val_loss: 0.1070 - val_accuracy: 0.9607\n",
            "Epoch 32/50\n",
            "140/140 [==============================] - 13s 96ms/step - loss: 0.1827 - accuracy: 0.9411 - val_loss: 0.1193 - val_accuracy: 0.9714\n",
            "Epoch 33/50\n",
            "140/140 [==============================] - 13s 95ms/step - loss: 0.2080 - accuracy: 0.9455 - val_loss: 0.3047 - val_accuracy: 0.8929\n",
            "Epoch 34/50\n",
            "140/140 [==============================] - 13s 95ms/step - loss: 0.1832 - accuracy: 0.9482 - val_loss: 0.2603 - val_accuracy: 0.9214\n",
            "Epoch 35/50\n",
            "140/140 [==============================] - 13s 91ms/step - loss: 0.1638 - accuracy: 0.9554 - val_loss: 0.1768 - val_accuracy: 0.9571\n",
            "Epoch 36/50\n",
            "140/140 [==============================] - 13s 96ms/step - loss: 0.1718 - accuracy: 0.9473 - val_loss: 0.3354 - val_accuracy: 0.9107\n",
            "Epoch 37/50\n",
            "140/140 [==============================] - 13s 91ms/step - loss: 0.1124 - accuracy: 0.9750 - val_loss: 0.2894 - val_accuracy: 0.9500\n",
            "Epoch 38/50\n",
            "140/140 [==============================] - 13s 91ms/step - loss: 0.1540 - accuracy: 0.9491 - val_loss: 1.0076 - val_accuracy: 0.8214\n",
            "Epoch 39/50\n",
            "140/140 [==============================] - 13s 91ms/step - loss: 0.1328 - accuracy: 0.9580 - val_loss: 0.2760 - val_accuracy: 0.9321\n",
            "Epoch 40/50\n",
            "140/140 [==============================] - 13s 90ms/step - loss: 0.1676 - accuracy: 0.9589 - val_loss: 0.2299 - val_accuracy: 0.9464\n",
            "Epoch 41/50\n",
            "140/140 [==============================] - 13s 95ms/step - loss: 0.1729 - accuracy: 0.9616 - val_loss: 0.1036 - val_accuracy: 0.9643\n",
            "Epoch 42/50\n",
            "140/140 [==============================] - 13s 95ms/step - loss: 0.1559 - accuracy: 0.9607 - val_loss: 0.2840 - val_accuracy: 0.9429\n",
            "Epoch 43/50\n",
            "140/140 [==============================] - 13s 96ms/step - loss: 0.1527 - accuracy: 0.9625 - val_loss: 0.2509 - val_accuracy: 0.9429\n",
            "Epoch 44/50\n",
            "140/140 [==============================] - 13s 92ms/step - loss: 0.1179 - accuracy: 0.9661 - val_loss: 0.1512 - val_accuracy: 0.9464\n",
            "Epoch 45/50\n",
            "140/140 [==============================] - 13s 91ms/step - loss: 0.1407 - accuracy: 0.9661 - val_loss: 0.3226 - val_accuracy: 0.8893\n",
            "Epoch 46/50\n",
            "140/140 [==============================] - 13s 91ms/step - loss: 0.1418 - accuracy: 0.9661 - val_loss: 0.2190 - val_accuracy: 0.9607\n",
            "Epoch 47/50\n",
            "140/140 [==============================] - 13s 91ms/step - loss: 0.1593 - accuracy: 0.9696 - val_loss: 0.2215 - val_accuracy: 0.9429\n",
            "Epoch 48/50\n",
            "140/140 [==============================] - 13s 95ms/step - loss: 0.1599 - accuracy: 0.9634 - val_loss: 0.3823 - val_accuracy: 0.9107\n",
            "Epoch 49/50\n",
            "140/140 [==============================] - 13s 96ms/step - loss: 0.1254 - accuracy: 0.9652 - val_loss: 0.2281 - val_accuracy: 0.9429\n",
            "Epoch 50/50\n",
            "140/140 [==============================] - 13s 96ms/step - loss: 0.1980 - accuracy: 0.9438 - val_loss: 0.1772 - val_accuracy: 0.9393\n"
          ]
        }
      ]
    },
    {
      "cell_type": "code",
      "source": [
        "print(\"[INFO] evaluating network...\")\n",
        "predictions = vgg16.predict(testX, batch_size=8)\n",
        "pred=predictions.argmax(axis=1)\n",
        "testY_argm=testY.argmax(axis=1)\n"
      ],
      "metadata": {
        "id": "qjoEfHoWsr9H",
        "colab": {
          "base_uri": "https://localhost:8080/"
        },
        "outputId": "de1437b2-ba80-414c-ed21-87f50001fe16"
      },
      "execution_count": 30,
      "outputs": [
        {
          "output_type": "stream",
          "name": "stdout",
          "text": [
            "[INFO] evaluating network...\n"
          ]
        }
      ]
    },
    {
      "cell_type": "code",
      "source": [
        "print(classification_report(testY_argm,pred,target_names=lb.classes_))"
      ],
      "metadata": {
        "id": "Po9wqNIMts7s",
        "colab": {
          "base_uri": "https://localhost:8080/"
        },
        "outputId": "763e4994-9e1f-4f23-fc13-1bb07cf0af8c"
      },
      "execution_count": 31,
      "outputs": [
        {
          "output_type": "stream",
          "name": "stdout",
          "text": [
            "              precision    recall  f1-score   support\n",
            "\n",
            "      Normal       0.92      0.97      0.94       147\n",
            "Tuberculosis       0.97      0.90      0.93       133\n",
            "\n",
            "    accuracy                           0.94       280\n",
            "   macro avg       0.94      0.94      0.94       280\n",
            "weighted avg       0.94      0.94      0.94       280\n",
            "\n"
          ]
        }
      ]
    },
    {
      "cell_type": "code",
      "source": [
        "test_score = vgg16.evaluate(testX, testY) \n",
        "print(\"Test Loss {:.4f}, accuracy {:.2f}%\".format(test_score[0], test_score[1] * 100))"
      ],
      "metadata": {
        "id": "5NSJXylrt1ND",
        "colab": {
          "base_uri": "https://localhost:8080/"
        },
        "outputId": "7ea54089-b1b6-4a85-81d3-a2fd488a302f"
      },
      "execution_count": 32,
      "outputs": [
        {
          "output_type": "stream",
          "name": "stdout",
          "text": [
            "9/9 [==============================] - 5s 286ms/step - loss: 0.1772 - accuracy: 0.9393\n",
            "Test Loss 0.1772, accuracy 93.93%\n"
          ]
        }
      ]
    },
    {
      "cell_type": "code",
      "source": [
        "from sklearn.metrics import confusion_matrix\n",
        "import itertools\n",
        "\n",
        "def plot_confusion_matrix(cm, classes, normalize=False, title='Confusion matrix', cmap='Blues'):\n",
        "  if normalize:\n",
        "     cm = cm.astype('float') / cm.sum(axis=1)[:, np.newaxis]\n",
        "     print(\"Normalized confusion matrix\")\n",
        "  else:\n",
        "     print('Confusion matrix, without normalization')\n",
        "  print(cm)\n",
        "  plt.imshow(cm, interpolation='nearest', cmap=cmap)\n",
        "  plt.title(title)\n",
        "  plt.colorbar()\n",
        "  tick_marks = np.arange(len(classes))\n",
        "  plt.xticks(tick_marks, classes, rotation=45)\n",
        "  plt.yticks(tick_marks, classes)\n",
        "  fmt = '.2f' if normalize else 'd'\n",
        "  thresh = cm.max() / 2.\n",
        "  for i, j in itertools.product(range(cm.shape[0]), range(cm.shape[1])):\n",
        "      plt.text(j, i, format(cm[i, j], fmt), horizontalalignment=\"center\", color=\"white\" if cm[i, j] > thresh else \"black\")\n",
        "  plt.ylabel('True label')\n",
        "  plt.xlabel('Predicted label')\n",
        "  plt.tight_layout()"
      ],
      "metadata": {
        "id": "ZS-FXHa6uI6H"
      },
      "execution_count": 33,
      "outputs": []
    },
    {
      "cell_type": "code",
      "source": [
        "cnf_matrix = confusion_matrix(testY_argm, pred)\n",
        "np.set_printoptions(precision=2)\n",
        "\n",
        "# Plot non/normalized confusion matrix\n",
        "plt.figure()\n",
        "plot_confusion_matrix(cnf_matrix,\n",
        "classes=lb.classes_, normalize=True)\n",
        "plt.show()\n",
        "\n",
        "plt.figure()\n",
        "plot_confusion_matrix(cnf_matrix,\n",
        "classes=lb.classes_, normalize=False)\n",
        "plt.show()\n",
        "\n",
        "f, ax = plt.subplots()\n",
        "ax.plot([None] + H.history['accuracy'], 'o-')\n",
        "ax.plot([None] + H.history['val_accuracy'], 'x-')\n",
        "\n",
        "ax.legend(['Train acc', 'Validation acc'], loc = 0)\n",
        "ax.set_title('Training/Validation acc per Epoch')\n",
        "ax.set_xlabel('Epoch')\n",
        "ax.set_ylabel('acc')\n",
        "plt.grid(True)\n",
        "\n",
        "f, ax = plt.subplots()\n",
        "ax.plot([None] + H.history['loss'], 'o-')\n",
        "ax.plot([None] + H.history['val_loss'], 'x-')\n",
        "ax.legend(['Train Loss', 'Validation Loss'], loc = 0)\n",
        "ax.set_title('Training/Validation Loss per Epoch')\n",
        "ax.set_xlabel('Epoch')\n",
        "ax.set_ylabel('loss')\n",
        "plt.grid(True)"
      ],
      "metadata": {
        "id": "eiYstz9xuRLx",
        "colab": {
          "base_uri": "https://localhost:8080/",
          "height": 1000
        },
        "outputId": "6bfd50ac-29e6-4544-c1b4-20e209c41ade"
      },
      "execution_count": 34,
      "outputs": [
        {
          "output_type": "stream",
          "name": "stdout",
          "text": [
            "Normalized confusion matrix\n",
            "[[0.97 0.03]\n",
            " [0.1  0.9 ]]\n"
          ]
        },
        {
          "output_type": "display_data",
          "data": {
            "text/plain": [
              "<Figure size 432x288 with 2 Axes>"
            ],
            "image/png": "[encoded data removed]"
          },
          "metadata": {
            "needs_background": "light"
          }
        },
        {
          "output_type": "stream",
          "name": "stdout",
          "text": [
            "Confusion matrix, without normalization\n",
            "[[143   4]\n",
            " [ 13 120]]\n"
          ]
        },
        {
          "output_type": "display_data",
          "data": {
            "text/plain": [
              "<Figure size 432x288 with 2 Axes>"
            ],
            "image/png": "[encoded data removed]"
          },
          "metadata": {
            "needs_background": "light"
          }
        },
        {
          "output_type": "display_data",
          "data": {
            "text/plain": [
              "<Figure size 432x288 with 1 Axes>"
            ],
            "image/png": "[encoded data removed]"
          },
          "metadata": {
            "needs_background": "light"
          }
        },
        {
          "output_type": "display_data",
          "data": {
            "text/plain": [
              "<Figure size 432x288 with 1 Axes>"
            ],
            "image/png": "[encoded data removed]"
          },
          "metadata": {
            "needs_background": "light"
          }
        }
      ]
    }
  ]
}