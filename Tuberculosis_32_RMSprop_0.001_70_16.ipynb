{
  "nbformat": 4,
  "nbformat_minor": 0,
  "metadata": {
    "colab": {
      "name": "Tuberculosis_VGG-16.ipynb",
      "provenance": [],
      "collapsed_sections": [],
      "include_colab_link": true
    },
    "kernelspec": {
      "name": "python3",
      "display_name": "Python 3"
    },
    "language_info": {
      "name": "python"
    },
    "accelerator": "GPU",
    "gpuClass": "standard"
  },
  "cells": [
    {
      "cell_type": "markdown",
      "metadata": {
        "id": "view-in-github",
        "colab_type": "text"
      },
      "source": [
        "<a href=\"https://colab.research.google.com/github/taniaalwi99/Skripsi-Tuberculosis/blob/main/Tuberculosis_32_RMSprop_0.001_70_16.ipynb\" target=\"_parent\"><img src=\"https://colab.research.google.com/assets/colab-badge.svg\" alt=\"Open In Colab\"/></a>"
      ]
    },
    {
      "cell_type": "code",
      "execution_count": 18,
      "metadata": {
        "colab": {
          "base_uri": "https://localhost:8080/"
        },
        "id": "2_RYo7hrXaC5",
        "outputId": "3eb6cdc8-85b7-4482-bdfd-d453639c83fd"
      },
      "outputs": [
        {
          "output_type": "stream",
          "name": "stdout",
          "text": [
            "Drive already mounted at /content/drive; to attempt to forcibly remount, call drive.mount(\"/content/drive\", force_remount=True).\n"
          ]
        }
      ],
      "source": [
        "from google.colab import drive\n",
        "drive.mount('/content/drive')"
      ]
    },
    {
      "cell_type": "code",
      "source": [
        "cd /content/drive/My Drive"
      ],
      "metadata": {
        "colab": {
          "base_uri": "https://localhost:8080/"
        },
        "id": "G4aisxOFX3KH",
        "outputId": "4a2c594e-dd13-4b66-ee3f-399f44d951c0"
      },
      "execution_count": 19,
      "outputs": [
        {
          "output_type": "stream",
          "name": "stdout",
          "text": [
            "/content/drive/My Drive\n"
          ]
        }
      ]
    },
    {
      "cell_type": "code",
      "source": [
        "ls"
      ],
      "metadata": {
        "colab": {
          "base_uri": "https://localhost:8080/"
        },
        "id": "e_oGUrADX8O_",
        "outputId": "2b8f6f96-99e4-4358-ed3c-f2e6c707a6b9"
      },
      "execution_count": 20,
      "outputs": [
        {
          "output_type": "stream",
          "name": "stdout",
          "text": [
            "\u001b[0m\u001b[01;34m'Colab Notebooks'\u001b[0m/  \u001b[01;34m'Dataset Gray'\u001b[0m/  \u001b[01;34m'Tania Alwi'\u001b[0m/\n"
          ]
        }
      ]
    },
    {
      "cell_type": "code",
      "source": [
        "from keras.models import Model\n",
        "from keras.models import load_model\n",
        "from keras.models import Sequential\n",
        "from keras.layers.convolutional import Convolution2D\n",
        "from keras.layers.convolutional import MaxPooling2D\n",
        "from keras.layers.convolutional import ZeroPadding2D\n",
        "from keras.layers.core import Activation\n",
        "from keras.layers.core import Flatten\n",
        "from keras.layers.core import Dense\n",
        "from keras.layers.core import Dropout\n",
        "from keras.layers import BatchNormalization\n",
        "from keras import regularizers\n",
        "from keras.preprocessing.image import ImageDataGenerator\n",
        "from tensorflow.keras.optimizers import RMSprop, Adam, SGD\n",
        "from sklearn.preprocessing import LabelBinarizer\n",
        "from sklearn.model_selection import train_test_split\n",
        "from sklearn.metrics import classification_report\n",
        "from PIL import Image\n",
        "from matplotlib import pyplot as plt\n",
        "from imutils import paths\n",
        "import numpy as np\n",
        "import os"
      ],
      "metadata": {
        "id": "t95OxlI7X_OF"
      },
      "execution_count": 21,
      "outputs": []
    },
    {
      "cell_type": "code",
      "source": [
        "print(\"[INFO] loading images...\")\n",
        "imagePaths = paths.list_images(\"Dataset Gray\")\n",
        "data = []\n",
        "labels = []"
      ],
      "metadata": {
        "colab": {
          "base_uri": "https://localhost:8080/"
        },
        "id": "jvn693i-YDZ8",
        "outputId": "78c78982-fcff-4d82-f54e-2d156cc1f0b0"
      },
      "execution_count": 22,
      "outputs": [
        {
          "output_type": "stream",
          "name": "stdout",
          "text": [
            "[INFO] loading images...\n"
          ]
        }
      ]
    },
    {
      "cell_type": "code",
      "source": [
        "for imagePaths in imagePaths:\n",
        "    a = Image.open(imagePaths)\n",
        "    image = np.array(a.resize((32,32))) / 255.0\n",
        "    data.append(image)\n",
        "    \n",
        "    label = imagePaths.split(os.path.sep) [-2]\n",
        "    labels.append(label)"
      ],
      "metadata": {
        "id": "3XLuWAZsYLfK"
      },
      "execution_count": 23,
      "outputs": []
    },
    {
      "cell_type": "code",
      "source": [
        "from sklearn.preprocessing import LabelBinarizer\n",
        "import numpy as np\n",
        "\n",
        "class MyLabelBinarizer(LabelBinarizer):\n",
        "    def transform(self, label):\n",
        "      nilaiy = super().transform(label)\n",
        "      if self.y_type_== 'binary':\n",
        "        return np.hstack((nilaiy, 1-nilaiy))\n",
        "      else:\n",
        "        return nilaiy\n",
        "    def inverse_transform(self, nilaiy, threshold=None):\n",
        "      if self.y_type_ == 'binary':\n",
        "          return super().inverse_transform(nilaiy[:, 0], threshold)\n",
        "      else:\n",
        "          return super().inverse_transform(nilaiy, threshold)\n",
        "\n",
        "      \n",
        "\n",
        "lb = MyLabelBinarizer()\n",
        "labels = lb.fit_transform(labels)\n",
        "print(labels)"
      ],
      "metadata": {
        "colab": {
          "base_uri": "https://localhost:8080/"
        },
        "id": "gnjyPDi_Yyrn",
        "outputId": "180046c9-8e04-4a30-bebc-49fe88777039"
      },
      "execution_count": 24,
      "outputs": [
        {
          "output_type": "stream",
          "name": "stdout",
          "text": [
            "[[0 1]\n",
            " [0 1]\n",
            " [0 1]\n",
            " ...\n",
            " [1 0]\n",
            " [1 0]\n",
            " [1 0]]\n"
          ]
        }
      ]
    },
    {
      "cell_type": "code",
      "source": [
        "(trainX,testX, trainY, testY) = train_test_split(np.array(data),np.array(labels), test_size=0.20)\n",
        "print(trainX.shape)\n",
        "print(testX.shape)"
      ],
      "metadata": {
        "colab": {
          "base_uri": "https://localhost:8080/"
        },
        "id": "0V3CnlQtY1g2",
        "outputId": "6dffd41f-a35b-4dd5-e56c-3279b31d44bc"
      },
      "execution_count": 25,
      "outputs": [
        {
          "output_type": "stream",
          "name": "stdout",
          "text": [
            "(1120, 32, 32)\n",
            "(280, 32, 32)\n"
          ]
        }
      ]
    },
    {
      "cell_type": "code",
      "source": [
        "def vgg16(num_classes):\n",
        "\n",
        "    vgg16 = Sequential()\n",
        "\n",
        "    vgg16.add(Convolution2D(input_shape=(32,32,1),filters=64,kernel_size=(3,3),padding=\"same\"))\n",
        "    vgg16.add(Activation('relu'))\n",
        "    vgg16.add(BatchNormalization())\n",
        "    #layer1 32*32*64\n",
        "    vgg16.add(Convolution2D(filters=64,kernel_size=(3,3),padding=\"same\"))\n",
        "    vgg16.add(Activation('relu'))\n",
        "    vgg16.add(MaxPooling2D(pool_size=(2, 2),strides=(2,2)))\n",
        "    vgg16.add(BatchNormalization())\n",
        "    #layer2 16*16*64\n",
        "    vgg16.add(Convolution2D(filters=128, kernel_size=(3,3), padding=\"same\"))\n",
        "    vgg16.add(Activation('relu'))\n",
        "    vgg16.add(BatchNormalization())\n",
        "    #layer3 16*16*128\n",
        "    vgg16.add(Convolution2D(filters=128, kernel_size=(3,3), padding=\"same\",))\n",
        "    vgg16.add(Activation('relu'))\n",
        "    vgg16.add(MaxPooling2D(pool_size=(2,2),strides=(2,2)))\n",
        "    vgg16.add(BatchNormalization())\n",
        "    #layer4 8*8*128\n",
        "    vgg16.add(Convolution2D(filters=256, kernel_size=(3,3), padding=\"same\"))\n",
        "    vgg16.add(Activation('relu'))\n",
        "    vgg16.add(BatchNormalization())\n",
        "    #layer5 8*8*256\n",
        "    vgg16.add(Convolution2D(filters=256, kernel_size=(3,3), padding=\"same\"))\n",
        "    vgg16.add(Activation('relu'))\n",
        "    vgg16.add(BatchNormalization())\n",
        "    #layer6 8*8*256\n",
        "    vgg16.add(Convolution2D(filters=256, kernel_size=(3,3), padding=\"same\"))\n",
        "    vgg16.add(Activation('relu'))\n",
        "    vgg16.add(MaxPooling2D(pool_size=(2,2),strides=(2,2)))\n",
        "    vgg16.add(BatchNormalization())\n",
        "    #layer7 4*4*256\n",
        "    vgg16.add(Convolution2D(filters=512, kernel_size=(3,3), padding=\"same\"))\n",
        "    vgg16.add(Activation('relu'))\n",
        "    vgg16.add(BatchNormalization())\n",
        "    #layer8 4*4*512\n",
        "    vgg16.add(Convolution2D(filters=512, kernel_size=(3,3), padding=\"same\"))\n",
        "    vgg16.add(Activation('relu'))\n",
        "    vgg16.add(BatchNormalization())\n",
        "    #layer9 4*4*512\n",
        "    vgg16.add(Convolution2D(filters=512, kernel_size=(3,3), padding=\"same\"))\n",
        "    vgg16.add(Activation('relu'))\n",
        "    vgg16.add(MaxPooling2D(pool_size=(2,2),strides=(2,2)))\n",
        "    vgg16.add(BatchNormalization())\n",
        "    #layer10 2*2*512\n",
        "    vgg16.add(Convolution2D(filters=512, kernel_size=(3,3), padding=\"same\"))\n",
        "    vgg16.add(Activation('relu'))\n",
        "    vgg16.add(BatchNormalization())\n",
        "    #layer11 2*2*512\n",
        "    vgg16.add(Convolution2D(filters=512, kernel_size=(3,3), padding=\"same\"))  \n",
        "    vgg16.add(Activation('relu')) \n",
        "    vgg16.add(BatchNormalization())       \n",
        "    #layer12 2*2*512\n",
        "    vgg16.add(Convolution2D(filters=512, kernel_size=(3,3), padding=\"same\"))\n",
        "    vgg16.add(Activation('relu'))\n",
        "    vgg16.add(MaxPooling2D(pool_size=(2,2),strides=(2,2)))\n",
        "    vgg16.add(BatchNormalization())\n",
        "    #layer13 1*1*512\n",
        "    vgg16.add(Flatten())\n",
        "    vgg16.add(Dense(units=4096))\n",
        "    vgg16.add(Activation('relu')) \n",
        "    vgg16.add(BatchNormalization())\n",
        "    vgg16.add(Dropout(0.5))\n",
        "    #layer14 4096\n",
        "    vgg16.add(Dense(units=4096))\n",
        "    vgg16.add(Activation('relu')) \n",
        "    vgg16.add(BatchNormalization())\n",
        "    vgg16.add(Dropout(0.5))\n",
        "    #layer16 4096\n",
        "    vgg16.add(Dense(units=1000))\n",
        "    vgg16.add(Activation('relu'))\n",
        "    vgg16.add(BatchNormalization())\n",
        "    vgg16.add(Dropout(0.5)) \n",
        "    #layer16 1000\n",
        "    vgg16.add(Dense(2, activation=\"sigmoid\"))\n",
        "\n",
        "    return vgg16"
      ],
      "metadata": {
        "id": "WpeYjXzUZCZP"
      },
      "execution_count": 26,
      "outputs": []
    },
    {
      "cell_type": "code",
      "source": [
        "num_classes=2\n",
        "vgg16=vgg16(num_classes)\n",
        "vgg16.summary()"
      ],
      "metadata": {
        "colab": {
          "base_uri": "https://localhost:8080/"
        },
        "id": "rlT3OhVuZLUs",
        "outputId": "bc28972b-b08c-449c-eff7-6468114c4d8c"
      },
      "execution_count": 27,
      "outputs": [
        {
          "output_type": "stream",
          "name": "stdout",
          "text": [
            "Model: \"sequential_1\"\n",
            "_________________________________________________________________\n",
            " Layer (type)                Output Shape              Param #   \n",
            "=================================================================\n",
            " conv2d_13 (Conv2D)          (None, 32, 32, 64)        640       \n",
            "                                                                 \n",
            " activation_16 (Activation)  (None, 32, 32, 64)        0         \n",
            "                                                                 \n",
            " batch_normalization_16 (Bat  (None, 32, 32, 64)       256       \n",
            " chNormalization)                                                \n",
            "                                                                 \n",
            " conv2d_14 (Conv2D)          (None, 32, 32, 64)        36928     \n",
            "                                                                 \n",
            " activation_17 (Activation)  (None, 32, 32, 64)        0         \n",
            "                                                                 \n",
            " max_pooling2d_5 (MaxPooling  (None, 16, 16, 64)       0         \n",
            " 2D)                                                             \n",
            "                                                                 \n",
            " batch_normalization_17 (Bat  (None, 16, 16, 64)       256       \n",
            " chNormalization)                                                \n",
            "                                                                 \n",
            " conv2d_15 (Conv2D)          (None, 16, 16, 128)       73856     \n",
            "                                                                 \n",
            " activation_18 (Activation)  (None, 16, 16, 128)       0         \n",
            "                                                                 \n",
            " batch_normalization_18 (Bat  (None, 16, 16, 128)      512       \n",
            " chNormalization)                                                \n",
            "                                                                 \n",
            " conv2d_16 (Conv2D)          (None, 16, 16, 128)       147584    \n",
            "                                                                 \n",
            " activation_19 (Activation)  (None, 16, 16, 128)       0         \n",
            "                                                                 \n",
            " max_pooling2d_6 (MaxPooling  (None, 8, 8, 128)        0         \n",
            " 2D)                                                             \n",
            "                                                                 \n",
            " batch_normalization_19 (Bat  (None, 8, 8, 128)        512       \n",
            " chNormalization)                                                \n",
            "                                                                 \n",
            " conv2d_17 (Conv2D)          (None, 8, 8, 256)         295168    \n",
            "                                                                 \n",
            " activation_20 (Activation)  (None, 8, 8, 256)         0         \n",
            "                                                                 \n",
            " batch_normalization_20 (Bat  (None, 8, 8, 256)        1024      \n",
            " chNormalization)                                                \n",
            "                                                                 \n",
            " conv2d_18 (Conv2D)          (None, 8, 8, 256)         590080    \n",
            "                                                                 \n",
            " activation_21 (Activation)  (None, 8, 8, 256)         0         \n",
            "                                                                 \n",
            " batch_normalization_21 (Bat  (None, 8, 8, 256)        1024      \n",
            " chNormalization)                                                \n",
            "                                                                 \n",
            " conv2d_19 (Conv2D)          (None, 8, 8, 256)         590080    \n",
            "                                                                 \n",
            " activation_22 (Activation)  (None, 8, 8, 256)         0         \n",
            "                                                                 \n",
            " max_pooling2d_7 (MaxPooling  (None, 4, 4, 256)        0         \n",
            " 2D)                                                             \n",
            "                                                                 \n",
            " batch_normalization_22 (Bat  (None, 4, 4, 256)        1024      \n",
            " chNormalization)                                                \n",
            "                                                                 \n",
            " conv2d_20 (Conv2D)          (None, 4, 4, 512)         1180160   \n",
            "                                                                 \n",
            " activation_23 (Activation)  (None, 4, 4, 512)         0         \n",
            "                                                                 \n",
            " batch_normalization_23 (Bat  (None, 4, 4, 512)        2048      \n",
            " chNormalization)                                                \n",
            "                                                                 \n",
            " conv2d_21 (Conv2D)          (None, 4, 4, 512)         2359808   \n",
            "                                                                 \n",
            " activation_24 (Activation)  (None, 4, 4, 512)         0         \n",
            "                                                                 \n",
            " batch_normalization_24 (Bat  (None, 4, 4, 512)        2048      \n",
            " chNormalization)                                                \n",
            "                                                                 \n",
            " conv2d_22 (Conv2D)          (None, 4, 4, 512)         2359808   \n",
            "                                                                 \n",
            " activation_25 (Activation)  (None, 4, 4, 512)         0         \n",
            "                                                                 \n",
            " max_pooling2d_8 (MaxPooling  (None, 2, 2, 512)        0         \n",
            " 2D)                                                             \n",
            "                                                                 \n",
            " batch_normalization_25 (Bat  (None, 2, 2, 512)        2048      \n",
            " chNormalization)                                                \n",
            "                                                                 \n",
            " conv2d_23 (Conv2D)          (None, 2, 2, 512)         2359808   \n",
            "                                                                 \n",
            " activation_26 (Activation)  (None, 2, 2, 512)         0         \n",
            "                                                                 \n",
            " batch_normalization_26 (Bat  (None, 2, 2, 512)        2048      \n",
            " chNormalization)                                                \n",
            "                                                                 \n",
            " conv2d_24 (Conv2D)          (None, 2, 2, 512)         2359808   \n",
            "                                                                 \n",
            " activation_27 (Activation)  (None, 2, 2, 512)         0         \n",
            "                                                                 \n",
            " batch_normalization_27 (Bat  (None, 2, 2, 512)        2048      \n",
            " chNormalization)                                                \n",
            "                                                                 \n",
            " conv2d_25 (Conv2D)          (None, 2, 2, 512)         2359808   \n",
            "                                                                 \n",
            " activation_28 (Activation)  (None, 2, 2, 512)         0         \n",
            "                                                                 \n",
            " max_pooling2d_9 (MaxPooling  (None, 1, 1, 512)        0         \n",
            " 2D)                                                             \n",
            "                                                                 \n",
            " batch_normalization_28 (Bat  (None, 1, 1, 512)        2048      \n",
            " chNormalization)                                                \n",
            "                                                                 \n",
            " flatten_1 (Flatten)         (None, 512)               0         \n",
            "                                                                 \n",
            " dense_4 (Dense)             (None, 4096)              2101248   \n",
            "                                                                 \n",
            " activation_29 (Activation)  (None, 4096)              0         \n",
            "                                                                 \n",
            " batch_normalization_29 (Bat  (None, 4096)             16384     \n",
            " chNormalization)                                                \n",
            "                                                                 \n",
            " dropout_3 (Dropout)         (None, 4096)              0         \n",
            "                                                                 \n",
            " dense_5 (Dense)             (None, 4096)              16781312  \n",
            "                                                                 \n",
            " activation_30 (Activation)  (None, 4096)              0         \n",
            "                                                                 \n",
            " batch_normalization_30 (Bat  (None, 4096)             16384     \n",
            " chNormalization)                                                \n",
            "                                                                 \n",
            " dropout_4 (Dropout)         (None, 4096)              0         \n",
            "                                                                 \n",
            " dense_6 (Dense)             (None, 1000)              4097000   \n",
            "                                                                 \n",
            " activation_31 (Activation)  (None, 1000)              0         \n",
            "                                                                 \n",
            " batch_normalization_31 (Bat  (None, 1000)             4000      \n",
            " chNormalization)                                                \n",
            "                                                                 \n",
            " dropout_5 (Dropout)         (None, 1000)              0         \n",
            "                                                                 \n",
            " dense_7 (Dense)             (None, 2)                 2002      \n",
            "                                                                 \n",
            "=================================================================\n",
            "Total params: 37,748,762\n",
            "Trainable params: 37,721,930\n",
            "Non-trainable params: 26,832\n",
            "_________________________________________________________________\n"
          ]
        }
      ]
    },
    {
      "cell_type": "code",
      "source": [
        "#setting hyperparameter, menggunakan Adam\n",
        "opt = RMSprop(lr=0.001)\n",
        "vgg16.compile(loss='binary_crossentropy', optimizer=opt, metrics=['accuracy'])\n",
        "vgg16.summary()"
      ],
      "metadata": {
        "colab": {
          "base_uri": "https://localhost:8080/"
        },
        "id": "eZ0TePWVZTx4",
        "outputId": "60686c0a-0194-4063-9d09-a110ef05edea"
      },
      "execution_count": 28,
      "outputs": [
        {
          "output_type": "stream",
          "name": "stdout",
          "text": [
            "Model: \"sequential_1\"\n",
            "_________________________________________________________________\n",
            " Layer (type)                Output Shape              Param #   \n",
            "=================================================================\n",
            " conv2d_13 (Conv2D)          (None, 32, 32, 64)        640       \n",
            "                                                                 \n",
            " activation_16 (Activation)  (None, 32, 32, 64)        0         \n",
            "                                                                 \n",
            " batch_normalization_16 (Bat  (None, 32, 32, 64)       256       \n",
            " chNormalization)                                                \n",
            "                                                                 \n",
            " conv2d_14 (Conv2D)          (None, 32, 32, 64)        36928     \n",
            "                                                                 \n",
            " activation_17 (Activation)  (None, 32, 32, 64)        0         \n",
            "                                                                 \n",
            " max_pooling2d_5 (MaxPooling  (None, 16, 16, 64)       0         \n",
            " 2D)                                                             \n",
            "                                                                 \n",
            " batch_normalization_17 (Bat  (None, 16, 16, 64)       256       \n",
            " chNormalization)                                                \n",
            "                                                                 \n",
            " conv2d_15 (Conv2D)          (None, 16, 16, 128)       73856     \n",
            "                                                                 \n",
            " activation_18 (Activation)  (None, 16, 16, 128)       0         \n",
            "                                                                 \n",
            " batch_normalization_18 (Bat  (None, 16, 16, 128)      512       \n",
            " chNormalization)                                                \n",
            "                                                                 \n",
            " conv2d_16 (Conv2D)          (None, 16, 16, 128)       147584    \n",
            "                                                                 \n",
            " activation_19 (Activation)  (None, 16, 16, 128)       0         \n",
            "                                                                 \n",
            " max_pooling2d_6 (MaxPooling  (None, 8, 8, 128)        0         \n",
            " 2D)                                                             \n",
            "                                                                 \n",
            " batch_normalization_19 (Bat  (None, 8, 8, 128)        512       \n",
            " chNormalization)                                                \n",
            "                                                                 \n",
            " conv2d_17 (Conv2D)          (None, 8, 8, 256)         295168    \n",
            "                                                                 \n",
            " activation_20 (Activation)  (None, 8, 8, 256)         0         \n",
            "                                                                 \n",
            " batch_normalization_20 (Bat  (None, 8, 8, 256)        1024      \n",
            " chNormalization)                                                \n",
            "                                                                 \n",
            " conv2d_18 (Conv2D)          (None, 8, 8, 256)         590080    \n",
            "                                                                 \n",
            " activation_21 (Activation)  (None, 8, 8, 256)         0         \n",
            "                                                                 \n",
            " batch_normalization_21 (Bat  (None, 8, 8, 256)        1024      \n",
            " chNormalization)                                                \n",
            "                                                                 \n",
            " conv2d_19 (Conv2D)          (None, 8, 8, 256)         590080    \n",
            "                                                                 \n",
            " activation_22 (Activation)  (None, 8, 8, 256)         0         \n",
            "                                                                 \n",
            " max_pooling2d_7 (MaxPooling  (None, 4, 4, 256)        0         \n",
            " 2D)                                                             \n",
            "                                                                 \n",
            " batch_normalization_22 (Bat  (None, 4, 4, 256)        1024      \n",
            " chNormalization)                                                \n",
            "                                                                 \n",
            " conv2d_20 (Conv2D)          (None, 4, 4, 512)         1180160   \n",
            "                                                                 \n",
            " activation_23 (Activation)  (None, 4, 4, 512)         0         \n",
            "                                                                 \n",
            " batch_normalization_23 (Bat  (None, 4, 4, 512)        2048      \n",
            " chNormalization)                                                \n",
            "                                                                 \n",
            " conv2d_21 (Conv2D)          (None, 4, 4, 512)         2359808   \n",
            "                                                                 \n",
            " activation_24 (Activation)  (None, 4, 4, 512)         0         \n",
            "                                                                 \n",
            " batch_normalization_24 (Bat  (None, 4, 4, 512)        2048      \n",
            " chNormalization)                                                \n",
            "                                                                 \n",
            " conv2d_22 (Conv2D)          (None, 4, 4, 512)         2359808   \n",
            "                                                                 \n",
            " activation_25 (Activation)  (None, 4, 4, 512)         0         \n",
            "                                                                 \n",
            " max_pooling2d_8 (MaxPooling  (None, 2, 2, 512)        0         \n",
            " 2D)                                                             \n",
            "                                                                 \n",
            " batch_normalization_25 (Bat  (None, 2, 2, 512)        2048      \n",
            " chNormalization)                                                \n",
            "                                                                 \n",
            " conv2d_23 (Conv2D)          (None, 2, 2, 512)         2359808   \n",
            "                                                                 \n",
            " activation_26 (Activation)  (None, 2, 2, 512)         0         \n",
            "                                                                 \n",
            " batch_normalization_26 (Bat  (None, 2, 2, 512)        2048      \n"
          ]
        },
        {
          "output_type": "stream",
          "name": "stderr",
          "text": [
            "/usr/local/lib/python3.7/dist-packages/keras/optimizer_v2/rmsprop.py:130: UserWarning: The `lr` argument is deprecated, use `learning_rate` instead.\n",
            "  super(RMSprop, self).__init__(name, **kwargs)\n"
          ]
        },
        {
          "output_type": "stream",
          "name": "stdout",
          "text": [
            " chNormalization)                                                \n",
            "                                                                 \n",
            " conv2d_24 (Conv2D)          (None, 2, 2, 512)         2359808   \n",
            "                                                                 \n",
            " activation_27 (Activation)  (None, 2, 2, 512)         0         \n",
            "                                                                 \n",
            " batch_normalization_27 (Bat  (None, 2, 2, 512)        2048      \n",
            " chNormalization)                                                \n",
            "                                                                 \n",
            " conv2d_25 (Conv2D)          (None, 2, 2, 512)         2359808   \n",
            "                                                                 \n",
            " activation_28 (Activation)  (None, 2, 2, 512)         0         \n",
            "                                                                 \n",
            " max_pooling2d_9 (MaxPooling  (None, 1, 1, 512)        0         \n",
            " 2D)                                                             \n",
            "                                                                 \n",
            " batch_normalization_28 (Bat  (None, 1, 1, 512)        2048      \n",
            " chNormalization)                                                \n",
            "                                                                 \n",
            " flatten_1 (Flatten)         (None, 512)               0         \n",
            "                                                                 \n",
            " dense_4 (Dense)             (None, 4096)              2101248   \n",
            "                                                                 \n",
            " activation_29 (Activation)  (None, 4096)              0         \n",
            "                                                                 \n",
            " batch_normalization_29 (Bat  (None, 4096)             16384     \n",
            " chNormalization)                                                \n",
            "                                                                 \n",
            " dropout_3 (Dropout)         (None, 4096)              0         \n",
            "                                                                 \n",
            " dense_5 (Dense)             (None, 4096)              16781312  \n",
            "                                                                 \n",
            " activation_30 (Activation)  (None, 4096)              0         \n",
            "                                                                 \n",
            " batch_normalization_30 (Bat  (None, 4096)             16384     \n",
            " chNormalization)                                                \n",
            "                                                                 \n",
            " dropout_4 (Dropout)         (None, 4096)              0         \n",
            "                                                                 \n",
            " dense_6 (Dense)             (None, 1000)              4097000   \n",
            "                                                                 \n",
            " activation_31 (Activation)  (None, 1000)              0         \n",
            "                                                                 \n",
            " batch_normalization_31 (Bat  (None, 1000)             4000      \n",
            " chNormalization)                                                \n",
            "                                                                 \n",
            " dropout_5 (Dropout)         (None, 1000)              0         \n",
            "                                                                 \n",
            " dense_7 (Dense)             (None, 2)                 2002      \n",
            "                                                                 \n",
            "=================================================================\n",
            "Total params: 37,748,762\n",
            "Trainable params: 37,721,930\n",
            "Non-trainable params: 26,832\n",
            "_________________________________________________________________\n"
          ]
        }
      ]
    },
    {
      "cell_type": "code",
      "source": [
        "#training data\n",
        "H = vgg16.fit(trainX, trainY, validation_data=(testX, testY), epochs=70, batch_size=16)"
      ],
      "metadata": {
        "colab": {
          "base_uri": "https://localhost:8080/"
        },
        "id": "JOp0TzHxZYLf",
        "outputId": "f17fcdae-a8b3-46e6-f9ce-e26e056262af"
      },
      "execution_count": 29,
      "outputs": [
        {
          "output_type": "stream",
          "name": "stdout",
          "text": [
            "Epoch 1/70\n",
            "70/70 [==============================] - 8s 51ms/step - loss: 1.1622 - accuracy: 0.6723 - val_loss: 70.0417 - val_accuracy: 0.5250\n",
            "Epoch 2/70\n",
            "70/70 [==============================] - 3s 40ms/step - loss: 0.8915 - accuracy: 0.5982 - val_loss: 33.6394 - val_accuracy: 0.5250\n",
            "Epoch 3/70\n",
            "70/70 [==============================] - 3s 40ms/step - loss: 0.7794 - accuracy: 0.6250 - val_loss: 530.8159 - val_accuracy: 0.5250\n",
            "Epoch 4/70\n",
            "70/70 [==============================] - 3s 40ms/step - loss: 0.6471 - accuracy: 0.7223 - val_loss: 5.4618 - val_accuracy: 0.5679\n",
            "Epoch 5/70\n",
            "70/70 [==============================] - 3s 40ms/step - loss: 0.5143 - accuracy: 0.8009 - val_loss: 6.2503 - val_accuracy: 0.7500\n",
            "Epoch 6/70\n",
            "70/70 [==============================] - 3s 40ms/step - loss: 0.3665 - accuracy: 0.8598 - val_loss: 7.1078 - val_accuracy: 0.5464\n",
            "Epoch 7/70\n",
            "70/70 [==============================] - 3s 43ms/step - loss: 0.3469 - accuracy: 0.8607 - val_loss: 3.3093 - val_accuracy: 0.7643\n",
            "Epoch 8/70\n",
            "70/70 [==============================] - 3s 43ms/step - loss: 0.3089 - accuracy: 0.8670 - val_loss: 1.0517 - val_accuracy: 0.8857\n",
            "Epoch 9/70\n",
            "70/70 [==============================] - 3s 43ms/step - loss: 0.2664 - accuracy: 0.8991 - val_loss: 2.5302 - val_accuracy: 0.7321\n",
            "Epoch 10/70\n",
            "70/70 [==============================] - 3s 43ms/step - loss: 0.2144 - accuracy: 0.9339 - val_loss: 0.5523 - val_accuracy: 0.9000\n",
            "Epoch 11/70\n",
            "70/70 [==============================] - 3s 43ms/step - loss: 0.2504 - accuracy: 0.9179 - val_loss: 0.4423 - val_accuracy: 0.8964\n",
            "Epoch 12/70\n",
            "70/70 [==============================] - 3s 40ms/step - loss: 0.1569 - accuracy: 0.9455 - val_loss: 0.3880 - val_accuracy: 0.9250\n",
            "Epoch 13/70\n",
            "70/70 [==============================] - 3s 41ms/step - loss: 0.2132 - accuracy: 0.9259 - val_loss: 0.4015 - val_accuracy: 0.9214\n",
            "Epoch 14/70\n",
            "70/70 [==============================] - 3s 40ms/step - loss: 0.1526 - accuracy: 0.9500 - val_loss: 0.1447 - val_accuracy: 0.9536\n",
            "Epoch 15/70\n",
            "70/70 [==============================] - 3s 40ms/step - loss: 0.1266 - accuracy: 0.9500 - val_loss: 0.1664 - val_accuracy: 0.9571\n",
            "Epoch 16/70\n",
            "70/70 [==============================] - 3s 40ms/step - loss: 0.1163 - accuracy: 0.9607 - val_loss: 0.0771 - val_accuracy: 0.9821\n",
            "Epoch 17/70\n",
            "70/70 [==============================] - 3s 43ms/step - loss: 0.1399 - accuracy: 0.9580 - val_loss: 0.1220 - val_accuracy: 0.9250\n",
            "Epoch 18/70\n",
            "70/70 [==============================] - 3s 42ms/step - loss: 0.1351 - accuracy: 0.9500 - val_loss: 0.1101 - val_accuracy: 0.9714\n",
            "Epoch 19/70\n",
            "70/70 [==============================] - 3s 43ms/step - loss: 0.1294 - accuracy: 0.9607 - val_loss: 0.2869 - val_accuracy: 0.9250\n",
            "Epoch 20/70\n",
            "70/70 [==============================] - 3s 41ms/step - loss: 0.1086 - accuracy: 0.9652 - val_loss: 1.0644 - val_accuracy: 0.7571\n",
            "Epoch 21/70\n",
            "70/70 [==============================] - 3s 41ms/step - loss: 0.0927 - accuracy: 0.9723 - val_loss: 0.6713 - val_accuracy: 0.8643\n",
            "Epoch 22/70\n",
            "70/70 [==============================] - 3s 41ms/step - loss: 0.0649 - accuracy: 0.9795 - val_loss: 0.5002 - val_accuracy: 0.9464\n",
            "Epoch 23/70\n",
            "70/70 [==============================] - 3s 43ms/step - loss: 0.1115 - accuracy: 0.9759 - val_loss: 0.0614 - val_accuracy: 0.9714\n",
            "Epoch 24/70\n",
            "70/70 [==============================] - 3s 41ms/step - loss: 0.0898 - accuracy: 0.9759 - val_loss: 0.1597 - val_accuracy: 0.9643\n",
            "Epoch 25/70\n",
            "70/70 [==============================] - 3s 41ms/step - loss: 0.0856 - accuracy: 0.9777 - val_loss: 0.3476 - val_accuracy: 0.8964\n",
            "Epoch 26/70\n",
            "70/70 [==============================] - 3s 41ms/step - loss: 0.0677 - accuracy: 0.9857 - val_loss: 0.0866 - val_accuracy: 0.9750\n",
            "Epoch 27/70\n",
            "70/70 [==============================] - 3s 41ms/step - loss: 0.0866 - accuracy: 0.9768 - val_loss: 0.9560 - val_accuracy: 0.7357\n",
            "Epoch 28/70\n",
            "70/70 [==============================] - 3s 46ms/step - loss: 0.0591 - accuracy: 0.9857 - val_loss: 0.1687 - val_accuracy: 0.9714\n",
            "Epoch 29/70\n",
            "70/70 [==============================] - 3s 45ms/step - loss: 0.0721 - accuracy: 0.9786 - val_loss: 0.1257 - val_accuracy: 0.9857\n",
            "Epoch 30/70\n",
            "70/70 [==============================] - 3s 43ms/step - loss: 0.0742 - accuracy: 0.9830 - val_loss: 0.1707 - val_accuracy: 0.9500\n",
            "Epoch 31/70\n",
            "70/70 [==============================] - 3s 40ms/step - loss: 0.0582 - accuracy: 0.9848 - val_loss: 0.2898 - val_accuracy: 0.9393\n",
            "Epoch 32/70\n",
            "70/70 [==============================] - 3s 41ms/step - loss: 0.0361 - accuracy: 0.9920 - val_loss: 0.1495 - val_accuracy: 0.9679\n",
            "Epoch 33/70\n",
            "70/70 [==============================] - 3s 41ms/step - loss: 0.0638 - accuracy: 0.9821 - val_loss: 0.0784 - val_accuracy: 0.9750\n",
            "Epoch 34/70\n",
            "70/70 [==============================] - 3s 41ms/step - loss: 0.0574 - accuracy: 0.9857 - val_loss: 0.5751 - val_accuracy: 0.9179\n",
            "Epoch 35/70\n",
            "70/70 [==============================] - 3s 41ms/step - loss: 0.0631 - accuracy: 0.9759 - val_loss: 0.1003 - val_accuracy: 0.9750\n",
            "Epoch 36/70\n",
            "70/70 [==============================] - 3s 41ms/step - loss: 0.0665 - accuracy: 0.9821 - val_loss: 0.1483 - val_accuracy: 0.9679\n",
            "Epoch 37/70\n",
            "70/70 [==============================] - 3s 41ms/step - loss: 0.0501 - accuracy: 0.9911 - val_loss: 0.1236 - val_accuracy: 0.9679\n",
            "Epoch 38/70\n",
            "70/70 [==============================] - 3s 41ms/step - loss: 0.0124 - accuracy: 0.9973 - val_loss: 0.1274 - val_accuracy: 0.9750\n",
            "Epoch 39/70\n",
            "70/70 [==============================] - 3s 41ms/step - loss: 0.0629 - accuracy: 0.9839 - val_loss: 0.1338 - val_accuracy: 0.9643\n",
            "Epoch 40/70\n",
            "70/70 [==============================] - 3s 41ms/step - loss: 0.0445 - accuracy: 0.9866 - val_loss: 0.2535 - val_accuracy: 0.9464\n",
            "Epoch 41/70\n",
            "70/70 [==============================] - 3s 41ms/step - loss: 0.0081 - accuracy: 0.9982 - val_loss: 0.1657 - val_accuracy: 0.9750\n",
            "Epoch 42/70\n",
            "70/70 [==============================] - 3s 41ms/step - loss: 1.1595e-04 - accuracy: 1.0000 - val_loss: 0.1603 - val_accuracy: 0.9857\n",
            "Epoch 43/70\n",
            "70/70 [==============================] - 3s 41ms/step - loss: 8.7862e-06 - accuracy: 1.0000 - val_loss: 0.2659 - val_accuracy: 0.9714\n",
            "Epoch 44/70\n",
            "70/70 [==============================] - 3s 43ms/step - loss: 0.0833 - accuracy: 0.9866 - val_loss: 0.2150 - val_accuracy: 0.9393\n",
            "Epoch 45/70\n",
            "70/70 [==============================] - 3s 41ms/step - loss: 0.0251 - accuracy: 0.9937 - val_loss: 0.2702 - val_accuracy: 0.9536\n",
            "Epoch 46/70\n",
            "70/70 [==============================] - 3s 41ms/step - loss: 0.0377 - accuracy: 0.9911 - val_loss: 0.1544 - val_accuracy: 0.9786\n",
            "Epoch 47/70\n",
            "70/70 [==============================] - 3s 41ms/step - loss: 0.0308 - accuracy: 0.9946 - val_loss: 0.0838 - val_accuracy: 0.9786\n",
            "Epoch 48/70\n",
            "70/70 [==============================] - 3s 43ms/step - loss: 0.0276 - accuracy: 0.9929 - val_loss: 0.1414 - val_accuracy: 0.9571\n",
            "Epoch 49/70\n",
            "70/70 [==============================] - 3s 43ms/step - loss: 0.0506 - accuracy: 0.9902 - val_loss: 0.1453 - val_accuracy: 0.9750\n",
            "Epoch 50/70\n",
            "70/70 [==============================] - 3s 42ms/step - loss: 0.0244 - accuracy: 0.9964 - val_loss: 0.1283 - val_accuracy: 0.9714\n",
            "Epoch 51/70\n",
            "70/70 [==============================] - 3s 41ms/step - loss: 0.0330 - accuracy: 0.9946 - val_loss: 0.1272 - val_accuracy: 0.9786\n",
            "Epoch 52/70\n",
            "70/70 [==============================] - 3s 43ms/step - loss: 0.0414 - accuracy: 0.9902 - val_loss: 0.2778 - val_accuracy: 0.9500\n",
            "Epoch 53/70\n",
            "70/70 [==============================] - 3s 41ms/step - loss: 4.3757e-04 - accuracy: 1.0000 - val_loss: 0.1473 - val_accuracy: 0.9786\n",
            "Epoch 54/70\n",
            "70/70 [==============================] - 3s 41ms/step - loss: 0.0390 - accuracy: 0.9929 - val_loss: 0.1433 - val_accuracy: 0.9714\n",
            "Epoch 55/70\n",
            "70/70 [==============================] - 3s 41ms/step - loss: 0.0100 - accuracy: 0.9973 - val_loss: 0.1665 - val_accuracy: 0.9750\n",
            "Epoch 56/70\n",
            "70/70 [==============================] - 3s 41ms/step - loss: 0.0129 - accuracy: 0.9982 - val_loss: 0.3490 - val_accuracy: 0.9429\n",
            "Epoch 57/70\n",
            "70/70 [==============================] - 3s 43ms/step - loss: 0.0508 - accuracy: 0.9920 - val_loss: 0.2069 - val_accuracy: 0.9643\n",
            "Epoch 58/70\n",
            "70/70 [==============================] - 3s 41ms/step - loss: 0.0179 - accuracy: 0.9964 - val_loss: 0.4461 - val_accuracy: 0.9536\n",
            "Epoch 59/70\n",
            "70/70 [==============================] - 3s 41ms/step - loss: 0.0476 - accuracy: 0.9929 - val_loss: 0.1765 - val_accuracy: 0.9714\n",
            "Epoch 60/70\n",
            "70/70 [==============================] - 3s 41ms/step - loss: 0.0061 - accuracy: 0.9991 - val_loss: 0.2432 - val_accuracy: 0.9607\n",
            "Epoch 61/70\n",
            "70/70 [==============================] - 3s 41ms/step - loss: 0.0196 - accuracy: 0.9955 - val_loss: 0.8107 - val_accuracy: 0.9321\n",
            "Epoch 62/70\n",
            "70/70 [==============================] - 3s 41ms/step - loss: 0.0542 - accuracy: 0.9893 - val_loss: 0.1671 - val_accuracy: 0.9250\n",
            "Epoch 63/70\n",
            "70/70 [==============================] - 3s 41ms/step - loss: 0.0231 - accuracy: 0.9964 - val_loss: 0.5345 - val_accuracy: 0.8750\n",
            "Epoch 64/70\n",
            "70/70 [==============================] - 3s 43ms/step - loss: 1.2440e-04 - accuracy: 1.0000 - val_loss: 0.1910 - val_accuracy: 0.9786\n",
            "Epoch 65/70\n",
            "70/70 [==============================] - 3s 41ms/step - loss: 1.8112e-05 - accuracy: 1.0000 - val_loss: 0.1945 - val_accuracy: 0.9857\n",
            "Epoch 66/70\n",
            "70/70 [==============================] - 3s 41ms/step - loss: 0.0288 - accuracy: 0.9964 - val_loss: 0.2141 - val_accuracy: 0.9750\n",
            "Epoch 67/70\n",
            "70/70 [==============================] - 3s 41ms/step - loss: 0.0312 - accuracy: 0.9937 - val_loss: 0.8663 - val_accuracy: 0.9071\n",
            "Epoch 68/70\n",
            "70/70 [==============================] - 3s 41ms/step - loss: 0.0348 - accuracy: 0.9955 - val_loss: 0.1578 - val_accuracy: 0.9607\n",
            "Epoch 69/70\n",
            "70/70 [==============================] - 3s 41ms/step - loss: 0.0280 - accuracy: 0.9955 - val_loss: 1.9724 - val_accuracy: 0.7143\n",
            "Epoch 70/70\n",
            "70/70 [==============================] - 3s 41ms/step - loss: 0.0220 - accuracy: 0.9946 - val_loss: 0.3071 - val_accuracy: 0.9679\n"
          ]
        }
      ]
    },
    {
      "cell_type": "code",
      "source": [
        "print(\"[INFO] evaluating network...\")\n",
        "predictions = vgg16.predict(testX, batch_size=16)\n",
        "pred=predictions.argmax(axis=1)\n",
        "testY_argm=testY.argmax(axis=1)\n"
      ],
      "metadata": {
        "colab": {
          "base_uri": "https://localhost:8080/"
        },
        "id": "qjoEfHoWsr9H",
        "outputId": "2c325c48-76bf-4957-fed6-ffaa859d0d41"
      },
      "execution_count": 30,
      "outputs": [
        {
          "output_type": "stream",
          "name": "stdout",
          "text": [
            "[INFO] evaluating network...\n"
          ]
        }
      ]
    },
    {
      "cell_type": "code",
      "source": [
        "print(classification_report(testY_argm,pred,target_names=lb.classes_))"
      ],
      "metadata": {
        "colab": {
          "base_uri": "https://localhost:8080/"
        },
        "id": "Po9wqNIMts7s",
        "outputId": "e8e5e872-75db-4164-e1b9-a0eca7196d98"
      },
      "execution_count": 31,
      "outputs": [
        {
          "output_type": "stream",
          "name": "stdout",
          "text": [
            "              precision    recall  f1-score   support\n",
            "\n",
            "      Normal       0.94      1.00      0.97       147\n",
            "Tuberculosis       1.00      0.93      0.96       133\n",
            "\n",
            "    accuracy                           0.97       280\n",
            "   macro avg       0.97      0.97      0.97       280\n",
            "weighted avg       0.97      0.97      0.97       280\n",
            "\n"
          ]
        }
      ]
    },
    {
      "cell_type": "code",
      "source": [
        "test_score = vgg16.evaluate(testX, testY) \n",
        "print(\"Test Loss {:.4f}, accuracy {:.2f}%\".format(test_score[0], test_score[1] * 100))"
      ],
      "metadata": {
        "colab": {
          "base_uri": "https://localhost:8080/"
        },
        "id": "5NSJXylrt1ND",
        "outputId": "d0efb8c2-c49a-4505-8e71-20d20d84e6cc"
      },
      "execution_count": 32,
      "outputs": [
        {
          "output_type": "stream",
          "name": "stdout",
          "text": [
            "9/9 [==============================] - 1s 42ms/step - loss: 0.3071 - accuracy: 0.9679\n",
            "Test Loss 0.3071, accuracy 96.79%\n"
          ]
        }
      ]
    },
    {
      "cell_type": "code",
      "source": [
        "from sklearn.metrics import confusion_matrix\n",
        "import itertools\n",
        "\n",
        "def plot_confusion_matrix(cm, classes, normalize=False, title='Confusion matrix', cmap='Blues'):\n",
        "  if normalize:\n",
        "     cm = cm.astype('float') / cm.sum(axis=1)[:, np.newaxis]\n",
        "     print(\"Normalized confusion matrix\")\n",
        "  else:\n",
        "     print('Confusion matrix, without normalization')\n",
        "  print(cm)\n",
        "  plt.imshow(cm, interpolation='nearest', cmap=cmap)\n",
        "  plt.title(title)\n",
        "  plt.colorbar()\n",
        "  tick_marks = np.arange(len(classes))\n",
        "  plt.xticks(tick_marks, classes, rotation=45)\n",
        "  plt.yticks(tick_marks, classes)\n",
        "  fmt = '.2f' if normalize else 'd'\n",
        "  thresh = cm.max() / 2.\n",
        "  for i, j in itertools.product(range(cm.shape[0]), range(cm.shape[1])):\n",
        "      plt.text(j, i, format(cm[i, j], fmt), horizontalalignment=\"center\", color=\"white\" if cm[i, j] > thresh else \"black\")\n",
        "  plt.ylabel('True label')\n",
        "  plt.xlabel('Predicted label')\n",
        "  plt.tight_layout()"
      ],
      "metadata": {
        "id": "ZS-FXHa6uI6H"
      },
      "execution_count": 33,
      "outputs": []
    },
    {
      "cell_type": "code",
      "source": [
        "cnf_matrix = confusion_matrix(testY_argm, pred)\n",
        "np.set_printoptions(precision=2)\n",
        "\n",
        "# Plot non/normalized confusion matrix\n",
        "plt.figure()\n",
        "plot_confusion_matrix(cnf_matrix,\n",
        "classes=lb.classes_, normalize=True)\n",
        "plt.show()\n",
        "\n",
        "plt.figure()\n",
        "plot_confusion_matrix(cnf_matrix,\n",
        "classes=lb.classes_, normalize=False)\n",
        "plt.show()\n",
        "\n",
        "f, ax = plt.subplots()\n",
        "ax.plot([None] + H.history['accuracy'], 'o-')\n",
        "ax.plot([None] + H.history['val_accuracy'], 'x-')\n",
        "\n",
        "ax.legend(['Train acc', 'Validation acc'], loc = 0)\n",
        "ax.set_title('Training/Validation acc per Epoch')\n",
        "ax.set_xlabel('Epoch')\n",
        "ax.set_ylabel('acc')\n",
        "plt.grid(True)\n",
        "\n",
        "f, ax = plt.subplots()\n",
        "ax.plot([None] + H.history['loss'], 'o-')\n",
        "ax.plot([None] + H.history['val_loss'], 'x-')\n",
        "ax.legend(['Train Loss', 'Validation Loss'], loc = 0)\n",
        "ax.set_title('Training/Validation Loss per Epoch')\n",
        "ax.set_xlabel('Epoch')\n",
        "ax.set_ylabel('loss')\n",
        "plt.grid(True)"
      ],
      "metadata": {
        "colab": {
          "base_uri": "https://localhost:8080/",
          "height": 1000
        },
        "id": "eiYstz9xuRLx",
        "outputId": "77f59030-4532-441e-cfb4-be16ff81ae54"
      },
      "execution_count": 34,
      "outputs": [
        {
          "output_type": "stream",
          "name": "stdout",
          "text": [
            "Normalized confusion matrix\n",
            "[[1.   0.  ]\n",
            " [0.07 0.93]]\n"
          ]
        },
        {
          "output_type": "display_data",
          "data": {
            "text/plain": [
              "<Figure size 432x288 with 2 Axes>"
            ],
            "image/png": "[encoded data removed]"
          },
          "metadata": {
            "needs_background": "light"
          }
        },
        {
          "output_type": "stream",
          "name": "stdout",
          "text": [
            "Confusion matrix, without normalization\n",
            "[[147   0]\n",
            " [  9 124]]\n"
          ]
        },
        {
          "output_type": "display_data",
          "data": {
            "text/plain": [
              "<Figure size 432x288 with 2 Axes>"
            ],
            "image/png": "[encoded data removed]"
          },
          "metadata": {
            "needs_background": "light"
          }
        },
        {
          "output_type": "display_data",
          "data": {
            "text/plain": [
              "<Figure size 432x288 with 1 Axes>"
            ],
            "image/png": "[encoded data removed]"
          },
          "metadata": {
            "needs_background": "light"
          }
        },
        {
          "output_type": "display_data",
          "data": {
            "text/plain": [
              "<Figure size 432x288 with 1 Axes>"
            ],
            "image/png": "[encoded data removed]"
          },
          "metadata": {
            "needs_background": "light"
          }
        }
      ]
    }
  ]
}