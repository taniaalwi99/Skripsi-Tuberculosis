{
  "nbformat": 4,
  "nbformat_minor": 0,
  "metadata": {
    "colab": {
      "name": "Tuberculosis_VGG-16.ipynb",
      "provenance": [],
      "collapsed_sections": [],
      "include_colab_link": true
    },
    "kernelspec": {
      "name": "python3",
      "display_name": "Python 3"
    },
    "language_info": {
      "name": "python"
    },
    "accelerator": "GPU",
    "gpuClass": "standard"
  },
  "cells": [
    {
      "cell_type": "markdown",
      "metadata": {
        "id": "view-in-github",
        "colab_type": "text"
      },
      "source": [
        "<a href=\"https://colab.research.google.com/github/taniaalwi99/Skripsi-Tuberculosis/blob/main/Tuberculosis_128_RMSprop_0.01_50_8.ipynb\" target=\"_parent\"><img src=\"https://colab.research.google.com/assets/colab-badge.svg\" alt=\"Open In Colab\"/></a>"
      ]
    },
    {
      "cell_type": "code",
      "execution_count": 18,
      "metadata": {
        "colab": {
          "base_uri": "https://localhost:8080/"
        },
        "id": "2_RYo7hrXaC5",
        "outputId": "6f3ed079-79bd-4d37-cb07-6cc7b38a51d8"
      },
      "outputs": [
        {
          "output_type": "stream",
          "name": "stdout",
          "text": [
            "Drive already mounted at /content/drive; to attempt to forcibly remount, call drive.mount(\"/content/drive\", force_remount=True).\n"
          ]
        }
      ],
      "source": [
        "from google.colab import drive\n",
        "drive.mount('/content/drive')"
      ]
    },
    {
      "cell_type": "code",
      "source": [
        "cd /content/drive/My Drive"
      ],
      "metadata": {
        "colab": {
          "base_uri": "https://localhost:8080/"
        },
        "id": "G4aisxOFX3KH",
        "outputId": "b042f878-a4db-46ce-f834-a7353bfdb295"
      },
      "execution_count": 19,
      "outputs": [
        {
          "output_type": "stream",
          "name": "stdout",
          "text": [
            "/content/drive/My Drive\n"
          ]
        }
      ]
    },
    {
      "cell_type": "code",
      "source": [
        "ls"
      ],
      "metadata": {
        "colab": {
          "base_uri": "https://localhost:8080/"
        },
        "id": "e_oGUrADX8O_",
        "outputId": "5fcab6c0-c3f8-40f4-a7f4-ad0806f5f964"
      },
      "execution_count": 20,
      "outputs": [
        {
          "output_type": "stream",
          "name": "stdout",
          "text": [
            "\u001b[0m\u001b[01;34m'Colab Notebooks'\u001b[0m/  \u001b[01;34m'Dataset Gray'\u001b[0m/  \u001b[01;34m'Tania Alwi'\u001b[0m/\n"
          ]
        }
      ]
    },
    {
      "cell_type": "code",
      "source": [
        "from keras.models import Model\n",
        "from keras.models import load_model\n",
        "from keras.models import Sequential\n",
        "from keras.layers.convolutional import Convolution2D\n",
        "from keras.layers.convolutional import MaxPooling2D\n",
        "from keras.layers.convolutional import ZeroPadding2D\n",
        "from keras.layers.core import Activation\n",
        "from keras.layers.core import Flatten\n",
        "from keras.layers.core import Dense\n",
        "from keras.layers.core import Dropout\n",
        "from keras.layers import BatchNormalization\n",
        "from keras import regularizers\n",
        "from keras.preprocessing.image import ImageDataGenerator\n",
        "from tensorflow.keras.optimizers import RMSprop, Adam, SGD\n",
        "from sklearn.preprocessing import LabelBinarizer\n",
        "from sklearn.model_selection import train_test_split\n",
        "from sklearn.metrics import classification_report\n",
        "from PIL import Image\n",
        "from matplotlib import pyplot as plt\n",
        "from imutils import paths\n",
        "import numpy as np\n",
        "import os"
      ],
      "metadata": {
        "id": "t95OxlI7X_OF"
      },
      "execution_count": 21,
      "outputs": []
    },
    {
      "cell_type": "code",
      "source": [
        "print(\"[INFO] loading images...\")\n",
        "imagePaths = paths.list_images(\"Dataset Gray\")\n",
        "data = []\n",
        "labels = []"
      ],
      "metadata": {
        "colab": {
          "base_uri": "https://localhost:8080/"
        },
        "id": "jvn693i-YDZ8",
        "outputId": "9a010201-a6e9-4c6d-f506-15ae87fd3eab"
      },
      "execution_count": 22,
      "outputs": [
        {
          "output_type": "stream",
          "name": "stdout",
          "text": [
            "[INFO] loading images...\n"
          ]
        }
      ]
    },
    {
      "cell_type": "code",
      "source": [
        "for imagePaths in imagePaths:\n",
        "    a = Image.open(imagePaths)\n",
        "    image = np.array(a.resize((128,128))) / 255.0\n",
        "    data.append(image)\n",
        "    \n",
        "    label = imagePaths.split(os.path.sep) [-2]\n",
        "    labels.append(label)"
      ],
      "metadata": {
        "id": "3XLuWAZsYLfK"
      },
      "execution_count": 23,
      "outputs": []
    },
    {
      "cell_type": "code",
      "source": [
        "from sklearn.preprocessing import LabelBinarizer\n",
        "import numpy as np\n",
        "\n",
        "class MyLabelBinarizer(LabelBinarizer):\n",
        "    def transform(self, label):\n",
        "      nilaiy = super().transform(label)\n",
        "      if self.y_type_== 'binary':\n",
        "        return np.hstack((nilaiy, 1-nilaiy))\n",
        "      else:\n",
        "        return nilaiy\n",
        "    def inverse_transform(self, nilaiy, threshold=None):\n",
        "      if self.y_type_ == 'binary':\n",
        "          return super().inverse_transform(nilaiy[:, 0], threshold)\n",
        "      else:\n",
        "          return super().inverse_transform(nilaiy, threshold)\n",
        "\n",
        "      \n",
        "\n",
        "lb = MyLabelBinarizer()\n",
        "labels = lb.fit_transform(labels)\n",
        "print(labels)"
      ],
      "metadata": {
        "colab": {
          "base_uri": "https://localhost:8080/"
        },
        "id": "gnjyPDi_Yyrn",
        "outputId": "da5f68ce-ff99-4330-d793-6a872d08306a"
      },
      "execution_count": 24,
      "outputs": [
        {
          "output_type": "stream",
          "name": "stdout",
          "text": [
            "[[0 1]\n",
            " [0 1]\n",
            " [0 1]\n",
            " ...\n",
            " [1 0]\n",
            " [1 0]\n",
            " [1 0]]\n"
          ]
        }
      ]
    },
    {
      "cell_type": "code",
      "source": [
        "(trainX,testX, trainY, testY) = train_test_split(np.array(data),np.array(labels), test_size=0.20)\n",
        "print(trainX.shape)\n",
        "print(testX.shape)"
      ],
      "metadata": {
        "colab": {
          "base_uri": "https://localhost:8080/"
        },
        "id": "0V3CnlQtY1g2",
        "outputId": "6bc375c7-ee2d-46db-dd0a-8d4b4efb474f"
      },
      "execution_count": 25,
      "outputs": [
        {
          "output_type": "stream",
          "name": "stdout",
          "text": [
            "(1120, 128, 128)\n",
            "(280, 128, 128)\n"
          ]
        }
      ]
    },
    {
      "cell_type": "code",
      "source": [
        "def vgg16(num_classes):\n",
        "\n",
        "    vgg16 = Sequential()\n",
        "\n",
        "    vgg16.add(Convolution2D(input_shape=(128,128,1),filters=64,kernel_size=(3,3),padding=\"same\"))\n",
        "    vgg16.add(Activation('relu'))\n",
        "    vgg16.add(BatchNormalization())\n",
        "    #layer1 32*32*64\n",
        "    vgg16.add(Convolution2D(filters=64,kernel_size=(3,3),padding=\"same\"))\n",
        "    vgg16.add(Activation('relu'))\n",
        "    vgg16.add(MaxPooling2D(pool_size=(2, 2),strides=(2,2)))\n",
        "    vgg16.add(BatchNormalization())\n",
        "    #layer2 16*16*64\n",
        "    vgg16.add(Convolution2D(filters=128, kernel_size=(3,3), padding=\"same\"))\n",
        "    vgg16.add(Activation('relu'))\n",
        "    vgg16.add(BatchNormalization())\n",
        "    #layer3 16*16*128\n",
        "    vgg16.add(Convolution2D(filters=128, kernel_size=(3,3), padding=\"same\",))\n",
        "    vgg16.add(Activation('relu'))\n",
        "    vgg16.add(MaxPooling2D(pool_size=(2,2),strides=(2,2)))\n",
        "    vgg16.add(BatchNormalization())\n",
        "    #layer4 8*8*128\n",
        "    vgg16.add(Convolution2D(filters=256, kernel_size=(3,3), padding=\"same\"))\n",
        "    vgg16.add(Activation('relu'))\n",
        "    vgg16.add(BatchNormalization())\n",
        "    #layer5 8*8*256\n",
        "    vgg16.add(Convolution2D(filters=256, kernel_size=(3,3), padding=\"same\"))\n",
        "    vgg16.add(Activation('relu'))\n",
        "    vgg16.add(BatchNormalization())\n",
        "    #layer6 8*8*256\n",
        "    vgg16.add(Convolution2D(filters=256, kernel_size=(3,3), padding=\"same\"))\n",
        "    vgg16.add(Activation('relu'))\n",
        "    vgg16.add(MaxPooling2D(pool_size=(2,2),strides=(2,2)))\n",
        "    vgg16.add(BatchNormalization())\n",
        "    #layer7 4*4*256\n",
        "    vgg16.add(Convolution2D(filters=512, kernel_size=(3,3), padding=\"same\"))\n",
        "    vgg16.add(Activation('relu'))\n",
        "    vgg16.add(BatchNormalization())\n",
        "    #layer8 4*4*512\n",
        "    vgg16.add(Convolution2D(filters=512, kernel_size=(3,3), padding=\"same\"))\n",
        "    vgg16.add(Activation('relu'))\n",
        "    vgg16.add(BatchNormalization())\n",
        "    #layer9 4*4*512\n",
        "    vgg16.add(Convolution2D(filters=512, kernel_size=(3,3), padding=\"same\"))\n",
        "    vgg16.add(Activation('relu'))\n",
        "    vgg16.add(MaxPooling2D(pool_size=(2,2),strides=(2,2)))\n",
        "    vgg16.add(BatchNormalization())\n",
        "    #layer10 2*2*512\n",
        "    vgg16.add(Convolution2D(filters=512, kernel_size=(3,3), padding=\"same\"))\n",
        "    vgg16.add(Activation('relu'))\n",
        "    vgg16.add(BatchNormalization())\n",
        "    #layer11 2*2*512\n",
        "    vgg16.add(Convolution2D(filters=512, kernel_size=(3,3), padding=\"same\"))  \n",
        "    vgg16.add(Activation('relu')) \n",
        "    vgg16.add(BatchNormalization())       \n",
        "    #layer12 2*2*512\n",
        "    vgg16.add(Convolution2D(filters=512, kernel_size=(3,3), padding=\"same\"))\n",
        "    vgg16.add(Activation('relu'))\n",
        "    vgg16.add(MaxPooling2D(pool_size=(2,2),strides=(2,2)))\n",
        "    vgg16.add(BatchNormalization())\n",
        "    #layer13 1*1*512\n",
        "    vgg16.add(Flatten())\n",
        "    vgg16.add(Dense(units=4096))\n",
        "    vgg16.add(Activation('relu')) \n",
        "    vgg16.add(BatchNormalization())\n",
        "    vgg16.add(Dropout(0.5))\n",
        "    #layer14 4096\n",
        "    vgg16.add(Dense(units=4096))\n",
        "    vgg16.add(Activation('relu')) \n",
        "    vgg16.add(BatchNormalization())\n",
        "    vgg16.add(Dropout(0.5))\n",
        "    #layer16 4096\n",
        "    vgg16.add(Dense(units=1000))\n",
        "    vgg16.add(Activation('relu'))\n",
        "    vgg16.add(BatchNormalization())\n",
        "    vgg16.add(Dropout(0.5)) \n",
        "    #layer16 1000\n",
        "    vgg16.add(Dense(2, activation=\"sigmoid\"))\n",
        "\n",
        "    return vgg16"
      ],
      "metadata": {
        "id": "WpeYjXzUZCZP"
      },
      "execution_count": 26,
      "outputs": []
    },
    {
      "cell_type": "code",
      "source": [
        "num_classes=2\n",
        "vgg16=vgg16(num_classes)\n",
        "vgg16.summary()"
      ],
      "metadata": {
        "colab": {
          "base_uri": "https://localhost:8080/"
        },
        "id": "rlT3OhVuZLUs",
        "outputId": "0b6125ea-b2ed-45e1-ee44-c469f3b4bbf8"
      },
      "execution_count": 27,
      "outputs": [
        {
          "output_type": "stream",
          "name": "stdout",
          "text": [
            "Model: \"sequential_1\"\n",
            "_________________________________________________________________\n",
            " Layer (type)                Output Shape              Param #   \n",
            "=================================================================\n",
            " conv2d_13 (Conv2D)          (None, 128, 128, 64)      640       \n",
            "                                                                 \n",
            " activation_16 (Activation)  (None, 128, 128, 64)      0         \n",
            "                                                                 \n",
            " batch_normalization_16 (Bat  (None, 128, 128, 64)     256       \n",
            " chNormalization)                                                \n",
            "                                                                 \n",
            " conv2d_14 (Conv2D)          (None, 128, 128, 64)      36928     \n",
            "                                                                 \n",
            " activation_17 (Activation)  (None, 128, 128, 64)      0         \n",
            "                                                                 \n",
            " max_pooling2d_5 (MaxPooling  (None, 64, 64, 64)       0         \n",
            " 2D)                                                             \n",
            "                                                                 \n",
            " batch_normalization_17 (Bat  (None, 64, 64, 64)       256       \n",
            " chNormalization)                                                \n",
            "                                                                 \n",
            " conv2d_15 (Conv2D)          (None, 64, 64, 128)       73856     \n",
            "                                                                 \n",
            " activation_18 (Activation)  (None, 64, 64, 128)       0         \n",
            "                                                                 \n",
            " batch_normalization_18 (Bat  (None, 64, 64, 128)      512       \n",
            " chNormalization)                                                \n",
            "                                                                 \n",
            " conv2d_16 (Conv2D)          (None, 64, 64, 128)       147584    \n",
            "                                                                 \n",
            " activation_19 (Activation)  (None, 64, 64, 128)       0         \n",
            "                                                                 \n",
            " max_pooling2d_6 (MaxPooling  (None, 32, 32, 128)      0         \n",
            " 2D)                                                             \n",
            "                                                                 \n",
            " batch_normalization_19 (Bat  (None, 32, 32, 128)      512       \n",
            " chNormalization)                                                \n",
            "                                                                 \n",
            " conv2d_17 (Conv2D)          (None, 32, 32, 256)       295168    \n",
            "                                                                 \n",
            " activation_20 (Activation)  (None, 32, 32, 256)       0         \n",
            "                                                                 \n",
            " batch_normalization_20 (Bat  (None, 32, 32, 256)      1024      \n",
            " chNormalization)                                                \n",
            "                                                                 \n",
            " conv2d_18 (Conv2D)          (None, 32, 32, 256)       590080    \n",
            "                                                                 \n",
            " activation_21 (Activation)  (None, 32, 32, 256)       0         \n",
            "                                                                 \n",
            " batch_normalization_21 (Bat  (None, 32, 32, 256)      1024      \n",
            " chNormalization)                                                \n",
            "                                                                 \n",
            " conv2d_19 (Conv2D)          (None, 32, 32, 256)       590080    \n",
            "                                                                 \n",
            " activation_22 (Activation)  (None, 32, 32, 256)       0         \n",
            "                                                                 \n",
            " max_pooling2d_7 (MaxPooling  (None, 16, 16, 256)      0         \n",
            " 2D)                                                             \n",
            "                                                                 \n",
            " batch_normalization_22 (Bat  (None, 16, 16, 256)      1024      \n",
            " chNormalization)                                                \n",
            "                                                                 \n",
            " conv2d_20 (Conv2D)          (None, 16, 16, 512)       1180160   \n",
            "                                                                 \n",
            " activation_23 (Activation)  (None, 16, 16, 512)       0         \n",
            "                                                                 \n",
            " batch_normalization_23 (Bat  (None, 16, 16, 512)      2048      \n",
            " chNormalization)                                                \n",
            "                                                                 \n",
            " conv2d_21 (Conv2D)          (None, 16, 16, 512)       2359808   \n",
            "                                                                 \n",
            " activation_24 (Activation)  (None, 16, 16, 512)       0         \n",
            "                                                                 \n",
            " batch_normalization_24 (Bat  (None, 16, 16, 512)      2048      \n",
            " chNormalization)                                                \n",
            "                                                                 \n",
            " conv2d_22 (Conv2D)          (None, 16, 16, 512)       2359808   \n",
            "                                                                 \n",
            " activation_25 (Activation)  (None, 16, 16, 512)       0         \n",
            "                                                                 \n",
            " max_pooling2d_8 (MaxPooling  (None, 8, 8, 512)        0         \n",
            " 2D)                                                             \n",
            "                                                                 \n",
            " batch_normalization_25 (Bat  (None, 8, 8, 512)        2048      \n",
            " chNormalization)                                                \n",
            "                                                                 \n",
            " conv2d_23 (Conv2D)          (None, 8, 8, 512)         2359808   \n",
            "                                                                 \n",
            " activation_26 (Activation)  (None, 8, 8, 512)         0         \n",
            "                                                                 \n",
            " batch_normalization_26 (Bat  (None, 8, 8, 512)        2048      \n",
            " chNormalization)                                                \n",
            "                                                                 \n",
            " conv2d_24 (Conv2D)          (None, 8, 8, 512)         2359808   \n",
            "                                                                 \n",
            " activation_27 (Activation)  (None, 8, 8, 512)         0         \n",
            "                                                                 \n",
            " batch_normalization_27 (Bat  (None, 8, 8, 512)        2048      \n",
            " chNormalization)                                                \n",
            "                                                                 \n",
            " conv2d_25 (Conv2D)          (None, 8, 8, 512)         2359808   \n",
            "                                                                 \n",
            " activation_28 (Activation)  (None, 8, 8, 512)         0         \n",
            "                                                                 \n",
            " max_pooling2d_9 (MaxPooling  (None, 4, 4, 512)        0         \n",
            " 2D)                                                             \n",
            "                                                                 \n",
            " batch_normalization_28 (Bat  (None, 4, 4, 512)        2048      \n",
            " chNormalization)                                                \n",
            "                                                                 \n",
            " flatten_1 (Flatten)         (None, 8192)              0         \n",
            "                                                                 \n",
            " dense_4 (Dense)             (None, 4096)              33558528  \n",
            "                                                                 \n",
            " activation_29 (Activation)  (None, 4096)              0         \n",
            "                                                                 \n",
            " batch_normalization_29 (Bat  (None, 4096)             16384     \n",
            " chNormalization)                                                \n",
            "                                                                 \n",
            " dropout_3 (Dropout)         (None, 4096)              0         \n",
            "                                                                 \n",
            " dense_5 (Dense)             (None, 4096)              16781312  \n",
            "                                                                 \n",
            " activation_30 (Activation)  (None, 4096)              0         \n",
            "                                                                 \n",
            " batch_normalization_30 (Bat  (None, 4096)             16384     \n",
            " chNormalization)                                                \n",
            "                                                                 \n",
            " dropout_4 (Dropout)         (None, 4096)              0         \n",
            "                                                                 \n",
            " dense_6 (Dense)             (None, 1000)              4097000   \n",
            "                                                                 \n",
            " activation_31 (Activation)  (None, 1000)              0         \n",
            "                                                                 \n",
            " batch_normalization_31 (Bat  (None, 1000)             4000      \n",
            " chNormalization)                                                \n",
            "                                                                 \n",
            " dropout_5 (Dropout)         (None, 1000)              0         \n",
            "                                                                 \n",
            " dense_7 (Dense)             (None, 2)                 2002      \n",
            "                                                                 \n",
            "=================================================================\n",
            "Total params: 69,206,042\n",
            "Trainable params: 69,179,210\n",
            "Non-trainable params: 26,832\n",
            "_________________________________________________________________\n"
          ]
        }
      ]
    },
    {
      "cell_type": "code",
      "source": [
        "#setting hyperparameter, menggunakan Adam\n",
        "opt = RMSprop(lr=0.01)\n",
        "vgg16.compile(loss='binary_crossentropy', optimizer=opt, metrics=['accuracy'])\n",
        "vgg16.summary()"
      ],
      "metadata": {
        "colab": {
          "base_uri": "https://localhost:8080/"
        },
        "id": "eZ0TePWVZTx4",
        "outputId": "1e7b3ac5-f878-4986-c90d-22f3aa24626f"
      },
      "execution_count": 28,
      "outputs": [
        {
          "output_type": "stream",
          "name": "stdout",
          "text": [
            "Model: \"sequential_1\"\n",
            "_________________________________________________________________\n",
            " Layer (type)                Output Shape              Param #   \n",
            "=================================================================\n",
            " conv2d_13 (Conv2D)          (None, 128, 128, 64)      640       \n",
            "                                                                 \n",
            " activation_16 (Activation)  (None, 128, 128, 64)      0         \n",
            "                                                                 \n",
            " batch_normalization_16 (Bat  (None, 128, 128, 64)     256       \n",
            " chNormalization)                                                \n",
            "                                                                 \n",
            " conv2d_14 (Conv2D)          (None, 128, 128, 64)      36928     \n",
            "                                                                 \n",
            " activation_17 (Activation)  (None, 128, 128, 64)      0         \n",
            "                                                                 \n",
            " max_pooling2d_5 (MaxPooling  (None, 64, 64, 64)       0         \n",
            " 2D)                                                             \n",
            "                                                                 \n",
            " batch_normalization_17 (Bat  (None, 64, 64, 64)       256       \n",
            " chNormalization)                                                \n",
            "                                                                 \n",
            " conv2d_15 (Conv2D)          (None, 64, 64, 128)       73856     \n",
            "                                                                 \n",
            " activation_18 (Activation)  (None, 64, 64, 128)       0         \n",
            "                                                                 \n",
            " batch_normalization_18 (Bat  (None, 64, 64, 128)      512       \n",
            " chNormalization)                                                \n",
            "                                                                 \n",
            " conv2d_16 (Conv2D)          (None, 64, 64, 128)       147584    \n",
            "                                                                 \n",
            " activation_19 (Activation)  (None, 64, 64, 128)       0         \n",
            "                                                                 \n",
            " max_pooling2d_6 (MaxPooling  (None, 32, 32, 128)      0         \n",
            " 2D)                                                             \n",
            "                                                                 \n",
            " batch_normalization_19 (Bat  (None, 32, 32, 128)      512       \n",
            " chNormalization)                                                \n",
            "                                                                 \n",
            " conv2d_17 (Conv2D)          (None, 32, 32, 256)       295168    \n",
            "                                                                 \n",
            " activation_20 (Activation)  (None, 32, 32, 256)       0         \n",
            "                                                                 \n",
            " batch_normalization_20 (Bat  (None, 32, 32, 256)      1024      \n",
            " chNormalization)                                                \n",
            "                                                                 \n",
            " conv2d_18 (Conv2D)          (None, 32, 32, 256)       590080    \n",
            "                                                                 \n",
            " activation_21 (Activation)  (None, 32, 32, 256)       0         \n",
            "                                                                 \n",
            " batch_normalization_21 (Bat  (None, 32, 32, 256)      1024      \n",
            " chNormalization)                                                \n",
            "                                                                 \n",
            " conv2d_19 (Conv2D)          (None, 32, 32, 256)       590080    \n",
            "                                                                 \n",
            " activation_22 (Activation)  (None, 32, 32, 256)       0         \n",
            "                                                                 \n",
            " max_pooling2d_7 (MaxPooling  (None, 16, 16, 256)      0         \n",
            " 2D)                                                             \n",
            "                                                                 \n",
            " batch_normalization_22 (Bat  (None, 16, 16, 256)      1024      \n",
            " chNormalization)                                                \n",
            "                                                                 \n",
            " conv2d_20 (Conv2D)          (None, 16, 16, 512)       1180160   \n",
            "                                                                 \n",
            " activation_23 (Activation)  (None, 16, 16, 512)       0         \n",
            "                                                                 \n",
            " batch_normalization_23 (Bat  (None, 16, 16, 512)      2048      \n",
            " chNormalization)                                                \n",
            "                                                                 \n",
            " conv2d_21 (Conv2D)          (None, 16, 16, 512)       2359808   \n",
            "                                                                 \n",
            " activation_24 (Activation)  (None, 16, 16, 512)       0         \n",
            "                                                                 \n",
            " batch_normalization_24 (Bat  (None, 16, 16, 512)      2048      \n",
            " chNormalization)                                                \n",
            "                                                                 \n",
            " conv2d_22 (Conv2D)          (None, 16, 16, 512)       2359808   \n",
            "                                                                 \n",
            " activation_25 (Activation)  (None, 16, 16, 512)       0         \n",
            "                                                                 \n",
            " max_pooling2d_8 (MaxPooling  (None, 8, 8, 512)        0         \n",
            " 2D)                                                             \n",
            "                                                                 \n",
            " batch_normalization_25 (Bat  (None, 8, 8, 512)        2048      \n",
            " chNormalization)                                                \n",
            "                                                                 \n",
            " conv2d_23 (Conv2D)          (None, 8, 8, 512)         2359808   \n",
            "                                                                 \n",
            " activation_26 (Activation)  (None, 8, 8, 512)         0         \n",
            "                                                                 \n",
            " batch_normalization_26 (Bat  (None, 8, 8, 512)        2048      \n",
            " chNormalization)                                                \n",
            "                                                                 \n",
            " conv2d_24 (Conv2D)          (None, 8, 8, 512)         2359808   \n",
            "                                                                 \n",
            " activation_27 (Activation)  (None, 8, 8, 512)         0         \n",
            "                                                                 \n",
            " batch_normalization_27 (Bat  (None, 8, 8, 512)        2048      \n",
            " chNormalization)                                                \n",
            "                                                                 \n",
            " conv2d_25 (Conv2D)          (None, 8, 8, 512)         2359808   \n",
            "                                                                 \n",
            " activation_28 (Activation)  (None, 8, 8, 512)         0         \n",
            "                                                                 \n",
            " max_pooling2d_9 (MaxPooling  (None, 4, 4, 512)        0         \n",
            " 2D)                                                             \n",
            "                                                                 \n",
            " batch_normalization_28 (Bat  (None, 4, 4, 512)        2048      \n",
            " chNormalization)                                                \n",
            "                                                                 \n",
            " flatten_1 (Flatten)         (None, 8192)              0         \n",
            "                                                                 \n",
            " dense_4 (Dense)             (None, 4096)              33558528  \n",
            "                                                                 \n",
            " activation_29 (Activation)  (None, 4096)              0         \n",
            "                                                                 \n",
            " batch_normalization_29 (Bat  (None, 4096)             16384     \n",
            " chNormalization)                                                \n",
            "                                                                 \n",
            " dropout_3 (Dropout)         (None, 4096)              0         \n",
            "                                                                 \n",
            " dense_5 (Dense)             (None, 4096)              16781312  \n",
            "                                                                 \n",
            " activation_30 (Activation)  (None, 4096)              0         \n",
            "                                                                 \n",
            " batch_normalization_30 (Bat  (None, 4096)             16384     \n",
            " chNormalization)                                                \n",
            "                                                                 \n",
            " dropout_4 (Dropout)         (None, 4096)              0         \n",
            "                                                                 \n",
            " dense_6 (Dense)             (None, 1000)              4097000   \n",
            "                                                                 \n",
            " activation_31 (Activation)  (None, 1000)              0         \n",
            "                                                                 \n",
            " batch_normalization_31 (Bat  (None, 1000)             4000      \n",
            " chNormalization)                                                \n",
            "                                                                 \n",
            " dropout_5 (Dropout)         (None, 1000)              0         \n",
            "                                                                 \n",
            " dense_7 (Dense)             (None, 2)                 2002      \n",
            "                                                                 \n",
            "=================================================================\n",
            "Total params: 69,206,042\n"
          ]
        },
        {
          "output_type": "stream",
          "name": "stderr",
          "text": [
            "/usr/local/lib/python3.7/dist-packages/keras/optimizer_v2/rmsprop.py:130: UserWarning: The `lr` argument is deprecated, use `learning_rate` instead.\n",
            "  super(RMSprop, self).__init__(name, **kwargs)\n"
          ]
        },
        {
          "output_type": "stream",
          "name": "stdout",
          "text": [
            "Trainable params: 69,179,210\n",
            "Non-trainable params: 26,832\n",
            "_________________________________________________________________\n"
          ]
        }
      ]
    },
    {
      "cell_type": "code",
      "source": [
        "#training data\n",
        "H = vgg16.fit(trainX, trainY, validation_data=(testX, testY), epochs=50, batch_size=8)"
      ],
      "metadata": {
        "colab": {
          "base_uri": "https://localhost:8080/"
        },
        "id": "JOp0TzHxZYLf",
        "outputId": "9ad0c3f4-ae83-43a9-8e53-c3acb79701ba"
      },
      "execution_count": 29,
      "outputs": [
        {
          "output_type": "stream",
          "name": "stdout",
          "text": [
            "Epoch 1/50\n",
            "140/140 [==============================] - 17s 99ms/step - loss: 1.8111 - accuracy: 0.5643 - val_loss: 4408.6328 - val_accuracy: 0.4786\n",
            "Epoch 2/50\n",
            "140/140 [==============================] - 14s 97ms/step - loss: 1.4207 - accuracy: 0.6125 - val_loss: 4.9548 - val_accuracy: 0.4857\n",
            "Epoch 3/50\n",
            "140/140 [==============================] - 13s 93ms/step - loss: 1.1832 - accuracy: 0.6196 - val_loss: 11.9456 - val_accuracy: 0.5179\n",
            "Epoch 4/50\n",
            "140/140 [==============================] - 13s 93ms/step - loss: 1.1431 - accuracy: 0.6554 - val_loss: 26.1430 - val_accuracy: 0.5250\n",
            "Epoch 5/50\n",
            "140/140 [==============================] - 13s 92ms/step - loss: 0.9188 - accuracy: 0.6634 - val_loss: 34.0188 - val_accuracy: 0.5643\n",
            "Epoch 6/50\n",
            "140/140 [==============================] - 13s 96ms/step - loss: 0.9428 - accuracy: 0.6554 - val_loss: 7.3586 - val_accuracy: 0.5571\n",
            "Epoch 7/50\n",
            "140/140 [==============================] - 13s 92ms/step - loss: 0.8362 - accuracy: 0.6741 - val_loss: 3.5092 - val_accuracy: 0.6036\n",
            "Epoch 8/50\n",
            "140/140 [==============================] - 13s 96ms/step - loss: 0.5935 - accuracy: 0.7804 - val_loss: 0.8990 - val_accuracy: 0.6929\n",
            "Epoch 9/50\n",
            "140/140 [==============================] - 13s 96ms/step - loss: 0.5031 - accuracy: 0.7964 - val_loss: 0.9508 - val_accuracy: 0.7821\n",
            "Epoch 10/50\n",
            "140/140 [==============================] - 14s 97ms/step - loss: 0.6752 - accuracy: 0.7134 - val_loss: 2.2495 - val_accuracy: 0.5214\n",
            "Epoch 11/50\n",
            "140/140 [==============================] - 14s 97ms/step - loss: 0.4002 - accuracy: 0.8562 - val_loss: 1.8131 - val_accuracy: 0.6286\n",
            "Epoch 12/50\n",
            "140/140 [==============================] - 13s 92ms/step - loss: 0.3949 - accuracy: 0.8473 - val_loss: 0.6084 - val_accuracy: 0.7821\n",
            "Epoch 13/50\n",
            "140/140 [==============================] - 13s 92ms/step - loss: 0.4466 - accuracy: 0.8321 - val_loss: 0.7070 - val_accuracy: 0.7357\n",
            "Epoch 14/50\n",
            "140/140 [==============================] - 13s 96ms/step - loss: 0.5409 - accuracy: 0.7661 - val_loss: 0.5822 - val_accuracy: 0.6893\n",
            "Epoch 15/50\n",
            "140/140 [==============================] - 13s 96ms/step - loss: 0.5362 - accuracy: 0.7741 - val_loss: 3.0025 - val_accuracy: 0.5321\n",
            "Epoch 16/50\n",
            "140/140 [==============================] - 13s 96ms/step - loss: 0.4534 - accuracy: 0.8339 - val_loss: 1.2044 - val_accuracy: 0.7036\n",
            "Epoch 17/50\n",
            "140/140 [==============================] - 13s 92ms/step - loss: 0.3913 - accuracy: 0.8562 - val_loss: 0.9114 - val_accuracy: 0.6786\n",
            "Epoch 18/50\n",
            "140/140 [==============================] - 13s 92ms/step - loss: 0.3709 - accuracy: 0.8607 - val_loss: 0.5091 - val_accuracy: 0.8321\n",
            "Epoch 19/50\n",
            "140/140 [==============================] - 13s 92ms/step - loss: 0.3920 - accuracy: 0.8786 - val_loss: 0.3925 - val_accuracy: 0.8214\n",
            "Epoch 20/50\n",
            "140/140 [==============================] - 14s 97ms/step - loss: 0.3362 - accuracy: 0.8705 - val_loss: 1.4102 - val_accuracy: 0.6500\n",
            "Epoch 21/50\n",
            "140/140 [==============================] - 14s 97ms/step - loss: 0.3262 - accuracy: 0.8973 - val_loss: 0.4843 - val_accuracy: 0.8714\n",
            "Epoch 22/50\n",
            "140/140 [==============================] - 13s 92ms/step - loss: 0.3375 - accuracy: 0.8813 - val_loss: 0.2833 - val_accuracy: 0.8786\n",
            "Epoch 23/50\n",
            "140/140 [==============================] - 13s 92ms/step - loss: 0.3170 - accuracy: 0.8813 - val_loss: 0.2306 - val_accuracy: 0.8821\n",
            "Epoch 24/50\n",
            "140/140 [==============================] - 13s 96ms/step - loss: 0.2651 - accuracy: 0.9080 - val_loss: 2.3108 - val_accuracy: 0.5214\n",
            "Epoch 25/50\n",
            "140/140 [==============================] - 13s 92ms/step - loss: 0.2985 - accuracy: 0.9009 - val_loss: 0.5457 - val_accuracy: 0.8143\n",
            "Epoch 26/50\n",
            "140/140 [==============================] - 13s 96ms/step - loss: 0.2786 - accuracy: 0.9179 - val_loss: 1.3890 - val_accuracy: 0.7321\n",
            "Epoch 27/50\n",
            "140/140 [==============================] - 13s 92ms/step - loss: 0.2768 - accuracy: 0.9196 - val_loss: 1.2459 - val_accuracy: 0.6571\n",
            "Epoch 28/50\n",
            "140/140 [==============================] - 13s 96ms/step - loss: 0.2901 - accuracy: 0.9205 - val_loss: 0.4765 - val_accuracy: 0.8429\n",
            "Epoch 29/50\n",
            "140/140 [==============================] - 14s 97ms/step - loss: 0.2438 - accuracy: 0.9259 - val_loss: 0.3255 - val_accuracy: 0.8750\n",
            "Epoch 30/50\n",
            "140/140 [==============================] - 13s 92ms/step - loss: 0.2136 - accuracy: 0.9464 - val_loss: 0.8898 - val_accuracy: 0.8607\n",
            "Epoch 31/50\n",
            "140/140 [==============================] - 13s 93ms/step - loss: 0.3202 - accuracy: 0.9161 - val_loss: 0.9341 - val_accuracy: 0.8179\n",
            "Epoch 32/50\n",
            "140/140 [==============================] - 13s 92ms/step - loss: 0.1957 - accuracy: 0.9366 - val_loss: 6.3991 - val_accuracy: 0.5393\n",
            "Epoch 33/50\n",
            "140/140 [==============================] - 14s 97ms/step - loss: 0.2235 - accuracy: 0.9393 - val_loss: 0.3241 - val_accuracy: 0.9036\n",
            "Epoch 34/50\n",
            "140/140 [==============================] - 13s 92ms/step - loss: 0.2408 - accuracy: 0.9366 - val_loss: 0.1524 - val_accuracy: 0.9500\n",
            "Epoch 35/50\n",
            "140/140 [==============================] - 13s 92ms/step - loss: 0.1555 - accuracy: 0.9625 - val_loss: 0.4349 - val_accuracy: 0.9286\n",
            "Epoch 36/50\n",
            "140/140 [==============================] - 13s 96ms/step - loss: 0.2544 - accuracy: 0.9438 - val_loss: 0.7329 - val_accuracy: 0.7964\n",
            "Epoch 37/50\n",
            "140/140 [==============================] - 13s 92ms/step - loss: 0.2161 - accuracy: 0.9661 - val_loss: 0.0649 - val_accuracy: 0.9821\n",
            "Epoch 38/50\n",
            "140/140 [==============================] - 14s 97ms/step - loss: 0.1966 - accuracy: 0.9509 - val_loss: 0.3818 - val_accuracy: 0.9000\n",
            "Epoch 39/50\n",
            "140/140 [==============================] - 13s 92ms/step - loss: 0.2984 - accuracy: 0.9241 - val_loss: 10.8964 - val_accuracy: 0.6464\n",
            "Epoch 40/50\n",
            "140/140 [==============================] - 13s 92ms/step - loss: 0.2159 - accuracy: 0.9491 - val_loss: 0.5004 - val_accuracy: 0.9250\n",
            "Epoch 41/50\n",
            "140/140 [==============================] - 14s 97ms/step - loss: 0.5126 - accuracy: 0.8714 - val_loss: 0.3769 - val_accuracy: 0.9143\n",
            "Epoch 42/50\n",
            "140/140 [==============================] - 13s 96ms/step - loss: 0.1771 - accuracy: 0.9589 - val_loss: 0.0946 - val_accuracy: 0.9679\n",
            "Epoch 43/50\n",
            "140/140 [==============================] - 13s 92ms/step - loss: 0.2948 - accuracy: 0.9339 - val_loss: 0.0628 - val_accuracy: 0.9714\n",
            "Epoch 44/50\n",
            "140/140 [==============================] - 14s 97ms/step - loss: 0.1964 - accuracy: 0.9607 - val_loss: 1.4549 - val_accuracy: 0.8036\n",
            "Epoch 45/50\n",
            "140/140 [==============================] - 14s 97ms/step - loss: 0.2020 - accuracy: 0.9438 - val_loss: 1.0741 - val_accuracy: 0.7214\n",
            "Epoch 46/50\n",
            "140/140 [==============================] - 14s 97ms/step - loss: 0.3873 - accuracy: 0.9152 - val_loss: 0.6480 - val_accuracy: 0.6179\n",
            "Epoch 47/50\n",
            "140/140 [==============================] - 13s 92ms/step - loss: 0.4435 - accuracy: 0.8973 - val_loss: 26.7720 - val_accuracy: 0.7500\n",
            "Epoch 48/50\n",
            "140/140 [==============================] - 13s 96ms/step - loss: 0.2250 - accuracy: 0.9438 - val_loss: 0.9459 - val_accuracy: 0.8750\n",
            "Epoch 49/50\n",
            "140/140 [==============================] - 13s 92ms/step - loss: 0.1947 - accuracy: 0.9482 - val_loss: 12.5050 - val_accuracy: 0.8250\n",
            "Epoch 50/50\n",
            "140/140 [==============================] - 13s 93ms/step - loss: 0.1680 - accuracy: 0.9643 - val_loss: 0.9278 - val_accuracy: 0.9143\n"
          ]
        }
      ]
    },
    {
      "cell_type": "code",
      "source": [
        "print(\"[INFO] evaluating network...\")\n",
        "predictions = vgg16.predict(testX, batch_size=8)\n",
        "pred=predictions.argmax(axis=1)\n",
        "testY_argm=testY.argmax(axis=1)\n"
      ],
      "metadata": {
        "colab": {
          "base_uri": "https://localhost:8080/"
        },
        "id": "qjoEfHoWsr9H",
        "outputId": "ce5ff4a5-f5e3-4692-9740-3738ca24a453"
      },
      "execution_count": 30,
      "outputs": [
        {
          "output_type": "stream",
          "name": "stdout",
          "text": [
            "[INFO] evaluating network...\n"
          ]
        }
      ]
    },
    {
      "cell_type": "code",
      "source": [
        "print(classification_report(testY_argm,pred,target_names=lb.classes_))"
      ],
      "metadata": {
        "colab": {
          "base_uri": "https://localhost:8080/"
        },
        "id": "Po9wqNIMts7s",
        "outputId": "7188a5ef-8317-4377-ac80-232db816e56c"
      },
      "execution_count": 31,
      "outputs": [
        {
          "output_type": "stream",
          "name": "stdout",
          "text": [
            "              precision    recall  f1-score   support\n",
            "\n",
            "      Normal       0.99      0.84      0.91       146\n",
            "Tuberculosis       0.85      0.99      0.92       134\n",
            "\n",
            "    accuracy                           0.91       280\n",
            "   macro avg       0.92      0.92      0.91       280\n",
            "weighted avg       0.93      0.91      0.91       280\n",
            "\n"
          ]
        }
      ]
    },
    {
      "cell_type": "code",
      "source": [
        "test_score = vgg16.evaluate(testX, testY) \n",
        "print(\"Test Loss {:.4f}, accuracy {:.2f}%\".format(test_score[0], test_score[1] * 100))"
      ],
      "metadata": {
        "colab": {
          "base_uri": "https://localhost:8080/"
        },
        "id": "5NSJXylrt1ND",
        "outputId": "23d2db2f-0853-4404-90bd-0978afb26bba"
      },
      "execution_count": 32,
      "outputs": [
        {
          "output_type": "stream",
          "name": "stdout",
          "text": [
            "9/9 [==============================] - 1s 57ms/step - loss: 0.9278 - accuracy: 0.9143\n",
            "Test Loss 0.9278, accuracy 91.43%\n"
          ]
        }
      ]
    },
    {
      "cell_type": "code",
      "source": [
        "from sklearn.metrics import confusion_matrix\n",
        "import itertools\n",
        "\n",
        "def plot_confusion_matrix(cm, classes, normalize=False, title='Confusion matrix', cmap='Blues'):\n",
        "  if normalize:\n",
        "     cm = cm.astype('float') / cm.sum(axis=1)[:, np.newaxis]\n",
        "     print(\"Normalized confusion matrix\")\n",
        "  else:\n",
        "     print('Confusion matrix, without normalization')\n",
        "  print(cm)\n",
        "  plt.imshow(cm, interpolation='nearest', cmap=cmap)\n",
        "  plt.title(title)\n",
        "  plt.colorbar()\n",
        "  tick_marks = np.arange(len(classes))\n",
        "  plt.xticks(tick_marks, classes, rotation=45)\n",
        "  plt.yticks(tick_marks, classes)\n",
        "  fmt = '.2f' if normalize else 'd'\n",
        "  thresh = cm.max() / 2.\n",
        "  for i, j in itertools.product(range(cm.shape[0]), range(cm.shape[1])):\n",
        "      plt.text(j, i, format(cm[i, j], fmt), horizontalalignment=\"center\", color=\"white\" if cm[i, j] > thresh else \"black\")\n",
        "  plt.ylabel('True label')\n",
        "  plt.xlabel('Predicted label')\n",
        "  plt.tight_layout()"
      ],
      "metadata": {
        "id": "ZS-FXHa6uI6H"
      },
      "execution_count": 33,
      "outputs": []
    },
    {
      "cell_type": "code",
      "source": [
        "cnf_matrix = confusion_matrix(testY_argm, pred)\n",
        "np.set_printoptions(precision=2)\n",
        "\n",
        "# Plot non/normalized confusion matrix\n",
        "plt.figure()\n",
        "plot_confusion_matrix(cnf_matrix,\n",
        "classes=lb.classes_, normalize=True)\n",
        "plt.show()\n",
        "\n",
        "plt.figure()\n",
        "plot_confusion_matrix(cnf_matrix,\n",
        "classes=lb.classes_, normalize=False)\n",
        "plt.show()\n",
        "\n",
        "f, ax = plt.subplots()\n",
        "ax.plot([None] + H.history['accuracy'], 'o-')\n",
        "ax.plot([None] + H.history['val_accuracy'], 'x-')\n",
        "\n",
        "ax.legend(['Train acc', 'Validation acc'], loc = 0)\n",
        "ax.set_title('Training/Validation acc per Epoch')\n",
        "ax.set_xlabel('Epoch')\n",
        "ax.set_ylabel('acc')\n",
        "plt.grid(True)\n",
        "\n",
        "f, ax = plt.subplots()\n",
        "ax.plot([None] + H.history['loss'], 'o-')\n",
        "ax.plot([None] + H.history['val_loss'], 'x-')\n",
        "ax.legend(['Train Loss', 'Validation Loss'], loc = 0)\n",
        "ax.set_title('Training/Validation Loss per Epoch')\n",
        "ax.set_xlabel('Epoch')\n",
        "ax.set_ylabel('loss')\n",
        "plt.grid(True)"
      ],
      "metadata": {
        "colab": {
          "base_uri": "https://localhost:8080/",
          "height": 1000
        },
        "id": "eiYstz9xuRLx",
        "outputId": "3fceaf33-17c6-4d4c-f836-16c6182fe779"
      },
      "execution_count": 34,
      "outputs": [
        {
          "output_type": "stream",
          "name": "stdout",
          "text": [
            "Normalized confusion matrix\n",
            "[[0.84 0.16]\n",
            " [0.01 0.99]]\n"
          ]
        },
        {
          "output_type": "display_data",
          "data": {
            "text/plain": [
              "<Figure size 432x288 with 2 Axes>"
            ],
            "image/png": "[encoded data removed]"
          },
          "metadata": {
            "needs_background": "light"
          }
        },
        {
          "output_type": "stream",
          "name": "stdout",
          "text": [
            "Confusion matrix, without normalization\n",
            "[[123  23]\n",
            " [  1 133]]\n"
          ]
        },
        {
          "output_type": "display_data",
          "data": {
            "text/plain": [
              "<Figure size 432x288 with 2 Axes>"
            ],
            "image/png": "[encoded data removed]"
          },
          "metadata": {
            "needs_background": "light"
          }
        },
        {
          "output_type": "display_data",
          "data": {
            "text/plain": [
              "<Figure size 432x288 with 1 Axes>"
            ],
            "image/png": "[encoded data removed]"
          },
          "metadata": {
            "needs_background": "light"
          }
        },
        {
          "output_type": "display_data",
          "data": {
            "text/plain": [
              "<Figure size 432x288 with 1 Axes>"
            ],
            "image/png": "[encoded data removed]"
          },
          "metadata": {
            "needs_background": "light"
          }
        }
      ]
    }
  ]
}