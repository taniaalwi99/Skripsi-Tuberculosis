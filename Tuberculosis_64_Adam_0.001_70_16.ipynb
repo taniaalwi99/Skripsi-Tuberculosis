{
  "nbformat": 4,
  "nbformat_minor": 0,
  "metadata": {
    "colab": {
      "name": "Tuberculosis_VGG-16.ipynb",
      "provenance": [],
      "collapsed_sections": [],
      "include_colab_link": true
    },
    "kernelspec": {
      "name": "python3",
      "display_name": "Python 3"
    },
    "language_info": {
      "name": "python"
    },
    "accelerator": "GPU",
    "gpuClass": "standard"
  },
  "cells": [
    {
      "cell_type": "markdown",
      "metadata": {
        "id": "view-in-github",
        "colab_type": "text"
      },
      "source": [
        "<a href=\"https://colab.research.google.com/github/taniaalwi99/Skripsi-Tuberculosis/blob/main/Tuberculosis_64_Adam_0.001_70_16.ipynb\" target=\"_parent\"><img src=\"https://colab.research.google.com/assets/colab-badge.svg\" alt=\"Open In Colab\"/></a>"
      ]
    },
    {
      "cell_type": "code",
      "execution_count": 18,
      "metadata": {
        "colab": {
          "base_uri": "https://localhost:8080/"
        },
        "id": "2_RYo7hrXaC5",
        "outputId": "3014ebc0-a9a4-424b-a226-2eec908bd0e6"
      },
      "outputs": [
        {
          "output_type": "stream",
          "name": "stdout",
          "text": [
            "Drive already mounted at /content/drive; to attempt to forcibly remount, call drive.mount(\"/content/drive\", force_remount=True).\n"
          ]
        }
      ],
      "source": [
        "from google.colab import drive\n",
        "drive.mount('/content/drive')"
      ]
    },
    {
      "cell_type": "code",
      "source": [
        "cd /content/drive/My Drive"
      ],
      "metadata": {
        "colab": {
          "base_uri": "https://localhost:8080/"
        },
        "id": "G4aisxOFX3KH",
        "outputId": "739e76f9-2289-488a-ceed-be678ebc2e7e"
      },
      "execution_count": 19,
      "outputs": [
        {
          "output_type": "stream",
          "name": "stdout",
          "text": [
            "/content/drive/My Drive\n"
          ]
        }
      ]
    },
    {
      "cell_type": "code",
      "source": [
        "ls"
      ],
      "metadata": {
        "colab": {
          "base_uri": "https://localhost:8080/"
        },
        "id": "e_oGUrADX8O_",
        "outputId": "6e0dc17a-0266-47de-883a-c360fff5b6ed"
      },
      "execution_count": 20,
      "outputs": [
        {
          "output_type": "stream",
          "name": "stdout",
          "text": [
            "\u001b[0m\u001b[01;34m'Colab Notebooks'\u001b[0m/  \u001b[01;34m'Dataset Gray'\u001b[0m/  \u001b[01;34m'Tania Alwi'\u001b[0m/\n"
          ]
        }
      ]
    },
    {
      "cell_type": "code",
      "source": [
        "from keras.models import Model\n",
        "from keras.models import load_model\n",
        "from keras.models import Sequential\n",
        "from keras.layers.convolutional import Convolution2D\n",
        "from keras.layers.convolutional import MaxPooling2D\n",
        "from keras.layers.convolutional import ZeroPadding2D\n",
        "from keras.layers.core import Activation\n",
        "from keras.layers.core import Flatten\n",
        "from keras.layers.core import Dense\n",
        "from keras.layers.core import Dropout\n",
        "from keras.layers import BatchNormalization\n",
        "from keras import regularizers\n",
        "from keras.preprocessing.image import ImageDataGenerator\n",
        "from tensorflow.keras.optimizers import RMSprop, Adam, SGD\n",
        "from sklearn.preprocessing import LabelBinarizer\n",
        "from sklearn.model_selection import train_test_split\n",
        "from sklearn.metrics import classification_report\n",
        "from PIL import Image\n",
        "from matplotlib import pyplot as plt\n",
        "from imutils import paths\n",
        "import numpy as np\n",
        "import os"
      ],
      "metadata": {
        "id": "t95OxlI7X_OF"
      },
      "execution_count": 21,
      "outputs": []
    },
    {
      "cell_type": "code",
      "source": [
        "print(\"[INFO] loading images...\")\n",
        "imagePaths = paths.list_images(\"Dataset Gray\")\n",
        "data = []\n",
        "labels = []"
      ],
      "metadata": {
        "colab": {
          "base_uri": "https://localhost:8080/"
        },
        "id": "jvn693i-YDZ8",
        "outputId": "f482e2e1-0222-485a-f8a8-c990675472b5"
      },
      "execution_count": 22,
      "outputs": [
        {
          "output_type": "stream",
          "name": "stdout",
          "text": [
            "[INFO] loading images...\n"
          ]
        }
      ]
    },
    {
      "cell_type": "code",
      "source": [
        "for imagePaths in imagePaths:\n",
        "    a = Image.open(imagePaths)\n",
        "    image = np.array(a.resize((64,64))) / 255.0\n",
        "    data.append(image)\n",
        "    \n",
        "    label = imagePaths.split(os.path.sep) [-2]\n",
        "    labels.append(label)"
      ],
      "metadata": {
        "id": "3XLuWAZsYLfK"
      },
      "execution_count": 23,
      "outputs": []
    },
    {
      "cell_type": "code",
      "source": [
        "from sklearn.preprocessing import LabelBinarizer\n",
        "import numpy as np\n",
        "\n",
        "class MyLabelBinarizer(LabelBinarizer):\n",
        "    def transform(self, label):\n",
        "      nilaiy = super().transform(label)\n",
        "      if self.y_type_== 'binary':\n",
        "        return np.hstack((nilaiy, 1-nilaiy))\n",
        "      else:\n",
        "        return nilaiy\n",
        "    def inverse_transform(self, nilaiy, threshold=None):\n",
        "      if self.y_type_ == 'binary':\n",
        "          return super().inverse_transform(nilaiy[:, 0], threshold)\n",
        "      else:\n",
        "          return super().inverse_transform(nilaiy, threshold)\n",
        "\n",
        "      \n",
        "\n",
        "lb = MyLabelBinarizer()\n",
        "labels = lb.fit_transform(labels)\n",
        "print(labels)"
      ],
      "metadata": {
        "colab": {
          "base_uri": "https://localhost:8080/"
        },
        "id": "gnjyPDi_Yyrn",
        "outputId": "a8f07c6c-7f20-4b94-d514-454341e37ebc"
      },
      "execution_count": 24,
      "outputs": [
        {
          "output_type": "stream",
          "name": "stdout",
          "text": [
            "[[0 1]\n",
            " [0 1]\n",
            " [0 1]\n",
            " ...\n",
            " [1 0]\n",
            " [1 0]\n",
            " [1 0]]\n"
          ]
        }
      ]
    },
    {
      "cell_type": "code",
      "source": [
        "(trainX,testX, trainY, testY) = train_test_split(np.array(data),np.array(labels), test_size=0.20)\n",
        "print(trainX.shape)\n",
        "print(testX.shape)"
      ],
      "metadata": {
        "colab": {
          "base_uri": "https://localhost:8080/"
        },
        "id": "0V3CnlQtY1g2",
        "outputId": "ce9cf2c3-0abf-46d0-99e4-79c1050b4b35"
      },
      "execution_count": 25,
      "outputs": [
        {
          "output_type": "stream",
          "name": "stdout",
          "text": [
            "(1120, 64, 64)\n",
            "(280, 64, 64)\n"
          ]
        }
      ]
    },
    {
      "cell_type": "code",
      "source": [
        "def vgg16(num_classes):\n",
        "\n",
        "    vgg16 = Sequential()\n",
        "\n",
        "    vgg16.add(Convolution2D(input_shape=(64,64,1),filters=64,kernel_size=(3,3),padding=\"same\"))\n",
        "    vgg16.add(Activation('relu'))\n",
        "    vgg16.add(BatchNormalization())\n",
        "    #layer1 32*32*64\n",
        "    vgg16.add(Convolution2D(filters=64,kernel_size=(3,3),padding=\"same\"))\n",
        "    vgg16.add(Activation('relu'))\n",
        "    vgg16.add(MaxPooling2D(pool_size=(2, 2),strides=(2,2)))\n",
        "    vgg16.add(BatchNormalization())\n",
        "    #layer2 16*16*64\n",
        "    vgg16.add(Convolution2D(filters=128, kernel_size=(3,3), padding=\"same\"))\n",
        "    vgg16.add(Activation('relu'))\n",
        "    vgg16.add(BatchNormalization())\n",
        "    #layer3 16*16*128\n",
        "    vgg16.add(Convolution2D(filters=128, kernel_size=(3,3), padding=\"same\",))\n",
        "    vgg16.add(Activation('relu'))\n",
        "    vgg16.add(MaxPooling2D(pool_size=(2,2),strides=(2,2)))\n",
        "    vgg16.add(BatchNormalization())\n",
        "    #layer4 8*8*128\n",
        "    vgg16.add(Convolution2D(filters=256, kernel_size=(3,3), padding=\"same\"))\n",
        "    vgg16.add(Activation('relu'))\n",
        "    vgg16.add(BatchNormalization())\n",
        "    #layer5 8*8*256\n",
        "    vgg16.add(Convolution2D(filters=256, kernel_size=(3,3), padding=\"same\"))\n",
        "    vgg16.add(Activation('relu'))\n",
        "    vgg16.add(BatchNormalization())\n",
        "    #layer6 8*8*256\n",
        "    vgg16.add(Convolution2D(filters=256, kernel_size=(3,3), padding=\"same\"))\n",
        "    vgg16.add(Activation('relu'))\n",
        "    vgg16.add(MaxPooling2D(pool_size=(2,2),strides=(2,2)))\n",
        "    vgg16.add(BatchNormalization())\n",
        "    #layer7 4*4*256\n",
        "    vgg16.add(Convolution2D(filters=512, kernel_size=(3,3), padding=\"same\"))\n",
        "    vgg16.add(Activation('relu'))\n",
        "    vgg16.add(BatchNormalization())\n",
        "    #layer8 4*4*512\n",
        "    vgg16.add(Convolution2D(filters=512, kernel_size=(3,3), padding=\"same\"))\n",
        "    vgg16.add(Activation('relu'))\n",
        "    vgg16.add(BatchNormalization())\n",
        "    #layer9 4*4*512\n",
        "    vgg16.add(Convolution2D(filters=512, kernel_size=(3,3), padding=\"same\"))\n",
        "    vgg16.add(Activation('relu'))\n",
        "    vgg16.add(MaxPooling2D(pool_size=(2,2),strides=(2,2)))\n",
        "    vgg16.add(BatchNormalization())\n",
        "    #layer10 2*2*512\n",
        "    vgg16.add(Convolution2D(filters=512, kernel_size=(3,3), padding=\"same\"))\n",
        "    vgg16.add(Activation('relu'))\n",
        "    vgg16.add(BatchNormalization())\n",
        "    #layer11 2*2*512\n",
        "    vgg16.add(Convolution2D(filters=512, kernel_size=(3,3), padding=\"same\"))  \n",
        "    vgg16.add(Activation('relu')) \n",
        "    vgg16.add(BatchNormalization())       \n",
        "    #layer12 2*2*512\n",
        "    vgg16.add(Convolution2D(filters=512, kernel_size=(3,3), padding=\"same\"))\n",
        "    vgg16.add(Activation('relu'))\n",
        "    vgg16.add(MaxPooling2D(pool_size=(2,2),strides=(2,2)))\n",
        "    vgg16.add(BatchNormalization())\n",
        "    #layer13 1*1*512\n",
        "    vgg16.add(Flatten())\n",
        "    vgg16.add(Dense(units=4096))\n",
        "    vgg16.add(Activation('relu')) \n",
        "    vgg16.add(BatchNormalization())\n",
        "    vgg16.add(Dropout(0.5))\n",
        "    #layer14 4096\n",
        "    vgg16.add(Dense(units=4096))\n",
        "    vgg16.add(Activation('relu')) \n",
        "    vgg16.add(BatchNormalization())\n",
        "    vgg16.add(Dropout(0.5))\n",
        "    #layer16 4096\n",
        "    vgg16.add(Dense(units=1000))\n",
        "    vgg16.add(Activation('relu'))\n",
        "    vgg16.add(BatchNormalization())\n",
        "    vgg16.add(Dropout(0.5)) \n",
        "    #layer16 1000\n",
        "    vgg16.add(Dense(2, activation=\"sigmoid\"))\n",
        "\n",
        "    return vgg16"
      ],
      "metadata": {
        "id": "WpeYjXzUZCZP"
      },
      "execution_count": 28,
      "outputs": []
    },
    {
      "cell_type": "code",
      "source": [
        "num_classes=2\n",
        "vgg16=vgg16(num_classes)\n",
        "vgg16.summary()"
      ],
      "metadata": {
        "colab": {
          "base_uri": "https://localhost:8080/"
        },
        "id": "rlT3OhVuZLUs",
        "outputId": "ba39b6fb-4e89-478b-edc4-30f779e4417f"
      },
      "execution_count": 29,
      "outputs": [
        {
          "output_type": "stream",
          "name": "stdout",
          "text": [
            "Model: \"sequential_2\"\n",
            "_________________________________________________________________\n",
            " Layer (type)                Output Shape              Param #   \n",
            "=================================================================\n",
            " conv2d_26 (Conv2D)          (None, 64, 64, 64)        640       \n",
            "                                                                 \n",
            " activation_32 (Activation)  (None, 64, 64, 64)        0         \n",
            "                                                                 \n",
            " batch_normalization_32 (Bat  (None, 64, 64, 64)       256       \n",
            " chNormalization)                                                \n",
            "                                                                 \n",
            " conv2d_27 (Conv2D)          (None, 64, 64, 64)        36928     \n",
            "                                                                 \n",
            " activation_33 (Activation)  (None, 64, 64, 64)        0         \n",
            "                                                                 \n",
            " max_pooling2d_10 (MaxPoolin  (None, 32, 32, 64)       0         \n",
            " g2D)                                                            \n",
            "                                                                 \n",
            " batch_normalization_33 (Bat  (None, 32, 32, 64)       256       \n",
            " chNormalization)                                                \n",
            "                                                                 \n",
            " conv2d_28 (Conv2D)          (None, 32, 32, 128)       73856     \n",
            "                                                                 \n",
            " activation_34 (Activation)  (None, 32, 32, 128)       0         \n",
            "                                                                 \n",
            " batch_normalization_34 (Bat  (None, 32, 32, 128)      512       \n",
            " chNormalization)                                                \n",
            "                                                                 \n",
            " conv2d_29 (Conv2D)          (None, 32, 32, 128)       147584    \n",
            "                                                                 \n",
            " activation_35 (Activation)  (None, 32, 32, 128)       0         \n",
            "                                                                 \n",
            " max_pooling2d_11 (MaxPoolin  (None, 16, 16, 128)      0         \n",
            " g2D)                                                            \n",
            "                                                                 \n",
            " batch_normalization_35 (Bat  (None, 16, 16, 128)      512       \n",
            " chNormalization)                                                \n",
            "                                                                 \n",
            " conv2d_30 (Conv2D)          (None, 16, 16, 256)       295168    \n",
            "                                                                 \n",
            " activation_36 (Activation)  (None, 16, 16, 256)       0         \n",
            "                                                                 \n",
            " batch_normalization_36 (Bat  (None, 16, 16, 256)      1024      \n",
            " chNormalization)                                                \n",
            "                                                                 \n",
            " conv2d_31 (Conv2D)          (None, 16, 16, 256)       590080    \n",
            "                                                                 \n",
            " activation_37 (Activation)  (None, 16, 16, 256)       0         \n",
            "                                                                 \n",
            " batch_normalization_37 (Bat  (None, 16, 16, 256)      1024      \n",
            " chNormalization)                                                \n",
            "                                                                 \n",
            " conv2d_32 (Conv2D)          (None, 16, 16, 256)       590080    \n",
            "                                                                 \n",
            " activation_38 (Activation)  (None, 16, 16, 256)       0         \n",
            "                                                                 \n",
            " max_pooling2d_12 (MaxPoolin  (None, 8, 8, 256)        0         \n",
            " g2D)                                                            \n",
            "                                                                 \n",
            " batch_normalization_38 (Bat  (None, 8, 8, 256)        1024      \n",
            " chNormalization)                                                \n",
            "                                                                 \n",
            " conv2d_33 (Conv2D)          (None, 8, 8, 512)         1180160   \n",
            "                                                                 \n",
            " activation_39 (Activation)  (None, 8, 8, 512)         0         \n",
            "                                                                 \n",
            " batch_normalization_39 (Bat  (None, 8, 8, 512)        2048      \n",
            " chNormalization)                                                \n",
            "                                                                 \n",
            " conv2d_34 (Conv2D)          (None, 8, 8, 512)         2359808   \n",
            "                                                                 \n",
            " activation_40 (Activation)  (None, 8, 8, 512)         0         \n",
            "                                                                 \n",
            " batch_normalization_40 (Bat  (None, 8, 8, 512)        2048      \n",
            " chNormalization)                                                \n",
            "                                                                 \n",
            " conv2d_35 (Conv2D)          (None, 8, 8, 512)         2359808   \n",
            "                                                                 \n",
            " activation_41 (Activation)  (None, 8, 8, 512)         0         \n",
            "                                                                 \n",
            " max_pooling2d_13 (MaxPoolin  (None, 4, 4, 512)        0         \n",
            " g2D)                                                            \n",
            "                                                                 \n",
            " batch_normalization_41 (Bat  (None, 4, 4, 512)        2048      \n",
            " chNormalization)                                                \n",
            "                                                                 \n",
            " conv2d_36 (Conv2D)          (None, 4, 4, 512)         2359808   \n",
            "                                                                 \n",
            " activation_42 (Activation)  (None, 4, 4, 512)         0         \n",
            "                                                                 \n",
            " batch_normalization_42 (Bat  (None, 4, 4, 512)        2048      \n",
            " chNormalization)                                                \n",
            "                                                                 \n",
            " conv2d_37 (Conv2D)          (None, 4, 4, 512)         2359808   \n",
            "                                                                 \n",
            " activation_43 (Activation)  (None, 4, 4, 512)         0         \n",
            "                                                                 \n",
            " batch_normalization_43 (Bat  (None, 4, 4, 512)        2048      \n",
            " chNormalization)                                                \n",
            "                                                                 \n",
            " conv2d_38 (Conv2D)          (None, 4, 4, 512)         2359808   \n",
            "                                                                 \n",
            " activation_44 (Activation)  (None, 4, 4, 512)         0         \n",
            "                                                                 \n",
            " max_pooling2d_14 (MaxPoolin  (None, 2, 2, 512)        0         \n",
            " g2D)                                                            \n",
            "                                                                 \n",
            " batch_normalization_44 (Bat  (None, 2, 2, 512)        2048      \n",
            " chNormalization)                                                \n",
            "                                                                 \n",
            " flatten_2 (Flatten)         (None, 2048)              0         \n",
            "                                                                 \n",
            " dense_8 (Dense)             (None, 4096)              8392704   \n",
            "                                                                 \n",
            " activation_45 (Activation)  (None, 4096)              0         \n",
            "                                                                 \n",
            " batch_normalization_45 (Bat  (None, 4096)             16384     \n",
            " chNormalization)                                                \n",
            "                                                                 \n",
            " dropout_6 (Dropout)         (None, 4096)              0         \n",
            "                                                                 \n",
            " dense_9 (Dense)             (None, 4096)              16781312  \n",
            "                                                                 \n",
            " activation_46 (Activation)  (None, 4096)              0         \n",
            "                                                                 \n",
            " batch_normalization_46 (Bat  (None, 4096)             16384     \n",
            " chNormalization)                                                \n",
            "                                                                 \n",
            " dropout_7 (Dropout)         (None, 4096)              0         \n",
            "                                                                 \n",
            " dense_10 (Dense)            (None, 1000)              4097000   \n",
            "                                                                 \n",
            " activation_47 (Activation)  (None, 1000)              0         \n",
            "                                                                 \n",
            " batch_normalization_47 (Bat  (None, 1000)             4000      \n",
            " chNormalization)                                                \n",
            "                                                                 \n",
            " dropout_8 (Dropout)         (None, 1000)              0         \n",
            "                                                                 \n",
            " dense_11 (Dense)            (None, 2)                 2002      \n",
            "                                                                 \n",
            "=================================================================\n",
            "Total params: 44,040,218\n",
            "Trainable params: 44,013,386\n",
            "Non-trainable params: 26,832\n",
            "_________________________________________________________________\n"
          ]
        }
      ]
    },
    {
      "cell_type": "code",
      "source": [
        "#setting hyperparameter, menggunakan Adam\n",
        "opt = Adam(lr=0.001)\n",
        "vgg16.compile(loss='binary_crossentropy', optimizer=opt, metrics=['accuracy'])\n",
        "vgg16.summary()"
      ],
      "metadata": {
        "colab": {
          "base_uri": "https://localhost:8080/"
        },
        "id": "eZ0TePWVZTx4",
        "outputId": "57ebfda5-8cc3-4619-ac95-5458356c0689"
      },
      "execution_count": 30,
      "outputs": [
        {
          "output_type": "stream",
          "name": "stdout",
          "text": [
            "Model: \"sequential_2\"\n",
            "_________________________________________________________________\n",
            " Layer (type)                Output Shape              Param #   \n",
            "=================================================================\n",
            " conv2d_26 (Conv2D)          (None, 64, 64, 64)        640       \n",
            "                                                                 \n",
            " activation_32 (Activation)  (None, 64, 64, 64)        0         \n",
            "                                                                 \n",
            " batch_normalization_32 (Bat  (None, 64, 64, 64)       256       \n",
            " chNormalization)                                                \n",
            "                                                                 \n",
            " conv2d_27 (Conv2D)          (None, 64, 64, 64)        36928     \n",
            "                                                                 \n",
            " activation_33 (Activation)  (None, 64, 64, 64)        0         \n",
            "                                                                 \n",
            " max_pooling2d_10 (MaxPoolin  (None, 32, 32, 64)       0         \n",
            " g2D)                                                            \n",
            "                                                                 \n",
            " batch_normalization_33 (Bat  (None, 32, 32, 64)       256       \n",
            " chNormalization)                                                \n",
            "                                                                 \n",
            " conv2d_28 (Conv2D)          (None, 32, 32, 128)       73856     \n",
            "                                                                 \n",
            " activation_34 (Activation)  (None, 32, 32, 128)       0         \n",
            "                                                                 \n",
            " batch_normalization_34 (Bat  (None, 32, 32, 128)      512       \n",
            " chNormalization)                                                \n",
            "                                                                 \n",
            " conv2d_29 (Conv2D)          (None, 32, 32, 128)       147584    \n",
            "                                                                 \n",
            " activation_35 (Activation)  (None, 32, 32, 128)       0         \n",
            "                                                                 \n",
            " max_pooling2d_11 (MaxPoolin  (None, 16, 16, 128)      0         \n",
            " g2D)                                                            \n",
            "                                                                 \n",
            " batch_normalization_35 (Bat  (None, 16, 16, 128)      512       \n",
            " chNormalization)                                                \n",
            "                                                                 \n",
            " conv2d_30 (Conv2D)          (None, 16, 16, 256)       295168    \n",
            "                                                                 \n",
            " activation_36 (Activation)  (None, 16, 16, 256)       0         \n",
            "                                                                 \n",
            " batch_normalization_36 (Bat  (None, 16, 16, 256)      1024      \n",
            " chNormalization)                                                \n",
            "                                                                 \n",
            " conv2d_31 (Conv2D)          (None, 16, 16, 256)       590080    \n",
            "                                                                 \n",
            " activation_37 (Activation)  (None, 16, 16, 256)       0         \n",
            "                                                                 \n",
            " batch_normalization_37 (Bat  (None, 16, 16, 256)      1024      \n",
            " chNormalization)                                                \n",
            "                                                                 \n",
            " conv2d_32 (Conv2D)          (None, 16, 16, 256)       590080    \n",
            "                                                                 \n",
            " activation_38 (Activation)  (None, 16, 16, 256)       0         \n",
            "                                                                 \n",
            " max_pooling2d_12 (MaxPoolin  (None, 8, 8, 256)        0         \n",
            " g2D)                                                            \n",
            "                                                                 \n",
            " batch_normalization_38 (Bat  (None, 8, 8, 256)        1024      \n",
            " chNormalization)                                                \n",
            "                                                                 \n",
            " conv2d_33 (Conv2D)          (None, 8, 8, 512)         1180160   \n",
            "                                                                 \n",
            " activation_39 (Activation)  (None, 8, 8, 512)         0         \n",
            "                                                                 \n",
            " batch_normalization_39 (Bat  (None, 8, 8, 512)        2048      \n",
            " chNormalization)                                                \n",
            "                                                                 \n",
            " conv2d_34 (Conv2D)          (None, 8, 8, 512)         2359808   \n",
            "                                                                 \n",
            " activation_40 (Activation)  (None, 8, 8, 512)         0         \n",
            "                                                                 \n",
            " batch_normalization_40 (Bat  (None, 8, 8, 512)        2048      \n",
            " chNormalization)                                                \n",
            "                                                                 \n",
            " conv2d_35 (Conv2D)          (None, 8, 8, 512)         2359808   \n",
            "                                                                 \n",
            " activation_41 (Activation)  (None, 8, 8, 512)         0         \n",
            "                                                                 \n",
            " max_pooling2d_13 (MaxPoolin  (None, 4, 4, 512)        0         \n",
            " g2D)                                                            \n",
            "                                                                 \n",
            " batch_normalization_41 (Bat  (None, 4, 4, 512)        2048      \n",
            " chNormalization)                                                \n",
            "                                                                 \n",
            " conv2d_36 (Conv2D)          (None, 4, 4, 512)         2359808   \n",
            "                                                                 \n",
            " activation_42 (Activation)  (None, 4, 4, 512)         0         \n",
            "                                                                 \n",
            " batch_normalization_42 (Bat  (None, 4, 4, 512)        2048      \n",
            " chNormalization)                                                \n",
            "                                                                 \n",
            " conv2d_37 (Conv2D)          (None, 4, 4, 512)         2359808   \n",
            "                                                                 \n",
            " activation_43 (Activation)  (None, 4, 4, 512)         0         \n",
            "                                                                 \n",
            " batch_normalization_43 (Bat  (None, 4, 4, 512)        2048      \n",
            " chNormalization)                                                \n",
            "                                                                 \n",
            " conv2d_38 (Conv2D)          (None, 4, 4, 512)         2359808   \n",
            "                                                                 \n",
            " activation_44 (Activation)  (None, 4, 4, 512)         0         \n",
            "                                                                 \n",
            " max_pooling2d_14 (MaxPoolin  (None, 2, 2, 512)        0         \n",
            " g2D)                                                            \n",
            "                                                                 \n",
            " batch_normalization_44 (Bat  (None, 2, 2, 512)        2048      \n",
            " chNormalization)                                                \n",
            "                                                                 \n",
            " flatten_2 (Flatten)         (None, 2048)              0         \n",
            "                                                                 \n",
            " dense_8 (Dense)             (None, 4096)              8392704   \n",
            "                                                                 \n",
            " activation_45 (Activation)  (None, 4096)              0         \n",
            "                                                                 \n",
            " batch_normalization_45 (Bat  (None, 4096)             16384     \n",
            " chNormalization)                                                \n",
            "                                                                 \n",
            " dropout_6 (Dropout)         (None, 4096)              0         \n",
            "                                                                 \n",
            " dense_9 (Dense)             (None, 4096)              16781312  \n",
            "                                                                 \n",
            " activation_46 (Activation)  (None, 4096)              0         \n",
            "                                                                 \n",
            " batch_normalization_46 (Bat  (None, 4096)             16384     \n",
            " chNormalization)                                                \n",
            "                                                                 \n",
            " dropout_7 (Dropout)         (None, 4096)              0         \n",
            "                                                                 \n"
          ]
        },
        {
          "output_type": "stream",
          "name": "stderr",
          "text": [
            "/usr/local/lib/python3.7/dist-packages/keras/optimizer_v2/adam.py:105: UserWarning: The `lr` argument is deprecated, use `learning_rate` instead.\n",
            "  super(Adam, self).__init__(name, **kwargs)\n"
          ]
        },
        {
          "output_type": "stream",
          "name": "stdout",
          "text": [
            " dense_10 (Dense)            (None, 1000)              4097000   \n",
            "                                                                 \n",
            " activation_47 (Activation)  (None, 1000)              0         \n",
            "                                                                 \n",
            " batch_normalization_47 (Bat  (None, 1000)             4000      \n",
            " chNormalization)                                                \n",
            "                                                                 \n",
            " dropout_8 (Dropout)         (None, 1000)              0         \n",
            "                                                                 \n",
            " dense_11 (Dense)            (None, 2)                 2002      \n",
            "                                                                 \n",
            "=================================================================\n",
            "Total params: 44,040,218\n",
            "Trainable params: 44,013,386\n",
            "Non-trainable params: 26,832\n",
            "_________________________________________________________________\n"
          ]
        }
      ]
    },
    {
      "cell_type": "code",
      "source": [
        "#training data\n",
        "H = vgg16.fit(trainX, trainY, validation_data=(testX, testY), epochs=70, batch_size=16)"
      ],
      "metadata": {
        "colab": {
          "base_uri": "https://localhost:8080/"
        },
        "id": "JOp0TzHxZYLf",
        "outputId": "a012728f-a7e9-4e44-df1c-2b06f6d7dcc8"
      },
      "execution_count": 31,
      "outputs": [
        {
          "output_type": "stream",
          "name": "stdout",
          "text": [
            "Epoch 1/70\n",
            "70/70 [==============================] - 8s 61ms/step - loss: 0.6579 - accuracy: 0.8268 - val_loss: 26.5237 - val_accuracy: 0.4929\n",
            "Epoch 2/70\n",
            "70/70 [==============================] - 3s 47ms/step - loss: 0.3018 - accuracy: 0.8938 - val_loss: 1.4758 - val_accuracy: 0.6607\n",
            "Epoch 3/70\n",
            "70/70 [==============================] - 3s 47ms/step - loss: 0.2659 - accuracy: 0.9134 - val_loss: 3.0514 - val_accuracy: 0.4929\n",
            "Epoch 4/70\n",
            "70/70 [==============================] - 3s 47ms/step - loss: 0.2222 - accuracy: 0.9321 - val_loss: 1.1767 - val_accuracy: 0.7357\n",
            "Epoch 5/70\n",
            "70/70 [==============================] - 3s 47ms/step - loss: 0.1861 - accuracy: 0.9446 - val_loss: 1.1622 - val_accuracy: 0.5321\n",
            "Epoch 6/70\n",
            "70/70 [==============================] - 3s 49ms/step - loss: 0.1592 - accuracy: 0.9491 - val_loss: 1.8677 - val_accuracy: 0.5107\n",
            "Epoch 7/70\n",
            "70/70 [==============================] - 3s 47ms/step - loss: 0.1570 - accuracy: 0.9571 - val_loss: 2.2313 - val_accuracy: 0.5000\n",
            "Epoch 8/70\n",
            "70/70 [==============================] - 3s 47ms/step - loss: 0.1516 - accuracy: 0.9536 - val_loss: 0.3084 - val_accuracy: 0.9071\n",
            "Epoch 9/70\n",
            "70/70 [==============================] - 3s 47ms/step - loss: 0.1475 - accuracy: 0.9527 - val_loss: 0.1839 - val_accuracy: 0.9429\n",
            "Epoch 10/70\n",
            "70/70 [==============================] - 3s 47ms/step - loss: 0.1389 - accuracy: 0.9607 - val_loss: 0.1750 - val_accuracy: 0.9429\n",
            "Epoch 11/70\n",
            "70/70 [==============================] - 3s 47ms/step - loss: 0.0804 - accuracy: 0.9723 - val_loss: 0.4739 - val_accuracy: 0.9143\n",
            "Epoch 12/70\n",
            "70/70 [==============================] - 3s 47ms/step - loss: 0.1240 - accuracy: 0.9563 - val_loss: 0.1481 - val_accuracy: 0.9393\n",
            "Epoch 13/70\n",
            "70/70 [==============================] - 3s 46ms/step - loss: 0.0484 - accuracy: 0.9839 - val_loss: 0.2091 - val_accuracy: 0.9500\n",
            "Epoch 14/70\n",
            "70/70 [==============================] - 3s 47ms/step - loss: 0.0986 - accuracy: 0.9679 - val_loss: 0.5009 - val_accuracy: 0.8786\n",
            "Epoch 15/70\n",
            "70/70 [==============================] - 3s 47ms/step - loss: 0.1271 - accuracy: 0.9554 - val_loss: 0.3658 - val_accuracy: 0.8964\n",
            "Epoch 16/70\n",
            "70/70 [==============================] - 3s 48ms/step - loss: 0.1229 - accuracy: 0.9536 - val_loss: 2.0752 - val_accuracy: 0.6107\n",
            "Epoch 17/70\n",
            "70/70 [==============================] - 3s 48ms/step - loss: 0.0966 - accuracy: 0.9670 - val_loss: 0.1666 - val_accuracy: 0.9714\n",
            "Epoch 18/70\n",
            "70/70 [==============================] - 3s 47ms/step - loss: 0.0675 - accuracy: 0.9786 - val_loss: 0.1599 - val_accuracy: 0.9643\n",
            "Epoch 19/70\n",
            "70/70 [==============================] - 3s 47ms/step - loss: 0.0439 - accuracy: 0.9884 - val_loss: 0.2410 - val_accuracy: 0.9357\n",
            "Epoch 20/70\n",
            "70/70 [==============================] - 3s 47ms/step - loss: 0.0554 - accuracy: 0.9812 - val_loss: 0.1566 - val_accuracy: 0.9679\n",
            "Epoch 21/70\n",
            "70/70 [==============================] - 3s 47ms/step - loss: 0.1048 - accuracy: 0.9714 - val_loss: 0.1566 - val_accuracy: 0.9571\n",
            "Epoch 22/70\n",
            "70/70 [==============================] - 3s 47ms/step - loss: 0.0574 - accuracy: 0.9839 - val_loss: 0.2975 - val_accuracy: 0.9214\n",
            "Epoch 23/70\n",
            "70/70 [==============================] - 3s 47ms/step - loss: 0.0898 - accuracy: 0.9607 - val_loss: 0.4751 - val_accuracy: 0.8821\n",
            "Epoch 24/70\n",
            "70/70 [==============================] - 3s 47ms/step - loss: 0.0516 - accuracy: 0.9804 - val_loss: 0.0937 - val_accuracy: 0.9786\n",
            "Epoch 25/70\n",
            "70/70 [==============================] - 3s 48ms/step - loss: 0.0355 - accuracy: 0.9902 - val_loss: 0.1641 - val_accuracy: 0.9500\n",
            "Epoch 26/70\n",
            "70/70 [==============================] - 3s 48ms/step - loss: 0.0243 - accuracy: 0.9920 - val_loss: 0.1373 - val_accuracy: 0.9607\n",
            "Epoch 27/70\n",
            "70/70 [==============================] - 3s 47ms/step - loss: 0.0455 - accuracy: 0.9866 - val_loss: 1.2085 - val_accuracy: 0.7036\n",
            "Epoch 28/70\n",
            "70/70 [==============================] - 3s 47ms/step - loss: 0.0910 - accuracy: 0.9661 - val_loss: 4.8095 - val_accuracy: 0.4929\n",
            "Epoch 29/70\n",
            "70/70 [==============================] - 3s 49ms/step - loss: 0.0383 - accuracy: 0.9839 - val_loss: 0.1891 - val_accuracy: 0.9536\n",
            "Epoch 30/70\n",
            "70/70 [==============================] - 3s 47ms/step - loss: 0.0423 - accuracy: 0.9857 - val_loss: 0.1908 - val_accuracy: 0.9464\n",
            "Epoch 31/70\n",
            "70/70 [==============================] - 3s 47ms/step - loss: 0.0520 - accuracy: 0.9804 - val_loss: 0.3134 - val_accuracy: 0.9143\n",
            "Epoch 32/70\n",
            "70/70 [==============================] - 4s 52ms/step - loss: 0.0930 - accuracy: 0.9661 - val_loss: 0.3348 - val_accuracy: 0.8929\n",
            "Epoch 33/70\n",
            "70/70 [==============================] - 3s 49ms/step - loss: 0.0499 - accuracy: 0.9830 - val_loss: 0.1078 - val_accuracy: 0.9786\n",
            "Epoch 34/70\n",
            "70/70 [==============================] - 3s 47ms/step - loss: 0.0142 - accuracy: 0.9973 - val_loss: 0.1720 - val_accuracy: 0.9643\n",
            "Epoch 35/70\n",
            "70/70 [==============================] - 3s 49ms/step - loss: 0.0315 - accuracy: 0.9920 - val_loss: 0.1765 - val_accuracy: 0.9679\n",
            "Epoch 36/70\n",
            "70/70 [==============================] - 3s 47ms/step - loss: 0.0691 - accuracy: 0.9759 - val_loss: 1.0657 - val_accuracy: 0.8179\n",
            "Epoch 37/70\n",
            "70/70 [==============================] - 3s 49ms/step - loss: 0.0511 - accuracy: 0.9848 - val_loss: 0.1649 - val_accuracy: 0.9500\n",
            "Epoch 38/70\n",
            "70/70 [==============================] - 3s 47ms/step - loss: 0.0483 - accuracy: 0.9839 - val_loss: 0.3838 - val_accuracy: 0.9214\n",
            "Epoch 39/70\n",
            "70/70 [==============================] - 3s 47ms/step - loss: 0.0277 - accuracy: 0.9929 - val_loss: 0.1482 - val_accuracy: 0.9679\n",
            "Epoch 40/70\n",
            "70/70 [==============================] - 3s 47ms/step - loss: 0.0362 - accuracy: 0.9920 - val_loss: 0.1026 - val_accuracy: 0.9786\n",
            "Epoch 41/70\n",
            "70/70 [==============================] - 3s 48ms/step - loss: 0.0487 - accuracy: 0.9857 - val_loss: 0.2575 - val_accuracy: 0.9357\n",
            "Epoch 42/70\n",
            "70/70 [==============================] - 3s 48ms/step - loss: 0.0431 - accuracy: 0.9866 - val_loss: 0.4964 - val_accuracy: 0.8964\n",
            "Epoch 43/70\n",
            "70/70 [==============================] - 3s 47ms/step - loss: 0.0375 - accuracy: 0.9866 - val_loss: 0.3323 - val_accuracy: 0.9357\n",
            "Epoch 44/70\n",
            "70/70 [==============================] - 3s 47ms/step - loss: 0.0257 - accuracy: 0.9902 - val_loss: 0.3972 - val_accuracy: 0.9393\n",
            "Epoch 45/70\n",
            "70/70 [==============================] - 3s 47ms/step - loss: 0.0175 - accuracy: 0.9955 - val_loss: 0.7124 - val_accuracy: 0.8679\n",
            "Epoch 46/70\n",
            "70/70 [==============================] - 3s 47ms/step - loss: 0.1387 - accuracy: 0.9616 - val_loss: 1.9522 - val_accuracy: 0.6857\n",
            "Epoch 47/70\n",
            "70/70 [==============================] - 3s 47ms/step - loss: 0.0704 - accuracy: 0.9786 - val_loss: 0.1969 - val_accuracy: 0.9643\n",
            "Epoch 48/70\n",
            "70/70 [==============================] - 3s 47ms/step - loss: 0.0428 - accuracy: 0.9893 - val_loss: 0.1603 - val_accuracy: 0.9714\n",
            "Epoch 49/70\n",
            "70/70 [==============================] - 3s 47ms/step - loss: 0.0391 - accuracy: 0.9857 - val_loss: 0.1198 - val_accuracy: 0.9786\n",
            "Epoch 50/70\n",
            "70/70 [==============================] - 3s 47ms/step - loss: 0.0331 - accuracy: 0.9893 - val_loss: 0.2233 - val_accuracy: 0.9429\n",
            "Epoch 51/70\n",
            "70/70 [==============================] - 3s 47ms/step - loss: 0.0776 - accuracy: 0.9857 - val_loss: 0.3007 - val_accuracy: 0.9000\n",
            "Epoch 52/70\n",
            "70/70 [==============================] - 3s 47ms/step - loss: 0.0639 - accuracy: 0.9786 - val_loss: 0.1530 - val_accuracy: 0.9786\n",
            "Epoch 53/70\n",
            "70/70 [==============================] - 3s 47ms/step - loss: 0.0074 - accuracy: 0.9982 - val_loss: 0.1227 - val_accuracy: 0.9786\n",
            "Epoch 54/70\n",
            "70/70 [==============================] - 3s 48ms/step - loss: 0.0538 - accuracy: 0.9857 - val_loss: 0.2168 - val_accuracy: 0.9571\n",
            "Epoch 55/70\n",
            "70/70 [==============================] - 3s 47ms/step - loss: 0.0424 - accuracy: 0.9866 - val_loss: 0.1882 - val_accuracy: 0.9679\n",
            "Epoch 56/70\n",
            "70/70 [==============================] - 3s 48ms/step - loss: 0.0202 - accuracy: 0.9937 - val_loss: 0.2145 - val_accuracy: 0.9500\n",
            "Epoch 57/70\n",
            "70/70 [==============================] - 3s 47ms/step - loss: 0.0988 - accuracy: 0.9679 - val_loss: 0.4176 - val_accuracy: 0.8286\n",
            "Epoch 58/70\n",
            "70/70 [==============================] - 3s 47ms/step - loss: 0.1017 - accuracy: 0.9688 - val_loss: 0.3648 - val_accuracy: 0.9679\n",
            "Epoch 59/70\n",
            "70/70 [==============================] - 3s 47ms/step - loss: 0.0540 - accuracy: 0.9857 - val_loss: 0.1665 - val_accuracy: 0.9536\n",
            "Epoch 60/70\n",
            "70/70 [==============================] - 3s 47ms/step - loss: 0.0182 - accuracy: 0.9946 - val_loss: 0.1245 - val_accuracy: 0.9786\n",
            "Epoch 61/70\n",
            "70/70 [==============================] - 3s 47ms/step - loss: 0.0446 - accuracy: 0.9848 - val_loss: 0.1790 - val_accuracy: 0.9536\n",
            "Epoch 62/70\n",
            "70/70 [==============================] - 3s 47ms/step - loss: 0.0284 - accuracy: 0.9920 - val_loss: 0.2268 - val_accuracy: 0.9429\n",
            "Epoch 63/70\n",
            "70/70 [==============================] - 3s 47ms/step - loss: 0.0178 - accuracy: 0.9937 - val_loss: 0.1073 - val_accuracy: 0.9679\n",
            "Epoch 64/70\n",
            "70/70 [==============================] - 3s 47ms/step - loss: 0.0220 - accuracy: 0.9982 - val_loss: 0.2688 - val_accuracy: 0.9643\n",
            "Epoch 65/70\n",
            "70/70 [==============================] - 3s 47ms/step - loss: 0.0332 - accuracy: 0.9911 - val_loss: 1.5052 - val_accuracy: 0.7571\n",
            "Epoch 66/70\n",
            "70/70 [==============================] - 3s 47ms/step - loss: 0.0833 - accuracy: 0.9786 - val_loss: 0.4683 - val_accuracy: 0.9143\n",
            "Epoch 67/70\n",
            "70/70 [==============================] - 3s 46ms/step - loss: 0.0245 - accuracy: 0.9929 - val_loss: 0.1688 - val_accuracy: 0.9786\n",
            "Epoch 68/70\n",
            "70/70 [==============================] - 3s 47ms/step - loss: 0.0509 - accuracy: 0.9866 - val_loss: 0.4109 - val_accuracy: 0.8857\n",
            "Epoch 69/70\n",
            "70/70 [==============================] - 3s 46ms/step - loss: 0.0413 - accuracy: 0.9893 - val_loss: 0.2151 - val_accuracy: 0.9464\n",
            "Epoch 70/70\n",
            "70/70 [==============================] - 3s 47ms/step - loss: 0.0087 - accuracy: 0.9973 - val_loss: 0.1864 - val_accuracy: 0.9607\n"
          ]
        }
      ]
    },
    {
      "cell_type": "code",
      "source": [
        "print(\"[INFO] evaluating network...\")\n",
        "predictions = vgg16.predict(testX, batch_size=16)\n",
        "pred=predictions.argmax(axis=1)\n",
        "testY_argm=testY.argmax(axis=1)\n"
      ],
      "metadata": {
        "colab": {
          "base_uri": "https://localhost:8080/"
        },
        "id": "qjoEfHoWsr9H",
        "outputId": "3511f984-de31-41d6-ee96-dd4da2b9a709"
      },
      "execution_count": 32,
      "outputs": [
        {
          "output_type": "stream",
          "name": "stdout",
          "text": [
            "[INFO] evaluating network...\n"
          ]
        }
      ]
    },
    {
      "cell_type": "code",
      "source": [
        "print(classification_report(testY_argm,pred,target_names=lb.classes_))"
      ],
      "metadata": {
        "colab": {
          "base_uri": "https://localhost:8080/"
        },
        "id": "Po9wqNIMts7s",
        "outputId": "e0e5628a-754c-4c92-a5ba-01ca7e9fd635"
      },
      "execution_count": 33,
      "outputs": [
        {
          "output_type": "stream",
          "name": "stdout",
          "text": [
            "              precision    recall  f1-score   support\n",
            "\n",
            "      Normal       0.98      0.94      0.96       139\n",
            "Tuberculosis       0.94      0.99      0.96       141\n",
            "\n",
            "    accuracy                           0.96       280\n",
            "   macro avg       0.96      0.96      0.96       280\n",
            "weighted avg       0.96      0.96      0.96       280\n",
            "\n"
          ]
        }
      ]
    },
    {
      "cell_type": "code",
      "source": [
        "test_score = vgg16.evaluate(testX, testY) \n",
        "print(\"Test Loss {:.4f}, accuracy {:.2f}%\".format(test_score[0], test_score[1] * 100))"
      ],
      "metadata": {
        "colab": {
          "base_uri": "https://localhost:8080/"
        },
        "id": "5NSJXylrt1ND",
        "outputId": "24924e6d-6829-4929-9cb6-134c976581c6"
      },
      "execution_count": 34,
      "outputs": [
        {
          "output_type": "stream",
          "name": "stdout",
          "text": [
            "9/9 [==============================] - 1s 85ms/step - loss: 0.1864 - accuracy: 0.9607\n",
            "Test Loss 0.1864, accuracy 96.07%\n"
          ]
        }
      ]
    },
    {
      "cell_type": "code",
      "source": [
        "from sklearn.metrics import confusion_matrix\n",
        "import itertools\n",
        "\n",
        "def plot_confusion_matrix(cm, classes, normalize=False, title='Confusion matrix', cmap='Blues'):\n",
        "  if normalize:\n",
        "     cm = cm.astype('float') / cm.sum(axis=1)[:, np.newaxis]\n",
        "     print(\"Normalized confusion matrix\")\n",
        "  else:\n",
        "     print('Confusion matrix, without normalization')\n",
        "  print(cm)\n",
        "  plt.imshow(cm, interpolation='nearest', cmap=cmap)\n",
        "  plt.title(title)\n",
        "  plt.colorbar()\n",
        "  tick_marks = np.arange(len(classes))\n",
        "  plt.xticks(tick_marks, classes, rotation=45)\n",
        "  plt.yticks(tick_marks, classes)\n",
        "  fmt = '.2f' if normalize else 'd'\n",
        "  thresh = cm.max() / 2.\n",
        "  for i, j in itertools.product(range(cm.shape[0]), range(cm.shape[1])):\n",
        "      plt.text(j, i, format(cm[i, j], fmt), horizontalalignment=\"center\", color=\"white\" if cm[i, j] > thresh else \"black\")\n",
        "  plt.ylabel('True label')\n",
        "  plt.xlabel('Predicted label')\n",
        "  plt.tight_layout()"
      ],
      "metadata": {
        "id": "ZS-FXHa6uI6H"
      },
      "execution_count": 36,
      "outputs": []
    },
    {
      "cell_type": "code",
      "source": [
        "cnf_matrix = confusion_matrix(testY_argm, pred)\n",
        "np.set_printoptions(precision=2)\n",
        "\n",
        "# Plot non/normalized confusion matrix\n",
        "plt.figure()\n",
        "plot_confusion_matrix(cnf_matrix,\n",
        "classes=lb.classes_, normalize=True)\n",
        "plt.show()\n",
        "\n",
        "plt.figure()\n",
        "plot_confusion_matrix(cnf_matrix,\n",
        "classes=lb.classes_, normalize=False)\n",
        "plt.show()\n",
        "\n",
        "f, ax = plt.subplots()\n",
        "ax.plot([None] + H.history['accuracy'], 'o-')\n",
        "ax.plot([None] + H.history['val_accuracy'], 'x-')\n",
        "\n",
        "ax.legend(['Train acc', 'Validation acc'], loc = 0)\n",
        "ax.set_title('Training/Validation acc per Epoch')\n",
        "ax.set_xlabel('Epoch')\n",
        "ax.set_ylabel('acc')\n",
        "plt.grid(True)\n",
        "\n",
        "f, ax = plt.subplots()\n",
        "ax.plot([None] + H.history['loss'], 'o-')\n",
        "ax.plot([None] + H.history['val_loss'], 'x-')\n",
        "ax.legend(['Train Loss', 'Validation Loss'], loc = 0)\n",
        "ax.set_title('Training/Validation Loss per Epoch')\n",
        "ax.set_xlabel('Epoch')\n",
        "ax.set_ylabel('loss')\n",
        "plt.grid(True)"
      ],
      "metadata": {
        "colab": {
          "base_uri": "https://localhost:8080/",
          "height": 1000
        },
        "id": "eiYstz9xuRLx",
        "outputId": "fd6c8720-00ac-4eed-a36d-337ae2895728"
      },
      "execution_count": 37,
      "outputs": [
        {
          "output_type": "stream",
          "name": "stdout",
          "text": [
            "Normalized confusion matrix\n",
            "[[0.94 0.06]\n",
            " [0.01 0.99]]\n"
          ]
        },
        {
          "output_type": "display_data",
          "data": {
            "text/plain": [
              "<Figure size 432x288 with 2 Axes>"
            ],
            "image/png": "[encoded data removed]"
          },
          "metadata": {
            "needs_background": "light"
          }
        },
        {
          "output_type": "stream",
          "name": "stdout",
          "text": [
            "Confusion matrix, without normalization\n",
            "[[130   9]\n",
            " [  2 139]]\n"
          ]
        },
        {
          "output_type": "display_data",
          "data": {
            "text/plain": [
              "<Figure size 432x288 with 2 Axes>"
            ],
            "image/png": "[encoded data removed]"
          },
          "metadata": {
            "needs_background": "light"
          }
        },
        {
          "output_type": "display_data",
          "data": {
            "text/plain": [
              "<Figure size 432x288 with 1 Axes>"
            ],
            "image/png": "[encoded data removed]"
          },
          "metadata": {
            "needs_background": "light"
          }
        },
        {
          "output_type": "display_data",
          "data": {
            "text/plain": [
              "<Figure size 432x288 with 1 Axes>"
            ],
            "image/png": "[encoded data removed]"
          },
          "metadata": {
            "needs_background": "light"
          }
        }
      ]
    }
  ]
}