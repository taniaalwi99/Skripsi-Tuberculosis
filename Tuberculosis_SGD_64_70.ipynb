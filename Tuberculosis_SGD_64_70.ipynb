{
  "nbformat": 4,
  "nbformat_minor": 0,
  "metadata": {
    "colab": {
      "name": "Tuberculosis_VGG-16.ipynb",
      "provenance": [],
      "collapsed_sections": [],
      "include_colab_link": true
    },
    "kernelspec": {
      "name": "python3",
      "display_name": "Python 3"
    },
    "language_info": {
      "name": "python"
    },
    "accelerator": "GPU",
    "gpuClass": "standard"
  },
  "cells": [
    {
      "cell_type": "markdown",
      "metadata": {
        "id": "view-in-github",
        "colab_type": "text"
      },
      "source": [
        "<a href=\"https://colab.research.google.com/github/taniaalwi99/Skripsi-Tuberculosis/blob/main/Tuberculosis_SGD_64_70.ipynb\" target=\"_parent\"><img src=\"https://colab.research.google.com/assets/colab-badge.svg\" alt=\"Open In Colab\"/></a>"
      ]
    },
    {
      "cell_type": "code",
      "execution_count": 4,
      "metadata": {
        "colab": {
          "base_uri": "https://localhost:8080/"
        },
        "id": "2_RYo7hrXaC5",
        "outputId": "1d49fb55-77b8-4c1b-e034-e982e615dd1f"
      },
      "outputs": [
        {
          "output_type": "stream",
          "name": "stdout",
          "text": [
            "Drive already mounted at /content/drive; to attempt to forcibly remount, call drive.mount(\"/content/drive\", force_remount=True).\n"
          ]
        }
      ],
      "source": [
        "from google.colab import drive\n",
        "drive.mount('/content/drive')"
      ]
    },
    {
      "cell_type": "code",
      "source": [
        "cd /content/drive/My Drive"
      ],
      "metadata": {
        "colab": {
          "base_uri": "https://localhost:8080/"
        },
        "id": "G4aisxOFX3KH",
        "outputId": "b85c632a-75e5-4492-8217-b870b714ac65"
      },
      "execution_count": 5,
      "outputs": [
        {
          "output_type": "stream",
          "name": "stdout",
          "text": [
            "/content/drive/My Drive\n"
          ]
        }
      ]
    },
    {
      "cell_type": "code",
      "source": [
        "ls"
      ],
      "metadata": {
        "colab": {
          "base_uri": "https://localhost:8080/"
        },
        "id": "e_oGUrADX8O_",
        "outputId": "f316b10a-295d-4044-a629-ae51a6a16efc"
      },
      "execution_count": 6,
      "outputs": [
        {
          "output_type": "stream",
          "name": "stdout",
          "text": [
            "\u001b[0m\u001b[01;34m'Colab Notebooks'\u001b[0m/  \u001b[01;34m'Dataset Gray'\u001b[0m/  \u001b[01;34m'Tania Alwi'\u001b[0m/\n"
          ]
        }
      ]
    },
    {
      "cell_type": "code",
      "source": [
        "from keras.models import Model\n",
        "from keras.models import load_model\n",
        "from keras.models import Sequential\n",
        "from keras.layers.convolutional import Convolution2D\n",
        "from keras.layers.convolutional import MaxPooling2D\n",
        "from keras.layers.convolutional import ZeroPadding2D\n",
        "from keras.layers.core import Activation\n",
        "from keras.layers.core import Flatten\n",
        "from keras.layers.core import Dense\n",
        "from keras.layers.core import Dropout\n",
        "from keras.layers import BatchNormalization\n",
        "from keras import regularizers\n",
        "from keras.preprocessing.image import ImageDataGenerator\n",
        "from tensorflow.keras.optimizers import RMSprop, Adam, SGD\n",
        "from sklearn.preprocessing import LabelBinarizer\n",
        "from sklearn.model_selection import train_test_split\n",
        "from sklearn.metrics import classification_report\n",
        "from PIL import Image\n",
        "from matplotlib import pyplot as plt\n",
        "from imutils import paths\n",
        "import numpy as np\n",
        "import os"
      ],
      "metadata": {
        "id": "t95OxlI7X_OF"
      },
      "execution_count": 7,
      "outputs": []
    },
    {
      "cell_type": "code",
      "source": [
        "print(\"[INFO] loading images...\")\n",
        "imagePaths = paths.list_images(\"Dataset Gray\")\n",
        "data = []\n",
        "labels = []"
      ],
      "metadata": {
        "colab": {
          "base_uri": "https://localhost:8080/"
        },
        "id": "jvn693i-YDZ8",
        "outputId": "3ea6854e-4f03-42ce-b4a4-57d1e22a6396"
      },
      "execution_count": 8,
      "outputs": [
        {
          "output_type": "stream",
          "name": "stdout",
          "text": [
            "[INFO] loading images...\n"
          ]
        }
      ]
    },
    {
      "cell_type": "code",
      "source": [
        "for imagePaths in imagePaths:\n",
        "    a = Image.open(imagePaths)\n",
        "    image = np.array(a.resize((64,64))) / 255.0\n",
        "    data.append(image)\n",
        "    \n",
        "    label = imagePaths.split(os.path.sep) [-2]\n",
        "    labels.append(label)"
      ],
      "metadata": {
        "id": "3XLuWAZsYLfK"
      },
      "execution_count": 9,
      "outputs": []
    },
    {
      "cell_type": "code",
      "source": [
        "from sklearn.preprocessing import LabelBinarizer\n",
        "import numpy as np\n",
        "\n",
        "class MyLabelBinarizer(LabelBinarizer):\n",
        "    def transform(self, label):\n",
        "      nilaiy = super().transform(label)\n",
        "      if self.y_type_== 'binary':\n",
        "        return np.hstack((nilaiy, 1-nilaiy))\n",
        "      else:\n",
        "        return nilaiy\n",
        "    def inverse_transform(self, nilaiy, threshold=None):\n",
        "      if self.y_type_ == 'binary':\n",
        "          return super().inverse_transform(nilaiy[:, 0], threshold)\n",
        "      else:\n",
        "          return super().inverse_transform(nilaiy, threshold)\n",
        "\n",
        "      \n",
        "\n",
        "lb = MyLabelBinarizer()\n",
        "labels = lb.fit_transform(labels)\n",
        "print(labels)"
      ],
      "metadata": {
        "colab": {
          "base_uri": "https://localhost:8080/"
        },
        "id": "gnjyPDi_Yyrn",
        "outputId": "4357254f-7c3e-4bf5-e8f3-d5ed23681f71"
      },
      "execution_count": 10,
      "outputs": [
        {
          "output_type": "stream",
          "name": "stdout",
          "text": [
            "[[0 1]\n",
            " [0 1]\n",
            " [0 1]\n",
            " ...\n",
            " [1 0]\n",
            " [1 0]\n",
            " [1 0]]\n"
          ]
        }
      ]
    },
    {
      "cell_type": "code",
      "source": [
        "(trainX,testX, trainY, testY) = train_test_split(np.array(data),np.array(labels), test_size=0.20, random_state=42)\n",
        "print(trainX.shape)\n",
        "print(testX.shape)"
      ],
      "metadata": {
        "colab": {
          "base_uri": "https://localhost:8080/"
        },
        "id": "0V3CnlQtY1g2",
        "outputId": "542bf8d5-14ba-44a3-bb14-7bdc6b2eecf5"
      },
      "execution_count": 12,
      "outputs": [
        {
          "output_type": "stream",
          "name": "stdout",
          "text": [
            "(1120, 64, 64)\n",
            "(280, 64, 64)\n"
          ]
        }
      ]
    },
    {
      "cell_type": "code",
      "source": [
        "def vgg16(num_classes):\n",
        "\n",
        "    vgg16 = Sequential()\n",
        "\n",
        "    vgg16.add(Convolution2D(input_shape=(64,64,1),filters=64,kernel_size=(3,3),padding=\"same\"))\n",
        "    vgg16.add(Activation('relu'))\n",
        "    vgg16.add(BatchNormalization())\n",
        "    #layer1 32*32*64\n",
        "    vgg16.add(Convolution2D(filters=64,kernel_size=(3,3),padding=\"same\"))\n",
        "    vgg16.add(Activation('relu'))\n",
        "    vgg16.add(MaxPooling2D(pool_size=(2, 2),strides=(2,2)))\n",
        "    vgg16.add(BatchNormalization())\n",
        "    #layer2 16*16*64\n",
        "    vgg16.add(Convolution2D(filters=128, kernel_size=(3,3), padding=\"same\"))\n",
        "    vgg16.add(Activation('relu'))\n",
        "    vgg16.add(BatchNormalization())\n",
        "    #layer3 16*16*128\n",
        "    vgg16.add(Convolution2D(filters=128, kernel_size=(3,3), padding=\"same\",))\n",
        "    vgg16.add(Activation('relu'))\n",
        "    vgg16.add(MaxPooling2D(pool_size=(2,2),strides=(2,2)))\n",
        "    vgg16.add(BatchNormalization())\n",
        "    #layer4 8*8*128\n",
        "    vgg16.add(Convolution2D(filters=256, kernel_size=(3,3), padding=\"same\"))\n",
        "    vgg16.add(Activation('relu'))\n",
        "    vgg16.add(BatchNormalization())\n",
        "    #layer5 8*8*256\n",
        "    vgg16.add(Convolution2D(filters=256, kernel_size=(3,3), padding=\"same\"))\n",
        "    vgg16.add(Activation('relu'))\n",
        "    vgg16.add(BatchNormalization())\n",
        "    #layer6 8*8*256\n",
        "    vgg16.add(Convolution2D(filters=256, kernel_size=(3,3), padding=\"same\"))\n",
        "    vgg16.add(Activation('relu'))\n",
        "    vgg16.add(MaxPooling2D(pool_size=(2,2),strides=(2,2)))\n",
        "    vgg16.add(BatchNormalization())\n",
        "    #layer7 4*4*256\n",
        "    vgg16.add(Convolution2D(filters=512, kernel_size=(3,3), padding=\"same\"))\n",
        "    vgg16.add(Activation('relu'))\n",
        "    vgg16.add(BatchNormalization())\n",
        "    #layer8 4*4*512\n",
        "    vgg16.add(Convolution2D(filters=512, kernel_size=(3,3), padding=\"same\"))\n",
        "    vgg16.add(Activation('relu'))\n",
        "    vgg16.add(BatchNormalization())\n",
        "    #layer9 4*4*512\n",
        "    vgg16.add(Convolution2D(filters=512, kernel_size=(3,3), padding=\"same\"))\n",
        "    vgg16.add(Activation('relu'))\n",
        "    vgg16.add(MaxPooling2D(pool_size=(2,2),strides=(2,2)))\n",
        "    vgg16.add(BatchNormalization())\n",
        "    #layer10 2*2*512\n",
        "    vgg16.add(Convolution2D(filters=512, kernel_size=(3,3), padding=\"same\"))\n",
        "    vgg16.add(Activation('relu'))\n",
        "    vgg16.add(BatchNormalization())\n",
        "    #layer11 2*2*512\n",
        "    vgg16.add(Convolution2D(filters=512, kernel_size=(3,3), padding=\"same\"))  \n",
        "    vgg16.add(Activation('relu')) \n",
        "    vgg16.add(BatchNormalization())       \n",
        "    #layer12 2*2*512\n",
        "    vgg16.add(Convolution2D(filters=512, kernel_size=(3,3), padding=\"same\"))\n",
        "    vgg16.add(Activation('relu'))\n",
        "    vgg16.add(MaxPooling2D(pool_size=(2,2),strides=(2,2)))\n",
        "    vgg16.add(BatchNormalization())\n",
        "    #layer13 1*1*512\n",
        "    vgg16.add(Flatten())\n",
        "    vgg16.add(Dense(units=4096))\n",
        "    vgg16.add(Activation('relu')) \n",
        "    vgg16.add(BatchNormalization())\n",
        "    vgg16.add(Dropout(0.5))\n",
        "    #layer14 4096\n",
        "    vgg16.add(Dense(units=4096))\n",
        "    vgg16.add(Activation('relu')) \n",
        "    vgg16.add(BatchNormalization())\n",
        "    vgg16.add(Dropout(0.5))\n",
        "    #layer16 4096\n",
        "    vgg16.add(Dense(units=1000))\n",
        "    vgg16.add(Activation('relu'))\n",
        "    vgg16.add(BatchNormalization())\n",
        "    vgg16.add(Dropout(0.5)) \n",
        "    #layer16 1000\n",
        "    vgg16.add(Dense(2, activation=\"sigmoid\"))\n",
        "\n",
        "    return vgg16"
      ],
      "metadata": {
        "id": "WpeYjXzUZCZP"
      },
      "execution_count": 13,
      "outputs": []
    },
    {
      "cell_type": "code",
      "source": [
        "num_classes=2\n",
        "vgg16=vgg16(num_classes)\n",
        "vgg16.summary()"
      ],
      "metadata": {
        "colab": {
          "base_uri": "https://localhost:8080/"
        },
        "id": "rlT3OhVuZLUs",
        "outputId": "fc8b2a43-664a-4d53-9cfb-86936528a480"
      },
      "execution_count": 14,
      "outputs": [
        {
          "output_type": "stream",
          "name": "stdout",
          "text": [
            "Model: \"sequential\"\n",
            "_________________________________________________________________\n",
            " Layer (type)                Output Shape              Param #   \n",
            "=================================================================\n",
            " conv2d (Conv2D)             (None, 64, 64, 64)        640       \n",
            "                                                                 \n",
            " activation (Activation)     (None, 64, 64, 64)        0         \n",
            "                                                                 \n",
            " batch_normalization (BatchN  (None, 64, 64, 64)       256       \n",
            " ormalization)                                                   \n",
            "                                                                 \n",
            " conv2d_1 (Conv2D)           (None, 64, 64, 64)        36928     \n",
            "                                                                 \n",
            " activation_1 (Activation)   (None, 64, 64, 64)        0         \n",
            "                                                                 \n",
            " max_pooling2d (MaxPooling2D  (None, 32, 32, 64)       0         \n",
            " )                                                               \n",
            "                                                                 \n",
            " batch_normalization_1 (Batc  (None, 32, 32, 64)       256       \n",
            " hNormalization)                                                 \n",
            "                                                                 \n",
            " conv2d_2 (Conv2D)           (None, 32, 32, 128)       73856     \n",
            "                                                                 \n",
            " activation_2 (Activation)   (None, 32, 32, 128)       0         \n",
            "                                                                 \n",
            " batch_normalization_2 (Batc  (None, 32, 32, 128)      512       \n",
            " hNormalization)                                                 \n",
            "                                                                 \n",
            " conv2d_3 (Conv2D)           (None, 32, 32, 128)       147584    \n",
            "                                                                 \n",
            " activation_3 (Activation)   (None, 32, 32, 128)       0         \n",
            "                                                                 \n",
            " max_pooling2d_1 (MaxPooling  (None, 16, 16, 128)      0         \n",
            " 2D)                                                             \n",
            "                                                                 \n",
            " batch_normalization_3 (Batc  (None, 16, 16, 128)      512       \n",
            " hNormalization)                                                 \n",
            "                                                                 \n",
            " conv2d_4 (Conv2D)           (None, 16, 16, 256)       295168    \n",
            "                                                                 \n",
            " activation_4 (Activation)   (None, 16, 16, 256)       0         \n",
            "                                                                 \n",
            " batch_normalization_4 (Batc  (None, 16, 16, 256)      1024      \n",
            " hNormalization)                                                 \n",
            "                                                                 \n",
            " conv2d_5 (Conv2D)           (None, 16, 16, 256)       590080    \n",
            "                                                                 \n",
            " activation_5 (Activation)   (None, 16, 16, 256)       0         \n",
            "                                                                 \n",
            " batch_normalization_5 (Batc  (None, 16, 16, 256)      1024      \n",
            " hNormalization)                                                 \n",
            "                                                                 \n",
            " conv2d_6 (Conv2D)           (None, 16, 16, 256)       590080    \n",
            "                                                                 \n",
            " activation_6 (Activation)   (None, 16, 16, 256)       0         \n",
            "                                                                 \n",
            " max_pooling2d_2 (MaxPooling  (None, 8, 8, 256)        0         \n",
            " 2D)                                                             \n",
            "                                                                 \n",
            " batch_normalization_6 (Batc  (None, 8, 8, 256)        1024      \n",
            " hNormalization)                                                 \n",
            "                                                                 \n",
            " conv2d_7 (Conv2D)           (None, 8, 8, 512)         1180160   \n",
            "                                                                 \n",
            " activation_7 (Activation)   (None, 8, 8, 512)         0         \n",
            "                                                                 \n",
            " batch_normalization_7 (Batc  (None, 8, 8, 512)        2048      \n",
            " hNormalization)                                                 \n",
            "                                                                 \n",
            " conv2d_8 (Conv2D)           (None, 8, 8, 512)         2359808   \n",
            "                                                                 \n",
            " activation_8 (Activation)   (None, 8, 8, 512)         0         \n",
            "                                                                 \n",
            " batch_normalization_8 (Batc  (None, 8, 8, 512)        2048      \n",
            " hNormalization)                                                 \n",
            "                                                                 \n",
            " conv2d_9 (Conv2D)           (None, 8, 8, 512)         2359808   \n",
            "                                                                 \n",
            " activation_9 (Activation)   (None, 8, 8, 512)         0         \n",
            "                                                                 \n",
            " max_pooling2d_3 (MaxPooling  (None, 4, 4, 512)        0         \n",
            " 2D)                                                             \n",
            "                                                                 \n",
            " batch_normalization_9 (Batc  (None, 4, 4, 512)        2048      \n",
            " hNormalization)                                                 \n",
            "                                                                 \n",
            " conv2d_10 (Conv2D)          (None, 4, 4, 512)         2359808   \n",
            "                                                                 \n",
            " activation_10 (Activation)  (None, 4, 4, 512)         0         \n",
            "                                                                 \n",
            " batch_normalization_10 (Bat  (None, 4, 4, 512)        2048      \n",
            " chNormalization)                                                \n",
            "                                                                 \n",
            " conv2d_11 (Conv2D)          (None, 4, 4, 512)         2359808   \n",
            "                                                                 \n",
            " activation_11 (Activation)  (None, 4, 4, 512)         0         \n",
            "                                                                 \n",
            " batch_normalization_11 (Bat  (None, 4, 4, 512)        2048      \n",
            " chNormalization)                                                \n",
            "                                                                 \n",
            " conv2d_12 (Conv2D)          (None, 4, 4, 512)         2359808   \n",
            "                                                                 \n",
            " activation_12 (Activation)  (None, 4, 4, 512)         0         \n",
            "                                                                 \n",
            " max_pooling2d_4 (MaxPooling  (None, 2, 2, 512)        0         \n",
            " 2D)                                                             \n",
            "                                                                 \n",
            " batch_normalization_12 (Bat  (None, 2, 2, 512)        2048      \n",
            " chNormalization)                                                \n",
            "                                                                 \n",
            " flatten (Flatten)           (None, 2048)              0         \n",
            "                                                                 \n",
            " dense (Dense)               (None, 4096)              8392704   \n",
            "                                                                 \n",
            " activation_13 (Activation)  (None, 4096)              0         \n",
            "                                                                 \n",
            " batch_normalization_13 (Bat  (None, 4096)             16384     \n",
            " chNormalization)                                                \n",
            "                                                                 \n",
            " dropout (Dropout)           (None, 4096)              0         \n",
            "                                                                 \n",
            " dense_1 (Dense)             (None, 4096)              16781312  \n",
            "                                                                 \n",
            " activation_14 (Activation)  (None, 4096)              0         \n",
            "                                                                 \n",
            " batch_normalization_14 (Bat  (None, 4096)             16384     \n",
            " chNormalization)                                                \n",
            "                                                                 \n",
            " dropout_1 (Dropout)         (None, 4096)              0         \n",
            "                                                                 \n",
            " dense_2 (Dense)             (None, 1000)              4097000   \n",
            "                                                                 \n",
            " activation_15 (Activation)  (None, 1000)              0         \n",
            "                                                                 \n",
            " batch_normalization_15 (Bat  (None, 1000)             4000      \n",
            " chNormalization)                                                \n",
            "                                                                 \n",
            " dropout_2 (Dropout)         (None, 1000)              0         \n",
            "                                                                 \n",
            " dense_3 (Dense)             (None, 2)                 2002      \n",
            "                                                                 \n",
            "=================================================================\n",
            "Total params: 44,040,218\n",
            "Trainable params: 44,013,386\n",
            "Non-trainable params: 26,832\n",
            "_________________________________________________________________\n"
          ]
        }
      ]
    },
    {
      "cell_type": "code",
      "source": [
        "#setting hyperparameter, menggunakan Adam\n",
        "opt = SGD(lr=0.001)\n",
        "vgg16.compile(loss='binary_crossentropy', optimizer=opt, metrics=['accuracy'])\n",
        "vgg16.summary()"
      ],
      "metadata": {
        "colab": {
          "base_uri": "https://localhost:8080/"
        },
        "id": "eZ0TePWVZTx4",
        "outputId": "79cf18f7-a08b-4313-d7b1-2cceb30c2851"
      },
      "execution_count": 15,
      "outputs": [
        {
          "output_type": "stream",
          "name": "stdout",
          "text": [
            "Model: \"sequential\"\n",
            "_________________________________________________________________\n",
            " Layer (type)                Output Shape              Param #   \n",
            "=================================================================\n",
            " conv2d (Conv2D)             (None, 64, 64, 64)        640       \n",
            "                                                                 \n",
            " activation (Activation)     (None, 64, 64, 64)        0         \n",
            "                                                                 \n",
            " batch_normalization (BatchN  (None, 64, 64, 64)       256       \n",
            " ormalization)                                                   \n",
            "                                                                 \n",
            " conv2d_1 (Conv2D)           (None, 64, 64, 64)        36928     \n",
            "                                                                 \n",
            " activation_1 (Activation)   (None, 64, 64, 64)        0         \n",
            "                                                                 \n",
            " max_pooling2d (MaxPooling2D  (None, 32, 32, 64)       0         \n",
            " )                                                               \n",
            "                                                                 \n",
            " batch_normalization_1 (Batc  (None, 32, 32, 64)       256       \n",
            " hNormalization)                                                 \n",
            "                                                                 \n",
            " conv2d_2 (Conv2D)           (None, 32, 32, 128)       73856     \n",
            "                                                                 \n",
            " activation_2 (Activation)   (None, 32, 32, 128)       0         \n",
            "                                                                 \n",
            " batch_normalization_2 (Batc  (None, 32, 32, 128)      512       \n",
            " hNormalization)                                                 \n",
            "                                                                 \n",
            " conv2d_3 (Conv2D)           (None, 32, 32, 128)       147584    \n",
            "                                                                 \n",
            " activation_3 (Activation)   (None, 32, 32, 128)       0         \n",
            "                                                                 \n",
            " max_pooling2d_1 (MaxPooling  (None, 16, 16, 128)      0         \n",
            " 2D)                                                             \n",
            "                                                                 \n",
            " batch_normalization_3 (Batc  (None, 16, 16, 128)      512       \n",
            " hNormalization)                                                 \n",
            "                                                                 \n",
            " conv2d_4 (Conv2D)           (None, 16, 16, 256)       295168    \n",
            "                                                                 \n",
            " activation_4 (Activation)   (None, 16, 16, 256)       0         \n",
            "                                                                 \n",
            " batch_normalization_4 (Batc  (None, 16, 16, 256)      1024      \n",
            " hNormalization)                                                 \n",
            "                                                                 \n",
            " conv2d_5 (Conv2D)           (None, 16, 16, 256)       590080    \n",
            "                                                                 \n",
            " activation_5 (Activation)   (None, 16, 16, 256)       0         \n",
            "                                                                 \n",
            " batch_normalization_5 (Batc  (None, 16, 16, 256)      1024      \n",
            " hNormalization)                                                 \n",
            "                                                                 \n",
            " conv2d_6 (Conv2D)           (None, 16, 16, 256)       590080    \n",
            "                                                                 \n",
            " activation_6 (Activation)   (None, 16, 16, 256)       0         \n",
            "                                                                 \n",
            " max_pooling2d_2 (MaxPooling  (None, 8, 8, 256)        0         \n",
            " 2D)                                                             \n",
            "                                                                 \n",
            " batch_normalization_6 (Batc  (None, 8, 8, 256)        1024      \n",
            " hNormalization)                                                 \n",
            "                                                                 \n",
            " conv2d_7 (Conv2D)           (None, 8, 8, 512)         1180160   \n",
            "                                                                 \n",
            " activation_7 (Activation)   (None, 8, 8, 512)         0         \n",
            "                                                                 \n",
            " batch_normalization_7 (Batc  (None, 8, 8, 512)        2048      \n",
            " hNormalization)                                                 \n",
            "                                                                 \n",
            " conv2d_8 (Conv2D)           (None, 8, 8, 512)         2359808   \n",
            "                                                                 \n",
            " activation_8 (Activation)   (None, 8, 8, 512)         0         \n",
            "                                                                 \n",
            " batch_normalization_8 (Batc  (None, 8, 8, 512)        2048      \n",
            " hNormalization)                                                 \n",
            "                                                                 \n",
            " conv2d_9 (Conv2D)           (None, 8, 8, 512)         2359808   \n",
            "                                                                 \n",
            " activation_9 (Activation)   (None, 8, 8, 512)         0         \n",
            "                                                                 \n",
            " max_pooling2d_3 (MaxPooling  (None, 4, 4, 512)        0         \n",
            " 2D)                                                             \n",
            "                                                                 \n",
            " batch_normalization_9 (Batc  (None, 4, 4, 512)        2048      \n",
            " hNormalization)                                                 \n",
            "                                                                 \n",
            " conv2d_10 (Conv2D)          (None, 4, 4, 512)         2359808   \n",
            "                                                                 \n",
            " activation_10 (Activation)  (None, 4, 4, 512)         0         \n",
            "                                                                 \n",
            " batch_normalization_10 (Bat  (None, 4, 4, 512)        2048      \n",
            " chNormalization)                                                \n",
            "                                                                 \n",
            " conv2d_11 (Conv2D)          (None, 4, 4, 512)         2359808   \n",
            "                                                                 \n",
            " activation_11 (Activation)  (None, 4, 4, 512)         0         \n",
            "                                                                 \n",
            " batch_normalization_11 (Bat  (None, 4, 4, 512)        2048      \n",
            " chNormalization)                                                \n",
            "                                                                 \n",
            " conv2d_12 (Conv2D)          (None, 4, 4, 512)         2359808   \n",
            "                                                                 \n",
            " activation_12 (Activation)  (None, 4, 4, 512)         0         \n",
            "                                                                 \n",
            " max_pooling2d_4 (MaxPooling  (None, 2, 2, 512)        0         \n",
            " 2D)                                                             \n",
            "                                                                 \n",
            " batch_normalization_12 (Bat  (None, 2, 2, 512)        2048      \n",
            " chNormalization)                                                \n",
            "                                                                 \n",
            " flatten (Flatten)           (None, 2048)              0         \n"
          ]
        },
        {
          "output_type": "stream",
          "name": "stderr",
          "text": [
            "/usr/local/lib/python3.7/dist-packages/keras/optimizer_v2/gradient_descent.py:102: UserWarning: The `lr` argument is deprecated, use `learning_rate` instead.\n",
            "  super(SGD, self).__init__(name, **kwargs)\n"
          ]
        },
        {
          "output_type": "stream",
          "name": "stdout",
          "text": [
            "                                                                 \n",
            " dense (Dense)               (None, 4096)              8392704   \n",
            "                                                                 \n",
            " activation_13 (Activation)  (None, 4096)              0         \n",
            "                                                                 \n",
            " batch_normalization_13 (Bat  (None, 4096)             16384     \n",
            " chNormalization)                                                \n",
            "                                                                 \n",
            " dropout (Dropout)           (None, 4096)              0         \n",
            "                                                                 \n",
            " dense_1 (Dense)             (None, 4096)              16781312  \n",
            "                                                                 \n",
            " activation_14 (Activation)  (None, 4096)              0         \n",
            "                                                                 \n",
            " batch_normalization_14 (Bat  (None, 4096)             16384     \n",
            " chNormalization)                                                \n",
            "                                                                 \n",
            " dropout_1 (Dropout)         (None, 4096)              0         \n",
            "                                                                 \n",
            " dense_2 (Dense)             (None, 1000)              4097000   \n",
            "                                                                 \n",
            " activation_15 (Activation)  (None, 1000)              0         \n",
            "                                                                 \n",
            " batch_normalization_15 (Bat  (None, 1000)             4000      \n",
            " chNormalization)                                                \n",
            "                                                                 \n",
            " dropout_2 (Dropout)         (None, 1000)              0         \n",
            "                                                                 \n",
            " dense_3 (Dense)             (None, 2)                 2002      \n",
            "                                                                 \n",
            "=================================================================\n",
            "Total params: 44,040,218\n",
            "Trainable params: 44,013,386\n",
            "Non-trainable params: 26,832\n",
            "_________________________________________________________________\n"
          ]
        }
      ]
    },
    {
      "cell_type": "code",
      "source": [
        "#training data\n",
        "H = vgg16.fit(trainX, trainY, validation_data=(testX, testY), epochs=70, batch_size=16)"
      ],
      "metadata": {
        "colab": {
          "base_uri": "https://localhost:8080/"
        },
        "id": "JOp0TzHxZYLf",
        "outputId": "82f95c78-e6ac-44c7-e1dc-a86289dd459f"
      },
      "execution_count": 16,
      "outputs": [
        {
          "output_type": "stream",
          "name": "stdout",
          "text": [
            "Epoch 1/70\n",
            "70/70 [==============================] - 18s 58ms/step - loss: 0.7924 - accuracy: 0.6786 - val_loss: 0.7012 - val_accuracy: 0.5000\n",
            "Epoch 2/70\n",
            "70/70 [==============================] - 3s 41ms/step - loss: 0.5288 - accuracy: 0.7929 - val_loss: 0.7813 - val_accuracy: 0.5000\n",
            "Epoch 3/70\n",
            "70/70 [==============================] - 3s 40ms/step - loss: 0.3922 - accuracy: 0.8723 - val_loss: 1.3288 - val_accuracy: 0.5000\n",
            "Epoch 4/70\n",
            "70/70 [==============================] - 3s 40ms/step - loss: 0.3539 - accuracy: 0.8839 - val_loss: 1.3875 - val_accuracy: 0.5000\n",
            "Epoch 5/70\n",
            "70/70 [==============================] - 3s 40ms/step - loss: 0.3197 - accuracy: 0.8946 - val_loss: 1.5549 - val_accuracy: 0.5000\n",
            "Epoch 6/70\n",
            "70/70 [==============================] - 3s 40ms/step - loss: 0.2653 - accuracy: 0.9250 - val_loss: 1.4371 - val_accuracy: 0.5000\n",
            "Epoch 7/70\n",
            "70/70 [==============================] - 3s 40ms/step - loss: 0.2964 - accuracy: 0.9027 - val_loss: 1.2380 - val_accuracy: 0.5143\n",
            "Epoch 8/70\n",
            "70/70 [==============================] - 3s 40ms/step - loss: 0.2270 - accuracy: 0.9339 - val_loss: 0.5432 - val_accuracy: 0.7786\n",
            "Epoch 9/70\n",
            "70/70 [==============================] - 3s 40ms/step - loss: 0.2322 - accuracy: 0.9304 - val_loss: 0.2737 - val_accuracy: 0.8964\n",
            "Epoch 10/70\n",
            "70/70 [==============================] - 3s 42ms/step - loss: 0.2117 - accuracy: 0.9286 - val_loss: 0.1625 - val_accuracy: 0.9250\n",
            "Epoch 11/70\n",
            "70/70 [==============================] - 3s 40ms/step - loss: 0.1448 - accuracy: 0.9580 - val_loss: 0.1226 - val_accuracy: 0.9464\n",
            "Epoch 12/70\n",
            "70/70 [==============================] - 3s 40ms/step - loss: 0.1474 - accuracy: 0.9563 - val_loss: 0.1161 - val_accuracy: 0.9536\n",
            "Epoch 13/70\n",
            "70/70 [==============================] - 3s 43ms/step - loss: 0.1476 - accuracy: 0.9536 - val_loss: 0.1109 - val_accuracy: 0.9536\n",
            "Epoch 14/70\n",
            "70/70 [==============================] - 3s 40ms/step - loss: 0.1373 - accuracy: 0.9643 - val_loss: 0.0940 - val_accuracy: 0.9571\n",
            "Epoch 15/70\n",
            "70/70 [==============================] - 3s 41ms/step - loss: 0.1298 - accuracy: 0.9607 - val_loss: 0.0980 - val_accuracy: 0.9643\n",
            "Epoch 16/70\n",
            "70/70 [==============================] - 3s 41ms/step - loss: 0.1403 - accuracy: 0.9652 - val_loss: 0.0901 - val_accuracy: 0.9679\n",
            "Epoch 17/70\n",
            "70/70 [==============================] - 3s 40ms/step - loss: 0.1495 - accuracy: 0.9598 - val_loss: 0.0727 - val_accuracy: 0.9714\n",
            "Epoch 18/70\n",
            "70/70 [==============================] - 3s 41ms/step - loss: 0.0997 - accuracy: 0.9732 - val_loss: 0.0880 - val_accuracy: 0.9536\n",
            "Epoch 19/70\n",
            "70/70 [==============================] - 3s 43ms/step - loss: 0.0953 - accuracy: 0.9732 - val_loss: 0.0916 - val_accuracy: 0.9607\n",
            "Epoch 20/70\n",
            "70/70 [==============================] - 3s 42ms/step - loss: 0.0987 - accuracy: 0.9741 - val_loss: 0.0806 - val_accuracy: 0.9607\n",
            "Epoch 21/70\n",
            "70/70 [==============================] - 3s 41ms/step - loss: 0.1134 - accuracy: 0.9661 - val_loss: 0.0768 - val_accuracy: 0.9643\n",
            "Epoch 22/70\n",
            "70/70 [==============================] - 3s 41ms/step - loss: 0.0979 - accuracy: 0.9696 - val_loss: 0.0907 - val_accuracy: 0.9536\n",
            "Epoch 23/70\n",
            "70/70 [==============================] - 3s 41ms/step - loss: 0.0802 - accuracy: 0.9812 - val_loss: 0.0762 - val_accuracy: 0.9679\n",
            "Epoch 24/70\n",
            "70/70 [==============================] - 3s 42ms/step - loss: 0.0701 - accuracy: 0.9866 - val_loss: 0.0789 - val_accuracy: 0.9643\n",
            "Epoch 25/70\n",
            "70/70 [==============================] - 3s 41ms/step - loss: 0.0765 - accuracy: 0.9804 - val_loss: 0.0751 - val_accuracy: 0.9643\n",
            "Epoch 26/70\n",
            "70/70 [==============================] - 3s 41ms/step - loss: 0.0900 - accuracy: 0.9696 - val_loss: 0.1079 - val_accuracy: 0.9607\n",
            "Epoch 27/70\n",
            "70/70 [==============================] - 3s 41ms/step - loss: 0.0911 - accuracy: 0.9723 - val_loss: 0.0889 - val_accuracy: 0.9643\n",
            "Epoch 28/70\n",
            "70/70 [==============================] - 3s 41ms/step - loss: 0.0524 - accuracy: 0.9857 - val_loss: 0.0774 - val_accuracy: 0.9679\n",
            "Epoch 29/70\n",
            "70/70 [==============================] - 3s 41ms/step - loss: 0.0567 - accuracy: 0.9848 - val_loss: 0.0814 - val_accuracy: 0.9643\n",
            "Epoch 30/70\n",
            "70/70 [==============================] - 3s 41ms/step - loss: 0.0596 - accuracy: 0.9830 - val_loss: 0.0640 - val_accuracy: 0.9714\n",
            "Epoch 31/70\n",
            "70/70 [==============================] - 3s 41ms/step - loss: 0.0620 - accuracy: 0.9812 - val_loss: 0.0606 - val_accuracy: 0.9750\n",
            "Epoch 32/70\n",
            "70/70 [==============================] - 3s 41ms/step - loss: 0.0512 - accuracy: 0.9866 - val_loss: 0.0796 - val_accuracy: 0.9679\n",
            "Epoch 33/70\n",
            "70/70 [==============================] - 3s 41ms/step - loss: 0.0570 - accuracy: 0.9839 - val_loss: 0.0849 - val_accuracy: 0.9607\n",
            "Epoch 34/70\n",
            "70/70 [==============================] - 3s 41ms/step - loss: 0.0666 - accuracy: 0.9830 - val_loss: 0.0787 - val_accuracy: 0.9643\n",
            "Epoch 35/70\n",
            "70/70 [==============================] - 3s 42ms/step - loss: 0.0427 - accuracy: 0.9884 - val_loss: 0.0640 - val_accuracy: 0.9714\n",
            "Epoch 36/70\n",
            "70/70 [==============================] - 3s 42ms/step - loss: 0.0396 - accuracy: 0.9893 - val_loss: 0.0752 - val_accuracy: 0.9714\n",
            "Epoch 37/70\n",
            "70/70 [==============================] - 3s 42ms/step - loss: 0.0624 - accuracy: 0.9866 - val_loss: 0.0661 - val_accuracy: 0.9786\n",
            "Epoch 38/70\n",
            "70/70 [==============================] - 3s 42ms/step - loss: 0.0342 - accuracy: 0.9929 - val_loss: 0.0834 - val_accuracy: 0.9679\n",
            "Epoch 39/70\n",
            "70/70 [==============================] - 3s 42ms/step - loss: 0.0491 - accuracy: 0.9884 - val_loss: 0.0650 - val_accuracy: 0.9714\n",
            "Epoch 40/70\n",
            "70/70 [==============================] - 3s 42ms/step - loss: 0.0337 - accuracy: 0.9902 - val_loss: 0.0756 - val_accuracy: 0.9714\n",
            "Epoch 41/70\n",
            "70/70 [==============================] - 3s 42ms/step - loss: 0.0511 - accuracy: 0.9848 - val_loss: 0.0803 - val_accuracy: 0.9714\n",
            "Epoch 42/70\n",
            "70/70 [==============================] - 3s 42ms/step - loss: 0.0350 - accuracy: 0.9929 - val_loss: 0.0578 - val_accuracy: 0.9714\n",
            "Epoch 43/70\n",
            "70/70 [==============================] - 3s 42ms/step - loss: 0.0401 - accuracy: 0.9937 - val_loss: 0.0735 - val_accuracy: 0.9679\n",
            "Epoch 44/70\n",
            "70/70 [==============================] - 3s 42ms/step - loss: 0.0307 - accuracy: 0.9929 - val_loss: 0.0596 - val_accuracy: 0.9750\n",
            "Epoch 45/70\n",
            "70/70 [==============================] - 3s 42ms/step - loss: 0.0250 - accuracy: 0.9946 - val_loss: 0.0508 - val_accuracy: 0.9714\n",
            "Epoch 46/70\n",
            "70/70 [==============================] - 3s 42ms/step - loss: 0.0449 - accuracy: 0.9875 - val_loss: 0.0567 - val_accuracy: 0.9821\n",
            "Epoch 47/70\n",
            "70/70 [==============================] - 3s 42ms/step - loss: 0.0326 - accuracy: 0.9911 - val_loss: 0.0573 - val_accuracy: 0.9786\n",
            "Epoch 48/70\n",
            "70/70 [==============================] - 3s 42ms/step - loss: 0.0486 - accuracy: 0.9848 - val_loss: 0.0520 - val_accuracy: 0.9750\n",
            "Epoch 49/70\n",
            "70/70 [==============================] - 3s 42ms/step - loss: 0.0185 - accuracy: 0.9964 - val_loss: 0.0607 - val_accuracy: 0.9679\n",
            "Epoch 50/70\n",
            "70/70 [==============================] - 3s 42ms/step - loss: 0.0402 - accuracy: 0.9866 - val_loss: 0.0517 - val_accuracy: 0.9750\n",
            "Epoch 51/70\n",
            "70/70 [==============================] - 3s 42ms/step - loss: 0.0362 - accuracy: 0.9893 - val_loss: 0.0642 - val_accuracy: 0.9679\n",
            "Epoch 52/70\n",
            "70/70 [==============================] - 3s 42ms/step - loss: 0.0175 - accuracy: 0.9973 - val_loss: 0.0727 - val_accuracy: 0.9750\n",
            "Epoch 53/70\n",
            "70/70 [==============================] - 3s 42ms/step - loss: 0.0170 - accuracy: 0.9991 - val_loss: 0.0634 - val_accuracy: 0.9786\n",
            "Epoch 54/70\n",
            "70/70 [==============================] - 3s 42ms/step - loss: 0.0138 - accuracy: 0.9991 - val_loss: 0.0618 - val_accuracy: 0.9786\n",
            "Epoch 55/70\n",
            "70/70 [==============================] - 3s 42ms/step - loss: 0.0238 - accuracy: 0.9920 - val_loss: 0.0635 - val_accuracy: 0.9750\n",
            "Epoch 56/70\n",
            "70/70 [==============================] - 3s 42ms/step - loss: 0.0230 - accuracy: 0.9946 - val_loss: 0.0625 - val_accuracy: 0.9714\n",
            "Epoch 57/70\n",
            "70/70 [==============================] - 3s 42ms/step - loss: 0.0543 - accuracy: 0.9830 - val_loss: 0.0428 - val_accuracy: 0.9821\n",
            "Epoch 58/70\n",
            "70/70 [==============================] - 3s 42ms/step - loss: 0.0199 - accuracy: 0.9955 - val_loss: 0.0481 - val_accuracy: 0.9714\n",
            "Epoch 59/70\n",
            "70/70 [==============================] - 3s 42ms/step - loss: 0.0186 - accuracy: 0.9955 - val_loss: 0.0492 - val_accuracy: 0.9821\n",
            "Epoch 60/70\n",
            "70/70 [==============================] - 3s 42ms/step - loss: 0.0179 - accuracy: 0.9955 - val_loss: 0.0635 - val_accuracy: 0.9786\n",
            "Epoch 61/70\n",
            "70/70 [==============================] - 3s 42ms/step - loss: 0.0182 - accuracy: 0.9973 - val_loss: 0.0598 - val_accuracy: 0.9786\n",
            "Epoch 62/70\n",
            "70/70 [==============================] - 3s 42ms/step - loss: 0.0188 - accuracy: 0.9964 - val_loss: 0.0886 - val_accuracy: 0.9750\n",
            "Epoch 63/70\n",
            "70/70 [==============================] - 3s 42ms/step - loss: 0.0346 - accuracy: 0.9911 - val_loss: 0.0641 - val_accuracy: 0.9750\n",
            "Epoch 64/70\n",
            "70/70 [==============================] - 3s 43ms/step - loss: 0.0390 - accuracy: 0.9893 - val_loss: 0.0724 - val_accuracy: 0.9714\n",
            "Epoch 65/70\n",
            "70/70 [==============================] - 3s 42ms/step - loss: 0.0140 - accuracy: 0.9982 - val_loss: 0.0574 - val_accuracy: 0.9786\n",
            "Epoch 66/70\n",
            "70/70 [==============================] - 3s 42ms/step - loss: 0.0301 - accuracy: 0.9937 - val_loss: 0.0583 - val_accuracy: 0.9714\n",
            "Epoch 67/70\n",
            "70/70 [==============================] - 3s 42ms/step - loss: 0.0198 - accuracy: 0.9955 - val_loss: 0.0588 - val_accuracy: 0.9750\n",
            "Epoch 68/70\n",
            "70/70 [==============================] - 3s 42ms/step - loss: 0.0117 - accuracy: 0.9964 - val_loss: 0.0448 - val_accuracy: 0.9857\n",
            "Epoch 69/70\n",
            "70/70 [==============================] - 3s 42ms/step - loss: 0.0229 - accuracy: 0.9946 - val_loss: 0.0805 - val_accuracy: 0.9750\n",
            "Epoch 70/70\n",
            "70/70 [==============================] - 3s 43ms/step - loss: 0.0314 - accuracy: 0.9929 - val_loss: 0.0747 - val_accuracy: 0.9786\n"
          ]
        }
      ]
    },
    {
      "cell_type": "code",
      "source": [
        "print(\"[INFO] evaluating network...\")\n",
        "predictions = vgg16.predict(testX, batch_size=16)\n",
        "pred=predictions.argmax(axis=1)\n",
        "testY_argm=testY.argmax(axis=1)\n"
      ],
      "metadata": {
        "colab": {
          "base_uri": "https://localhost:8080/"
        },
        "id": "qjoEfHoWsr9H",
        "outputId": "2962cfd3-8a0f-4364-95d7-3d26502e3378"
      },
      "execution_count": 17,
      "outputs": [
        {
          "output_type": "stream",
          "name": "stdout",
          "text": [
            "[INFO] evaluating network...\n"
          ]
        }
      ]
    },
    {
      "cell_type": "code",
      "source": [
        "print(classification_report(testY_argm,pred,target_names=lb.classes_))"
      ],
      "metadata": {
        "colab": {
          "base_uri": "https://localhost:8080/"
        },
        "id": "Po9wqNIMts7s",
        "outputId": "1933dd37-a4a8-40f3-d6ae-26e408947bcd"
      },
      "execution_count": 18,
      "outputs": [
        {
          "output_type": "stream",
          "name": "stdout",
          "text": [
            "              precision    recall  f1-score   support\n",
            "\n",
            "      Normal       0.97      0.99      0.98       140\n",
            "Tuberculosis       0.99      0.97      0.98       140\n",
            "\n",
            "    accuracy                           0.98       280\n",
            "   macro avg       0.98      0.98      0.98       280\n",
            "weighted avg       0.98      0.98      0.98       280\n",
            "\n"
          ]
        }
      ]
    },
    {
      "cell_type": "code",
      "source": [
        "test_score = vgg16.evaluate(testX, testY) \n",
        "print(\"Test Loss {:.4f}, accuracy {:.2f}%\".format(test_score[0], test_score[1] * 100))"
      ],
      "metadata": {
        "colab": {
          "base_uri": "https://localhost:8080/"
        },
        "id": "5NSJXylrt1ND",
        "outputId": "ca209cc8-51e6-4bec-f17e-e8148f8fe96f"
      },
      "execution_count": 19,
      "outputs": [
        {
          "output_type": "stream",
          "name": "stdout",
          "text": [
            "9/9 [==============================] - 2s 93ms/step - loss: 0.0747 - accuracy: 0.9786\n",
            "Test Loss 0.0747, accuracy 97.86%\n"
          ]
        }
      ]
    },
    {
      "cell_type": "code",
      "source": [
        "from sklearn.metrics import confusion_matrix\n",
        "import itertools\n",
        "\n",
        "def plot_confusion_matrix(cm, classes, normalize=False, title='Confusion matrix', cmap='Blues'):\n",
        "  if normalize:\n",
        "     cm = cm.astype('float') / cm.sum(axis=1)[:, np.newaxis]\n",
        "     print(\"Normalized confusion matrix\")\n",
        "  else:\n",
        "     print('Confusion matrix, without normalization')\n",
        "  print(cm)\n",
        "  plt.imshow(cm, interpolation='nearest', cmap=cmap)\n",
        "  plt.title(title)\n",
        "  plt.colorbar()\n",
        "  tick_marks = np.arange(len(classes))\n",
        "  plt.xticks(tick_marks, classes, rotation=45)\n",
        "  plt.yticks(tick_marks, classes)\n",
        "  fmt = '.2f' if normalize else 'd'\n",
        "  thresh = cm.max() / 2.\n",
        "  for i, j in itertools.product(range(cm.shape[0]), range(cm.shape[1])):\n",
        "      plt.text(j, i, format(cm[i, j], fmt), horizontalalignment=\"center\", color=\"white\" if cm[i, j] > thresh else \"black\")\n",
        "  plt.ylabel('True label')\n",
        "  plt.xlabel('Predicted label')\n",
        "  plt.tight_layout()"
      ],
      "metadata": {
        "id": "ZS-FXHa6uI6H"
      },
      "execution_count": 20,
      "outputs": []
    },
    {
      "cell_type": "code",
      "source": [
        "cnf_matrix = confusion_matrix(testY_argm, pred)\n",
        "np.set_printoptions(precision=2)\n",
        "\n",
        "# Plot non/normalized confusion matrix\n",
        "plt.figure()\n",
        "plot_confusion_matrix(cnf_matrix,\n",
        "classes=lb.classes_, normalize=True)\n",
        "plt.show()\n",
        "\n",
        "plt.figure()\n",
        "plot_confusion_matrix(cnf_matrix,\n",
        "classes=lb.classes_, normalize=False)\n",
        "plt.show()\n",
        "\n",
        "f, ax = plt.subplots()\n",
        "ax.plot([None] + H.history['accuracy'], 'o-')\n",
        "ax.plot([None] + H.history['val_accuracy'], 'x-')\n",
        "\n",
        "ax.legend(['Train acc', 'Validation acc'], loc = 0)\n",
        "ax.set_title('Training/Validation acc per Epoch')\n",
        "ax.set_xlabel('Epoch')\n",
        "ax.set_ylabel('acc')\n",
        "plt.grid(True)\n",
        "\n",
        "f, ax = plt.subplots()\n",
        "ax.plot([None] + H.history['loss'], 'o-')\n",
        "ax.plot([None] + H.history['val_loss'], 'x-')\n",
        "ax.legend(['Train Loss', 'Validation Loss'], loc = 0)\n",
        "ax.set_title('Training/Validation Loss per Epoch')\n",
        "ax.set_xlabel('Epoch')\n",
        "ax.set_ylabel('loss')\n",
        "plt.grid(True)"
      ],
      "metadata": {
        "colab": {
          "base_uri": "https://localhost:8080/",
          "height": 1000
        },
        "id": "eiYstz9xuRLx",
        "outputId": "41fdcd92-f4d6-48c3-e0c0-12f80f8d4b07"
      },
      "execution_count": 21,
      "outputs": [
        {
          "output_type": "stream",
          "name": "stdout",
          "text": [
            "Normalized confusion matrix\n",
            "[[0.99 0.01]\n",
            " [0.03 0.97]]\n"
          ]
        },
        {
          "output_type": "display_data",
          "data": {
            "text/plain": [
              "<Figure size 432x288 with 2 Axes>"
            ],
            "image/png": "[encoded data removed]"
          },
          "metadata": {
            "needs_background": "light"
          }
        },
        {
          "output_type": "stream",
          "name": "stdout",
          "text": [
            "Confusion matrix, without normalization\n",
            "[[138   2]\n",
            " [  4 136]]\n"
          ]
        },
        {
          "output_type": "display_data",
          "data": {
            "text/plain": [
              "<Figure size 432x288 with 2 Axes>"
            ],
            "image/png": "[encoded data removed]"
          },
          "metadata": {
            "needs_background": "light"
          }
        },
        {
          "output_type": "display_data",
          "data": {
            "text/plain": [
              "<Figure size 432x288 with 1 Axes>"
            ],
            "image/png": "[encoded data removed]"
          },
          "metadata": {
            "needs_background": "light"
          }
        },
        {
          "output_type": "display_data",
          "data": {
            "text/plain": [
              "<Figure size 432x288 with 1 Axes>"
            ],
            "image/png": "[encoded data removed]"
          },
          "metadata": {
            "needs_background": "light"
          }
        }
      ]
    }
  ]
}