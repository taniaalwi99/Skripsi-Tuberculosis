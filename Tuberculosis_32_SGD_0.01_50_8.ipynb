{
  "nbformat": 4,
  "nbformat_minor": 0,
  "metadata": {
    "colab": {
      "name": "Tuberculosis_VGG-16.ipynb",
      "provenance": [],
      "collapsed_sections": [],
      "include_colab_link": true
    },
    "kernelspec": {
      "name": "python3",
      "display_name": "Python 3"
    },
    "language_info": {
      "name": "python"
    },
    "accelerator": "GPU",
    "gpuClass": "standard"
  },
  "cells": [
    {
      "cell_type": "markdown",
      "metadata": {
        "id": "view-in-github",
        "colab_type": "text"
      },
      "source": [
        "<a href=\"https://colab.research.google.com/github/taniaalwi99/Skripsi-Tuberculosis/blob/main/Tuberculosis_32_SGD_0.01_50_8.ipynb\" target=\"_parent\"><img src=\"https://colab.research.google.com/assets/colab-badge.svg\" alt=\"Open In Colab\"/></a>"
      ]
    },
    {
      "cell_type": "code",
      "execution_count": 18,
      "metadata": {
        "colab": {
          "base_uri": "https://localhost:8080/"
        },
        "id": "2_RYo7hrXaC5",
        "outputId": "6e5bb622-3e2e-4d32-ae5f-bb11d4e00919"
      },
      "outputs": [
        {
          "output_type": "stream",
          "name": "stdout",
          "text": [
            "Drive already mounted at /content/drive; to attempt to forcibly remount, call drive.mount(\"/content/drive\", force_remount=True).\n"
          ]
        }
      ],
      "source": [
        "from google.colab import drive\n",
        "drive.mount('/content/drive')"
      ]
    },
    {
      "cell_type": "code",
      "source": [
        "cd /content/drive/My Drive"
      ],
      "metadata": {
        "colab": {
          "base_uri": "https://localhost:8080/"
        },
        "id": "G4aisxOFX3KH",
        "outputId": "f935e7f5-35b9-41fd-b1c4-fe13c3f514a5"
      },
      "execution_count": 19,
      "outputs": [
        {
          "output_type": "stream",
          "name": "stdout",
          "text": [
            "/content/drive/My Drive\n"
          ]
        }
      ]
    },
    {
      "cell_type": "code",
      "source": [
        "ls"
      ],
      "metadata": {
        "colab": {
          "base_uri": "https://localhost:8080/"
        },
        "id": "e_oGUrADX8O_",
        "outputId": "839fc7d9-8f63-453c-826a-346b6bce5315"
      },
      "execution_count": 20,
      "outputs": [
        {
          "output_type": "stream",
          "name": "stdout",
          "text": [
            "\u001b[0m\u001b[01;34m'Colab Notebooks'\u001b[0m/  \u001b[01;34m'Dataset Gray'\u001b[0m/  \u001b[01;34m'Tania Alwi'\u001b[0m/\n"
          ]
        }
      ]
    },
    {
      "cell_type": "code",
      "source": [
        "from keras.models import Model\n",
        "from keras.models import load_model\n",
        "from keras.models import Sequential\n",
        "from keras.layers.convolutional import Convolution2D\n",
        "from keras.layers.convolutional import MaxPooling2D\n",
        "from keras.layers.convolutional import ZeroPadding2D\n",
        "from keras.layers.core import Activation\n",
        "from keras.layers.core import Flatten\n",
        "from keras.layers.core import Dense\n",
        "from keras.layers.core import Dropout\n",
        "from keras.layers import BatchNormalization\n",
        "from keras import regularizers\n",
        "from keras.preprocessing.image import ImageDataGenerator\n",
        "from tensorflow.keras.optimizers import RMSprop, Adam, SGD\n",
        "from sklearn.preprocessing import LabelBinarizer\n",
        "from sklearn.model_selection import train_test_split\n",
        "from sklearn.metrics import classification_report\n",
        "from PIL import Image\n",
        "from matplotlib import pyplot as plt\n",
        "from imutils import paths\n",
        "import numpy as np\n",
        "import os"
      ],
      "metadata": {
        "id": "t95OxlI7X_OF"
      },
      "execution_count": 21,
      "outputs": []
    },
    {
      "cell_type": "code",
      "source": [
        "print(\"[INFO] loading images...\")\n",
        "imagePaths = paths.list_images(\"Dataset Gray\")\n",
        "data = []\n",
        "labels = []"
      ],
      "metadata": {
        "colab": {
          "base_uri": "https://localhost:8080/"
        },
        "id": "jvn693i-YDZ8",
        "outputId": "26cc70c0-da92-40e4-97df-5623ee6b01b1"
      },
      "execution_count": 22,
      "outputs": [
        {
          "output_type": "stream",
          "name": "stdout",
          "text": [
            "[INFO] loading images...\n"
          ]
        }
      ]
    },
    {
      "cell_type": "code",
      "source": [
        "for imagePaths in imagePaths:\n",
        "    a = Image.open(imagePaths)\n",
        "    image = np.array(a.resize((32,32))) / 255.0\n",
        "    data.append(image)\n",
        "    \n",
        "    label = imagePaths.split(os.path.sep) [-2]\n",
        "    labels.append(label)"
      ],
      "metadata": {
        "id": "3XLuWAZsYLfK"
      },
      "execution_count": 23,
      "outputs": []
    },
    {
      "cell_type": "code",
      "source": [
        "from sklearn.preprocessing import LabelBinarizer\n",
        "import numpy as np\n",
        "\n",
        "class MyLabelBinarizer(LabelBinarizer):\n",
        "    def transform(self, label):\n",
        "      nilaiy = super().transform(label)\n",
        "      if self.y_type_== 'binary':\n",
        "        return np.hstack((nilaiy, 1-nilaiy))\n",
        "      else:\n",
        "        return nilaiy\n",
        "    def inverse_transform(self, nilaiy, threshold=None):\n",
        "      if self.y_type_ == 'binary':\n",
        "          return super().inverse_transform(nilaiy[:, 0], threshold)\n",
        "      else:\n",
        "          return super().inverse_transform(nilaiy, threshold)\n",
        "\n",
        "      \n",
        "\n",
        "lb = MyLabelBinarizer()\n",
        "labels = lb.fit_transform(labels)\n",
        "print(labels)"
      ],
      "metadata": {
        "colab": {
          "base_uri": "https://localhost:8080/"
        },
        "id": "gnjyPDi_Yyrn",
        "outputId": "3ca6a7b9-c545-46d1-f3e8-ae03cc33e882"
      },
      "execution_count": 24,
      "outputs": [
        {
          "output_type": "stream",
          "name": "stdout",
          "text": [
            "[[0 1]\n",
            " [0 1]\n",
            " [0 1]\n",
            " ...\n",
            " [1 0]\n",
            " [1 0]\n",
            " [1 0]]\n"
          ]
        }
      ]
    },
    {
      "cell_type": "code",
      "source": [
        "(trainX,testX, trainY, testY) = train_test_split(np.array(data),np.array(labels), test_size=0.20)\n",
        "print(trainX.shape)\n",
        "print(testX.shape)"
      ],
      "metadata": {
        "colab": {
          "base_uri": "https://localhost:8080/"
        },
        "id": "0V3CnlQtY1g2",
        "outputId": "eeb5ee54-2133-4cff-e295-2b263804f056"
      },
      "execution_count": 25,
      "outputs": [
        {
          "output_type": "stream",
          "name": "stdout",
          "text": [
            "(1120, 32, 32)\n",
            "(280, 32, 32)\n"
          ]
        }
      ]
    },
    {
      "cell_type": "code",
      "source": [
        "def vgg16(num_classes):\n",
        "\n",
        "    vgg16 = Sequential()\n",
        "\n",
        "    vgg16.add(Convolution2D(input_shape=(32,32,1),filters=64,kernel_size=(3,3),padding=\"same\"))\n",
        "    vgg16.add(Activation('relu'))\n",
        "    vgg16.add(BatchNormalization())\n",
        "    #layer1 32*32*64\n",
        "    vgg16.add(Convolution2D(filters=64,kernel_size=(3,3),padding=\"same\"))\n",
        "    vgg16.add(Activation('relu'))\n",
        "    vgg16.add(MaxPooling2D(pool_size=(2, 2),strides=(2,2)))\n",
        "    vgg16.add(BatchNormalization())\n",
        "    #layer2 16*16*64\n",
        "    vgg16.add(Convolution2D(filters=128, kernel_size=(3,3), padding=\"same\"))\n",
        "    vgg16.add(Activation('relu'))\n",
        "    vgg16.add(BatchNormalization())\n",
        "    #layer3 16*16*128\n",
        "    vgg16.add(Convolution2D(filters=128, kernel_size=(3,3), padding=\"same\",))\n",
        "    vgg16.add(Activation('relu'))\n",
        "    vgg16.add(MaxPooling2D(pool_size=(2,2),strides=(2,2)))\n",
        "    vgg16.add(BatchNormalization())\n",
        "    #layer4 8*8*128\n",
        "    vgg16.add(Convolution2D(filters=256, kernel_size=(3,3), padding=\"same\"))\n",
        "    vgg16.add(Activation('relu'))\n",
        "    vgg16.add(BatchNormalization())\n",
        "    #layer5 8*8*256\n",
        "    vgg16.add(Convolution2D(filters=256, kernel_size=(3,3), padding=\"same\"))\n",
        "    vgg16.add(Activation('relu'))\n",
        "    vgg16.add(BatchNormalization())\n",
        "    #layer6 8*8*256\n",
        "    vgg16.add(Convolution2D(filters=256, kernel_size=(3,3), padding=\"same\"))\n",
        "    vgg16.add(Activation('relu'))\n",
        "    vgg16.add(MaxPooling2D(pool_size=(2,2),strides=(2,2)))\n",
        "    vgg16.add(BatchNormalization())\n",
        "    #layer7 4*4*256\n",
        "    vgg16.add(Convolution2D(filters=512, kernel_size=(3,3), padding=\"same\"))\n",
        "    vgg16.add(Activation('relu'))\n",
        "    vgg16.add(BatchNormalization())\n",
        "    #layer8 4*4*512\n",
        "    vgg16.add(Convolution2D(filters=512, kernel_size=(3,3), padding=\"same\"))\n",
        "    vgg16.add(Activation('relu'))\n",
        "    vgg16.add(BatchNormalization())\n",
        "    #layer9 4*4*512\n",
        "    vgg16.add(Convolution2D(filters=512, kernel_size=(3,3), padding=\"same\"))\n",
        "    vgg16.add(Activation('relu'))\n",
        "    vgg16.add(MaxPooling2D(pool_size=(2,2),strides=(2,2)))\n",
        "    vgg16.add(BatchNormalization())\n",
        "    #layer10 2*2*512\n",
        "    vgg16.add(Convolution2D(filters=512, kernel_size=(3,3), padding=\"same\"))\n",
        "    vgg16.add(Activation('relu'))\n",
        "    vgg16.add(BatchNormalization())\n",
        "    #layer11 2*2*512\n",
        "    vgg16.add(Convolution2D(filters=512, kernel_size=(3,3), padding=\"same\"))  \n",
        "    vgg16.add(Activation('relu')) \n",
        "    vgg16.add(BatchNormalization())       \n",
        "    #layer12 2*2*512\n",
        "    vgg16.add(Convolution2D(filters=512, kernel_size=(3,3), padding=\"same\"))\n",
        "    vgg16.add(Activation('relu'))\n",
        "    vgg16.add(MaxPooling2D(pool_size=(2,2),strides=(2,2)))\n",
        "    vgg16.add(BatchNormalization())\n",
        "    #layer13 1*1*512\n",
        "    vgg16.add(Flatten())\n",
        "    vgg16.add(Dense(units=4096))\n",
        "    vgg16.add(Activation('relu')) \n",
        "    vgg16.add(BatchNormalization())\n",
        "    vgg16.add(Dropout(0.5))\n",
        "    #layer14 4096\n",
        "    vgg16.add(Dense(units=4096))\n",
        "    vgg16.add(Activation('relu')) \n",
        "    vgg16.add(BatchNormalization())\n",
        "    vgg16.add(Dropout(0.5))\n",
        "    #layer16 4096\n",
        "    vgg16.add(Dense(units=1000))\n",
        "    vgg16.add(Activation('relu'))\n",
        "    vgg16.add(BatchNormalization())\n",
        "    vgg16.add(Dropout(0.5)) \n",
        "    #layer16 1000\n",
        "    vgg16.add(Dense(2, activation=\"sigmoid\"))\n",
        "\n",
        "    return vgg16"
      ],
      "metadata": {
        "id": "WpeYjXzUZCZP"
      },
      "execution_count": 26,
      "outputs": []
    },
    {
      "cell_type": "code",
      "source": [
        "num_classes=2\n",
        "vgg16=vgg16(num_classes)\n",
        "vgg16.summary()"
      ],
      "metadata": {
        "colab": {
          "base_uri": "https://localhost:8080/"
        },
        "id": "rlT3OhVuZLUs",
        "outputId": "ed4f0749-a691-4c05-d7b6-629b04af61e4"
      },
      "execution_count": 27,
      "outputs": [
        {
          "output_type": "stream",
          "name": "stdout",
          "text": [
            "Model: \"sequential_1\"\n",
            "_________________________________________________________________\n",
            " Layer (type)                Output Shape              Param #   \n",
            "=================================================================\n",
            " conv2d_13 (Conv2D)          (None, 32, 32, 64)        640       \n",
            "                                                                 \n",
            " activation_16 (Activation)  (None, 32, 32, 64)        0         \n",
            "                                                                 \n",
            " batch_normalization_16 (Bat  (None, 32, 32, 64)       256       \n",
            " chNormalization)                                                \n",
            "                                                                 \n",
            " conv2d_14 (Conv2D)          (None, 32, 32, 64)        36928     \n",
            "                                                                 \n",
            " activation_17 (Activation)  (None, 32, 32, 64)        0         \n",
            "                                                                 \n",
            " max_pooling2d_5 (MaxPooling  (None, 16, 16, 64)       0         \n",
            " 2D)                                                             \n",
            "                                                                 \n",
            " batch_normalization_17 (Bat  (None, 16, 16, 64)       256       \n",
            " chNormalization)                                                \n",
            "                                                                 \n",
            " conv2d_15 (Conv2D)          (None, 16, 16, 128)       73856     \n",
            "                                                                 \n",
            " activation_18 (Activation)  (None, 16, 16, 128)       0         \n",
            "                                                                 \n",
            " batch_normalization_18 (Bat  (None, 16, 16, 128)      512       \n",
            " chNormalization)                                                \n",
            "                                                                 \n",
            " conv2d_16 (Conv2D)          (None, 16, 16, 128)       147584    \n",
            "                                                                 \n",
            " activation_19 (Activation)  (None, 16, 16, 128)       0         \n",
            "                                                                 \n",
            " max_pooling2d_6 (MaxPooling  (None, 8, 8, 128)        0         \n",
            " 2D)                                                             \n",
            "                                                                 \n",
            " batch_normalization_19 (Bat  (None, 8, 8, 128)        512       \n",
            " chNormalization)                                                \n",
            "                                                                 \n",
            " conv2d_17 (Conv2D)          (None, 8, 8, 256)         295168    \n",
            "                                                                 \n",
            " activation_20 (Activation)  (None, 8, 8, 256)         0         \n",
            "                                                                 \n",
            " batch_normalization_20 (Bat  (None, 8, 8, 256)        1024      \n",
            " chNormalization)                                                \n",
            "                                                                 \n",
            " conv2d_18 (Conv2D)          (None, 8, 8, 256)         590080    \n",
            "                                                                 \n",
            " activation_21 (Activation)  (None, 8, 8, 256)         0         \n",
            "                                                                 \n",
            " batch_normalization_21 (Bat  (None, 8, 8, 256)        1024      \n",
            " chNormalization)                                                \n",
            "                                                                 \n",
            " conv2d_19 (Conv2D)          (None, 8, 8, 256)         590080    \n",
            "                                                                 \n",
            " activation_22 (Activation)  (None, 8, 8, 256)         0         \n",
            "                                                                 \n",
            " max_pooling2d_7 (MaxPooling  (None, 4, 4, 256)        0         \n",
            " 2D)                                                             \n",
            "                                                                 \n",
            " batch_normalization_22 (Bat  (None, 4, 4, 256)        1024      \n",
            " chNormalization)                                                \n",
            "                                                                 \n",
            " conv2d_20 (Conv2D)          (None, 4, 4, 512)         1180160   \n",
            "                                                                 \n",
            " activation_23 (Activation)  (None, 4, 4, 512)         0         \n",
            "                                                                 \n",
            " batch_normalization_23 (Bat  (None, 4, 4, 512)        2048      \n",
            " chNormalization)                                                \n",
            "                                                                 \n",
            " conv2d_21 (Conv2D)          (None, 4, 4, 512)         2359808   \n",
            "                                                                 \n",
            " activation_24 (Activation)  (None, 4, 4, 512)         0         \n",
            "                                                                 \n",
            " batch_normalization_24 (Bat  (None, 4, 4, 512)        2048      \n",
            " chNormalization)                                                \n",
            "                                                                 \n",
            " conv2d_22 (Conv2D)          (None, 4, 4, 512)         2359808   \n",
            "                                                                 \n",
            " activation_25 (Activation)  (None, 4, 4, 512)         0         \n",
            "                                                                 \n",
            " max_pooling2d_8 (MaxPooling  (None, 2, 2, 512)        0         \n",
            " 2D)                                                             \n",
            "                                                                 \n",
            " batch_normalization_25 (Bat  (None, 2, 2, 512)        2048      \n",
            " chNormalization)                                                \n",
            "                                                                 \n",
            " conv2d_23 (Conv2D)          (None, 2, 2, 512)         2359808   \n",
            "                                                                 \n",
            " activation_26 (Activation)  (None, 2, 2, 512)         0         \n",
            "                                                                 \n",
            " batch_normalization_26 (Bat  (None, 2, 2, 512)        2048      \n",
            " chNormalization)                                                \n",
            "                                                                 \n",
            " conv2d_24 (Conv2D)          (None, 2, 2, 512)         2359808   \n",
            "                                                                 \n",
            " activation_27 (Activation)  (None, 2, 2, 512)         0         \n",
            "                                                                 \n",
            " batch_normalization_27 (Bat  (None, 2, 2, 512)        2048      \n",
            " chNormalization)                                                \n",
            "                                                                 \n",
            " conv2d_25 (Conv2D)          (None, 2, 2, 512)         2359808   \n",
            "                                                                 \n",
            " activation_28 (Activation)  (None, 2, 2, 512)         0         \n",
            "                                                                 \n",
            " max_pooling2d_9 (MaxPooling  (None, 1, 1, 512)        0         \n",
            " 2D)                                                             \n",
            "                                                                 \n",
            " batch_normalization_28 (Bat  (None, 1, 1, 512)        2048      \n",
            " chNormalization)                                                \n",
            "                                                                 \n",
            " flatten_1 (Flatten)         (None, 512)               0         \n",
            "                                                                 \n",
            " dense_4 (Dense)             (None, 4096)              2101248   \n",
            "                                                                 \n",
            " activation_29 (Activation)  (None, 4096)              0         \n",
            "                                                                 \n",
            " batch_normalization_29 (Bat  (None, 4096)             16384     \n",
            " chNormalization)                                                \n",
            "                                                                 \n",
            " dropout_3 (Dropout)         (None, 4096)              0         \n",
            "                                                                 \n",
            " dense_5 (Dense)             (None, 4096)              16781312  \n",
            "                                                                 \n",
            " activation_30 (Activation)  (None, 4096)              0         \n",
            "                                                                 \n",
            " batch_normalization_30 (Bat  (None, 4096)             16384     \n",
            " chNormalization)                                                \n",
            "                                                                 \n",
            " dropout_4 (Dropout)         (None, 4096)              0         \n",
            "                                                                 \n",
            " dense_6 (Dense)             (None, 1000)              4097000   \n",
            "                                                                 \n",
            " activation_31 (Activation)  (None, 1000)              0         \n",
            "                                                                 \n",
            " batch_normalization_31 (Bat  (None, 1000)             4000      \n",
            " chNormalization)                                                \n",
            "                                                                 \n",
            " dropout_5 (Dropout)         (None, 1000)              0         \n",
            "                                                                 \n",
            " dense_7 (Dense)             (None, 2)                 2002      \n",
            "                                                                 \n",
            "=================================================================\n",
            "Total params: 37,748,762\n",
            "Trainable params: 37,721,930\n",
            "Non-trainable params: 26,832\n",
            "_________________________________________________________________\n"
          ]
        }
      ]
    },
    {
      "cell_type": "code",
      "source": [
        "#setting hyperparameter, menggunakan Adam\n",
        "opt = SGD(lr=0.01)\n",
        "vgg16.compile(loss='binary_crossentropy', optimizer=opt, metrics=['accuracy'])\n",
        "vgg16.summary()"
      ],
      "metadata": {
        "colab": {
          "base_uri": "https://localhost:8080/"
        },
        "id": "eZ0TePWVZTx4",
        "outputId": "4024487f-cba3-4fac-beae-3edc4f461a1b"
      },
      "execution_count": 28,
      "outputs": [
        {
          "output_type": "stream",
          "name": "stdout",
          "text": [
            "Model: \"sequential_1\"\n",
            "_________________________________________________________________\n",
            " Layer (type)                Output Shape              Param #   \n",
            "=================================================================\n",
            " conv2d_13 (Conv2D)          (None, 32, 32, 64)        640       \n",
            "                                                                 \n",
            " activation_16 (Activation)  (None, 32, 32, 64)        0         \n",
            "                                                                 \n",
            " batch_normalization_16 (Bat  (None, 32, 32, 64)       256       \n",
            " chNormalization)                                                \n",
            "                                                                 \n",
            " conv2d_14 (Conv2D)          (None, 32, 32, 64)        36928     \n",
            "                                                                 \n",
            " activation_17 (Activation)  (None, 32, 32, 64)        0         \n",
            "                                                                 \n",
            " max_pooling2d_5 (MaxPooling  (None, 16, 16, 64)       0         \n",
            " 2D)                                                             \n",
            "                                                                 \n",
            " batch_normalization_17 (Bat  (None, 16, 16, 64)       256       \n",
            " chNormalization)                                                \n",
            "                                                                 \n",
            " conv2d_15 (Conv2D)          (None, 16, 16, 128)       73856     \n",
            "                                                                 \n",
            " activation_18 (Activation)  (None, 16, 16, 128)       0         \n",
            "                                                                 \n",
            " batch_normalization_18 (Bat  (None, 16, 16, 128)      512       \n",
            " chNormalization)                                                \n",
            "                                                                 \n",
            " conv2d_16 (Conv2D)          (None, 16, 16, 128)       147584    \n",
            "                                                                 \n",
            " activation_19 (Activation)  (None, 16, 16, 128)       0         \n",
            "                                                                 \n",
            " max_pooling2d_6 (MaxPooling  (None, 8, 8, 128)        0         \n",
            " 2D)                                                             \n",
            "                                                                 \n",
            " batch_normalization_19 (Bat  (None, 8, 8, 128)        512       \n",
            " chNormalization)                                                \n",
            "                                                                 \n",
            " conv2d_17 (Conv2D)          (None, 8, 8, 256)         295168    \n",
            "                                                                 \n",
            " activation_20 (Activation)  (None, 8, 8, 256)         0         \n",
            "                                                                 \n",
            " batch_normalization_20 (Bat  (None, 8, 8, 256)        1024      \n",
            " chNormalization)                                                \n",
            "                                                                 \n",
            " conv2d_18 (Conv2D)          (None, 8, 8, 256)         590080    \n",
            "                                                                 \n",
            " activation_21 (Activation)  (None, 8, 8, 256)         0         \n",
            "                                                                 \n",
            " batch_normalization_21 (Bat  (None, 8, 8, 256)        1024      \n",
            " chNormalization)                                                \n",
            "                                                                 \n",
            " conv2d_19 (Conv2D)          (None, 8, 8, 256)         590080    \n",
            "                                                                 \n",
            " activation_22 (Activation)  (None, 8, 8, 256)         0         \n",
            "                                                                 \n",
            " max_pooling2d_7 (MaxPooling  (None, 4, 4, 256)        0         \n",
            " 2D)                                                             \n",
            "                                                                 \n",
            " batch_normalization_22 (Bat  (None, 4, 4, 256)        1024      \n",
            " chNormalization)                                                \n",
            "                                                                 \n",
            " conv2d_20 (Conv2D)          (None, 4, 4, 512)         1180160   \n",
            "                                                                 \n",
            " activation_23 (Activation)  (None, 4, 4, 512)         0         \n",
            "                                                                 \n",
            " batch_normalization_23 (Bat  (None, 4, 4, 512)        2048      \n",
            " chNormalization)                                                \n",
            "                                                                 \n",
            " conv2d_21 (Conv2D)          (None, 4, 4, 512)         2359808   \n",
            "                                                                 \n",
            " activation_24 (Activation)  (None, 4, 4, 512)         0         \n",
            "                                                                 \n",
            " batch_normalization_24 (Bat  (None, 4, 4, 512)        2048      \n",
            " chNormalization)                                                \n",
            "                                                                 \n",
            " conv2d_22 (Conv2D)          (None, 4, 4, 512)         2359808   \n",
            "                                                                 \n",
            " activation_25 (Activation)  (None, 4, 4, 512)         0         \n",
            "                                                                 \n",
            " max_pooling2d_8 (MaxPooling  (None, 2, 2, 512)        0         \n",
            " 2D)                                                             \n",
            "                                                                 \n",
            " batch_normalization_25 (Bat  (None, 2, 2, 512)        2048      \n",
            " chNormalization)                                                \n",
            "                                                                 \n",
            " conv2d_23 (Conv2D)          (None, 2, 2, 512)         2359808   \n",
            "                                                                 \n",
            " activation_26 (Activation)  (None, 2, 2, 512)         0         \n",
            "                                                                 \n",
            " batch_normalization_26 (Bat  (None, 2, 2, 512)        2048      \n",
            " chNormalization)                                                \n",
            "                                                                 \n",
            " conv2d_24 (Conv2D)          (None, 2, 2, 512)         2359808   \n",
            "                                                                 \n",
            " activation_27 (Activation)  (None, 2, 2, 512)         0         \n",
            "                                                                 \n",
            " batch_normalization_27 (Bat  (None, 2, 2, 512)        2048      \n",
            " chNormalization)                                                \n",
            "                                                                 \n",
            " conv2d_25 (Conv2D)          (None, 2, 2, 512)         2359808   \n",
            "                                                                 \n",
            " activation_28 (Activation)  (None, 2, 2, 512)         0         \n",
            "                                                                 \n",
            " max_pooling2d_9 (MaxPooling  (None, 1, 1, 512)        0         \n",
            " 2D)                                                             \n",
            "                                                                 \n",
            " batch_normalization_28 (Bat  (None, 1, 1, 512)        2048      \n",
            " chNormalization)                                                \n",
            "                                                                 \n",
            " flatten_1 (Flatten)         (None, 512)               0         \n",
            "                                                                 \n",
            " dense_4 (Dense)             (None, 4096)              2101248   \n",
            "                                                                 \n",
            " activation_29 (Activation)  (None, 4096)              0         \n",
            "                                                                 \n",
            " batch_normalization_29 (Bat  (None, 4096)             16384     \n",
            " chNormalization)                                                \n",
            "                                                                 \n",
            " dropout_3 (Dropout)         (None, 4096)              0         \n",
            "                                                                 \n",
            " dense_5 (Dense)             (None, 4096)              16781312  \n",
            "                                                                 \n",
            " activation_30 (Activation)  (None, 4096)              0         \n",
            "                                                                 \n",
            " batch_normalization_30 (Bat  (None, 4096)             16384     \n",
            " chNormalization)                                                \n",
            "                                                                 \n",
            " dropout_4 (Dropout)         (None, 4096)              0         \n",
            "                                                                 \n"
          ]
        },
        {
          "output_type": "stream",
          "name": "stderr",
          "text": [
            "/usr/local/lib/python3.7/dist-packages/keras/optimizer_v2/gradient_descent.py:102: UserWarning: The `lr` argument is deprecated, use `learning_rate` instead.\n",
            "  super(SGD, self).__init__(name, **kwargs)\n"
          ]
        },
        {
          "output_type": "stream",
          "name": "stdout",
          "text": [
            " dense_6 (Dense)             (None, 1000)              4097000   \n",
            "                                                                 \n",
            " activation_31 (Activation)  (None, 1000)              0         \n",
            "                                                                 \n",
            " batch_normalization_31 (Bat  (None, 1000)             4000      \n",
            " chNormalization)                                                \n",
            "                                                                 \n",
            " dropout_5 (Dropout)         (None, 1000)              0         \n",
            "                                                                 \n",
            " dense_7 (Dense)             (None, 2)                 2002      \n",
            "                                                                 \n",
            "=================================================================\n",
            "Total params: 37,748,762\n",
            "Trainable params: 37,721,930\n",
            "Non-trainable params: 26,832\n",
            "_________________________________________________________________\n"
          ]
        }
      ]
    },
    {
      "cell_type": "code",
      "source": [
        "#training data\n",
        "H = vgg16.fit(trainX, trainY, validation_data=(testX, testY), epochs=50, batch_size=8)"
      ],
      "metadata": {
        "colab": {
          "base_uri": "https://localhost:8080/"
        },
        "id": "JOp0TzHxZYLf",
        "outputId": "03757f7f-43db-4377-e91d-40927c357b25"
      },
      "execution_count": 29,
      "outputs": [
        {
          "output_type": "stream",
          "name": "stdout",
          "text": [
            "Epoch 1/50\n",
            "140/140 [==============================] - 6s 30ms/step - loss: 0.7763 - accuracy: 0.7027 - val_loss: 0.5821 - val_accuracy: 0.7250\n",
            "Epoch 2/50\n",
            "140/140 [==============================] - 3s 24ms/step - loss: 0.5573 - accuracy: 0.8071 - val_loss: 0.4343 - val_accuracy: 0.8000\n",
            "Epoch 3/50\n",
            "140/140 [==============================] - 3s 25ms/step - loss: 0.4171 - accuracy: 0.8384 - val_loss: 0.2914 - val_accuracy: 0.9000\n",
            "Epoch 4/50\n",
            "140/140 [==============================] - 4s 26ms/step - loss: 0.3742 - accuracy: 0.8679 - val_loss: 0.1869 - val_accuracy: 0.9250\n",
            "Epoch 5/50\n",
            "140/140 [==============================] - 3s 24ms/step - loss: 0.3394 - accuracy: 0.8884 - val_loss: 0.3147 - val_accuracy: 0.8607\n",
            "Epoch 6/50\n",
            "140/140 [==============================] - 3s 25ms/step - loss: 0.2626 - accuracy: 0.9152 - val_loss: 0.1845 - val_accuracy: 0.9286\n",
            "Epoch 7/50\n",
            "140/140 [==============================] - 3s 24ms/step - loss: 0.2458 - accuracy: 0.9143 - val_loss: 0.2026 - val_accuracy: 0.9286\n",
            "Epoch 8/50\n",
            "140/140 [==============================] - 3s 24ms/step - loss: 0.2057 - accuracy: 0.9250 - val_loss: 0.1597 - val_accuracy: 0.9429\n",
            "Epoch 9/50\n",
            "140/140 [==============================] - 4s 25ms/step - loss: 0.2014 - accuracy: 0.9348 - val_loss: 0.1309 - val_accuracy: 0.9571\n",
            "Epoch 10/50\n",
            "140/140 [==============================] - 3s 25ms/step - loss: 0.2002 - accuracy: 0.9357 - val_loss: 0.2207 - val_accuracy: 0.9107\n",
            "Epoch 11/50\n",
            "140/140 [==============================] - 4s 25ms/step - loss: 0.2168 - accuracy: 0.9402 - val_loss: 0.3026 - val_accuracy: 0.9179\n",
            "Epoch 12/50\n",
            "140/140 [==============================] - 4s 25ms/step - loss: 0.2068 - accuracy: 0.9438 - val_loss: 0.1519 - val_accuracy: 0.9500\n",
            "Epoch 13/50\n",
            "140/140 [==============================] - 4s 25ms/step - loss: 0.1249 - accuracy: 0.9643 - val_loss: 0.1376 - val_accuracy: 0.9607\n",
            "Epoch 14/50\n",
            "140/140 [==============================] - 4s 25ms/step - loss: 0.1466 - accuracy: 0.9518 - val_loss: 0.1327 - val_accuracy: 0.9500\n",
            "Epoch 15/50\n",
            "140/140 [==============================] - 4s 25ms/step - loss: 0.1075 - accuracy: 0.9723 - val_loss: 0.1046 - val_accuracy: 0.9643\n",
            "Epoch 16/50\n",
            "140/140 [==============================] - 3s 25ms/step - loss: 0.1237 - accuracy: 0.9688 - val_loss: 0.1154 - val_accuracy: 0.9607\n",
            "Epoch 17/50\n",
            "140/140 [==============================] - 4s 25ms/step - loss: 0.0845 - accuracy: 0.9750 - val_loss: 0.1609 - val_accuracy: 0.9429\n",
            "Epoch 18/50\n",
            "140/140 [==============================] - 3s 25ms/step - loss: 0.1143 - accuracy: 0.9696 - val_loss: 0.2437 - val_accuracy: 0.9214\n",
            "Epoch 19/50\n",
            "140/140 [==============================] - 4s 25ms/step - loss: 0.0774 - accuracy: 0.9759 - val_loss: 0.2165 - val_accuracy: 0.9393\n",
            "Epoch 20/50\n",
            "140/140 [==============================] - 3s 25ms/step - loss: 0.1174 - accuracy: 0.9670 - val_loss: 0.1718 - val_accuracy: 0.9500\n",
            "Epoch 21/50\n",
            "140/140 [==============================] - 4s 25ms/step - loss: 0.0974 - accuracy: 0.9786 - val_loss: 0.1105 - val_accuracy: 0.9714\n",
            "Epoch 22/50\n",
            "140/140 [==============================] - 4s 25ms/step - loss: 0.1418 - accuracy: 0.9643 - val_loss: 0.1685 - val_accuracy: 0.9464\n",
            "Epoch 23/50\n",
            "140/140 [==============================] - 4s 26ms/step - loss: 0.1270 - accuracy: 0.9589 - val_loss: 0.3920 - val_accuracy: 0.8393\n",
            "Epoch 24/50\n",
            "140/140 [==============================] - 3s 25ms/step - loss: 0.1224 - accuracy: 0.9607 - val_loss: 0.1047 - val_accuracy: 0.9679\n",
            "Epoch 25/50\n",
            "140/140 [==============================] - 3s 25ms/step - loss: 0.0695 - accuracy: 0.9830 - val_loss: 0.0926 - val_accuracy: 0.9679\n",
            "Epoch 26/50\n",
            "140/140 [==============================] - 3s 25ms/step - loss: 0.0590 - accuracy: 0.9875 - val_loss: 0.0964 - val_accuracy: 0.9643\n",
            "Epoch 27/50\n",
            "140/140 [==============================] - 4s 25ms/step - loss: 0.0666 - accuracy: 0.9804 - val_loss: 0.1761 - val_accuracy: 0.9536\n",
            "Epoch 28/50\n",
            "140/140 [==============================] - 3s 25ms/step - loss: 0.0643 - accuracy: 0.9812 - val_loss: 0.1503 - val_accuracy: 0.9536\n",
            "Epoch 29/50\n",
            "140/140 [==============================] - 4s 28ms/step - loss: 0.0395 - accuracy: 0.9884 - val_loss: 0.1735 - val_accuracy: 0.9536\n",
            "Epoch 30/50\n",
            "140/140 [==============================] - 4s 25ms/step - loss: 0.0501 - accuracy: 0.9875 - val_loss: 0.1585 - val_accuracy: 0.9607\n",
            "Epoch 31/50\n",
            "140/140 [==============================] - 4s 25ms/step - loss: 0.1084 - accuracy: 0.9732 - val_loss: 0.3238 - val_accuracy: 0.9071\n",
            "Epoch 32/50\n",
            "140/140 [==============================] - 4s 26ms/step - loss: 0.0667 - accuracy: 0.9857 - val_loss: 0.1474 - val_accuracy: 0.9464\n",
            "Epoch 33/50\n",
            "140/140 [==============================] - 4s 25ms/step - loss: 0.0575 - accuracy: 0.9857 - val_loss: 0.1639 - val_accuracy: 0.9500\n",
            "Epoch 34/50\n",
            "140/140 [==============================] - 3s 25ms/step - loss: 0.0396 - accuracy: 0.9866 - val_loss: 0.1693 - val_accuracy: 0.9357\n",
            "Epoch 35/50\n",
            "140/140 [==============================] - 3s 25ms/step - loss: 0.0324 - accuracy: 0.9902 - val_loss: 0.1236 - val_accuracy: 0.9679\n",
            "Epoch 36/50\n",
            "140/140 [==============================] - 4s 25ms/step - loss: 0.0286 - accuracy: 0.9929 - val_loss: 0.1184 - val_accuracy: 0.9750\n",
            "Epoch 37/50\n",
            "140/140 [==============================] - 4s 25ms/step - loss: 0.0275 - accuracy: 0.9920 - val_loss: 0.2515 - val_accuracy: 0.9464\n",
            "Epoch 38/50\n",
            "140/140 [==============================] - 3s 25ms/step - loss: 0.0393 - accuracy: 0.9875 - val_loss: 0.1721 - val_accuracy: 0.9429\n",
            "Epoch 39/50\n",
            "140/140 [==============================] - 4s 26ms/step - loss: 0.0728 - accuracy: 0.9786 - val_loss: 0.1123 - val_accuracy: 0.9571\n",
            "Epoch 40/50\n",
            "140/140 [==============================] - 4s 26ms/step - loss: 0.0320 - accuracy: 0.9937 - val_loss: 0.1120 - val_accuracy: 0.9679\n",
            "Epoch 41/50\n",
            "140/140 [==============================] - 3s 25ms/step - loss: 0.0177 - accuracy: 0.9964 - val_loss: 0.1104 - val_accuracy: 0.9750\n",
            "Epoch 42/50\n",
            "140/140 [==============================] - 4s 26ms/step - loss: 0.0458 - accuracy: 0.9839 - val_loss: 0.1623 - val_accuracy: 0.9607\n",
            "Epoch 43/50\n",
            "140/140 [==============================] - 4s 25ms/step - loss: 0.0250 - accuracy: 0.9937 - val_loss: 0.1591 - val_accuracy: 0.9643\n",
            "Epoch 44/50\n",
            "140/140 [==============================] - 4s 25ms/step - loss: 0.0643 - accuracy: 0.9893 - val_loss: 0.0938 - val_accuracy: 0.9679\n",
            "Epoch 45/50\n",
            "140/140 [==============================] - 4s 25ms/step - loss: 0.0735 - accuracy: 0.9750 - val_loss: 0.1858 - val_accuracy: 0.9393\n",
            "Epoch 46/50\n",
            "140/140 [==============================] - 4s 25ms/step - loss: 0.0520 - accuracy: 0.9821 - val_loss: 0.1255 - val_accuracy: 0.9643\n",
            "Epoch 47/50\n",
            "140/140 [==============================] - 4s 26ms/step - loss: 0.0112 - accuracy: 0.9973 - val_loss: 0.1531 - val_accuracy: 0.9643\n",
            "Epoch 48/50\n",
            "140/140 [==============================] - 4s 26ms/step - loss: 0.0513 - accuracy: 0.9929 - val_loss: 0.1169 - val_accuracy: 0.9714\n",
            "Epoch 49/50\n",
            "140/140 [==============================] - 4s 26ms/step - loss: 0.0227 - accuracy: 0.9929 - val_loss: 0.1336 - val_accuracy: 0.9714\n",
            "Epoch 50/50\n",
            "140/140 [==============================] - 4s 26ms/step - loss: 0.0266 - accuracy: 0.9937 - val_loss: 0.1396 - val_accuracy: 0.9643\n"
          ]
        }
      ]
    },
    {
      "cell_type": "code",
      "source": [
        "print(\"[INFO] evaluating network...\")\n",
        "predictions = vgg16.predict(testX, batch_size=8)\n",
        "pred=predictions.argmax(axis=1)\n",
        "testY_argm=testY.argmax(axis=1)\n"
      ],
      "metadata": {
        "colab": {
          "base_uri": "https://localhost:8080/"
        },
        "id": "qjoEfHoWsr9H",
        "outputId": "6b777970-eb0d-44d9-f32c-b57967c000c6"
      },
      "execution_count": 30,
      "outputs": [
        {
          "output_type": "stream",
          "name": "stdout",
          "text": [
            "[INFO] evaluating network...\n"
          ]
        }
      ]
    },
    {
      "cell_type": "code",
      "source": [
        "print(classification_report(testY_argm,pred,target_names=lb.classes_))"
      ],
      "metadata": {
        "colab": {
          "base_uri": "https://localhost:8080/"
        },
        "id": "Po9wqNIMts7s",
        "outputId": "87f07bd3-6849-464e-a7dc-4412b191a5f3"
      },
      "execution_count": 31,
      "outputs": [
        {
          "output_type": "stream",
          "name": "stdout",
          "text": [
            "              precision    recall  f1-score   support\n",
            "\n",
            "      Normal       0.97      0.96      0.96       139\n",
            "Tuberculosis       0.96      0.97      0.96       141\n",
            "\n",
            "    accuracy                           0.96       280\n",
            "   macro avg       0.96      0.96      0.96       280\n",
            "weighted avg       0.96      0.96      0.96       280\n",
            "\n"
          ]
        }
      ]
    },
    {
      "cell_type": "code",
      "source": [
        "test_score = vgg16.evaluate(testX, testY) \n",
        "print(\"Test Loss {:.4f}, accuracy {:.2f}%\".format(test_score[0], test_score[1] * 100))"
      ],
      "metadata": {
        "colab": {
          "base_uri": "https://localhost:8080/"
        },
        "id": "5NSJXylrt1ND",
        "outputId": "fff58a0b-20ec-4d8c-8f49-7cd0c6d5907e"
      },
      "execution_count": 32,
      "outputs": [
        {
          "output_type": "stream",
          "name": "stdout",
          "text": [
            "9/9 [==============================] - 1s 49ms/step - loss: 0.1396 - accuracy: 0.9643\n",
            "Test Loss 0.1396, accuracy 96.43%\n"
          ]
        }
      ]
    },
    {
      "cell_type": "code",
      "source": [
        "from sklearn.metrics import confusion_matrix\n",
        "import itertools\n",
        "\n",
        "def plot_confusion_matrix(cm, classes, normalize=False, title='Confusion matrix', cmap='Blues'):\n",
        "  if normalize:\n",
        "     cm = cm.astype('float') / cm.sum(axis=1)[:, np.newaxis]\n",
        "     print(\"Normalized confusion matrix\")\n",
        "  else:\n",
        "     print('Confusion matrix, without normalization')\n",
        "  print(cm)\n",
        "  plt.imshow(cm, interpolation='nearest', cmap=cmap)\n",
        "  plt.title(title)\n",
        "  plt.colorbar()\n",
        "  tick_marks = np.arange(len(classes))\n",
        "  plt.xticks(tick_marks, classes, rotation=45)\n",
        "  plt.yticks(tick_marks, classes)\n",
        "  fmt = '.2f' if normalize else 'd'\n",
        "  thresh = cm.max() / 2.\n",
        "  for i, j in itertools.product(range(cm.shape[0]), range(cm.shape[1])):\n",
        "      plt.text(j, i, format(cm[i, j], fmt), horizontalalignment=\"center\", color=\"white\" if cm[i, j] > thresh else \"black\")\n",
        "  plt.ylabel('True label')\n",
        "  plt.xlabel('Predicted label')\n",
        "  plt.tight_layout()"
      ],
      "metadata": {
        "id": "ZS-FXHa6uI6H"
      },
      "execution_count": 16,
      "outputs": []
    },
    {
      "cell_type": "code",
      "source": [
        "cnf_matrix = confusion_matrix(testY_argm, pred)\n",
        "np.set_printoptions(precision=2)\n",
        "\n",
        "# Plot non/normalized confusion matrix\n",
        "plt.figure()\n",
        "plot_confusion_matrix(cnf_matrix,\n",
        "classes=lb.classes_, normalize=True)\n",
        "plt.show()\n",
        "\n",
        "plt.figure()\n",
        "plot_confusion_matrix(cnf_matrix,\n",
        "classes=lb.classes_, normalize=False)\n",
        "plt.show()\n",
        "\n",
        "f, ax = plt.subplots()\n",
        "ax.plot([None] + H.history['accuracy'], 'o-')\n",
        "ax.plot([None] + H.history['val_accuracy'], 'x-')\n",
        "\n",
        "ax.legend(['Train acc', 'Validation acc'], loc = 0)\n",
        "ax.set_title('Training/Validation acc per Epoch')\n",
        "ax.set_xlabel('Epoch')\n",
        "ax.set_ylabel('acc')\n",
        "plt.grid(True)\n",
        "\n",
        "f, ax = plt.subplots()\n",
        "ax.plot([None] + H.history['loss'], 'o-')\n",
        "ax.plot([None] + H.history['val_loss'], 'x-')\n",
        "ax.legend(['Train Loss', 'Validation Loss'], loc = 0)\n",
        "ax.set_title('Training/Validation Loss per Epoch')\n",
        "ax.set_xlabel('Epoch')\n",
        "ax.set_ylabel('loss')\n",
        "plt.grid(True)"
      ],
      "metadata": {
        "colab": {
          "base_uri": "https://localhost:8080/",
          "height": 1000
        },
        "id": "eiYstz9xuRLx",
        "outputId": "d716ba61-62fc-4c46-d239-90e1f7425450"
      },
      "execution_count": 17,
      "outputs": [
        {
          "output_type": "stream",
          "name": "stdout",
          "text": [
            "Normalized confusion matrix\n",
            "[[0.93 0.07]\n",
            " [0.11 0.89]]\n"
          ]
        },
        {
          "output_type": "display_data",
          "data": {
            "text/plain": [
              "<Figure size 432x288 with 2 Axes>"
            ],
            "image/png": "[encoded data removed]"
          },
          "metadata": {
            "needs_background": "light"
          }
        },
        {
          "output_type": "stream",
          "name": "stdout",
          "text": [
            "Confusion matrix, without normalization\n",
            "[[140  10]\n",
            " [ 14 116]]\n"
          ]
        },
        {
          "output_type": "display_data",
          "data": {
            "text/plain": [
              "<Figure size 432x288 with 2 Axes>"
            ],
            "image/png": "[encoded data removed]"
          },
          "metadata": {
            "needs_background": "light"
          }
        },
        {
          "output_type": "display_data",
          "data": {
            "text/plain": [
              "<Figure size 432x288 with 1 Axes>"
            ],
            "image/png": "[encoded data removed]"
          },
          "metadata": {
            "needs_background": "light"
          }
        },
        {
          "output_type": "display_data",
          "data": {
            "text/plain": [
              "<Figure size 432x288 with 1 Axes>"
            ],
            "image/png": "[encoded data removed]"
          },
          "metadata": {
            "needs_background": "light"
          }
        }
      ]
    }
  ]
}